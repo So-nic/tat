{
  "cells": [
    {
      "cell_type": "markdown",
      "metadata": {
        "id": "0-tRk6fdxmB-"
      },
      "source": [
        "В этом домашнем задании вы будете решать задачу классификации оттоковых клиентов телекома: для каждого клиента необходимо определить, перестанет он пользоваться услугами оператора в ближайшее время или нет."
      ]
    },
    {
      "cell_type": "code",
      "execution_count": 1,
      "metadata": {
        "id": "DIjF1xlpwOMd"
      },
      "outputs": [
        {
          "data": {
            "text/html": [
              "<div>\n",
              "<style scoped>\n",
              "    .dataframe tbody tr th:only-of-type {\n",
              "        vertical-align: middle;\n",
              "    }\n",
              "\n",
              "    .dataframe tbody tr th {\n",
              "        vertical-align: top;\n",
              "    }\n",
              "\n",
              "    .dataframe thead th {\n",
              "        text-align: right;\n",
              "    }\n",
              "</style>\n",
              "<table border=\"1\" class=\"dataframe\">\n",
              "  <thead>\n",
              "    <tr style=\"text-align: right;\">\n",
              "      <th></th>\n",
              "      <th>State</th>\n",
              "      <th>Account length</th>\n",
              "      <th>Area code</th>\n",
              "      <th>International plan</th>\n",
              "      <th>Voice mail plan</th>\n",
              "      <th>Number vmail messages</th>\n",
              "      <th>Total day minutes</th>\n",
              "      <th>Total day calls</th>\n",
              "      <th>Total day charge</th>\n",
              "      <th>Total eve minutes</th>\n",
              "      <th>Total eve calls</th>\n",
              "      <th>Total eve charge</th>\n",
              "      <th>Total night minutes</th>\n",
              "      <th>Total night calls</th>\n",
              "      <th>Total night charge</th>\n",
              "      <th>Total intl minutes</th>\n",
              "      <th>Total intl calls</th>\n",
              "      <th>Total intl charge</th>\n",
              "      <th>Customer service calls</th>\n",
              "      <th>Churn</th>\n",
              "    </tr>\n",
              "  </thead>\n",
              "  <tbody>\n",
              "    <tr>\n",
              "      <th>0</th>\n",
              "      <td>KS</td>\n",
              "      <td>128</td>\n",
              "      <td>415</td>\n",
              "      <td>No</td>\n",
              "      <td>Yes</td>\n",
              "      <td>25</td>\n",
              "      <td>265.1</td>\n",
              "      <td>110</td>\n",
              "      <td>45.07</td>\n",
              "      <td>197.4</td>\n",
              "      <td>99</td>\n",
              "      <td>16.78</td>\n",
              "      <td>244.7</td>\n",
              "      <td>91</td>\n",
              "      <td>11.01</td>\n",
              "      <td>10.0</td>\n",
              "      <td>3</td>\n",
              "      <td>2.70</td>\n",
              "      <td>1</td>\n",
              "      <td>False</td>\n",
              "    </tr>\n",
              "    <tr>\n",
              "      <th>1</th>\n",
              "      <td>OH</td>\n",
              "      <td>107</td>\n",
              "      <td>415</td>\n",
              "      <td>No</td>\n",
              "      <td>Yes</td>\n",
              "      <td>26</td>\n",
              "      <td>161.6</td>\n",
              "      <td>123</td>\n",
              "      <td>27.47</td>\n",
              "      <td>195.5</td>\n",
              "      <td>103</td>\n",
              "      <td>16.62</td>\n",
              "      <td>254.4</td>\n",
              "      <td>103</td>\n",
              "      <td>11.45</td>\n",
              "      <td>13.7</td>\n",
              "      <td>3</td>\n",
              "      <td>3.70</td>\n",
              "      <td>1</td>\n",
              "      <td>False</td>\n",
              "    </tr>\n",
              "    <tr>\n",
              "      <th>2</th>\n",
              "      <td>NJ</td>\n",
              "      <td>137</td>\n",
              "      <td>415</td>\n",
              "      <td>No</td>\n",
              "      <td>No</td>\n",
              "      <td>0</td>\n",
              "      <td>243.4</td>\n",
              "      <td>114</td>\n",
              "      <td>41.38</td>\n",
              "      <td>121.2</td>\n",
              "      <td>110</td>\n",
              "      <td>10.30</td>\n",
              "      <td>162.6</td>\n",
              "      <td>104</td>\n",
              "      <td>7.32</td>\n",
              "      <td>12.2</td>\n",
              "      <td>5</td>\n",
              "      <td>3.29</td>\n",
              "      <td>0</td>\n",
              "      <td>False</td>\n",
              "    </tr>\n",
              "    <tr>\n",
              "      <th>3</th>\n",
              "      <td>OH</td>\n",
              "      <td>84</td>\n",
              "      <td>408</td>\n",
              "      <td>Yes</td>\n",
              "      <td>No</td>\n",
              "      <td>0</td>\n",
              "      <td>299.4</td>\n",
              "      <td>71</td>\n",
              "      <td>50.90</td>\n",
              "      <td>61.9</td>\n",
              "      <td>88</td>\n",
              "      <td>5.26</td>\n",
              "      <td>196.9</td>\n",
              "      <td>89</td>\n",
              "      <td>8.86</td>\n",
              "      <td>6.6</td>\n",
              "      <td>7</td>\n",
              "      <td>1.78</td>\n",
              "      <td>2</td>\n",
              "      <td>False</td>\n",
              "    </tr>\n",
              "    <tr>\n",
              "      <th>4</th>\n",
              "      <td>OK</td>\n",
              "      <td>75</td>\n",
              "      <td>415</td>\n",
              "      <td>Yes</td>\n",
              "      <td>No</td>\n",
              "      <td>0</td>\n",
              "      <td>166.7</td>\n",
              "      <td>113</td>\n",
              "      <td>28.34</td>\n",
              "      <td>148.3</td>\n",
              "      <td>122</td>\n",
              "      <td>12.61</td>\n",
              "      <td>186.9</td>\n",
              "      <td>121</td>\n",
              "      <td>8.41</td>\n",
              "      <td>10.1</td>\n",
              "      <td>3</td>\n",
              "      <td>2.73</td>\n",
              "      <td>3</td>\n",
              "      <td>False</td>\n",
              "    </tr>\n",
              "  </tbody>\n",
              "</table>\n",
              "</div>"
            ],
            "text/plain": [
              "  State  Account length  Area code International plan Voice mail plan  \\\n",
              "0    KS             128        415                 No             Yes   \n",
              "1    OH             107        415                 No             Yes   \n",
              "2    NJ             137        415                 No              No   \n",
              "3    OH              84        408                Yes              No   \n",
              "4    OK              75        415                Yes              No   \n",
              "\n",
              "   Number vmail messages  Total day minutes  Total day calls  \\\n",
              "0                     25              265.1              110   \n",
              "1                     26              161.6              123   \n",
              "2                      0              243.4              114   \n",
              "3                      0              299.4               71   \n",
              "4                      0              166.7              113   \n",
              "\n",
              "   Total day charge  Total eve minutes  Total eve calls  Total eve charge  \\\n",
              "0             45.07              197.4               99             16.78   \n",
              "1             27.47              195.5              103             16.62   \n",
              "2             41.38              121.2              110             10.30   \n",
              "3             50.90               61.9               88              5.26   \n",
              "4             28.34              148.3              122             12.61   \n",
              "\n",
              "   Total night minutes  Total night calls  Total night charge  \\\n",
              "0                244.7                 91               11.01   \n",
              "1                254.4                103               11.45   \n",
              "2                162.6                104                7.32   \n",
              "3                196.9                 89                8.86   \n",
              "4                186.9                121                8.41   \n",
              "\n",
              "   Total intl minutes  Total intl calls  Total intl charge  \\\n",
              "0                10.0                 3               2.70   \n",
              "1                13.7                 3               3.70   \n",
              "2                12.2                 5               3.29   \n",
              "3                 6.6                 7               1.78   \n",
              "4                10.1                 3               2.73   \n",
              "\n",
              "   Customer service calls  Churn  \n",
              "0                       1  False  \n",
              "1                       1  False  \n",
              "2                       0  False  \n",
              "3                       2  False  \n",
              "4                       3  False  "
            ]
          },
          "execution_count": 1,
          "metadata": {},
          "output_type": "execute_result"
        }
      ],
      "source": [
        "import pandas as pd\n",
        "import numpy as np\n",
        "\n",
        "df = pd.read_csv(\"https://raw.githubusercontent.com/evgpat/edu_stepik_first_step_in_nlp/main/datasets/telecom_churn.csv\")\n",
        "df.head()"
      ]
    },
    {
      "cell_type": "markdown",
      "metadata": {
        "id": "MT5L6lWZyDkE"
      },
      "source": [
        "Сделаем первичную обработку данных:\n",
        "\n",
        "1) Выбросите колонку State\n",
        "\n",
        "**Вопрос:** сколько столбцов осталось в матрице df?"
      ]
    },
    {
      "cell_type": "code",
      "execution_count": 4,
      "metadata": {
        "id": "OwBZKnk3b8qc"
      },
      "outputs": [
        {
          "data": {
            "text/plain": [
              "19"
            ]
          },
          "execution_count": 4,
          "metadata": {},
          "output_type": "execute_result"
        }
      ],
      "source": [
        "num_columns = df.shape[1]\n",
        "num_columns"
      ]
    },
    {
      "cell_type": "markdown",
      "metadata": {
        "id": "WeIa5cC3b_oE"
      },
      "source": [
        "Сделаем простую кодировку признаков:\n",
        "\n",
        "2) Колонку International plan закодируем следующим образом: \"Yes\" замените на 1, а \"No\" на 0."
      ]
    },
    {
      "cell_type": "code",
      "execution_count": 5,
      "metadata": {
        "id": "7U6J16EVx0iy"
      },
      "outputs": [],
      "source": [
        "df['International plan'] = df['International plan'].map({'Yes' : 1, 'No' : 0})"
      ]
    },
    {
      "cell_type": "markdown",
      "metadata": {
        "id": "-0ElX9hPcMGG"
      },
      "source": [
        "Аналогичным образом закодируйте столбец Voice mail plan."
      ]
    },
    {
      "cell_type": "code",
      "execution_count": 6,
      "metadata": {
        "id": "d2LssBAScPqf"
      },
      "outputs": [],
      "source": [
        "df['Voice mail plan'] = df['Voice mail plan'].map({'Yes' : 1, 'No' : 0})"
      ]
    },
    {
      "cell_type": "markdown",
      "metadata": {
        "id": "10NLyF1VcTkW"
      },
      "source": [
        "3) Переведем целевую переменную (Churn) в числа: True в 1, а False в 0."
      ]
    },
    {
      "cell_type": "code",
      "execution_count": 7,
      "metadata": {
        "id": "klGMs0cCcV5Z"
      },
      "outputs": [],
      "source": [
        "df['Churn'] = df['Churn'].astype(int)"
      ]
    },
    {
      "cell_type": "markdown",
      "metadata": {
        "id": "N2hAu7tmy0Ps"
      },
      "source": [
        "Выведите на экран первые строки измененной таблицы, чтобы проверить, что все преобразования сработали."
      ]
    },
    {
      "cell_type": "code",
      "execution_count": 8,
      "metadata": {
        "id": "lG9oOv0uydW8"
      },
      "outputs": [
        {
          "data": {
            "text/html": [
              "<div>\n",
              "<style scoped>\n",
              "    .dataframe tbody tr th:only-of-type {\n",
              "        vertical-align: middle;\n",
              "    }\n",
              "\n",
              "    .dataframe tbody tr th {\n",
              "        vertical-align: top;\n",
              "    }\n",
              "\n",
              "    .dataframe thead th {\n",
              "        text-align: right;\n",
              "    }\n",
              "</style>\n",
              "<table border=\"1\" class=\"dataframe\">\n",
              "  <thead>\n",
              "    <tr style=\"text-align: right;\">\n",
              "      <th></th>\n",
              "      <th>Account length</th>\n",
              "      <th>Area code</th>\n",
              "      <th>International plan</th>\n",
              "      <th>Voice mail plan</th>\n",
              "      <th>Number vmail messages</th>\n",
              "      <th>Total day minutes</th>\n",
              "      <th>Total day calls</th>\n",
              "      <th>Total day charge</th>\n",
              "      <th>Total eve minutes</th>\n",
              "      <th>Total eve calls</th>\n",
              "      <th>Total eve charge</th>\n",
              "      <th>Total night minutes</th>\n",
              "      <th>Total night calls</th>\n",
              "      <th>Total night charge</th>\n",
              "      <th>Total intl minutes</th>\n",
              "      <th>Total intl calls</th>\n",
              "      <th>Total intl charge</th>\n",
              "      <th>Customer service calls</th>\n",
              "      <th>Churn</th>\n",
              "    </tr>\n",
              "  </thead>\n",
              "  <tbody>\n",
              "    <tr>\n",
              "      <th>0</th>\n",
              "      <td>128</td>\n",
              "      <td>415</td>\n",
              "      <td>0</td>\n",
              "      <td>1</td>\n",
              "      <td>25</td>\n",
              "      <td>265.1</td>\n",
              "      <td>110</td>\n",
              "      <td>45.07</td>\n",
              "      <td>197.4</td>\n",
              "      <td>99</td>\n",
              "      <td>16.78</td>\n",
              "      <td>244.7</td>\n",
              "      <td>91</td>\n",
              "      <td>11.01</td>\n",
              "      <td>10.0</td>\n",
              "      <td>3</td>\n",
              "      <td>2.70</td>\n",
              "      <td>1</td>\n",
              "      <td>0</td>\n",
              "    </tr>\n",
              "    <tr>\n",
              "      <th>1</th>\n",
              "      <td>107</td>\n",
              "      <td>415</td>\n",
              "      <td>0</td>\n",
              "      <td>1</td>\n",
              "      <td>26</td>\n",
              "      <td>161.6</td>\n",
              "      <td>123</td>\n",
              "      <td>27.47</td>\n",
              "      <td>195.5</td>\n",
              "      <td>103</td>\n",
              "      <td>16.62</td>\n",
              "      <td>254.4</td>\n",
              "      <td>103</td>\n",
              "      <td>11.45</td>\n",
              "      <td>13.7</td>\n",
              "      <td>3</td>\n",
              "      <td>3.70</td>\n",
              "      <td>1</td>\n",
              "      <td>0</td>\n",
              "    </tr>\n",
              "    <tr>\n",
              "      <th>2</th>\n",
              "      <td>137</td>\n",
              "      <td>415</td>\n",
              "      <td>0</td>\n",
              "      <td>0</td>\n",
              "      <td>0</td>\n",
              "      <td>243.4</td>\n",
              "      <td>114</td>\n",
              "      <td>41.38</td>\n",
              "      <td>121.2</td>\n",
              "      <td>110</td>\n",
              "      <td>10.30</td>\n",
              "      <td>162.6</td>\n",
              "      <td>104</td>\n",
              "      <td>7.32</td>\n",
              "      <td>12.2</td>\n",
              "      <td>5</td>\n",
              "      <td>3.29</td>\n",
              "      <td>0</td>\n",
              "      <td>0</td>\n",
              "    </tr>\n",
              "    <tr>\n",
              "      <th>3</th>\n",
              "      <td>84</td>\n",
              "      <td>408</td>\n",
              "      <td>1</td>\n",
              "      <td>0</td>\n",
              "      <td>0</td>\n",
              "      <td>299.4</td>\n",
              "      <td>71</td>\n",
              "      <td>50.90</td>\n",
              "      <td>61.9</td>\n",
              "      <td>88</td>\n",
              "      <td>5.26</td>\n",
              "      <td>196.9</td>\n",
              "      <td>89</td>\n",
              "      <td>8.86</td>\n",
              "      <td>6.6</td>\n",
              "      <td>7</td>\n",
              "      <td>1.78</td>\n",
              "      <td>2</td>\n",
              "      <td>0</td>\n",
              "    </tr>\n",
              "    <tr>\n",
              "      <th>4</th>\n",
              "      <td>75</td>\n",
              "      <td>415</td>\n",
              "      <td>1</td>\n",
              "      <td>0</td>\n",
              "      <td>0</td>\n",
              "      <td>166.7</td>\n",
              "      <td>113</td>\n",
              "      <td>28.34</td>\n",
              "      <td>148.3</td>\n",
              "      <td>122</td>\n",
              "      <td>12.61</td>\n",
              "      <td>186.9</td>\n",
              "      <td>121</td>\n",
              "      <td>8.41</td>\n",
              "      <td>10.1</td>\n",
              "      <td>3</td>\n",
              "      <td>2.73</td>\n",
              "      <td>3</td>\n",
              "      <td>0</td>\n",
              "    </tr>\n",
              "  </tbody>\n",
              "</table>\n",
              "</div>"
            ],
            "text/plain": [
              "   Account length  Area code  International plan  Voice mail plan  \\\n",
              "0             128        415                   0                1   \n",
              "1             107        415                   0                1   \n",
              "2             137        415                   0                0   \n",
              "3              84        408                   1                0   \n",
              "4              75        415                   1                0   \n",
              "\n",
              "   Number vmail messages  Total day minutes  Total day calls  \\\n",
              "0                     25              265.1              110   \n",
              "1                     26              161.6              123   \n",
              "2                      0              243.4              114   \n",
              "3                      0              299.4               71   \n",
              "4                      0              166.7              113   \n",
              "\n",
              "   Total day charge  Total eve minutes  Total eve calls  Total eve charge  \\\n",
              "0             45.07              197.4               99             16.78   \n",
              "1             27.47              195.5              103             16.62   \n",
              "2             41.38              121.2              110             10.30   \n",
              "3             50.90               61.9               88              5.26   \n",
              "4             28.34              148.3              122             12.61   \n",
              "\n",
              "   Total night minutes  Total night calls  Total night charge  \\\n",
              "0                244.7                 91               11.01   \n",
              "1                254.4                103               11.45   \n",
              "2                162.6                104                7.32   \n",
              "3                196.9                 89                8.86   \n",
              "4                186.9                121                8.41   \n",
              "\n",
              "   Total intl minutes  Total intl calls  Total intl charge  \\\n",
              "0                10.0                 3               2.70   \n",
              "1                13.7                 3               3.70   \n",
              "2                12.2                 5               3.29   \n",
              "3                 6.6                 7               1.78   \n",
              "4                10.1                 3               2.73   \n",
              "\n",
              "   Customer service calls  Churn  \n",
              "0                       1      0  \n",
              "1                       1      0  \n",
              "2                       0      0  \n",
              "3                       2      0  \n",
              "4                       3      0  "
            ]
          },
          "execution_count": 8,
          "metadata": {},
          "output_type": "execute_result"
        }
      ],
      "source": [
        "df.head()"
      ]
    },
    {
      "cell_type": "markdown",
      "metadata": {
        "id": "6_y9azfEzBYd"
      },
      "source": [
        "Создайте матрицу объект-признак X и вектор с целевой переменной (Churn) y."
      ]
    },
    {
      "cell_type": "code",
      "execution_count": 20,
      "metadata": {
        "id": "Nd0nCW4eypLE"
      },
      "outputs": [
        {
          "data": {
            "text/plain": [
              "((3333, 18), (3333,))"
            ]
          },
          "execution_count": 20,
          "metadata": {},
          "output_type": "execute_result"
        }
      ],
      "source": [
        "X = df.drop('Churn', axis=1) # матрица объект-признак\n",
        "y = df['Churn'] # вектор целевой переменной\n",
        "X.shape, y.shape"
      ]
    },
    {
      "cell_type": "markdown",
      "metadata": {
        "id": "NEvkoGWw1hFL"
      },
      "source": [
        "Проверьте баланс классов целевой переменной. Является ли выборка сбалансированной?\n",
        "\n",
        "**Вопрос:** сколько объектов относятся к классу 1?"
      ]
    },
    {
      "cell_type": "code",
      "execution_count": 22,
      "metadata": {
        "id": "RpPcEOAm1keZ"
      },
      "outputs": [
        {
          "data": {
            "text/plain": [
              "483"
            ]
          },
          "execution_count": 22,
          "metadata": {},
          "output_type": "execute_result"
        }
      ],
      "source": [
        "class_counts = (y == 1).sum()\n",
        "class_counts"
      ]
    },
    {
      "cell_type": "markdown",
      "metadata": {
        "id": "AYFme2HyzQxL"
      },
      "source": [
        "Разбейте данные на тренировочную и тестовую части, размер тестовой части - 30%."
      ]
    },
    {
      "cell_type": "code",
      "execution_count": 24,
      "metadata": {
        "id": "Cj13GmJlzQDS"
      },
      "outputs": [],
      "source": [
        "from sklearn.model_selection import train_test_split\n",
        "\n",
        "X_train, X_test, y_train, y_test = train_test_split(X, y, test_size=0.3, random_state=666)"
      ]
    },
    {
      "cell_type": "markdown",
      "metadata": {
        "id": "GbuDWle1z2Uh"
      },
      "source": [
        "Для линейных моделей очень важно масштабирование признаков. Поэтому\n",
        "отмасштабируйте признаки при помощи StandardScaler, обучив метод на тренировочных данных и применив его и к трейну, и к тесту.\n",
        "\n",
        "Для восстановления DataFrame-ов из преобразованных объектов используйте код с занятия."
      ]
    },
    {
      "cell_type": "code",
      "execution_count": 25,
      "metadata": {
        "id": "69H1fh7VzaZf"
      },
      "outputs": [
        {
          "data": {
            "text/html": [
              "<div>\n",
              "<style scoped>\n",
              "    .dataframe tbody tr th:only-of-type {\n",
              "        vertical-align: middle;\n",
              "    }\n",
              "\n",
              "    .dataframe tbody tr th {\n",
              "        vertical-align: top;\n",
              "    }\n",
              "\n",
              "    .dataframe thead th {\n",
              "        text-align: right;\n",
              "    }\n",
              "</style>\n",
              "<table border=\"1\" class=\"dataframe\">\n",
              "  <thead>\n",
              "    <tr style=\"text-align: right;\">\n",
              "      <th></th>\n",
              "      <th>Account length</th>\n",
              "      <th>Area code</th>\n",
              "      <th>International plan</th>\n",
              "      <th>Voice mail plan</th>\n",
              "      <th>Number vmail messages</th>\n",
              "      <th>Total day minutes</th>\n",
              "      <th>Total day calls</th>\n",
              "      <th>Total day charge</th>\n",
              "      <th>Total eve minutes</th>\n",
              "      <th>Total eve calls</th>\n",
              "      <th>Total eve charge</th>\n",
              "      <th>Total night minutes</th>\n",
              "      <th>Total night calls</th>\n",
              "      <th>Total night charge</th>\n",
              "      <th>Total intl minutes</th>\n",
              "      <th>Total intl calls</th>\n",
              "      <th>Total intl charge</th>\n",
              "      <th>Customer service calls</th>\n",
              "    </tr>\n",
              "  </thead>\n",
              "  <tbody>\n",
              "    <tr>\n",
              "      <th>0</th>\n",
              "      <td>3.601382</td>\n",
              "      <td>1.735840</td>\n",
              "      <td>-0.326624</td>\n",
              "      <td>-0.611162</td>\n",
              "      <td>-0.584936</td>\n",
              "      <td>-1.547653</td>\n",
              "      <td>-0.429657</td>\n",
              "      <td>-1.547170</td>\n",
              "      <td>-0.729987</td>\n",
              "      <td>-1.840891</td>\n",
              "      <td>-0.731087</td>\n",
              "      <td>1.255804</td>\n",
              "      <td>0.925634</td>\n",
              "      <td>1.256197</td>\n",
              "      <td>-1.300791</td>\n",
              "      <td>0.634849</td>\n",
              "      <td>-1.304132</td>\n",
              "      <td>0.318978</td>\n",
              "    </tr>\n",
              "    <tr>\n",
              "      <th>1</th>\n",
              "      <td>0.184951</td>\n",
              "      <td>-0.517168</td>\n",
              "      <td>-0.326624</td>\n",
              "      <td>-0.611162</td>\n",
              "      <td>-0.584936</td>\n",
              "      <td>-1.244014</td>\n",
              "      <td>0.224176</td>\n",
              "      <td>-1.244071</td>\n",
              "      <td>-0.138082</td>\n",
              "      <td>0.499864</td>\n",
              "      <td>-0.139179</td>\n",
              "      <td>0.165090</td>\n",
              "      <td>-0.353704</td>\n",
              "      <td>0.164841</td>\n",
              "      <td>-2.194793</td>\n",
              "      <td>-0.184370</td>\n",
              "      <td>-2.191525</td>\n",
              "      <td>1.813519</td>\n",
              "    </tr>\n",
              "    <tr>\n",
              "      <th>2</th>\n",
              "      <td>-0.650176</td>\n",
              "      <td>-0.517168</td>\n",
              "      <td>3.061624</td>\n",
              "      <td>-0.611162</td>\n",
              "      <td>-0.584936</td>\n",
              "      <td>0.787609</td>\n",
              "      <td>-1.133785</td>\n",
              "      <td>0.787772</td>\n",
              "      <td>2.491952</td>\n",
              "      <td>0.549667</td>\n",
              "      <td>2.493068</td>\n",
              "      <td>0.147339</td>\n",
              "      <td>0.209205</td>\n",
              "      <td>0.147309</td>\n",
              "      <td>-0.549828</td>\n",
              "      <td>1.863677</td>\n",
              "      <td>-0.549186</td>\n",
              "      <td>-0.428293</td>\n",
              "    </tr>\n",
              "    <tr>\n",
              "      <th>3</th>\n",
              "      <td>1.020079</td>\n",
              "      <td>-0.517168</td>\n",
              "      <td>-0.326624</td>\n",
              "      <td>-0.611162</td>\n",
              "      <td>-0.584936</td>\n",
              "      <td>-0.969818</td>\n",
              "      <td>-0.127888</td>\n",
              "      <td>-0.970200</td>\n",
              "      <td>-0.408385</td>\n",
              "      <td>-1.890695</td>\n",
              "      <td>-0.408439</td>\n",
              "      <td>-1.178086</td>\n",
              "      <td>1.437368</td>\n",
              "      <td>-1.176344</td>\n",
              "      <td>-0.800149</td>\n",
              "      <td>-1.003589</td>\n",
              "      <td>-0.800835</td>\n",
              "      <td>-0.428293</td>\n",
              "    </tr>\n",
              "    <tr>\n",
              "      <th>4</th>\n",
              "      <td>-0.371801</td>\n",
              "      <td>1.735840</td>\n",
              "      <td>-0.326624</td>\n",
              "      <td>-0.611162</td>\n",
              "      <td>-0.584936</td>\n",
              "      <td>0.675354</td>\n",
              "      <td>-0.228477</td>\n",
              "      <td>0.675192</td>\n",
              "      <td>1.294330</td>\n",
              "      <td>-1.143645</td>\n",
              "      <td>1.295326</td>\n",
              "      <td>0.265680</td>\n",
              "      <td>0.516246</td>\n",
              "      <td>0.265649</td>\n",
              "      <td>-2.051753</td>\n",
              "      <td>-0.593980</td>\n",
              "      <td>-2.045833</td>\n",
              "      <td>-1.175564</td>\n",
              "    </tr>\n",
              "  </tbody>\n",
              "</table>\n",
              "</div>"
            ],
            "text/plain": [
              "   Account length  Area code  International plan  Voice mail plan  \\\n",
              "0        3.601382   1.735840           -0.326624        -0.611162   \n",
              "1        0.184951  -0.517168           -0.326624        -0.611162   \n",
              "2       -0.650176  -0.517168            3.061624        -0.611162   \n",
              "3        1.020079  -0.517168           -0.326624        -0.611162   \n",
              "4       -0.371801   1.735840           -0.326624        -0.611162   \n",
              "\n",
              "   Number vmail messages  Total day minutes  Total day calls  \\\n",
              "0              -0.584936          -1.547653        -0.429657   \n",
              "1              -0.584936          -1.244014         0.224176   \n",
              "2              -0.584936           0.787609        -1.133785   \n",
              "3              -0.584936          -0.969818        -0.127888   \n",
              "4              -0.584936           0.675354        -0.228477   \n",
              "\n",
              "   Total day charge  Total eve minutes  Total eve calls  Total eve charge  \\\n",
              "0         -1.547170          -0.729987        -1.840891         -0.731087   \n",
              "1         -1.244071          -0.138082         0.499864         -0.139179   \n",
              "2          0.787772           2.491952         0.549667          2.493068   \n",
              "3         -0.970200          -0.408385        -1.890695         -0.408439   \n",
              "4          0.675192           1.294330        -1.143645          1.295326   \n",
              "\n",
              "   Total night minutes  Total night calls  Total night charge  \\\n",
              "0             1.255804           0.925634            1.256197   \n",
              "1             0.165090          -0.353704            0.164841   \n",
              "2             0.147339           0.209205            0.147309   \n",
              "3            -1.178086           1.437368           -1.176344   \n",
              "4             0.265680           0.516246            0.265649   \n",
              "\n",
              "   Total intl minutes  Total intl calls  Total intl charge  \\\n",
              "0           -1.300791          0.634849          -1.304132   \n",
              "1           -2.194793         -0.184370          -2.191525   \n",
              "2           -0.549828          1.863677          -0.549186   \n",
              "3           -0.800149         -1.003589          -0.800835   \n",
              "4           -2.051753         -0.593980          -2.045833   \n",
              "\n",
              "   Customer service calls  \n",
              "0                0.318978  \n",
              "1                1.813519  \n",
              "2               -0.428293  \n",
              "3               -0.428293  \n",
              "4               -1.175564  "
            ]
          },
          "execution_count": 25,
          "metadata": {},
          "output_type": "execute_result"
        }
      ],
      "source": [
        "import pandas as pd\n",
        "from sklearn.preprocessing import StandardScaler   # x -> (x - mean) / std\n",
        "\n",
        "ss = StandardScaler()\n",
        "ss.fit(X_train) # вычисляем mean и std\n",
        "\n",
        "X_train = pd.DataFrame(ss.transform(X_train), columns=X.columns) # масштабирование\n",
        "X_test = pd.DataFrame(ss.transform(X_test), columns=X.columns)\n",
        "\n",
        "X_train.head()"
      ]
    },
    {
      "cell_type": "markdown",
      "metadata": {
        "id": "253CDINX1TmR"
      },
      "source": [
        "Обучите на тренировочных данных с параметрами по умолчанию:\n",
        "\n",
        "1) Логистическую регрессию\n",
        "\n",
        "2) Метод ближайших соседей"
      ]
    },
    {
      "cell_type": "code",
      "execution_count": 27,
      "metadata": {
        "id": "GsQW48lf1SxJ"
      },
      "outputs": [],
      "source": [
        "from sklearn.linear_model import LogisticRegression\n",
        "from sklearn.neighbors import KNeighborsClassifier\n",
        "\n",
        "model = LogisticRegression() # объявляем модель\n",
        "model.fit(X_train, y_train) # обучаем модель\n",
        "model3 = KNeighborsClassifier()\n",
        "pred_test = model.predict(X_test) # предсказание классов\n",
        "model3.fit(X_train, y_train)\n",
        "\n",
        "pred_test3 = model3.predict(X_test)"
      ]
    },
    {
      "cell_type": "markdown",
      "metadata": {
        "id": "HZszTXSb110B"
      },
      "source": [
        "С помощью обученных моделей сделайте предсказание на тестовых данных. Вычислите значение метрики roc-auc на тесте.\n",
        "\n",
        "Не забудьте, что для корректного вычисления roc-auc необходимо предсказывать не сами классы, а их вероятности.\n",
        "\n",
        "**Вопрос:** чему равен ROC-AUC логистической регрессии, округленный до десятых?"
      ]
    },
    {
      "cell_type": "code",
      "execution_count": 29,
      "metadata": {
        "id": "W9IUlgV011PP"
      },
      "outputs": [
        {
          "data": {
            "text/plain": [
              "0.5785082041773082"
            ]
          },
          "execution_count": 29,
          "metadata": {},
          "output_type": "execute_result"
        }
      ],
      "source": [
        "from sklearn.metrics import confusion_matrix, roc_auc_score, roc_curve\n",
        "\n",
        "confusion_matrix(y_test, pred_test)\n",
        "score = roc_auc_score(y_test, pred_test)\n",
        "score"
      ]
    },
    {
      "cell_type": "markdown",
      "metadata": {
        "id": "Bof-nFO-3pp7"
      },
      "source": [
        "## Бонус. Подбор гиперпараметров модели.\n",
        "\n",
        "У моделей машинного обучения есть гиперпараметры - это величины, которые задает человек до начала обучения моделей. Подбор гиперпараметров может значительно влиять на качество моделей.\n",
        "\n",
        "Про эту тему можно посмотреть [на Stepik](https://stepik.org/lesson/806516/step/4?unit=809692).\n",
        "\n",
        "Теперь ваша цель - максимально улучшить модели. Для этого:\n",
        "\n",
        "1) у логистической регрессии подберите гиперпараметр С (переберите 20 значений C в диапазоне от 0.1 до 10 с равным шагом).\n",
        "\n",
        "2) у метода ближайших соседей подберите число соседей n_neighbors (ищите значение гиперпараметра в диапазоне от 1 до 20 с шагом 1).\n",
        "\n",
        "Подбор гиперпараметров осуществляется только по тренировочным данным!"
      ]
    },
    {
      "cell_type": "markdown",
      "metadata": {
        "id": "fOpaM-hq44uW"
      },
      "source": [
        "После подбора гиперпараметров обучите модели с найденными гиперпараметрами на тренировочных данных, сделайте предсказания на тесте и оцените их качество (roc_auc)."
      ]
    },
    {
      "cell_type": "code",
      "execution_count": null,
      "metadata": {
        "id": "hk9rxc993bRu"
      },
      "outputs": [],
      "source": [
        "# ваш код здесь"
      ]
    },
    {
      "cell_type": "markdown",
      "metadata": {
        "id": "LJdQGP5B6UuT"
      },
      "source": [
        "Какая модель справилась с решением задачи лучше всего по метрике roc_auc?"
      ]
    },
    {
      "cell_type": "markdown",
      "metadata": {
        "id": "9QqqeHyP6Y4o"
      },
      "source": [
        "Нарисуйте roc-кривую для наилучшей модели."
      ]
    },
    {
      "cell_type": "code",
      "execution_count": null,
      "metadata": {
        "id": "xzrjnbQB6YMA"
      },
      "outputs": [],
      "source": [
        "# ваш код здесь"
      ]
    },
    {
      "cell_type": "markdown",
      "metadata": {
        "id": "mKaWSPa_6vvk"
      },
      "source": [
        "Сравните между собой две лучшие модели:\n",
        "\n",
        "1) насколько сильно отличается качество предсказания на тестовых данных?\n",
        "(вычислите разность значений roc-auc на тестовых данных)\n",
        "\n",
        "2) постройте гистограмму важности признаков для логистической регрессии. Какие три признака наиболее важны для модели?"
      ]
    },
    {
      "cell_type": "code",
      "execution_count": null,
      "metadata": {
        "id": "cc0q1_XL7QT0"
      },
      "outputs": [],
      "source": [
        "# ваш код здесь"
      ]
    },
    {
      "cell_type": "markdown",
      "metadata": {
        "id": "ZgRif5m1jISs"
      },
      "source": [
        "Так можно строить гистограмму"
      ]
    },
    {
      "cell_type": "code",
      "execution_count": null,
      "metadata": {
        "id": "lz_y6FjJ7Kol"
      },
      "outputs": [],
      "source": [
        "features = X.columns\n",
        "importances = np.abs(lr.coef_[0])\n",
        "indices = np.argsort(importances)\n",
        "\n",
        "plt.title('Feature Importances of LogisticRegression')\n",
        "plt.barh(range(len(indices)), importances[indices], color='b', align='center')\n",
        "plt.yticks(range(len(indices)), [features[i] for i in indices])\n",
        "plt.xlabel('Relative Importance')\n",
        "plt.show()"
      ]
    },
    {
      "cell_type": "markdown",
      "metadata": {
        "id": "beRXM0lT8MUp"
      },
      "source": [
        "Сделайте выводы:\n",
        "\n",
        "1) Являются ли данные сбалансированными? Что это означает?\n",
        "\n",
        "2) Какая модель после подбора гиперпараметров лучше всего решает задачу с точки зрения метрики roc-auc?"
      ]
    }
  ],
  "metadata": {
    "colab": {
      "provenance": []
    },
    "kernelspec": {
      "display_name": "Python 3",
      "name": "python3"
    },
    "language_info": {
      "codemirror_mode": {
        "name": "ipython",
        "version": 3
      },
      "file_extension": ".py",
      "mimetype": "text/x-python",
      "name": "python",
      "nbconvert_exporter": "python",
      "pygments_lexer": "ipython3",
      "version": "3.12.0"
    }
  },
  "nbformat": 4,
  "nbformat_minor": 0
}
