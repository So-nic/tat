{
  "nbformat": 4,
  "nbformat_minor": 0,
  "metadata": {
    "colab": {
      "provenance": []
    },
    "kernelspec": {
      "name": "python3",
      "display_name": "Python 3"
    },
    "language_info": {
      "name": "python"
    }
  },
  "cells": [
    {
      "cell_type": "code",
      "execution_count": null,
      "metadata": {
        "id": "GFRzNmDLjMtY",
        "colab": {
          "base_uri": "https://localhost:8080/"
        },
        "outputId": "23655444-eb01-463b-df20-234d880eff24"
      },
      "outputs": [
        {
          "output_type": "stream",
          "name": "stdout",
          "text": [
            "Looking in indexes: https://pypi.org/simple, https://us-python.pkg.dev/colab-wheels/public/simple/\n",
            "Collecting pymorphy2\n",
            "  Downloading pymorphy2-0.9.1-py3-none-any.whl (55 kB)\n",
            "\u001b[K     |████████████████████████████████| 55 kB 1.1 MB/s \n",
            "\u001b[?25hCollecting docopt>=0.6\n",
            "  Downloading docopt-0.6.2.tar.gz (25 kB)\n",
            "Collecting dawg-python>=0.7.1\n",
            "  Downloading DAWG_Python-0.7.2-py2.py3-none-any.whl (11 kB)\n",
            "Collecting pymorphy2-dicts-ru<3.0,>=2.4\n",
            "  Downloading pymorphy2_dicts_ru-2.4.417127.4579844-py2.py3-none-any.whl (8.2 MB)\n",
            "\u001b[K     |████████████████████████████████| 8.2 MB 6.8 MB/s \n",
            "\u001b[?25hBuilding wheels for collected packages: docopt\n",
            "  Building wheel for docopt (setup.py) ... \u001b[?25l\u001b[?25hdone\n",
            "  Created wheel for docopt: filename=docopt-0.6.2-py2.py3-none-any.whl size=13723 sha256=d19031665343a9e2dad060c9e353bd96f37d00666f569b7b61591ab1d88e0b5e\n",
            "  Stored in directory: /root/.cache/pip/wheels/56/ea/58/ead137b087d9e326852a851351d1debf4ada529b6ac0ec4e8c\n",
            "Successfully built docopt\n",
            "Installing collected packages: pymorphy2-dicts-ru, docopt, dawg-python, pymorphy2\n",
            "Successfully installed dawg-python-0.7.2 docopt-0.6.2 pymorphy2-0.9.1 pymorphy2-dicts-ru-2.4.417127.4579844\n"
          ]
        },
        {
          "output_type": "stream",
          "name": "stderr",
          "text": [
            "[nltk_data] Downloading package stopwords to /root/nltk_data...\n",
            "[nltk_data]   Unzipping corpora/stopwords.zip.\n"
          ]
        }
      ],
      "source": [
        "import pandas as pd\n",
        "import numpy as np\n",
        "import random\n",
        "import seaborn as sns\n",
        "import matplotlib.pyplot as plt\n",
        "%matplotlib inline\n",
        "\n",
        "import re\n",
        "!pip install pymorphy2\n",
        "from pymorphy2 import MorphAnalyzer\n",
        "from functools import lru_cache\n",
        "from nltk.corpus import stopwords\n",
        "\n",
        "from multiprocessing import Pool\n",
        "from tqdm import tqdm\n",
        "\n",
        "import nltk\n",
        "nltk.download('stopwords')\n",
        "\n",
        "from sklearn.feature_extraction.text import TfidfVectorizer\n",
        "from sklearn.linear_model import LogisticRegression\n",
        "\n",
        "np.random.seed(42)\n",
        "random.seed(42)"
      ]
    },
    {
      "cell_type": "code",
      "source": [],
      "metadata": {
        "id": "wGhpLKjUovyO"
      },
      "execution_count": null,
      "outputs": []
    },
    {
      "cell_type": "code",
      "source": [
        "df = pd.read_csv('train_dl.csv')\n",
        "df"
      ],
      "metadata": {
        "colab": {
          "base_uri": "https://localhost:8080/",
          "height": 424
        },
        "id": "2FofdInPjoN6",
        "outputId": "2f875628-832d-438d-f7ec-efa784184ccc"
      },
      "execution_count": null,
      "outputs": [
        {
          "output_type": "execute_result",
          "data": {
            "text/plain": [
              "                  bank                                              feeds  \\\n",
              "0        unicreditbank  Я очень редко пользуюсь банковскими продуктами...   \n",
              "1          fk_otkritie  Я вместе с женой 15.11.2019 обратился в отделе...   \n",
              "2             alfabank  Добрый день.Сегодня 27.12.2018 г около 15.40-1...   \n",
              "3                  vtb  \"Где карточку открывали, туда и идите...\" - эт...   \n",
              "4        promsvyazbank  При покупках в iTunes списываются завышенные с...   \n",
              "...                ...                                                ...   \n",
              "349995  investtorgbank  Хочу поделиться своим положительными опытом от...   \n",
              "349996   unicreditbank  Добрый день!Хочу оставить отзыв по банку Юникр...   \n",
              "349997      locko-bank  Доброго дня! Обратился в Локо Банк с просьбой ...   \n",
              "349998             tcs  Просрочил платеж на 5 дней, а мне уже взыскани...   \n",
              "349999     fk_otkritie  В связи с тем, что у меня кредит официально об...   \n",
              "\n",
              "        grades              date  \n",
              "0          5.0  31.12.2017 18:20  \n",
              "1          1.0  22.11.2019 22:42  \n",
              "2          1.0  27.12.2018 23:20  \n",
              "3          2.0  05.02.2020 16:40  \n",
              "4          NaN  26.02.2016 15:48  \n",
              "...        ...               ...  \n",
              "349995     5.0  17.12.2012 22:57  \n",
              "349996     1.0  01.02.2021 11:44  \n",
              "349997     5.0  24.04.2020 11:39  \n",
              "349998     NaN  24.11.2020 23:39  \n",
              "349999     NaN  04.10.2016 13:21  \n",
              "\n",
              "[350000 rows x 4 columns]"
            ],
            "text/html": [
              "\n",
              "  <div id=\"df-ba587729-0291-454b-8499-1d377023bcc4\">\n",
              "    <div class=\"colab-df-container\">\n",
              "      <div>\n",
              "<style scoped>\n",
              "    .dataframe tbody tr th:only-of-type {\n",
              "        vertical-align: middle;\n",
              "    }\n",
              "\n",
              "    .dataframe tbody tr th {\n",
              "        vertical-align: top;\n",
              "    }\n",
              "\n",
              "    .dataframe thead th {\n",
              "        text-align: right;\n",
              "    }\n",
              "</style>\n",
              "<table border=\"1\" class=\"dataframe\">\n",
              "  <thead>\n",
              "    <tr style=\"text-align: right;\">\n",
              "      <th></th>\n",
              "      <th>bank</th>\n",
              "      <th>feeds</th>\n",
              "      <th>grades</th>\n",
              "      <th>date</th>\n",
              "    </tr>\n",
              "  </thead>\n",
              "  <tbody>\n",
              "    <tr>\n",
              "      <th>0</th>\n",
              "      <td>unicreditbank</td>\n",
              "      <td>Я очень редко пользуюсь банковскими продуктами...</td>\n",
              "      <td>5.0</td>\n",
              "      <td>31.12.2017 18:20</td>\n",
              "    </tr>\n",
              "    <tr>\n",
              "      <th>1</th>\n",
              "      <td>fk_otkritie</td>\n",
              "      <td>Я вместе с женой 15.11.2019 обратился в отделе...</td>\n",
              "      <td>1.0</td>\n",
              "      <td>22.11.2019 22:42</td>\n",
              "    </tr>\n",
              "    <tr>\n",
              "      <th>2</th>\n",
              "      <td>alfabank</td>\n",
              "      <td>Добрый день.Сегодня 27.12.2018 г около 15.40-1...</td>\n",
              "      <td>1.0</td>\n",
              "      <td>27.12.2018 23:20</td>\n",
              "    </tr>\n",
              "    <tr>\n",
              "      <th>3</th>\n",
              "      <td>vtb</td>\n",
              "      <td>\"Где карточку открывали, туда и идите...\" - эт...</td>\n",
              "      <td>2.0</td>\n",
              "      <td>05.02.2020 16:40</td>\n",
              "    </tr>\n",
              "    <tr>\n",
              "      <th>4</th>\n",
              "      <td>promsvyazbank</td>\n",
              "      <td>При покупках в iTunes списываются завышенные с...</td>\n",
              "      <td>NaN</td>\n",
              "      <td>26.02.2016 15:48</td>\n",
              "    </tr>\n",
              "    <tr>\n",
              "      <th>...</th>\n",
              "      <td>...</td>\n",
              "      <td>...</td>\n",
              "      <td>...</td>\n",
              "      <td>...</td>\n",
              "    </tr>\n",
              "    <tr>\n",
              "      <th>349995</th>\n",
              "      <td>investtorgbank</td>\n",
              "      <td>Хочу поделиться своим положительными опытом от...</td>\n",
              "      <td>5.0</td>\n",
              "      <td>17.12.2012 22:57</td>\n",
              "    </tr>\n",
              "    <tr>\n",
              "      <th>349996</th>\n",
              "      <td>unicreditbank</td>\n",
              "      <td>Добрый день!Хочу оставить отзыв по банку Юникр...</td>\n",
              "      <td>1.0</td>\n",
              "      <td>01.02.2021 11:44</td>\n",
              "    </tr>\n",
              "    <tr>\n",
              "      <th>349997</th>\n",
              "      <td>locko-bank</td>\n",
              "      <td>Доброго дня! Обратился в Локо Банк с просьбой ...</td>\n",
              "      <td>5.0</td>\n",
              "      <td>24.04.2020 11:39</td>\n",
              "    </tr>\n",
              "    <tr>\n",
              "      <th>349998</th>\n",
              "      <td>tcs</td>\n",
              "      <td>Просрочил платеж на 5 дней, а мне уже взыскани...</td>\n",
              "      <td>NaN</td>\n",
              "      <td>24.11.2020 23:39</td>\n",
              "    </tr>\n",
              "    <tr>\n",
              "      <th>349999</th>\n",
              "      <td>fk_otkritie</td>\n",
              "      <td>В связи с тем, что у меня кредит официально об...</td>\n",
              "      <td>NaN</td>\n",
              "      <td>04.10.2016 13:21</td>\n",
              "    </tr>\n",
              "  </tbody>\n",
              "</table>\n",
              "<p>350000 rows × 4 columns</p>\n",
              "</div>\n",
              "      <button class=\"colab-df-convert\" onclick=\"convertToInteractive('df-ba587729-0291-454b-8499-1d377023bcc4')\"\n",
              "              title=\"Convert this dataframe to an interactive table.\"\n",
              "              style=\"display:none;\">\n",
              "        \n",
              "  <svg xmlns=\"http://www.w3.org/2000/svg\" height=\"24px\"viewBox=\"0 0 24 24\"\n",
              "       width=\"24px\">\n",
              "    <path d=\"M0 0h24v24H0V0z\" fill=\"none\"/>\n",
              "    <path d=\"M18.56 5.44l.94 2.06.94-2.06 2.06-.94-2.06-.94-.94-2.06-.94 2.06-2.06.94zm-11 1L8.5 8.5l.94-2.06 2.06-.94-2.06-.94L8.5 2.5l-.94 2.06-2.06.94zm10 10l.94 2.06.94-2.06 2.06-.94-2.06-.94-.94-2.06-.94 2.06-2.06.94z\"/><path d=\"M17.41 7.96l-1.37-1.37c-.4-.4-.92-.59-1.43-.59-.52 0-1.04.2-1.43.59L10.3 9.45l-7.72 7.72c-.78.78-.78 2.05 0 2.83L4 21.41c.39.39.9.59 1.41.59.51 0 1.02-.2 1.41-.59l7.78-7.78 2.81-2.81c.8-.78.8-2.07 0-2.86zM5.41 20L4 18.59l7.72-7.72 1.47 1.35L5.41 20z\"/>\n",
              "  </svg>\n",
              "      </button>\n",
              "      \n",
              "  <style>\n",
              "    .colab-df-container {\n",
              "      display:flex;\n",
              "      flex-wrap:wrap;\n",
              "      gap: 12px;\n",
              "    }\n",
              "\n",
              "    .colab-df-convert {\n",
              "      background-color: #E8F0FE;\n",
              "      border: none;\n",
              "      border-radius: 50%;\n",
              "      cursor: pointer;\n",
              "      display: none;\n",
              "      fill: #1967D2;\n",
              "      height: 32px;\n",
              "      padding: 0 0 0 0;\n",
              "      width: 32px;\n",
              "    }\n",
              "\n",
              "    .colab-df-convert:hover {\n",
              "      background-color: #E2EBFA;\n",
              "      box-shadow: 0px 1px 2px rgba(60, 64, 67, 0.3), 0px 1px 3px 1px rgba(60, 64, 67, 0.15);\n",
              "      fill: #174EA6;\n",
              "    }\n",
              "\n",
              "    [theme=dark] .colab-df-convert {\n",
              "      background-color: #3B4455;\n",
              "      fill: #D2E3FC;\n",
              "    }\n",
              "\n",
              "    [theme=dark] .colab-df-convert:hover {\n",
              "      background-color: #434B5C;\n",
              "      box-shadow: 0px 1px 3px 1px rgba(0, 0, 0, 0.15);\n",
              "      filter: drop-shadow(0px 1px 2px rgba(0, 0, 0, 0.3));\n",
              "      fill: #FFFFFF;\n",
              "    }\n",
              "  </style>\n",
              "\n",
              "      <script>\n",
              "        const buttonEl =\n",
              "          document.querySelector('#df-ba587729-0291-454b-8499-1d377023bcc4 button.colab-df-convert');\n",
              "        buttonEl.style.display =\n",
              "          google.colab.kernel.accessAllowed ? 'block' : 'none';\n",
              "\n",
              "        async function convertToInteractive(key) {\n",
              "          const element = document.querySelector('#df-ba587729-0291-454b-8499-1d377023bcc4');\n",
              "          const dataTable =\n",
              "            await google.colab.kernel.invokeFunction('convertToInteractive',\n",
              "                                                     [key], {});\n",
              "          if (!dataTable) return;\n",
              "\n",
              "          const docLinkHtml = 'Like what you see? Visit the ' +\n",
              "            '<a target=\"_blank\" href=https://colab.research.google.com/notebooks/data_table.ipynb>data table notebook</a>'\n",
              "            + ' to learn more about interactive tables.';\n",
              "          element.innerHTML = '';\n",
              "          dataTable['output_type'] = 'display_data';\n",
              "          await google.colab.output.renderOutput(dataTable, element);\n",
              "          const docLink = document.createElement('div');\n",
              "          docLink.innerHTML = docLinkHtml;\n",
              "          element.appendChild(docLink);\n",
              "        }\n",
              "      </script>\n",
              "    </div>\n",
              "  </div>\n",
              "  "
            ]
          },
          "metadata": {},
          "execution_count": 8
        }
      ]
    },
    {
      "cell_type": "markdown",
      "source": [
        "# Some EDA"
      ],
      "metadata": {
        "id": "TPXVA-dfj6Fj"
      }
    },
    {
      "cell_type": "markdown",
      "source": [
        "Сразу видим, что в столбце с целевой переменной (`grades`) есть пропуски. В этом ноутбуке будем обучаться на отзывах, для которых есть информация о значении таргета. **Но это не единственный подход. Подумайте, что ещё можно сделать**\n",
        "\n",
        "Посмотрим, есть ли пропуски в признаках"
      ],
      "metadata": {
        "id": "lu7vo5tNj9ZJ"
      }
    },
    {
      "cell_type": "code",
      "source": [
        "df.info()"
      ],
      "metadata": {
        "colab": {
          "base_uri": "https://localhost:8080/"
        },
        "id": "AQNQeWVpjzuP",
        "outputId": "91d384ad-5460-40fb-fbf1-985639360e5e"
      },
      "execution_count": null,
      "outputs": [
        {
          "output_type": "stream",
          "name": "stdout",
          "text": [
            "<class 'pandas.core.frame.DataFrame'>\n",
            "RangeIndex: 350000 entries, 0 to 349999\n",
            "Data columns (total 4 columns):\n",
            " #   Column  Non-Null Count   Dtype  \n",
            "---  ------  --------------   -----  \n",
            " 0   bank    350000 non-null  object \n",
            " 1   feeds   350000 non-null  object \n",
            " 2   grades  240250 non-null  float64\n",
            " 3   date    350000 non-null  object \n",
            "dtypes: float64(1), object(3)\n",
            "memory usage: 10.7+ MB\n"
          ]
        }
      ]
    },
    {
      "cell_type": "markdown",
      "source": [
        "Сразу преобразуем столбец с меткой времени к соответствующему формату. И удалим строчки с пропусками в таргете"
      ],
      "metadata": {
        "id": "_H-YQ_CAk4JU"
      }
    },
    {
      "cell_type": "code",
      "source": [
        "df['date'] = pd.to_datetime(df['date'], format='%d.%m.%Y %H:%M')\n",
        "df = df.dropna()\n",
        "df = df.astype({'grades': 'int32'})\n",
        "df"
      ],
      "metadata": {
        "colab": {
          "base_uri": "https://localhost:8080/",
          "height": 424
        },
        "id": "F85oQ7rtkgjJ",
        "outputId": "dd8bbd97-771f-4a63-f497-845358c7e661"
      },
      "execution_count": null,
      "outputs": [
        {
          "output_type": "execute_result",
          "data": {
            "text/plain": [
              "                  bank                                              feeds  \\\n",
              "0        unicreditbank  Я очень редко пользуюсь банковскими продуктами...   \n",
              "1          fk_otkritie  Я вместе с женой 15.11.2019 обратился в отделе...   \n",
              "2             alfabank  Добрый день.Сегодня 27.12.2018 г около 15.40-1...   \n",
              "3                  vtb  \"Где карточку открывали, туда и идите...\" - эт...   \n",
              "5           pochtabank  08.02.2018 я оформил кредит наличными в отделе...   \n",
              "...                ...                                                ...   \n",
              "349992        sberbank  Являемся зарплатниками Сбербанка, поэтому с вы...   \n",
              "349994             vtb  Открываю уже не первый расчетный счет в различ...   \n",
              "349995  investtorgbank  Хочу поделиться своим положительными опытом от...   \n",
              "349996   unicreditbank  Добрый день!Хочу оставить отзыв по банку Юникр...   \n",
              "349997      locko-bank  Доброго дня! Обратился в Локо Банк с просьбой ...   \n",
              "\n",
              "        grades                date  \n",
              "0            5 2017-12-31 18:20:00  \n",
              "1            1 2019-11-22 22:42:00  \n",
              "2            1 2018-12-27 23:20:00  \n",
              "3            2 2020-02-05 16:40:00  \n",
              "5            1 2018-03-21 18:03:00  \n",
              "...        ...                 ...  \n",
              "349992       2 2018-03-30 20:25:00  \n",
              "349994       1 2020-01-19 03:05:00  \n",
              "349995       5 2012-12-17 22:57:00  \n",
              "349996       1 2021-02-01 11:44:00  \n",
              "349997       5 2020-04-24 11:39:00  \n",
              "\n",
              "[240250 rows x 4 columns]"
            ],
            "text/html": [
              "\n",
              "  <div id=\"df-0ac46345-c08d-41aa-b825-a8da604792d5\">\n",
              "    <div class=\"colab-df-container\">\n",
              "      <div>\n",
              "<style scoped>\n",
              "    .dataframe tbody tr th:only-of-type {\n",
              "        vertical-align: middle;\n",
              "    }\n",
              "\n",
              "    .dataframe tbody tr th {\n",
              "        vertical-align: top;\n",
              "    }\n",
              "\n",
              "    .dataframe thead th {\n",
              "        text-align: right;\n",
              "    }\n",
              "</style>\n",
              "<table border=\"1\" class=\"dataframe\">\n",
              "  <thead>\n",
              "    <tr style=\"text-align: right;\">\n",
              "      <th></th>\n",
              "      <th>bank</th>\n",
              "      <th>feeds</th>\n",
              "      <th>grades</th>\n",
              "      <th>date</th>\n",
              "    </tr>\n",
              "  </thead>\n",
              "  <tbody>\n",
              "    <tr>\n",
              "      <th>0</th>\n",
              "      <td>unicreditbank</td>\n",
              "      <td>Я очень редко пользуюсь банковскими продуктами...</td>\n",
              "      <td>5</td>\n",
              "      <td>2017-12-31 18:20:00</td>\n",
              "    </tr>\n",
              "    <tr>\n",
              "      <th>1</th>\n",
              "      <td>fk_otkritie</td>\n",
              "      <td>Я вместе с женой 15.11.2019 обратился в отделе...</td>\n",
              "      <td>1</td>\n",
              "      <td>2019-11-22 22:42:00</td>\n",
              "    </tr>\n",
              "    <tr>\n",
              "      <th>2</th>\n",
              "      <td>alfabank</td>\n",
              "      <td>Добрый день.Сегодня 27.12.2018 г около 15.40-1...</td>\n",
              "      <td>1</td>\n",
              "      <td>2018-12-27 23:20:00</td>\n",
              "    </tr>\n",
              "    <tr>\n",
              "      <th>3</th>\n",
              "      <td>vtb</td>\n",
              "      <td>\"Где карточку открывали, туда и идите...\" - эт...</td>\n",
              "      <td>2</td>\n",
              "      <td>2020-02-05 16:40:00</td>\n",
              "    </tr>\n",
              "    <tr>\n",
              "      <th>5</th>\n",
              "      <td>pochtabank</td>\n",
              "      <td>08.02.2018 я оформил кредит наличными в отделе...</td>\n",
              "      <td>1</td>\n",
              "      <td>2018-03-21 18:03:00</td>\n",
              "    </tr>\n",
              "    <tr>\n",
              "      <th>...</th>\n",
              "      <td>...</td>\n",
              "      <td>...</td>\n",
              "      <td>...</td>\n",
              "      <td>...</td>\n",
              "    </tr>\n",
              "    <tr>\n",
              "      <th>349992</th>\n",
              "      <td>sberbank</td>\n",
              "      <td>Являемся зарплатниками Сбербанка, поэтому с вы...</td>\n",
              "      <td>2</td>\n",
              "      <td>2018-03-30 20:25:00</td>\n",
              "    </tr>\n",
              "    <tr>\n",
              "      <th>349994</th>\n",
              "      <td>vtb</td>\n",
              "      <td>Открываю уже не первый расчетный счет в различ...</td>\n",
              "      <td>1</td>\n",
              "      <td>2020-01-19 03:05:00</td>\n",
              "    </tr>\n",
              "    <tr>\n",
              "      <th>349995</th>\n",
              "      <td>investtorgbank</td>\n",
              "      <td>Хочу поделиться своим положительными опытом от...</td>\n",
              "      <td>5</td>\n",
              "      <td>2012-12-17 22:57:00</td>\n",
              "    </tr>\n",
              "    <tr>\n",
              "      <th>349996</th>\n",
              "      <td>unicreditbank</td>\n",
              "      <td>Добрый день!Хочу оставить отзыв по банку Юникр...</td>\n",
              "      <td>1</td>\n",
              "      <td>2021-02-01 11:44:00</td>\n",
              "    </tr>\n",
              "    <tr>\n",
              "      <th>349997</th>\n",
              "      <td>locko-bank</td>\n",
              "      <td>Доброго дня! Обратился в Локо Банк с просьбой ...</td>\n",
              "      <td>5</td>\n",
              "      <td>2020-04-24 11:39:00</td>\n",
              "    </tr>\n",
              "  </tbody>\n",
              "</table>\n",
              "<p>240250 rows × 4 columns</p>\n",
              "</div>\n",
              "      <button class=\"colab-df-convert\" onclick=\"convertToInteractive('df-0ac46345-c08d-41aa-b825-a8da604792d5')\"\n",
              "              title=\"Convert this dataframe to an interactive table.\"\n",
              "              style=\"display:none;\">\n",
              "        \n",
              "  <svg xmlns=\"http://www.w3.org/2000/svg\" height=\"24px\"viewBox=\"0 0 24 24\"\n",
              "       width=\"24px\">\n",
              "    <path d=\"M0 0h24v24H0V0z\" fill=\"none\"/>\n",
              "    <path d=\"M18.56 5.44l.94 2.06.94-2.06 2.06-.94-2.06-.94-.94-2.06-.94 2.06-2.06.94zm-11 1L8.5 8.5l.94-2.06 2.06-.94-2.06-.94L8.5 2.5l-.94 2.06-2.06.94zm10 10l.94 2.06.94-2.06 2.06-.94-2.06-.94-.94-2.06-.94 2.06-2.06.94z\"/><path d=\"M17.41 7.96l-1.37-1.37c-.4-.4-.92-.59-1.43-.59-.52 0-1.04.2-1.43.59L10.3 9.45l-7.72 7.72c-.78.78-.78 2.05 0 2.83L4 21.41c.39.39.9.59 1.41.59.51 0 1.02-.2 1.41-.59l7.78-7.78 2.81-2.81c.8-.78.8-2.07 0-2.86zM5.41 20L4 18.59l7.72-7.72 1.47 1.35L5.41 20z\"/>\n",
              "  </svg>\n",
              "      </button>\n",
              "      \n",
              "  <style>\n",
              "    .colab-df-container {\n",
              "      display:flex;\n",
              "      flex-wrap:wrap;\n",
              "      gap: 12px;\n",
              "    }\n",
              "\n",
              "    .colab-df-convert {\n",
              "      background-color: #E8F0FE;\n",
              "      border: none;\n",
              "      border-radius: 50%;\n",
              "      cursor: pointer;\n",
              "      display: none;\n",
              "      fill: #1967D2;\n",
              "      height: 32px;\n",
              "      padding: 0 0 0 0;\n",
              "      width: 32px;\n",
              "    }\n",
              "\n",
              "    .colab-df-convert:hover {\n",
              "      background-color: #E2EBFA;\n",
              "      box-shadow: 0px 1px 2px rgba(60, 64, 67, 0.3), 0px 1px 3px 1px rgba(60, 64, 67, 0.15);\n",
              "      fill: #174EA6;\n",
              "    }\n",
              "\n",
              "    [theme=dark] .colab-df-convert {\n",
              "      background-color: #3B4455;\n",
              "      fill: #D2E3FC;\n",
              "    }\n",
              "\n",
              "    [theme=dark] .colab-df-convert:hover {\n",
              "      background-color: #434B5C;\n",
              "      box-shadow: 0px 1px 3px 1px rgba(0, 0, 0, 0.15);\n",
              "      filter: drop-shadow(0px 1px 2px rgba(0, 0, 0, 0.3));\n",
              "      fill: #FFFFFF;\n",
              "    }\n",
              "  </style>\n",
              "\n",
              "      <script>\n",
              "        const buttonEl =\n",
              "          document.querySelector('#df-0ac46345-c08d-41aa-b825-a8da604792d5 button.colab-df-convert');\n",
              "        buttonEl.style.display =\n",
              "          google.colab.kernel.accessAllowed ? 'block' : 'none';\n",
              "\n",
              "        async function convertToInteractive(key) {\n",
              "          const element = document.querySelector('#df-0ac46345-c08d-41aa-b825-a8da604792d5');\n",
              "          const dataTable =\n",
              "            await google.colab.kernel.invokeFunction('convertToInteractive',\n",
              "                                                     [key], {});\n",
              "          if (!dataTable) return;\n",
              "\n",
              "          const docLinkHtml = 'Like what you see? Visit the ' +\n",
              "            '<a target=\"_blank\" href=https://colab.research.google.com/notebooks/data_table.ipynb>data table notebook</a>'\n",
              "            + ' to learn more about interactive tables.';\n",
              "          element.innerHTML = '';\n",
              "          dataTable['output_type'] = 'display_data';\n",
              "          await google.colab.output.renderOutput(dataTable, element);\n",
              "          const docLink = document.createElement('div');\n",
              "          docLink.innerHTML = docLinkHtml;\n",
              "          element.appendChild(docLink);\n",
              "        }\n",
              "      </script>\n",
              "    </div>\n",
              "  </div>\n",
              "  "
            ]
          },
          "metadata": {},
          "execution_count": 10
        }
      ]
    },
    {
      "cell_type": "markdown",
      "source": [
        "Посмотрим на распределение числа отзывов по банкам"
      ],
      "metadata": {
        "id": "TUsxBFZnnKuj"
      }
    },
    {
      "cell_type": "code",
      "source": [
        "feeds_by_bank_count = df.bank.value_counts()\n",
        "feeds_by_bank_count"
      ],
      "metadata": {
        "colab": {
          "base_uri": "https://localhost:8080/"
        },
        "id": "7LzTWzLemyjX",
        "outputId": "33abb659-7d5d-4a65-e6bb-221a982e33a4"
      },
      "execution_count": null,
      "outputs": [
        {
          "output_type": "execute_result",
          "data": {
            "text/plain": [
              "sberbank            38894\n",
              "vtb                 25336\n",
              "tcs                 20850\n",
              "sovcombank          12273\n",
              "fk_otkritie         12254\n",
              "                    ...  \n",
              "baltinvestbank        159\n",
              "metallinvestbank      157\n",
              "bystrobank            145\n",
              "rnbank                133\n",
              "primsotsbank          123\n",
              "Name: bank, Length: 69, dtype: int64"
            ]
          },
          "metadata": {},
          "execution_count": 11
        }
      ]
    },
    {
      "cell_type": "code",
      "source": [
        "plt.figure(figsize=(40,20))\n",
        "sns.histplot(data=df.sort_values(by='bank'),\n",
        "             x=df.bank, )\n",
        "plt.xticks(rotation=45)\n",
        "plt.show()"
      ],
      "metadata": {
        "colab": {
          "base_uri": "https://localhost:8080/",
          "height": 1000
        },
        "id": "h0csgEzHnOhY",
        "outputId": "b3e86475-178e-478e-9d44-29eab3db1c2a"
      },
      "execution_count": null,
      "outputs": [
        {
          "output_type": "display_data",
          "data": {
            "text/plain": [
              "<Figure size 2880x1440 with 1 Axes>"
            ],
            "image/png": "[encoded data removed]"
          },
          "metadata": {
            "needs_background": "light"
          }
        }
      ]
    },
    {
      "cell_type": "markdown",
      "source": [
        "Глянем на распределение клиентских оценок"
      ],
      "metadata": {
        "id": "18LUZxLrnO9j"
      }
    },
    {
      "cell_type": "code",
      "source": [
        "df.grades.value_counts().sort_index()"
      ],
      "metadata": {
        "colab": {
          "base_uri": "https://localhost:8080/"
        },
        "id": "_sMQ6Je0rdYu",
        "outputId": "c15ce382-d344-4304-ba75-1e2193e99b96"
      },
      "execution_count": null,
      "outputs": [
        {
          "output_type": "execute_result",
          "data": {
            "text/plain": [
              "1    129814\n",
              "2     25803\n",
              "3     11131\n",
              "4      7094\n",
              "5     66408\n",
              "Name: grades, dtype: int64"
            ]
          },
          "metadata": {},
          "execution_count": 13
        }
      ]
    },
    {
      "cell_type": "code",
      "source": [
        "plt.figure(figsize=(20, 10))\n",
        "sns.histplot(data=df,\n",
        "             x=df.grades, )\n",
        "plt.show()"
      ],
      "metadata": {
        "colab": {
          "base_uri": "https://localhost:8080/",
          "height": 606
        },
        "id": "vvInXxbWnSyR",
        "outputId": "d8896641-a78d-4e19-f127-81a9b4eeb1e7"
      },
      "execution_count": null,
      "outputs": [
        {
          "output_type": "display_data",
          "data": {
            "text/plain": [
              "<Figure size 1440x720 with 1 Axes>"
            ],
            "image/png": "[encoded data removed]"
          },
          "metadata": {
            "needs_background": "light"
          }
        }
      ]
    },
    {
      "cell_type": "markdown",
      "source": [
        "Также нас интересуют длины отзывов"
      ],
      "metadata": {
        "id": "Ku_rgep8ntN8"
      }
    },
    {
      "cell_type": "code",
      "source": [
        "df['sym_len'] = df.feeds.apply(len)\n",
        "df['word_len'] = df.feeds.apply(lambda x: len(x.split()))"
      ],
      "metadata": {
        "id": "LZVhWl9pnzQV"
      },
      "execution_count": null,
      "outputs": []
    },
    {
      "cell_type": "code",
      "source": [
        "plt.figure(figsize=(15, 10))\n",
        "sns.histplot(data=df.sym_len)\n",
        "plt.show()"
      ],
      "metadata": {
        "colab": {
          "base_uri": "https://localhost:8080/",
          "height": 606
        },
        "id": "FDcb3qGwseG6",
        "outputId": "a379ea1e-df7e-43b9-ca86-d53efb43da66"
      },
      "execution_count": null,
      "outputs": [
        {
          "output_type": "display_data",
          "data": {
            "text/plain": [
              "<Figure size 1080x720 with 1 Axes>"
            ],
            "image/png": "[encoded data removed]"
          },
          "metadata": {
            "needs_background": "light"
          }
        }
      ]
    },
    {
      "cell_type": "code",
      "source": [
        "plt.figure(figsize=(15, 10))\n",
        "sns.histplot(data=df.word_len)\n",
        "plt.show()"
      ],
      "metadata": {
        "colab": {
          "base_uri": "https://localhost:8080/",
          "height": 606
        },
        "id": "PGS9_6AWshYH",
        "outputId": "59f0a8dc-2aa6-46ad-f2ec-82cf1bd93660"
      },
      "execution_count": null,
      "outputs": [
        {
          "output_type": "display_data",
          "data": {
            "text/plain": [
              "<Figure size 1080x720 with 1 Axes>"
            ],
            "image/png": "[encoded data removed]"
          },
          "metadata": {
            "needs_background": "light"
          }
        }
      ]
    },
    {
      "cell_type": "markdown",
      "source": [
        "Обратите внимание, у распределений очень длинные хвосты"
      ],
      "metadata": {
        "id": "vxoMfYTCtyF_"
      }
    },
    {
      "cell_type": "markdown",
      "source": [
        "# Baseline (tf-idf + logreg)"
      ],
      "metadata": {
        "id": "-SSSpK_bt0zj"
      }
    },
    {
      "cell_type": "markdown",
      "source": [
        "Подготавливаем тексты отзывов (взято из ноутбука второго занятия 😃)"
      ],
      "metadata": {
        "id": "i54zKXPvmNuv"
      }
    },
    {
      "cell_type": "code",
      "source": [
        "m = MorphAnalyzer()\n",
        "regex = re.compile(\"[А-Яа-яA-z]+\")\n",
        "\n",
        "def words_only(text, regex=regex):\n",
        "    try:\n",
        "        return regex.findall(text.lower())\n",
        "    except:\n",
        "        return []\n",
        "\n",
        "@lru_cache(maxsize=128)\n",
        "def lemmatize_word(token, pymorphy=m):\n",
        "    return pymorphy.parse(token)[0].normal_form\n",
        "\n",
        "def lemmatize_text(text):\n",
        "    return [lemmatize_word(w) for w in text]\n",
        "\n",
        "\n",
        "mystopwords = stopwords.words('russian')\n",
        "def remove_stopwords(lemmas, stopwords = mystopwords):\n",
        "    return [w for w in lemmas if not w in stopwords and len(w) > 3]\n",
        "\n",
        "def clean_text(text):\n",
        "    tokens = words_only(text)\n",
        "    lemmas = lemmatize_text(tokens)\n",
        "\n",
        "    return ' '.join(remove_stopwords(lemmas))"
      ],
      "metadata": {
        "id": "4X505UWzttrx"
      },
      "execution_count": null,
      "outputs": []
    },
    {
      "cell_type": "code",
      "source": [
        "with Pool(4) as p:\n",
        "    lemmas = list(tqdm(p.imap(clean_text, df['feeds']), total=len(df)))\n",
        "\n",
        "df['lemmas'] = lemmas\n",
        "df.sample(5)"
      ],
      "metadata": {
        "colab": {
          "base_uri": "https://localhost:8080/",
          "height": 224
        },
        "id": "RRl4LEu4tYBx",
        "outputId": "b7827e8d-37b3-4dc4-df00-72bcdfbfccd5"
      },
      "execution_count": null,
      "outputs": [
        {
          "output_type": "stream",
          "name": "stderr",
          "text": [
            "100%|██████████| 240250/240250 [1:45:38<00:00, 37.90it/s]\n"
          ]
        },
        {
          "output_type": "execute_result",
          "data": {
            "text/plain": [
              "            bank                                              feeds  grades  \\\n",
              "70106   bcs-bank  Уважаемый банк БКС! С первых дней обслуживания...       1   \n",
              "293909  sberbank  Ситуация на текущий момент 08.02.15. 21.00.С м...       1   \n",
              "295466       mkb  В конце июля я уже писала по поводу навязывани...       1   \n",
              "277828       vtb  Сегодня в 11:43 мне позвонил сотрудник КЦ, кот...       1   \n",
              "221435  alfabank  Добрый день.В августе оформил себе карту Alfa-...       1   \n",
              "\n",
              "                      date  sym_len  word_len  \\\n",
              "70106  2021-01-31 01:10:00     1583       219   \n",
              "293909 2015-02-08 21:03:00     3124       435   \n",
              "295466 2016-09-07 21:10:00     1295       203   \n",
              "277828 2020-04-02 21:12:00      958       154   \n",
              "221435 2019-01-29 05:55:00      854       135   \n",
              "\n",
              "                                                   lemmas  \n",
              "70106   уважаемый банк первый день обслуживание сравни...  \n",
              "293909  ситуация текущий момент социальный банковский ...  \n",
              "295466  конец июль писать повод навязывание договор ст...  \n",
              "277828  сегодня позвонить сотрудник который сообщить о...  \n",
              "221435  добрый день август оформить карта alfa travel ...  "
            ],
            "text/html": [
              "\n",
              "  <div id=\"df-cff8137b-5967-493b-9e77-7e81fc804826\">\n",
              "    <div class=\"colab-df-container\">\n",
              "      <div>\n",
              "<style scoped>\n",
              "    .dataframe tbody tr th:only-of-type {\n",
              "        vertical-align: middle;\n",
              "    }\n",
              "\n",
              "    .dataframe tbody tr th {\n",
              "        vertical-align: top;\n",
              "    }\n",
              "\n",
              "    .dataframe thead th {\n",
              "        text-align: right;\n",
              "    }\n",
              "</style>\n",
              "<table border=\"1\" class=\"dataframe\">\n",
              "  <thead>\n",
              "    <tr style=\"text-align: right;\">\n",
              "      <th></th>\n",
              "      <th>bank</th>\n",
              "      <th>feeds</th>\n",
              "      <th>grades</th>\n",
              "      <th>date</th>\n",
              "      <th>sym_len</th>\n",
              "      <th>word_len</th>\n",
              "      <th>lemmas</th>\n",
              "    </tr>\n",
              "  </thead>\n",
              "  <tbody>\n",
              "    <tr>\n",
              "      <th>70106</th>\n",
              "      <td>bcs-bank</td>\n",
              "      <td>Уважаемый банк БКС! С первых дней обслуживания...</td>\n",
              "      <td>1</td>\n",
              "      <td>2021-01-31 01:10:00</td>\n",
              "      <td>1583</td>\n",
              "      <td>219</td>\n",
              "      <td>уважаемый банк первый день обслуживание сравни...</td>\n",
              "    </tr>\n",
              "    <tr>\n",
              "      <th>293909</th>\n",
              "      <td>sberbank</td>\n",
              "      <td>Ситуация на текущий момент 08.02.15. 21.00.С м...</td>\n",
              "      <td>1</td>\n",
              "      <td>2015-02-08 21:03:00</td>\n",
              "      <td>3124</td>\n",
              "      <td>435</td>\n",
              "      <td>ситуация текущий момент социальный банковский ...</td>\n",
              "    </tr>\n",
              "    <tr>\n",
              "      <th>295466</th>\n",
              "      <td>mkb</td>\n",
              "      <td>В конце июля я уже писала по поводу навязывани...</td>\n",
              "      <td>1</td>\n",
              "      <td>2016-09-07 21:10:00</td>\n",
              "      <td>1295</td>\n",
              "      <td>203</td>\n",
              "      <td>конец июль писать повод навязывание договор ст...</td>\n",
              "    </tr>\n",
              "    <tr>\n",
              "      <th>277828</th>\n",
              "      <td>vtb</td>\n",
              "      <td>Сегодня в 11:43 мне позвонил сотрудник КЦ, кот...</td>\n",
              "      <td>1</td>\n",
              "      <td>2020-04-02 21:12:00</td>\n",
              "      <td>958</td>\n",
              "      <td>154</td>\n",
              "      <td>сегодня позвонить сотрудник который сообщить о...</td>\n",
              "    </tr>\n",
              "    <tr>\n",
              "      <th>221435</th>\n",
              "      <td>alfabank</td>\n",
              "      <td>Добрый день.В августе оформил себе карту Alfa-...</td>\n",
              "      <td>1</td>\n",
              "      <td>2019-01-29 05:55:00</td>\n",
              "      <td>854</td>\n",
              "      <td>135</td>\n",
              "      <td>добрый день август оформить карта alfa travel ...</td>\n",
              "    </tr>\n",
              "  </tbody>\n",
              "</table>\n",
              "</div>\n",
              "      <button class=\"colab-df-convert\" onclick=\"convertToInteractive('df-cff8137b-5967-493b-9e77-7e81fc804826')\"\n",
              "              title=\"Convert this dataframe to an interactive table.\"\n",
              "              style=\"display:none;\">\n",
              "        \n",
              "  <svg xmlns=\"http://www.w3.org/2000/svg\" height=\"24px\"viewBox=\"0 0 24 24\"\n",
              "       width=\"24px\">\n",
              "    <path d=\"M0 0h24v24H0V0z\" fill=\"none\"/>\n",
              "    <path d=\"M18.56 5.44l.94 2.06.94-2.06 2.06-.94-2.06-.94-.94-2.06-.94 2.06-2.06.94zm-11 1L8.5 8.5l.94-2.06 2.06-.94-2.06-.94L8.5 2.5l-.94 2.06-2.06.94zm10 10l.94 2.06.94-2.06 2.06-.94-2.06-.94-.94-2.06-.94 2.06-2.06.94z\"/><path d=\"M17.41 7.96l-1.37-1.37c-.4-.4-.92-.59-1.43-.59-.52 0-1.04.2-1.43.59L10.3 9.45l-7.72 7.72c-.78.78-.78 2.05 0 2.83L4 21.41c.39.39.9.59 1.41.59.51 0 1.02-.2 1.41-.59l7.78-7.78 2.81-2.81c.8-.78.8-2.07 0-2.86zM5.41 20L4 18.59l7.72-7.72 1.47 1.35L5.41 20z\"/>\n",
              "  </svg>\n",
              "      </button>\n",
              "      \n",
              "  <style>\n",
              "    .colab-df-container {\n",
              "      display:flex;\n",
              "      flex-wrap:wrap;\n",
              "      gap: 12px;\n",
              "    }\n",
              "\n",
              "    .colab-df-convert {\n",
              "      background-color: #E8F0FE;\n",
              "      border: none;\n",
              "      border-radius: 50%;\n",
              "      cursor: pointer;\n",
              "      display: none;\n",
              "      fill: #1967D2;\n",
              "      height: 32px;\n",
              "      padding: 0 0 0 0;\n",
              "      width: 32px;\n",
              "    }\n",
              "\n",
              "    .colab-df-convert:hover {\n",
              "      background-color: #E2EBFA;\n",
              "      box-shadow: 0px 1px 2px rgba(60, 64, 67, 0.3), 0px 1px 3px 1px rgba(60, 64, 67, 0.15);\n",
              "      fill: #174EA6;\n",
              "    }\n",
              "\n",
              "    [theme=dark] .colab-df-convert {\n",
              "      background-color: #3B4455;\n",
              "      fill: #D2E3FC;\n",
              "    }\n",
              "\n",
              "    [theme=dark] .colab-df-convert:hover {\n",
              "      background-color: #434B5C;\n",
              "      box-shadow: 0px 1px 3px 1px rgba(0, 0, 0, 0.15);\n",
              "      filter: drop-shadow(0px 1px 2px rgba(0, 0, 0, 0.3));\n",
              "      fill: #FFFFFF;\n",
              "    }\n",
              "  </style>\n",
              "\n",
              "      <script>\n",
              "        const buttonEl =\n",
              "          document.querySelector('#df-cff8137b-5967-493b-9e77-7e81fc804826 button.colab-df-convert');\n",
              "        buttonEl.style.display =\n",
              "          google.colab.kernel.accessAllowed ? 'block' : 'none';\n",
              "\n",
              "        async function convertToInteractive(key) {\n",
              "          const element = document.querySelector('#df-cff8137b-5967-493b-9e77-7e81fc804826');\n",
              "          const dataTable =\n",
              "            await google.colab.kernel.invokeFunction('convertToInteractive',\n",
              "                                                     [key], {});\n",
              "          if (!dataTable) return;\n",
              "\n",
              "          const docLinkHtml = 'Like what you see? Visit the ' +\n",
              "            '<a target=\"_blank\" href=https://colab.research.google.com/notebooks/data_table.ipynb>data table notebook</a>'\n",
              "            + ' to learn more about interactive tables.';\n",
              "          element.innerHTML = '';\n",
              "          dataTable['output_type'] = 'display_data';\n",
              "          await google.colab.output.renderOutput(dataTable, element);\n",
              "          const docLink = document.createElement('div');\n",
              "          docLink.innerHTML = docLinkHtml;\n",
              "          element.appendChild(docLink);\n",
              "        }\n",
              "      </script>\n",
              "    </div>\n",
              "  </div>\n",
              "  "
            ]
          },
          "metadata": {},
          "execution_count": 19
        }
      ]
    },
    {
      "cell_type": "markdown",
      "source": [
        "Будем обучаться исключительно на текстах отзывов (признаки `bank`и `date` не используем от слова совсем -- **мы не используем, а вы в своих решениях попробуйте**)"
      ],
      "metadata": {
        "id": "jU-WVmzynzjU"
      }
    },
    {
      "cell_type": "code",
      "source": [
        "y_train = df.grades\n",
        "y_train = y_train.reset_index().drop(columns='index')\n",
        "del df # высвободим оперативу, она нам не помешает"
      ],
      "metadata": {
        "id": "TjnbZAcXoTsc"
      },
      "execution_count": null,
      "outputs": []
    },
    {
      "cell_type": "markdown",
      "source": [
        "Обучимся на всех объектах, а потом сделаем предсказание на тесте из соревнования. Ни больше, ни меньше"
      ],
      "metadata": {
        "id": "_15gJTIsogRG"
      }
    },
    {
      "cell_type": "code",
      "source": [
        "%%time\n",
        "vec = TfidfVectorizer() # используем только униграммы\n",
        "bow = vec.fit_transform(lemmas)\n",
        "clf = LogisticRegression(random_state=42, max_iter=500, warm_start=True)\n"
      ],
      "metadata": {
        "id": "0MM3qHCYw_Co",
        "colab": {
          "base_uri": "https://localhost:8080/"
        },
        "outputId": "97f007f1-402e-463c-af10-7a8d9229e2fc"
      },
      "execution_count": null,
      "outputs": [
        {
          "output_type": "stream",
          "name": "stdout",
          "text": [
            "CPU times: user 23.6 s, sys: 247 ms, total: 23.9 s\n",
            "Wall time: 23.9 s\n"
          ]
        }
      ]
    },
    {
      "cell_type": "code",
      "source": [
        "# небольшой трюк: будем обучаться частями\n",
        "ran = np.arange(y_train.shape[0])\n",
        "inds = np.array_split(ran, 100) # разобъем на 100 частей\n",
        "# и подмешаем к каждому куску случайных объектов\n",
        "inds = [np.concatenate((chunk, np.array(random.sample(list(ran), k=5_000))), axis=None) for chunk in inds]\n",
        "\n",
        "for chunk in tqdm(inds):\n",
        "    clf.fit(bow[chunk, :], y_train.iloc[chunk])\n"
      ],
      "metadata": {
        "id": "PyqxnGdYwggF",
        "colab": {
          "base_uri": "https://localhost:8080/"
        },
        "outputId": "b99c578c-4d3f-4c73-af80-c24c2eb9f9b1"
      },
      "execution_count": null,
      "outputs": [
        {
          "output_type": "stream",
          "name": "stderr",
          "text": [
            "100%|██████████| 100/100 [35:41<00:00, 21.42s/it]\n"
          ]
        }
      ]
    },
    {
      "cell_type": "markdown",
      "source": [
        "Загрузим тест. Предобработаем отзывы в нем и сделаем предсказания"
      ],
      "metadata": {
        "id": "19IT2fpupy6-"
      }
    },
    {
      "cell_type": "code",
      "source": [
        "test = pd.read_csv('new_test_dl.csv', index_col=0)\n",
        "test"
      ],
      "metadata": {
        "id": "GuGMocMhpwmn",
        "colab": {
          "base_uri": "https://localhost:8080/",
          "height": 424
        },
        "outputId": "918b5587-c9c9-4c05-ecad-c838fc3d98ed"
      },
      "execution_count": null,
      "outputs": [
        {
          "output_type": "execute_result",
          "data": {
            "text/plain": [
              "                 bank                                              feeds  \\\n",
              "0            sberbank  История такова: 27.01.2015 мне на телефон приш...   \n",
              "1            alfabank  Нельзя решить ни один вопрос оперативно, автоо...   \n",
              "2                 tcs  Быстро, удобно, чего ещё нужно то. На сайтике ...   \n",
              "3          pochtabank  Добрый день! Просто в шоке от  ПАО «Почта Банк...   \n",
              "4            sberbank  В течение выходных дней новогоднего периода 20...   \n",
              "...               ...                                                ...   \n",
              "34109        alfabank  Никогда не думал, что Альфа банк такой ужасный...   \n",
              "34110  v-express-bank  Добрый день. Даааа ужжжж... всегда выбирала им...   \n",
              "34111             rsb  Приходиться повторно писать об отношении этого...   \n",
              "34112         rosbank  Я долго сотрудничаю с Росбанком, не один креди...   \n",
              "34113      raiffeisen  Являюсь клиентом банка 2,5 года. Сначала все б...   \n",
              "\n",
              "                   date  \n",
              "0      05.02.2015 17:33  \n",
              "1       03.03.2021 9:27  \n",
              "2       09.04.2018 7:40  \n",
              "3       09.04.2020 9:57  \n",
              "4      12.01.2012 14:00  \n",
              "...                 ...  \n",
              "34109  23.06.2019 12:40  \n",
              "34110   20.12.2013 3:46  \n",
              "34111  13.11.2011 17:20  \n",
              "34112   28.02.2017 9:24  \n",
              "34113  25.12.2008 15:21  \n",
              "\n",
              "[34114 rows x 3 columns]"
            ],
            "text/html": [
              "\n",
              "  <div id=\"df-78e255b1-8595-4402-96df-c42ec9f083de\">\n",
              "    <div class=\"colab-df-container\">\n",
              "      <div>\n",
              "<style scoped>\n",
              "    .dataframe tbody tr th:only-of-type {\n",
              "        vertical-align: middle;\n",
              "    }\n",
              "\n",
              "    .dataframe tbody tr th {\n",
              "        vertical-align: top;\n",
              "    }\n",
              "\n",
              "    .dataframe thead th {\n",
              "        text-align: right;\n",
              "    }\n",
              "</style>\n",
              "<table border=\"1\" class=\"dataframe\">\n",
              "  <thead>\n",
              "    <tr style=\"text-align: right;\">\n",
              "      <th></th>\n",
              "      <th>bank</th>\n",
              "      <th>feeds</th>\n",
              "      <th>date</th>\n",
              "    </tr>\n",
              "  </thead>\n",
              "  <tbody>\n",
              "    <tr>\n",
              "      <th>0</th>\n",
              "      <td>sberbank</td>\n",
              "      <td>История такова: 27.01.2015 мне на телефон приш...</td>\n",
              "      <td>05.02.2015 17:33</td>\n",
              "    </tr>\n",
              "    <tr>\n",
              "      <th>1</th>\n",
              "      <td>alfabank</td>\n",
              "      <td>Нельзя решить ни один вопрос оперативно, автоо...</td>\n",
              "      <td>03.03.2021 9:27</td>\n",
              "    </tr>\n",
              "    <tr>\n",
              "      <th>2</th>\n",
              "      <td>tcs</td>\n",
              "      <td>Быстро, удобно, чего ещё нужно то. На сайтике ...</td>\n",
              "      <td>09.04.2018 7:40</td>\n",
              "    </tr>\n",
              "    <tr>\n",
              "      <th>3</th>\n",
              "      <td>pochtabank</td>\n",
              "      <td>Добрый день! Просто в шоке от  ПАО «Почта Банк...</td>\n",
              "      <td>09.04.2020 9:57</td>\n",
              "    </tr>\n",
              "    <tr>\n",
              "      <th>4</th>\n",
              "      <td>sberbank</td>\n",
              "      <td>В течение выходных дней новогоднего периода 20...</td>\n",
              "      <td>12.01.2012 14:00</td>\n",
              "    </tr>\n",
              "    <tr>\n",
              "      <th>...</th>\n",
              "      <td>...</td>\n",
              "      <td>...</td>\n",
              "      <td>...</td>\n",
              "    </tr>\n",
              "    <tr>\n",
              "      <th>34109</th>\n",
              "      <td>alfabank</td>\n",
              "      <td>Никогда не думал, что Альфа банк такой ужасный...</td>\n",
              "      <td>23.06.2019 12:40</td>\n",
              "    </tr>\n",
              "    <tr>\n",
              "      <th>34110</th>\n",
              "      <td>v-express-bank</td>\n",
              "      <td>Добрый день. Даааа ужжжж... всегда выбирала им...</td>\n",
              "      <td>20.12.2013 3:46</td>\n",
              "    </tr>\n",
              "    <tr>\n",
              "      <th>34111</th>\n",
              "      <td>rsb</td>\n",
              "      <td>Приходиться повторно писать об отношении этого...</td>\n",
              "      <td>13.11.2011 17:20</td>\n",
              "    </tr>\n",
              "    <tr>\n",
              "      <th>34112</th>\n",
              "      <td>rosbank</td>\n",
              "      <td>Я долго сотрудничаю с Росбанком, не один креди...</td>\n",
              "      <td>28.02.2017 9:24</td>\n",
              "    </tr>\n",
              "    <tr>\n",
              "      <th>34113</th>\n",
              "      <td>raiffeisen</td>\n",
              "      <td>Являюсь клиентом банка 2,5 года. Сначала все б...</td>\n",
              "      <td>25.12.2008 15:21</td>\n",
              "    </tr>\n",
              "  </tbody>\n",
              "</table>\n",
              "<p>34114 rows × 3 columns</p>\n",
              "</div>\n",
              "      <button class=\"colab-df-convert\" onclick=\"convertToInteractive('df-78e255b1-8595-4402-96df-c42ec9f083de')\"\n",
              "              title=\"Convert this dataframe to an interactive table.\"\n",
              "              style=\"display:none;\">\n",
              "        \n",
              "  <svg xmlns=\"http://www.w3.org/2000/svg\" height=\"24px\"viewBox=\"0 0 24 24\"\n",
              "       width=\"24px\">\n",
              "    <path d=\"M0 0h24v24H0V0z\" fill=\"none\"/>\n",
              "    <path d=\"M18.56 5.44l.94 2.06.94-2.06 2.06-.94-2.06-.94-.94-2.06-.94 2.06-2.06.94zm-11 1L8.5 8.5l.94-2.06 2.06-.94-2.06-.94L8.5 2.5l-.94 2.06-2.06.94zm10 10l.94 2.06.94-2.06 2.06-.94-2.06-.94-.94-2.06-.94 2.06-2.06.94z\"/><path d=\"M17.41 7.96l-1.37-1.37c-.4-.4-.92-.59-1.43-.59-.52 0-1.04.2-1.43.59L10.3 9.45l-7.72 7.72c-.78.78-.78 2.05 0 2.83L4 21.41c.39.39.9.59 1.41.59.51 0 1.02-.2 1.41-.59l7.78-7.78 2.81-2.81c.8-.78.8-2.07 0-2.86zM5.41 20L4 18.59l7.72-7.72 1.47 1.35L5.41 20z\"/>\n",
              "  </svg>\n",
              "      </button>\n",
              "      \n",
              "  <style>\n",
              "    .colab-df-container {\n",
              "      display:flex;\n",
              "      flex-wrap:wrap;\n",
              "      gap: 12px;\n",
              "    }\n",
              "\n",
              "    .colab-df-convert {\n",
              "      background-color: #E8F0FE;\n",
              "      border: none;\n",
              "      border-radius: 50%;\n",
              "      cursor: pointer;\n",
              "      display: none;\n",
              "      fill: #1967D2;\n",
              "      height: 32px;\n",
              "      padding: 0 0 0 0;\n",
              "      width: 32px;\n",
              "    }\n",
              "\n",
              "    .colab-df-convert:hover {\n",
              "      background-color: #E2EBFA;\n",
              "      box-shadow: 0px 1px 2px rgba(60, 64, 67, 0.3), 0px 1px 3px 1px rgba(60, 64, 67, 0.15);\n",
              "      fill: #174EA6;\n",
              "    }\n",
              "\n",
              "    [theme=dark] .colab-df-convert {\n",
              "      background-color: #3B4455;\n",
              "      fill: #D2E3FC;\n",
              "    }\n",
              "\n",
              "    [theme=dark] .colab-df-convert:hover {\n",
              "      background-color: #434B5C;\n",
              "      box-shadow: 0px 1px 3px 1px rgba(0, 0, 0, 0.15);\n",
              "      filter: drop-shadow(0px 1px 2px rgba(0, 0, 0, 0.3));\n",
              "      fill: #FFFFFF;\n",
              "    }\n",
              "  </style>\n",
              "\n",
              "      <script>\n",
              "        const buttonEl =\n",
              "          document.querySelector('#df-78e255b1-8595-4402-96df-c42ec9f083de button.colab-df-convert');\n",
              "        buttonEl.style.display =\n",
              "          google.colab.kernel.accessAllowed ? 'block' : 'none';\n",
              "\n",
              "        async function convertToInteractive(key) {\n",
              "          const element = document.querySelector('#df-78e255b1-8595-4402-96df-c42ec9f083de');\n",
              "          const dataTable =\n",
              "            await google.colab.kernel.invokeFunction('convertToInteractive',\n",
              "                                                     [key], {});\n",
              "          if (!dataTable) return;\n",
              "\n",
              "          const docLinkHtml = 'Like what you see? Visit the ' +\n",
              "            '<a target=\"_blank\" href=https://colab.research.google.com/notebooks/data_table.ipynb>data table notebook</a>'\n",
              "            + ' to learn more about interactive tables.';\n",
              "          element.innerHTML = '';\n",
              "          dataTable['output_type'] = 'display_data';\n",
              "          await google.colab.output.renderOutput(dataTable, element);\n",
              "          const docLink = document.createElement('div');\n",
              "          docLink.innerHTML = docLinkHtml;\n",
              "          element.appendChild(docLink);\n",
              "        }\n",
              "      </script>\n",
              "    </div>\n",
              "  </div>\n",
              "  "
            ]
          },
          "metadata": {},
          "execution_count": 12
        }
      ]
    },
    {
      "cell_type": "code",
      "source": [
        "with Pool(4) as p:\n",
        "    lemmas_test = list(tqdm(p.imap(clean_text, test['feeds']), total=len(test)))\n",
        ""
      ],
      "metadata": {
        "id": "VwHSr5Wdpwmr",
        "colab": {
          "base_uri": "https://localhost:8080/"
        },
        "outputId": "d20eeb27-0e9a-4f36-86db-ea96e2c8343a"
      },
      "execution_count": null,
      "outputs": [
        {
          "output_type": "stream",
          "name": "stderr",
          "text": [
            "100%|██████████| 34114/34114 [15:32<00:00, 36.60it/s]\n"
          ]
        }
      ]
    },
    {
      "cell_type": "code",
      "source": [
        "pred = clf.predict(vec.transform(lemmas_test))\n",
        "pred"
      ],
      "metadata": {
        "id": "i_HuBNjIpwms",
        "colab": {
          "base_uri": "https://localhost:8080/"
        },
        "outputId": "b06ae6b6-baff-4096-f7fc-5e0d8ed13e9f"
      },
      "execution_count": null,
      "outputs": [
        {
          "output_type": "execute_result",
          "data": {
            "text/plain": [
              "array([1, 1, 5, ..., 1, 1, 1])"
            ]
          },
          "metadata": {},
          "execution_count": 24
        }
      ]
    },
    {
      "cell_type": "code",
      "source": [
        "sol = pd.DataFrame({'inds': test.index,\n",
        "                    'grades': pred})\n",
        "sol"
      ],
      "metadata": {
        "id": "Kw4PI3WIpwms",
        "colab": {
          "base_uri": "https://localhost:8080/",
          "height": 424
        },
        "outputId": "85b40205-c6ab-4a93-9bc6-21534d2e5034"
      },
      "execution_count": null,
      "outputs": [
        {
          "output_type": "execute_result",
          "data": {
            "text/plain": [
              "        inds  grades\n",
              "0          0       1\n",
              "1          1       1\n",
              "2          2       5\n",
              "3          3       1\n",
              "4          4       1\n",
              "...      ...     ...\n",
              "34109  34109       1\n",
              "34110  34110       1\n",
              "34111  34111       1\n",
              "34112  34112       1\n",
              "34113  34113       1\n",
              "\n",
              "[34114 rows x 2 columns]"
            ],
            "text/html": [
              "\n",
              "  <div id=\"df-d49608ea-8c24-4766-903b-4aa6fcd52a2a\">\n",
              "    <div class=\"colab-df-container\">\n",
              "      <div>\n",
              "<style scoped>\n",
              "    .dataframe tbody tr th:only-of-type {\n",
              "        vertical-align: middle;\n",
              "    }\n",
              "\n",
              "    .dataframe tbody tr th {\n",
              "        vertical-align: top;\n",
              "    }\n",
              "\n",
              "    .dataframe thead th {\n",
              "        text-align: right;\n",
              "    }\n",
              "</style>\n",
              "<table border=\"1\" class=\"dataframe\">\n",
              "  <thead>\n",
              "    <tr style=\"text-align: right;\">\n",
              "      <th></th>\n",
              "      <th>inds</th>\n",
              "      <th>grades</th>\n",
              "    </tr>\n",
              "  </thead>\n",
              "  <tbody>\n",
              "    <tr>\n",
              "      <th>0</th>\n",
              "      <td>0</td>\n",
              "      <td>1</td>\n",
              "    </tr>\n",
              "    <tr>\n",
              "      <th>1</th>\n",
              "      <td>1</td>\n",
              "      <td>1</td>\n",
              "    </tr>\n",
              "    <tr>\n",
              "      <th>2</th>\n",
              "      <td>2</td>\n",
              "      <td>5</td>\n",
              "    </tr>\n",
              "    <tr>\n",
              "      <th>3</th>\n",
              "      <td>3</td>\n",
              "      <td>1</td>\n",
              "    </tr>\n",
              "    <tr>\n",
              "      <th>4</th>\n",
              "      <td>4</td>\n",
              "      <td>1</td>\n",
              "    </tr>\n",
              "    <tr>\n",
              "      <th>...</th>\n",
              "      <td>...</td>\n",
              "      <td>...</td>\n",
              "    </tr>\n",
              "    <tr>\n",
              "      <th>34109</th>\n",
              "      <td>34109</td>\n",
              "      <td>1</td>\n",
              "    </tr>\n",
              "    <tr>\n",
              "      <th>34110</th>\n",
              "      <td>34110</td>\n",
              "      <td>1</td>\n",
              "    </tr>\n",
              "    <tr>\n",
              "      <th>34111</th>\n",
              "      <td>34111</td>\n",
              "      <td>1</td>\n",
              "    </tr>\n",
              "    <tr>\n",
              "      <th>34112</th>\n",
              "      <td>34112</td>\n",
              "      <td>1</td>\n",
              "    </tr>\n",
              "    <tr>\n",
              "      <th>34113</th>\n",
              "      <td>34113</td>\n",
              "      <td>1</td>\n",
              "    </tr>\n",
              "  </tbody>\n",
              "</table>\n",
              "<p>34114 rows × 2 columns</p>\n",
              "</div>\n",
              "      <button class=\"colab-df-convert\" onclick=\"convertToInteractive('df-d49608ea-8c24-4766-903b-4aa6fcd52a2a')\"\n",
              "              title=\"Convert this dataframe to an interactive table.\"\n",
              "              style=\"display:none;\">\n",
              "        \n",
              "  <svg xmlns=\"http://www.w3.org/2000/svg\" height=\"24px\"viewBox=\"0 0 24 24\"\n",
              "       width=\"24px\">\n",
              "    <path d=\"M0 0h24v24H0V0z\" fill=\"none\"/>\n",
              "    <path d=\"M18.56 5.44l.94 2.06.94-2.06 2.06-.94-2.06-.94-.94-2.06-.94 2.06-2.06.94zm-11 1L8.5 8.5l.94-2.06 2.06-.94-2.06-.94L8.5 2.5l-.94 2.06-2.06.94zm10 10l.94 2.06.94-2.06 2.06-.94-2.06-.94-.94-2.06-.94 2.06-2.06.94z\"/><path d=\"M17.41 7.96l-1.37-1.37c-.4-.4-.92-.59-1.43-.59-.52 0-1.04.2-1.43.59L10.3 9.45l-7.72 7.72c-.78.78-.78 2.05 0 2.83L4 21.41c.39.39.9.59 1.41.59.51 0 1.02-.2 1.41-.59l7.78-7.78 2.81-2.81c.8-.78.8-2.07 0-2.86zM5.41 20L4 18.59l7.72-7.72 1.47 1.35L5.41 20z\"/>\n",
              "  </svg>\n",
              "      </button>\n",
              "      \n",
              "  <style>\n",
              "    .colab-df-container {\n",
              "      display:flex;\n",
              "      flex-wrap:wrap;\n",
              "      gap: 12px;\n",
              "    }\n",
              "\n",
              "    .colab-df-convert {\n",
              "      background-color: #E8F0FE;\n",
              "      border: none;\n",
              "      border-radius: 50%;\n",
              "      cursor: pointer;\n",
              "      display: none;\n",
              "      fill: #1967D2;\n",
              "      height: 32px;\n",
              "      padding: 0 0 0 0;\n",
              "      width: 32px;\n",
              "    }\n",
              "\n",
              "    .colab-df-convert:hover {\n",
              "      background-color: #E2EBFA;\n",
              "      box-shadow: 0px 1px 2px rgba(60, 64, 67, 0.3), 0px 1px 3px 1px rgba(60, 64, 67, 0.15);\n",
              "      fill: #174EA6;\n",
              "    }\n",
              "\n",
              "    [theme=dark] .colab-df-convert {\n",
              "      background-color: #3B4455;\n",
              "      fill: #D2E3FC;\n",
              "    }\n",
              "\n",
              "    [theme=dark] .colab-df-convert:hover {\n",
              "      background-color: #434B5C;\n",
              "      box-shadow: 0px 1px 3px 1px rgba(0, 0, 0, 0.15);\n",
              "      filter: drop-shadow(0px 1px 2px rgba(0, 0, 0, 0.3));\n",
              "      fill: #FFFFFF;\n",
              "    }\n",
              "  </style>\n",
              "\n",
              "      <script>\n",
              "        const buttonEl =\n",
              "          document.querySelector('#df-d49608ea-8c24-4766-903b-4aa6fcd52a2a button.colab-df-convert');\n",
              "        buttonEl.style.display =\n",
              "          google.colab.kernel.accessAllowed ? 'block' : 'none';\n",
              "\n",
              "        async function convertToInteractive(key) {\n",
              "          const element = document.querySelector('#df-d49608ea-8c24-4766-903b-4aa6fcd52a2a');\n",
              "          const dataTable =\n",
              "            await google.colab.kernel.invokeFunction('convertToInteractive',\n",
              "                                                     [key], {});\n",
              "          if (!dataTable) return;\n",
              "\n",
              "          const docLinkHtml = 'Like what you see? Visit the ' +\n",
              "            '<a target=\"_blank\" href=https://colab.research.google.com/notebooks/data_table.ipynb>data table notebook</a>'\n",
              "            + ' to learn more about interactive tables.';\n",
              "          element.innerHTML = '';\n",
              "          dataTable['output_type'] = 'display_data';\n",
              "          await google.colab.output.renderOutput(dataTable, element);\n",
              "          const docLink = document.createElement('div');\n",
              "          docLink.innerHTML = docLinkHtml;\n",
              "          element.appendChild(docLink);\n",
              "        }\n",
              "      </script>\n",
              "    </div>\n",
              "  </div>\n",
              "  "
            ]
          },
          "metadata": {},
          "execution_count": 25
        }
      ]
    },
    {
      "cell_type": "code",
      "source": [
        "sol.to_csv('new_baseline_DL.csv', index=False)"
      ],
      "metadata": {
        "id": "2xghxd6Tpwmu"
      },
      "execution_count": null,
      "outputs": []
    },
    {
      "cell_type": "markdown",
      "source": [
        "Кстати, если обратите внимание на содержимое вектора предсказанных классов, то наверняка заметите, что модель предсказывает только классы 1 и 5, редко -- 2 и 3 и вообще никогда класс 4. Отчасти это логично -- наблюдается сильный дисбаланс классов. Но этот недочет неплохо бы исправить в ваших решениях"
      ],
      "metadata": {
        "id": "zSMfS_JMqxJN"
      }
    },
    {
      "cell_type": "code",
      "source": [
        "unique, counts = np.unique(pred, return_counts=True)\n",
        "np.asarray((unique, counts)).T"
      ],
      "metadata": {
        "id": "71o2ej0jrkpe",
        "colab": {
          "base_uri": "https://localhost:8080/"
        },
        "outputId": "6d7b9faf-b3b3-4509-d81b-38dc9b975d93"
      },
      "execution_count": null,
      "outputs": [
        {
          "output_type": "execute_result",
          "data": {
            "text/plain": [
              "array([[    1, 24755],\n",
              "       [    2,    84],\n",
              "       [    3,     2],\n",
              "       [    5,  9273]])"
            ]
          },
          "metadata": {},
          "execution_count": 27
        }
      ]
    },
    {
      "cell_type": "code",
      "source": [],
      "metadata": {
        "id": "j6e0J5NYPN3f"
      },
      "execution_count": null,
      "outputs": []
    }
  ]
}