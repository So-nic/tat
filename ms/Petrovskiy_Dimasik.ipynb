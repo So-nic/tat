{
  "nbformat": 4,
  "nbformat_minor": 0,
  "metadata": {
    "colab": {
      "provenance": []
    },
    "kernelspec": {
      "name": "python3",
      "display_name": "Python 3"
    },
    "language_info": {
      "name": "python"
    },
    "gpuClass": "standard"
  },
  "cells": [
    {
      "cell_type": "markdown",
      "source": [
        "В этом задании Вам предлагается решить проблему классификации текстов разными методами.\n",
        "\n",
        "Среди таких методов мы можем предложить Вам:\n",
        "\n",
        "1) Простой Байесовский классификатор на основе мультиномиальной модели или модели Бернулли\n",
        "\n",
        ">Достоинства: идейная простота и простота реализации, неплохая интерпретируемость\n",
        "\n",
        ">Недостатки: относительно слабая предсказательная способность\n",
        "\n",
        "> Frameworks: `numpy`\n",
        "\n",
        "2) Логистическая регрессия на основе векторов TF-IDF\n",
        "\n",
        ">Достоинства: достаточно высокая скорость обучения, простой метод составления эмбеддингов\n",
        "\n",
        ">Недостатки: также довольно слабая предсказательная способность, слишком высокая размерность задачи\n",
        "\n",
        "> Frameworks: `sklearn`, `numpy`\n",
        "\n",
        "3) Логистическая регрессия или нейронная сеть + word2vec embeddings\n",
        "\n",
        "> Достоинства: оптимальная размерность эмбеддингов, довольно простые модели, сравнительно неплохое качество\n",
        "\n",
        "> Недостатки: устаревший метод построения эмбеддингов. Эмбеддинги не контекстуальные\n",
        "\n",
        "> Frameworks: `gensim`, `pytorch`, `sklearn`\n",
        "\n",
        "4) Рекуррентная нейронная сеть + word2vec:\n",
        "\n",
        "> Достоинства: Более современная нейронная сеть\n",
        "\n",
        "> Недостатки: недоступно распараллеливание\n",
        "\n",
        "> Frameworks: `pytorch`, `gensim`\n",
        "\n",
        "5) ELMO + любая нейронная сеть\n",
        "\n",
        "> Достоинства: отличный контекстуальный метод векторизации текстов, мощная модель\n",
        "\n",
        "> Недостатки: сложность моделей\n",
        "\n",
        "> Frameworks: `elmo`, `pytorch`\n",
        "\n",
        "6) Bert + любая нейронная сеть\n",
        "\n",
        "> Достоинства: отличный контекстуальный метод векторизации текстов, мощная модель\n",
        "\n",
        "> Недостатки: сложность моделей\n",
        "\n",
        "> Frameworks: `transformers`, `pytorch`"
      ],
      "metadata": {
        "id": "WReIR-4NBULA"
      }
    },
    {
      "cell_type": "markdown",
      "source": [
        "Вы также можете исследовать любые комбинации методов векторизации и моделей ML, которые сочтете нужными.\n",
        "\n",
        "Ваша задача: провести сравнительный анализ не менее 3 алгоритмов классификации текстов. Сравнение стоит проводить по следующим параметрам:\n",
        "\n",
        "- Качество классификации (актуальную метрику выберите самостоятельно)\n",
        "- Время обучения модели\n",
        "- Характерное время инференса модели"
      ],
      "metadata": {
        "id": "NAy65KXJKuxL"
      }
    },
    {
      "cell_type": "markdown",
      "source": [
        "Данные можно загрузить по ссылке: https://drive.google.com/drive/folders/14hR7Pm2sH28rQttkD906PTLvtwHFLBRm?usp=sharing"
      ],
      "metadata": {
        "id": "yfiXgUR6LSW0"
      }
    },
    {
      "cell_type": "markdown",
      "source": [
        "Для упрощения Вашей работы предлагаем ряд функций для предобработки текстов."
      ],
      "metadata": {
        "id": "2FTnQlZTL8yF"
      }
    },
    {
      "cell_type": "code",
      "source": [
        "import re, string\n",
        "regex = re.compile('[%s]' % re.escape(string.punctuation))\n",
        "def clear(text: str) -> str:\n",
        "    text = regex.sub('', text.lower())\n",
        "    text = re.sub(r'[«»\\n]', ' ', text)\n",
        "    text = text.replace('ё', 'е')\n",
        "    return text.strip()"
      ],
      "metadata": {
        "id": "BIpVS13MKtVd"
      },
      "execution_count": null,
      "outputs": []
    },
    {
      "cell_type": "code",
      "source": [
        "import nltk #natural language toolkit\n",
        "from nltk.stem import WordNetLemmatizer\n",
        "\n",
        "nltk.download('omw-1.4')\n",
        "nltk.download('wordnet')\n",
        "\n",
        "lemmatizer = WordNetLemmatizer()"
      ],
      "metadata": {
        "colab": {
          "base_uri": "https://localhost:8080/"
        },
        "id": "GXfcnWcvMKYg",
        "outputId": "8b07ea8b-a882-404b-f544-48ca85fbd06d"
      },
      "execution_count": null,
      "outputs": [
        {
          "output_type": "stream",
          "name": "stderr",
          "text": [
            "[nltk_data] Downloading package omw-1.4 to /root/nltk_data...\n",
            "[nltk_data]   Package omw-1.4 is already up-to-date!\n",
            "[nltk_data] Downloading package wordnet to /root/nltk_data...\n",
            "[nltk_data]   Package wordnet is already up-to-date!\n"
          ]
        }
      ]
    },
    {
      "cell_type": "code",
      "source": [
        "from nltk.corpus import stopwords\n",
        "nltk.download('stopwords')\n",
        "eng_stopwords = stopwords.words(\"english\")\n",
        "\n",
        "remove_stopwords = lambda tokenized_text, stopwords: [w for w in tokenized_text if not w in stopwords]"
      ],
      "metadata": {
        "colab": {
          "base_uri": "https://localhost:8080/"
        },
        "id": "7-QhsuQwMSkz",
        "outputId": "26c64d2c-e35d-47f7-8976-60efab529a86"
      },
      "execution_count": null,
      "outputs": [
        {
          "output_type": "stream",
          "name": "stderr",
          "text": [
            "[nltk_data] Downloading package stopwords to /root/nltk_data...\n",
            "[nltk_data]   Package stopwords is already up-to-date!\n"
          ]
        }
      ]
    },
    {
      "cell_type": "code",
      "source": [
        "path = './drive/MyDrive/Classification texts/'\n",
        "train_texts =[]\n",
        "train_labels = []\n",
        "\n",
        "test_texts =[]\n",
        "test_labels = []\n",
        "\n",
        "\n",
        "fp_train_texts = open(path+'train.texts','r',encoding='utf-8')\n",
        "for text in fp_train_texts:\n",
        "    train_texts.append(text)\n",
        "\n",
        "fp_train_labels = open(path+'train.labels','r',encoding='utf-8')\n",
        "for label in fp_train_labels:\n",
        "    train_labels.append(label)\n",
        "\n",
        "fp_test_texts = open(path+'dev.texts','r',encoding='utf-8')\n",
        "for text in fp_test_texts:\n",
        "    test_texts.append(text)\n",
        "\n",
        "fp_test_labels = open(path+'dev.labels','r',encoding='utf-8')\n",
        "for label in fp_test_labels:\n",
        "    test_labels.append(label)\n",
        "\n",
        "\n",
        "print('Длина тренировочного набора текстов: ', len(train_texts))\n",
        "print('Длина тестового набора текстов: ',len(test_texts))"
      ],
      "metadata": {
        "id": "WQZvdgjPM0KC",
        "colab": {
          "base_uri": "https://localhost:8080/"
        },
        "outputId": "0d5b00c3-052c-4c72-c686-e61ef8b5aa34"
      },
      "execution_count": null,
      "outputs": [
        {
          "output_type": "stream",
          "name": "stdout",
          "text": [
            "Длина тренировочного набора текстов:  15000\n",
            "Длина тестового набора текстов:  10000\n"
          ]
        }
      ]
    },
    {
      "cell_type": "code",
      "source": [
        "from google.colab import drive\n",
        "drive.mount('/content/drive')"
      ],
      "metadata": {
        "colab": {
          "base_uri": "https://localhost:8080/"
        },
        "id": "dRPGY8GGNnz1",
        "outputId": "05a9bf71-4dc4-4c1c-ef12-a054025f09df"
      },
      "execution_count": null,
      "outputs": [
        {
          "output_type": "stream",
          "name": "stdout",
          "text": [
            "Drive already mounted at /content/drive; to attempt to forcibly remount, call drive.mount(\"/content/drive\", force_remount=True).\n"
          ]
        }
      ]
    },
    {
      "cell_type": "code",
      "source": [],
      "metadata": {
        "id": "cLTTWR0e6uiB"
      },
      "execution_count": null,
      "outputs": []
    },
    {
      "cell_type": "code",
      "source": [
        "import pandas as pd\n",
        "\n",
        "df = pd.DataFrame({'category' : train_labels[:15000],\n",
        "                  'text' : train_texts[:15000]})\n",
        "\n",
        "\n",
        "df_test = pd.DataFrame({'category' : test_labels[:10000],\n",
        "                  'text' : test_texts[:10000]})\n",
        "\n",
        "df.head()"
      ],
      "metadata": {
        "colab": {
          "base_uri": "https://localhost:8080/",
          "height": 206
        },
        "id": "GtVWGsm6N9C_",
        "outputId": "3484205c-241e-4361-a340-d93dcf20fa45"
      },
      "execution_count": null,
      "outputs": [
        {
          "output_type": "execute_result",
          "data": {
            "text/plain": [
              "  category                                               text\n",
              "0    neg\\n  If the myth regarding broken mirrors would be ...\n",
              "1    pos\\n  I gave this movie a 10 because it needed to be...\n",
              "2    neg\\n  After watching the first 20mn of Blanche(sorry...\n",
              "3    neg\\n  Weak plot, unlikely car malfunction, and helpl...\n",
              "4    pos\\n  Where the Sidewalk Ends (1950)<br /><br />Wher..."
            ],
            "text/html": [
              "\n",
              "  <div id=\"df-69a0be4c-1c04-488c-9cb9-f7197ccc6ec0\">\n",
              "    <div class=\"colab-df-container\">\n",
              "      <div>\n",
              "<style scoped>\n",
              "    .dataframe tbody tr th:only-of-type {\n",
              "        vertical-align: middle;\n",
              "    }\n",
              "\n",
              "    .dataframe tbody tr th {\n",
              "        vertical-align: top;\n",
              "    }\n",
              "\n",
              "    .dataframe thead th {\n",
              "        text-align: right;\n",
              "    }\n",
              "</style>\n",
              "<table border=\"1\" class=\"dataframe\">\n",
              "  <thead>\n",
              "    <tr style=\"text-align: right;\">\n",
              "      <th></th>\n",
              "      <th>category</th>\n",
              "      <th>text</th>\n",
              "    </tr>\n",
              "  </thead>\n",
              "  <tbody>\n",
              "    <tr>\n",
              "      <th>0</th>\n",
              "      <td>neg\\n</td>\n",
              "      <td>If the myth regarding broken mirrors would be ...</td>\n",
              "    </tr>\n",
              "    <tr>\n",
              "      <th>1</th>\n",
              "      <td>pos\\n</td>\n",
              "      <td>I gave this movie a 10 because it needed to be...</td>\n",
              "    </tr>\n",
              "    <tr>\n",
              "      <th>2</th>\n",
              "      <td>neg\\n</td>\n",
              "      <td>After watching the first 20mn of Blanche(sorry...</td>\n",
              "    </tr>\n",
              "    <tr>\n",
              "      <th>3</th>\n",
              "      <td>neg\\n</td>\n",
              "      <td>Weak plot, unlikely car malfunction, and helpl...</td>\n",
              "    </tr>\n",
              "    <tr>\n",
              "      <th>4</th>\n",
              "      <td>pos\\n</td>\n",
              "      <td>Where the Sidewalk Ends (1950)&lt;br /&gt;&lt;br /&gt;Wher...</td>\n",
              "    </tr>\n",
              "  </tbody>\n",
              "</table>\n",
              "</div>\n",
              "      <button class=\"colab-df-convert\" onclick=\"convertToInteractive('df-69a0be4c-1c04-488c-9cb9-f7197ccc6ec0')\"\n",
              "              title=\"Convert this dataframe to an interactive table.\"\n",
              "              style=\"display:none;\">\n",
              "        \n",
              "  <svg xmlns=\"http://www.w3.org/2000/svg\" height=\"24px\"viewBox=\"0 0 24 24\"\n",
              "       width=\"24px\">\n",
              "    <path d=\"M0 0h24v24H0V0z\" fill=\"none\"/>\n",
              "    <path d=\"M18.56 5.44l.94 2.06.94-2.06 2.06-.94-2.06-.94-.94-2.06-.94 2.06-2.06.94zm-11 1L8.5 8.5l.94-2.06 2.06-.94-2.06-.94L8.5 2.5l-.94 2.06-2.06.94zm10 10l.94 2.06.94-2.06 2.06-.94-2.06-.94-.94-2.06-.94 2.06-2.06.94z\"/><path d=\"M17.41 7.96l-1.37-1.37c-.4-.4-.92-.59-1.43-.59-.52 0-1.04.2-1.43.59L10.3 9.45l-7.72 7.72c-.78.78-.78 2.05 0 2.83L4 21.41c.39.39.9.59 1.41.59.51 0 1.02-.2 1.41-.59l7.78-7.78 2.81-2.81c.8-.78.8-2.07 0-2.86zM5.41 20L4 18.59l7.72-7.72 1.47 1.35L5.41 20z\"/>\n",
              "  </svg>\n",
              "      </button>\n",
              "      \n",
              "  <style>\n",
              "    .colab-df-container {\n",
              "      display:flex;\n",
              "      flex-wrap:wrap;\n",
              "      gap: 12px;\n",
              "    }\n",
              "\n",
              "    .colab-df-convert {\n",
              "      background-color: #E8F0FE;\n",
              "      border: none;\n",
              "      border-radius: 50%;\n",
              "      cursor: pointer;\n",
              "      display: none;\n",
              "      fill: #1967D2;\n",
              "      height: 32px;\n",
              "      padding: 0 0 0 0;\n",
              "      width: 32px;\n",
              "    }\n",
              "\n",
              "    .colab-df-convert:hover {\n",
              "      background-color: #E2EBFA;\n",
              "      box-shadow: 0px 1px 2px rgba(60, 64, 67, 0.3), 0px 1px 3px 1px rgba(60, 64, 67, 0.15);\n",
              "      fill: #174EA6;\n",
              "    }\n",
              "\n",
              "    [theme=dark] .colab-df-convert {\n",
              "      background-color: #3B4455;\n",
              "      fill: #D2E3FC;\n",
              "    }\n",
              "\n",
              "    [theme=dark] .colab-df-convert:hover {\n",
              "      background-color: #434B5C;\n",
              "      box-shadow: 0px 1px 3px 1px rgba(0, 0, 0, 0.15);\n",
              "      filter: drop-shadow(0px 1px 2px rgba(0, 0, 0, 0.3));\n",
              "      fill: #FFFFFF;\n",
              "    }\n",
              "  </style>\n",
              "\n",
              "      <script>\n",
              "        const buttonEl =\n",
              "          document.querySelector('#df-69a0be4c-1c04-488c-9cb9-f7197ccc6ec0 button.colab-df-convert');\n",
              "        buttonEl.style.display =\n",
              "          google.colab.kernel.accessAllowed ? 'block' : 'none';\n",
              "\n",
              "        async function convertToInteractive(key) {\n",
              "          const element = document.querySelector('#df-69a0be4c-1c04-488c-9cb9-f7197ccc6ec0');\n",
              "          const dataTable =\n",
              "            await google.colab.kernel.invokeFunction('convertToInteractive',\n",
              "                                                     [key], {});\n",
              "          if (!dataTable) return;\n",
              "\n",
              "          const docLinkHtml = 'Like what you see? Visit the ' +\n",
              "            '<a target=\"_blank\" href=https://colab.research.google.com/notebooks/data_table.ipynb>data table notebook</a>'\n",
              "            + ' to learn more about interactive tables.';\n",
              "          element.innerHTML = '';\n",
              "          dataTable['output_type'] = 'display_data';\n",
              "          await google.colab.output.renderOutput(dataTable, element);\n",
              "          const docLink = document.createElement('div');\n",
              "          docLink.innerHTML = docLinkHtml;\n",
              "          element.appendChild(docLink);\n",
              "        }\n",
              "      </script>\n",
              "    </div>\n",
              "  </div>\n",
              "  "
            ]
          },
          "metadata": {},
          "execution_count": 11
        }
      ]
    },
    {
      "cell_type": "code",
      "source": [
        "df_test.head()"
      ],
      "metadata": {
        "colab": {
          "base_uri": "https://localhost:8080/",
          "height": 206
        },
        "id": "1FtDtFymOODv",
        "outputId": "7a6bef27-6570-4679-8796-b21ea6d0f644"
      },
      "execution_count": null,
      "outputs": [
        {
          "output_type": "execute_result",
          "data": {
            "text/plain": [
              "  category                                               text\n",
              "0    neg\\n  First of all, I have to say I have worked for ...\n",
              "1    neg\\n  With a cast list like this one, I expected far...\n",
              "2    pos\\n  Some guys think that sniper is not good becaus...\n",
              "3    neg\\n  The film is about a young man, Michael, who ca...\n",
              "4    pos\\n  This is an \"odysessy through time\" via compute..."
            ],
            "text/html": [
              "\n",
              "  <div id=\"df-8223b7e4-9332-4f3e-a354-86c5a80cfef8\">\n",
              "    <div class=\"colab-df-container\">\n",
              "      <div>\n",
              "<style scoped>\n",
              "    .dataframe tbody tr th:only-of-type {\n",
              "        vertical-align: middle;\n",
              "    }\n",
              "\n",
              "    .dataframe tbody tr th {\n",
              "        vertical-align: top;\n",
              "    }\n",
              "\n",
              "    .dataframe thead th {\n",
              "        text-align: right;\n",
              "    }\n",
              "</style>\n",
              "<table border=\"1\" class=\"dataframe\">\n",
              "  <thead>\n",
              "    <tr style=\"text-align: right;\">\n",
              "      <th></th>\n",
              "      <th>category</th>\n",
              "      <th>text</th>\n",
              "    </tr>\n",
              "  </thead>\n",
              "  <tbody>\n",
              "    <tr>\n",
              "      <th>0</th>\n",
              "      <td>neg\\n</td>\n",
              "      <td>First of all, I have to say I have worked for ...</td>\n",
              "    </tr>\n",
              "    <tr>\n",
              "      <th>1</th>\n",
              "      <td>neg\\n</td>\n",
              "      <td>With a cast list like this one, I expected far...</td>\n",
              "    </tr>\n",
              "    <tr>\n",
              "      <th>2</th>\n",
              "      <td>pos\\n</td>\n",
              "      <td>Some guys think that sniper is not good becaus...</td>\n",
              "    </tr>\n",
              "    <tr>\n",
              "      <th>3</th>\n",
              "      <td>neg\\n</td>\n",
              "      <td>The film is about a young man, Michael, who ca...</td>\n",
              "    </tr>\n",
              "    <tr>\n",
              "      <th>4</th>\n",
              "      <td>pos\\n</td>\n",
              "      <td>This is an \"odysessy through time\" via compute...</td>\n",
              "    </tr>\n",
              "  </tbody>\n",
              "</table>\n",
              "</div>\n",
              "      <button class=\"colab-df-convert\" onclick=\"convertToInteractive('df-8223b7e4-9332-4f3e-a354-86c5a80cfef8')\"\n",
              "              title=\"Convert this dataframe to an interactive table.\"\n",
              "              style=\"display:none;\">\n",
              "        \n",
              "  <svg xmlns=\"http://www.w3.org/2000/svg\" height=\"24px\"viewBox=\"0 0 24 24\"\n",
              "       width=\"24px\">\n",
              "    <path d=\"M0 0h24v24H0V0z\" fill=\"none\"/>\n",
              "    <path d=\"M18.56 5.44l.94 2.06.94-2.06 2.06-.94-2.06-.94-.94-2.06-.94 2.06-2.06.94zm-11 1L8.5 8.5l.94-2.06 2.06-.94-2.06-.94L8.5 2.5l-.94 2.06-2.06.94zm10 10l.94 2.06.94-2.06 2.06-.94-2.06-.94-.94-2.06-.94 2.06-2.06.94z\"/><path d=\"M17.41 7.96l-1.37-1.37c-.4-.4-.92-.59-1.43-.59-.52 0-1.04.2-1.43.59L10.3 9.45l-7.72 7.72c-.78.78-.78 2.05 0 2.83L4 21.41c.39.39.9.59 1.41.59.51 0 1.02-.2 1.41-.59l7.78-7.78 2.81-2.81c.8-.78.8-2.07 0-2.86zM5.41 20L4 18.59l7.72-7.72 1.47 1.35L5.41 20z\"/>\n",
              "  </svg>\n",
              "      </button>\n",
              "      \n",
              "  <style>\n",
              "    .colab-df-container {\n",
              "      display:flex;\n",
              "      flex-wrap:wrap;\n",
              "      gap: 12px;\n",
              "    }\n",
              "\n",
              "    .colab-df-convert {\n",
              "      background-color: #E8F0FE;\n",
              "      border: none;\n",
              "      border-radius: 50%;\n",
              "      cursor: pointer;\n",
              "      display: none;\n",
              "      fill: #1967D2;\n",
              "      height: 32px;\n",
              "      padding: 0 0 0 0;\n",
              "      width: 32px;\n",
              "    }\n",
              "\n",
              "    .colab-df-convert:hover {\n",
              "      background-color: #E2EBFA;\n",
              "      box-shadow: 0px 1px 2px rgba(60, 64, 67, 0.3), 0px 1px 3px 1px rgba(60, 64, 67, 0.15);\n",
              "      fill: #174EA6;\n",
              "    }\n",
              "\n",
              "    [theme=dark] .colab-df-convert {\n",
              "      background-color: #3B4455;\n",
              "      fill: #D2E3FC;\n",
              "    }\n",
              "\n",
              "    [theme=dark] .colab-df-convert:hover {\n",
              "      background-color: #434B5C;\n",
              "      box-shadow: 0px 1px 3px 1px rgba(0, 0, 0, 0.15);\n",
              "      filter: drop-shadow(0px 1px 2px rgba(0, 0, 0, 0.3));\n",
              "      fill: #FFFFFF;\n",
              "    }\n",
              "  </style>\n",
              "\n",
              "      <script>\n",
              "        const buttonEl =\n",
              "          document.querySelector('#df-8223b7e4-9332-4f3e-a354-86c5a80cfef8 button.colab-df-convert');\n",
              "        buttonEl.style.display =\n",
              "          google.colab.kernel.accessAllowed ? 'block' : 'none';\n",
              "\n",
              "        async function convertToInteractive(key) {\n",
              "          const element = document.querySelector('#df-8223b7e4-9332-4f3e-a354-86c5a80cfef8');\n",
              "          const dataTable =\n",
              "            await google.colab.kernel.invokeFunction('convertToInteractive',\n",
              "                                                     [key], {});\n",
              "          if (!dataTable) return;\n",
              "\n",
              "          const docLinkHtml = 'Like what you see? Visit the ' +\n",
              "            '<a target=\"_blank\" href=https://colab.research.google.com/notebooks/data_table.ipynb>data table notebook</a>'\n",
              "            + ' to learn more about interactive tables.';\n",
              "          element.innerHTML = '';\n",
              "          dataTable['output_type'] = 'display_data';\n",
              "          await google.colab.output.renderOutput(dataTable, element);\n",
              "          const docLink = document.createElement('div');\n",
              "          docLink.innerHTML = docLinkHtml;\n",
              "          element.appendChild(docLink);\n",
              "        }\n",
              "      </script>\n",
              "    </div>\n",
              "  </div>\n",
              "  "
            ]
          },
          "metadata": {},
          "execution_count": 12
        }
      ]
    },
    {
      "cell_type": "code",
      "source": [
        "df.describe()"
      ],
      "metadata": {
        "colab": {
          "base_uri": "https://localhost:8080/",
          "height": 175
        },
        "id": "oAJqngSjOgIq",
        "outputId": "cb48197b-8e11-4dbb-b2c0-9963b6864977"
      },
      "execution_count": null,
      "outputs": [
        {
          "output_type": "execute_result",
          "data": {
            "text/plain": [
              "       category                                               text\n",
              "count     15000                                              15000\n",
              "unique        2                                              14941\n",
              "top       pos\\n  The BFG is one of Roald Dahl's most cherished ...\n",
              "freq       7520                                                  2"
            ],
            "text/html": [
              "\n",
              "  <div id=\"df-a7a43407-ccdc-4de9-9738-4245ead1fb02\">\n",
              "    <div class=\"colab-df-container\">\n",
              "      <div>\n",
              "<style scoped>\n",
              "    .dataframe tbody tr th:only-of-type {\n",
              "        vertical-align: middle;\n",
              "    }\n",
              "\n",
              "    .dataframe tbody tr th {\n",
              "        vertical-align: top;\n",
              "    }\n",
              "\n",
              "    .dataframe thead th {\n",
              "        text-align: right;\n",
              "    }\n",
              "</style>\n",
              "<table border=\"1\" class=\"dataframe\">\n",
              "  <thead>\n",
              "    <tr style=\"text-align: right;\">\n",
              "      <th></th>\n",
              "      <th>category</th>\n",
              "      <th>text</th>\n",
              "    </tr>\n",
              "  </thead>\n",
              "  <tbody>\n",
              "    <tr>\n",
              "      <th>count</th>\n",
              "      <td>15000</td>\n",
              "      <td>15000</td>\n",
              "    </tr>\n",
              "    <tr>\n",
              "      <th>unique</th>\n",
              "      <td>2</td>\n",
              "      <td>14941</td>\n",
              "    </tr>\n",
              "    <tr>\n",
              "      <th>top</th>\n",
              "      <td>pos\\n</td>\n",
              "      <td>The BFG is one of Roald Dahl's most cherished ...</td>\n",
              "    </tr>\n",
              "    <tr>\n",
              "      <th>freq</th>\n",
              "      <td>7520</td>\n",
              "      <td>2</td>\n",
              "    </tr>\n",
              "  </tbody>\n",
              "</table>\n",
              "</div>\n",
              "      <button class=\"colab-df-convert\" onclick=\"convertToInteractive('df-a7a43407-ccdc-4de9-9738-4245ead1fb02')\"\n",
              "              title=\"Convert this dataframe to an interactive table.\"\n",
              "              style=\"display:none;\">\n",
              "        \n",
              "  <svg xmlns=\"http://www.w3.org/2000/svg\" height=\"24px\"viewBox=\"0 0 24 24\"\n",
              "       width=\"24px\">\n",
              "    <path d=\"M0 0h24v24H0V0z\" fill=\"none\"/>\n",
              "    <path d=\"M18.56 5.44l.94 2.06.94-2.06 2.06-.94-2.06-.94-.94-2.06-.94 2.06-2.06.94zm-11 1L8.5 8.5l.94-2.06 2.06-.94-2.06-.94L8.5 2.5l-.94 2.06-2.06.94zm10 10l.94 2.06.94-2.06 2.06-.94-2.06-.94-.94-2.06-.94 2.06-2.06.94z\"/><path d=\"M17.41 7.96l-1.37-1.37c-.4-.4-.92-.59-1.43-.59-.52 0-1.04.2-1.43.59L10.3 9.45l-7.72 7.72c-.78.78-.78 2.05 0 2.83L4 21.41c.39.39.9.59 1.41.59.51 0 1.02-.2 1.41-.59l7.78-7.78 2.81-2.81c.8-.78.8-2.07 0-2.86zM5.41 20L4 18.59l7.72-7.72 1.47 1.35L5.41 20z\"/>\n",
              "  </svg>\n",
              "      </button>\n",
              "      \n",
              "  <style>\n",
              "    .colab-df-container {\n",
              "      display:flex;\n",
              "      flex-wrap:wrap;\n",
              "      gap: 12px;\n",
              "    }\n",
              "\n",
              "    .colab-df-convert {\n",
              "      background-color: #E8F0FE;\n",
              "      border: none;\n",
              "      border-radius: 50%;\n",
              "      cursor: pointer;\n",
              "      display: none;\n",
              "      fill: #1967D2;\n",
              "      height: 32px;\n",
              "      padding: 0 0 0 0;\n",
              "      width: 32px;\n",
              "    }\n",
              "\n",
              "    .colab-df-convert:hover {\n",
              "      background-color: #E2EBFA;\n",
              "      box-shadow: 0px 1px 2px rgba(60, 64, 67, 0.3), 0px 1px 3px 1px rgba(60, 64, 67, 0.15);\n",
              "      fill: #174EA6;\n",
              "    }\n",
              "\n",
              "    [theme=dark] .colab-df-convert {\n",
              "      background-color: #3B4455;\n",
              "      fill: #D2E3FC;\n",
              "    }\n",
              "\n",
              "    [theme=dark] .colab-df-convert:hover {\n",
              "      background-color: #434B5C;\n",
              "      box-shadow: 0px 1px 3px 1px rgba(0, 0, 0, 0.15);\n",
              "      filter: drop-shadow(0px 1px 2px rgba(0, 0, 0, 0.3));\n",
              "      fill: #FFFFFF;\n",
              "    }\n",
              "  </style>\n",
              "\n",
              "      <script>\n",
              "        const buttonEl =\n",
              "          document.querySelector('#df-a7a43407-ccdc-4de9-9738-4245ead1fb02 button.colab-df-convert');\n",
              "        buttonEl.style.display =\n",
              "          google.colab.kernel.accessAllowed ? 'block' : 'none';\n",
              "\n",
              "        async function convertToInteractive(key) {\n",
              "          const element = document.querySelector('#df-a7a43407-ccdc-4de9-9738-4245ead1fb02');\n",
              "          const dataTable =\n",
              "            await google.colab.kernel.invokeFunction('convertToInteractive',\n",
              "                                                     [key], {});\n",
              "          if (!dataTable) return;\n",
              "\n",
              "          const docLinkHtml = 'Like what you see? Visit the ' +\n",
              "            '<a target=\"_blank\" href=https://colab.research.google.com/notebooks/data_table.ipynb>data table notebook</a>'\n",
              "            + ' to learn more about interactive tables.';\n",
              "          element.innerHTML = '';\n",
              "          dataTable['output_type'] = 'display_data';\n",
              "          await google.colab.output.renderOutput(dataTable, element);\n",
              "          const docLink = document.createElement('div');\n",
              "          docLink.innerHTML = docLinkHtml;\n",
              "          element.appendChild(docLink);\n",
              "        }\n",
              "      </script>\n",
              "    </div>\n",
              "  </div>\n",
              "  "
            ]
          },
          "metadata": {},
          "execution_count": 13
        }
      ]
    },
    {
      "cell_type": "code",
      "source": [
        "from nltk.tokenize.toktok import ToktokTokenizer\n",
        "tokenizer=ToktokTokenizer()\n",
        "from bs4 import BeautifulSoup\n",
        "stopword_list=nltk.corpus.stopwords.words('english')\n",
        "def strip_html(text):\n",
        "    soup = BeautifulSoup(text, \"html.parser\")\n",
        "    return soup.get_text()\n",
        "\n",
        "def remove_between_square_brackets(text):\n",
        "    return re.sub('\\[[^]]*\\]', '', text)\n",
        "\n",
        "def denoise_text(text):\n",
        "    text = strip_html(text)\n",
        "    text = remove_between_square_brackets(text)\n",
        "    return text\n",
        "df['text']=df['text'].apply(denoise_text)\n",
        "df_test['text'] = df['text'].apply(denoise_text)"
      ],
      "metadata": {
        "id": "A8Sqr_U8POIP"
      },
      "execution_count": null,
      "outputs": []
    },
    {
      "cell_type": "code",
      "source": [
        "def remove_special_characters(text, remove_digits=True):\n",
        "    pattern=r'[^a-zA-z0-9\\s]'\n",
        "    text=re.sub(pattern,'',text)\n",
        "    return text\n",
        "df['text']=df['text'].apply(remove_special_characters)\n",
        "df_test['text']=df_test['text'].apply(remove_special_characters)"
      ],
      "metadata": {
        "id": "7a4WtN9UQvs3"
      },
      "execution_count": null,
      "outputs": []
    },
    {
      "cell_type": "code",
      "source": [
        "def simple_stemmer(text):\n",
        "    ps=nltk.porter.PorterStemmer()\n",
        "    text= ' '.join([ps.stem(word) for word in text.split()])\n",
        "    return text\n",
        "df['text']=df['text'].apply(simple_stemmer)\n",
        "df_test['text']=df_test['text'].apply(simple_stemmer)"
      ],
      "metadata": {
        "id": "tkdGvcFQQ8C4"
      },
      "execution_count": null,
      "outputs": []
    },
    {
      "cell_type": "code",
      "source": [
        "stop=set(stopwords.words('english'))\n",
        "print(stop)\n",
        "\n",
        "def remove_stopwords(text, is_lower_case=False):\n",
        "    tokens = tokenizer.tokenize(text)\n",
        "    tokens = [token.strip() for token in tokens]\n",
        "    if is_lower_case:\n",
        "        filtered_tokens = [token for token in tokens if token not in stopword_list]\n",
        "    else:\n",
        "        filtered_tokens = [token for token in tokens if token.lower() not in stopword_list]\n",
        "    filtered_text = ' '.join(filtered_tokens)\n",
        "    return filtered_text\n",
        "df['text']=df['text'].apply(remove_stopwords)\n",
        "df_test['text']=df_test['text'].apply(remove_stopwords)"
      ],
      "metadata": {
        "colab": {
          "base_uri": "https://localhost:8080/"
        },
        "id": "Qc5A9hhEROLu",
        "outputId": "19aea6ee-29b6-4eba-9132-446f2c4dac26"
      },
      "execution_count": null,
      "outputs": [
        {
          "output_type": "stream",
          "name": "stdout",
          "text": [
            "{'shan', 'of', 'during', 'such', 'against', 'on', 'shouldn', \"won't\", 'or', \"didn't\", 've', \"that'll\", 'but', 'these', 'after', 'mustn', 'mightn', 'am', 'own', 's', \"shan't\", 'its', 'they', \"shouldn't\", \"haven't\", 'myself', 'again', 'was', \"isn't\", 'been', 'you', 'there', 'down', 'y', 'in', 'will', 'out', 'herself', 't', 'her', 'whom', 'under', 'this', 'isn', \"hadn't\", \"couldn't\", 'themselves', 'doing', 'd', 'with', 'through', 'here', 'we', 'he', 'between', 'should', \"weren't\", 'his', 'other', \"wasn't\", 'wasn', 'as', 'itself', 'couldn', 'about', \"mightn't\", 'have', 'she', \"you'd\", 'while', 'no', \"you'll\", 'most', 'some', 'be', 'yourself', 'which', 'what', 'i', 'being', \"you've\", \"mustn't\", 'from', 'their', 'that', 'then', 'than', 'll', \"doesn't\", 'an', 'hers', 'won', 'further', 'hadn', 'into', 'ma', 'needn', 'up', 'over', 'did', 'each', 'does', 'hasn', 'can', 'him', 'them', \"wouldn't\", 'do', 'once', 'below', 'more', 'so', \"you're\", 'where', 'weren', 'yours', 'ain', 'aren', 'too', 'doesn', 'nor', 'any', 'how', 'me', 'above', 'had', 'ours', \"don't\", 'not', 'before', 'is', 'has', 'just', 'o', 'haven', 'your', 'all', 'and', 'few', 'when', \"it's\", 'why', 'are', 'because', 'both', 'don', 'now', 'm', 'by', 'same', 'having', 'those', 'wouldn', \"aren't\", \"hasn't\", 'if', 'the', 'were', 're', 'at', \"she's\", 'ourselves', 'yourselves', 'a', 'it', 'for', 'my', \"should've\", 'our', 'to', 'who', 'only', \"needn't\", 'himself', 'very', 'theirs', 'until', 'off', 'didn'}\n"
          ]
        }
      ]
    },
    {
      "cell_type": "code",
      "source": [
        "df.text[0]"
      ],
      "metadata": {
        "colab": {
          "base_uri": "https://localhost:8080/",
          "height": 157
        },
        "id": "UCt3AFBNRc3Q",
        "outputId": "2f0200d8-e2e7-4c67-b22a-0f5e6348f329"
      },
      "execution_count": null,
      "outputs": [
        {
          "output_type": "execute_result",
          "data": {
            "text/plain": [
              "'myth regard broken mirror would accur everybodi involv thi product would face approxim 170 year bad luck becaus lot mirror fall littl piec onli script wa shatter glass broken would brilliant film sadli overlong deriv dull movi onli hand remark idea memor sequenc sean elli made veri stylish elegantli photograph movi stori lacklust total absenc logic explan realli frustrat got discuss friend regard basic concept mean film think elli found inspir old legend claim spot doppelgang forebod go die interest theori im familiar thi legend couldnt find anyth internet thi neither person think broken yet anoth umpteenth variat theme invas bodi snatcher without alien interfer broken center american mcvey famili live london particularli gina mirror spontan break dure birthday celebr thi trigger whole seri mysteri seemingli supernatur event gina spot drive car follow mirror imag apart build whilst drive home state mental confus caus terribl car accid end hospit dismiss gina feel like whole surround chang doesnt recogn boyfriend anymor uncanni fragment accid keep flash befor eye doe suffer mental trauma invok accid realli supernatur conspiraci happen around writerdirector sean elli definit invok feel curios suspens hi script unfortun fail properli elabor broken truli atmospher stylish effort onli half hour film come pain conclus shall remain beauti empti packag frustratingli high amount fake suspens thi film thi mean build tension omin music eeri camera angel absolut noth ha even happen far time actual mysteri kick trick dont ani scari effect anymor fellow review around compar film particularli sean elli style repertoir david lynch stanley kubrick even alfr hitchcock way way way much honor ps altern spell one scandinavian'"
            ],
            "application/vnd.google.colaboratory.intrinsic+json": {
              "type": "string"
            }
          },
          "metadata": {},
          "execution_count": 18
        }
      ]
    },
    {
      "cell_type": "code",
      "source": [
        "norm_train = df.text[::]\n",
        "norm_test = df_test.text[::]"
      ],
      "metadata": {
        "id": "EqEWcetlUO5u"
      },
      "execution_count": null,
      "outputs": []
    },
    {
      "cell_type": "code",
      "source": [
        "norm_train.dtype"
      ],
      "metadata": {
        "colab": {
          "base_uri": "https://localhost:8080/"
        },
        "id": "4g89VKezCjHU",
        "outputId": "40e9b1c4-30b0-4608-a1c8-6241e72f7fca"
      },
      "execution_count": null,
      "outputs": [
        {
          "output_type": "execute_result",
          "data": {
            "text/plain": [
              "dtype('O')"
            ]
          },
          "metadata": {},
          "execution_count": 20
        }
      ]
    },
    {
      "cell_type": "code",
      "source": [
        "from sklearn.feature_extraction.text import TfidfVectorizer\n",
        "tv=TfidfVectorizer(min_df=0,max_df=1,use_idf=True)\n",
        "tv_train_reviews=tv.fit_transform(norm_train)\n",
        "tv_test_reviews=tv.transform(norm_test)\n",
        "print('Tfidf_train:',tv_train_reviews.shape)\n",
        "print('Tfidf_test:',tv_test_reviews.shape)"
      ],
      "metadata": {
        "colab": {
          "base_uri": "https://localhost:8080/"
        },
        "id": "qeOy3zNfRqRa",
        "outputId": "e9bbcb5b-82e3-4a45-9109-3f51a0b0202a"
      },
      "execution_count": null,
      "outputs": [
        {
          "output_type": "stream",
          "name": "stdout",
          "text": [
            "Tfidf_train: (15000, 52872)\n",
            "Tfidf_test: (10000, 52872)\n"
          ]
        }
      ]
    },
    {
      "cell_type": "code",
      "source": [
        "from sklearn.preprocessing import LabelBinarizer\n",
        "lb=LabelBinarizer()\n",
        "sentiment_train=lb.fit_transform(df['category'])\n",
        "sentiment_test=lb.fit_transform(df_test['category'])\n",
        "print(sentiment_train.shape)\n",
        "print(sentiment_test.shape)"
      ],
      "metadata": {
        "colab": {
          "base_uri": "https://localhost:8080/"
        },
        "id": "NjvCCKIYU4_o",
        "outputId": "e1c651ab-8f6a-4adf-965e-890dd64fba7f"
      },
      "execution_count": null,
      "outputs": [
        {
          "output_type": "stream",
          "name": "stdout",
          "text": [
            "(15000, 1)\n",
            "(10000, 1)\n"
          ]
        }
      ]
    },
    {
      "cell_type": "code",
      "source": [
        "sentiment_train"
      ],
      "metadata": {
        "colab": {
          "base_uri": "https://localhost:8080/"
        },
        "id": "TowWf0K9VxMv",
        "outputId": "1f2b981b-83e8-4fdc-c152-80148336e2c8"
      },
      "execution_count": null,
      "outputs": [
        {
          "output_type": "execute_result",
          "data": {
            "text/plain": [
              "array([[0],\n",
              "       [1],\n",
              "       [0],\n",
              "       ...,\n",
              "       [0],\n",
              "       [1],\n",
              "       [1]])"
            ]
          },
          "metadata": {},
          "execution_count": 23
        }
      ]
    },
    {
      "cell_type": "code",
      "source": [
        "from sklearn.linear_model import LogisticRegression\n",
        "from sklearn.metrics import classification_report"
      ],
      "metadata": {
        "id": "2EmFE76qV4Tu"
      },
      "execution_count": null,
      "outputs": []
    },
    {
      "cell_type": "code",
      "source": [
        "lr=LogisticRegression(penalty='l2',max_iter=500,C=1,random_state=42)\n",
        "lr.fit(tv_train_reviews, sentiment_train)"
      ],
      "metadata": {
        "colab": {
          "base_uri": "https://localhost:8080/"
        },
        "id": "71Kzsj77XxMW",
        "outputId": "8d63bfed-13ab-4f86-e71b-908e517b1f55"
      },
      "execution_count": null,
      "outputs": [
        {
          "output_type": "stream",
          "name": "stderr",
          "text": [
            "/usr/local/lib/python3.7/dist-packages/sklearn/utils/validation.py:993: DataConversionWarning: A column-vector y was passed when a 1d array was expected. Please change the shape of y to (n_samples, ), for example using ravel().\n",
            "  y = column_or_1d(y, warn=True)\n"
          ]
        },
        {
          "output_type": "execute_result",
          "data": {
            "text/plain": [
              "LogisticRegression(C=1, max_iter=500, random_state=42)"
            ]
          },
          "metadata": {},
          "execution_count": 25
        }
      ]
    },
    {
      "cell_type": "code",
      "source": [
        "predict = lr.predict(tv_test_reviews)"
      ],
      "metadata": {
        "id": "jjQvA01CYnI6"
      },
      "execution_count": null,
      "outputs": []
    },
    {
      "cell_type": "code",
      "source": [
        "print(classification_report(sentiment_test, predict))"
      ],
      "metadata": {
        "colab": {
          "base_uri": "https://localhost:8080/"
        },
        "id": "fTXvnKcnYwZ-",
        "outputId": "ad062a41-1fdd-424e-8f9d-4b924b380fa5"
      },
      "execution_count": null,
      "outputs": [
        {
          "output_type": "stream",
          "name": "stdout",
          "text": [
            "              precision    recall  f1-score   support\n",
            "\n",
            "           0       0.51      0.41      0.46      5020\n",
            "           1       0.50      0.60      0.55      4980\n",
            "\n",
            "    accuracy                           0.51     10000\n",
            "   macro avg       0.51      0.51      0.50     10000\n",
            "weighted avg       0.51      0.51      0.50     10000\n",
            "\n"
          ]
        }
      ]
    },
    {
      "cell_type": "code",
      "source": [
        "from sklearn.metrics import accuracy_score\n",
        "print(accuracy_score(sentiment_test, predict))"
      ],
      "metadata": {
        "colab": {
          "base_uri": "https://localhost:8080/"
        },
        "id": "zMgxDrsHZSlg",
        "outputId": "243d4ab8-8251-4575-a8c3-3364976c71a6"
      },
      "execution_count": null,
      "outputs": [
        {
          "output_type": "stream",
          "name": "stdout",
          "text": [
            "0.5053\n"
          ]
        }
      ]
    },
    {
      "cell_type": "code",
      "source": [
        "from sklearn.naive_bayes import MultinomialNB\n",
        "mnb=MultinomialNB()\n",
        "mnb.fit(tv_train_reviews,sentiment_train)\n",
        "mnb_predict=mnb.predict(tv_test_reviews)"
      ],
      "metadata": {
        "id": "i1NHlvTcZhdg",
        "colab": {
          "base_uri": "https://localhost:8080/"
        },
        "outputId": "a2eac6d2-11b7-4f11-f431-0f205eb22587"
      },
      "execution_count": null,
      "outputs": [
        {
          "output_type": "stream",
          "name": "stderr",
          "text": [
            "/usr/local/lib/python3.7/dist-packages/sklearn/utils/validation.py:993: DataConversionWarning: A column-vector y was passed when a 1d array was expected. Please change the shape of y to (n_samples, ), for example using ravel().\n",
            "  y = column_or_1d(y, warn=True)\n"
          ]
        }
      ]
    },
    {
      "cell_type": "code",
      "source": [
        "print(accuracy_score(sentiment_test,mnb_predict))"
      ],
      "metadata": {
        "id": "7jB9nIIT1HVM",
        "colab": {
          "base_uri": "https://localhost:8080/"
        },
        "outputId": "29df612e-bcab-47f7-8219-b770252b812d"
      },
      "execution_count": null,
      "outputs": [
        {
          "output_type": "stream",
          "name": "stdout",
          "text": [
            "0.5053\n"
          ]
        }
      ]
    },
    {
      "cell_type": "code",
      "source": [],
      "metadata": {
        "id": "waERPz9N4Ndj"
      },
      "execution_count": null,
      "outputs": []
    }
  ]
}