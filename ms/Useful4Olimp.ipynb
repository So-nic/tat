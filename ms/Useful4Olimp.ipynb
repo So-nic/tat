{
  "nbformat": 4,
  "nbformat_minor": 0,
  "metadata": {
    "colab": {
      "provenance": []
    },
    "kernelspec": {
      "name": "python3",
      "display_name": "Python 3"
    },
    "language_info": {
      "name": "python"
    },
    "widgets": {
      "application/vnd.jupyter.widget-state+json": {
        "ccd0403347254d1ea5420aa6f65a2ea8": {
          "model_module": "@jupyter-widgets/output",
          "model_name": "OutputModel",
          "model_module_version": "1.0.0",
          "state": {
            "_dom_classes": [],
            "_model_module": "@jupyter-widgets/output",
            "_model_module_version": "1.0.0",
            "_model_name": "OutputModel",
            "_view_count": null,
            "_view_module": "@jupyter-widgets/output",
            "_view_module_version": "1.0.0",
            "_view_name": "OutputView",
            "layout": "IPY_MODEL_f26c4b61f9f240fab065c53c6046b0e1",
            "msg_id": "",
            "outputs": [
              {
                "output_type": "display_data",
                "data": {
                  "text/plain": "Downloading \u001b[3;36mhttps://s3-us-west-2.amazonaws.com/allennlp/model…\u001b[0m \u001b[38;5;237m━━━━━━━━━━━━━━━━━━━━━━━━━━━\u001b[0m \u001b[35m  0%\u001b[0m \u001b[33m0:00:00\u001b[0m \u001b[32m0/336 bytes\u001b[0m\n",
                  "text/html": "<pre style=\"white-space:pre;overflow-x:auto;line-height:normal;font-family:Menlo,'DejaVu Sans Mono',consolas,'Courier New',monospace\">Downloading <span style=\"color: #008080; text-decoration-color: #008080; font-style: italic\">https://s3-us-west-2.amazonaws.com/allennlp/model…</span> <span style=\"color: #3a3a3a; text-decoration-color: #3a3a3a\">━━━━━━━━━━━━━━━━━━━━━━━━━━━</span> <span style=\"color: #800080; text-decoration-color: #800080\">  0%</span> <span style=\"color: #808000; text-decoration-color: #808000\">0:00:00</span> <span style=\"color: #008000; text-decoration-color: #008000\">0/336 bytes</span>\n</pre>\n"
                },
                "metadata": {}
              }
            ]
          }
        },
        "f26c4b61f9f240fab065c53c6046b0e1": {
          "model_module": "@jupyter-widgets/base",
          "model_name": "LayoutModel",
          "model_module_version": "1.2.0",
          "state": {
            "_model_module": "@jupyter-widgets/base",
            "_model_module_version": "1.2.0",
            "_model_name": "LayoutModel",
            "_view_count": null,
            "_view_module": "@jupyter-widgets/base",
            "_view_module_version": "1.2.0",
            "_view_name": "LayoutView",
            "align_content": null,
            "align_items": null,
            "align_self": null,
            "border": null,
            "bottom": null,
            "display": null,
            "flex": null,
            "flex_flow": null,
            "grid_area": null,
            "grid_auto_columns": null,
            "grid_auto_flow": null,
            "grid_auto_rows": null,
            "grid_column": null,
            "grid_gap": null,
            "grid_row": null,
            "grid_template_areas": null,
            "grid_template_columns": null,
            "grid_template_rows": null,
            "height": null,
            "justify_content": null,
            "justify_items": null,
            "left": null,
            "margin": null,
            "max_height": null,
            "max_width": null,
            "min_height": null,
            "min_width": null,
            "object_fit": null,
            "object_position": null,
            "order": null,
            "overflow": null,
            "overflow_x": null,
            "overflow_y": null,
            "padding": null,
            "right": null,
            "top": null,
            "visibility": null,
            "width": null
          }
        },
        "f09fe76eb1c7435d94172ab48d7d3cf5": {
          "model_module": "@jupyter-widgets/output",
          "model_name": "OutputModel",
          "model_module_version": "1.0.0",
          "state": {
            "_dom_classes": [],
            "_model_module": "@jupyter-widgets/output",
            "_model_module_version": "1.0.0",
            "_model_name": "OutputModel",
            "_view_count": null,
            "_view_module": "@jupyter-widgets/output",
            "_view_module_version": "1.0.0",
            "_view_name": "OutputView",
            "layout": "IPY_MODEL_e9654438249f4e05b2c1fe54d7b34eac",
            "msg_id": "",
            "outputs": [
              {
                "output_type": "display_data",
                "data": {
                  "text/plain": "Downloading \u001b[3;36mhttps://s3-us-west-2.amazonaws.com/allennlp/model…\u001b[0m \u001b[38;2;249;38;114m━━━━━━━━━━━━━━━━━━━━━━━\u001b[0m\u001b[38;2;249;38;114m╸\u001b[0m \u001b[35m 99%\u001b[0m \u001b[33m0:00:15\u001b[0m \u001b[32m372.2/374.4 MB\u001b[0m\n",
                  "text/html": "<pre style=\"white-space:pre;overflow-x:auto;line-height:normal;font-family:Menlo,'DejaVu Sans Mono',consolas,'Courier New',monospace\">Downloading <span style=\"color: #008080; text-decoration-color: #008080; font-style: italic\">https://s3-us-west-2.amazonaws.com/allennlp/model…</span> <span style=\"color: #f92672; text-decoration-color: #f92672\">━━━━━━━━━━━━━━━━━━━━━━━╸</span> <span style=\"color: #800080; text-decoration-color: #800080\"> 99%</span> <span style=\"color: #808000; text-decoration-color: #808000\">0:00:15</span> <span style=\"color: #008000; text-decoration-color: #008000\">372.2/374.4 MB</span>\n</pre>\n"
                },
                "metadata": {}
              }
            ]
          }
        },
        "e9654438249f4e05b2c1fe54d7b34eac": {
          "model_module": "@jupyter-widgets/base",
          "model_name": "LayoutModel",
          "model_module_version": "1.2.0",
          "state": {
            "_model_module": "@jupyter-widgets/base",
            "_model_module_version": "1.2.0",
            "_model_name": "LayoutModel",
            "_view_count": null,
            "_view_module": "@jupyter-widgets/base",
            "_view_module_version": "1.2.0",
            "_view_name": "LayoutView",
            "align_content": null,
            "align_items": null,
            "align_self": null,
            "border": null,
            "bottom": null,
            "display": null,
            "flex": null,
            "flex_flow": null,
            "grid_area": null,
            "grid_auto_columns": null,
            "grid_auto_flow": null,
            "grid_auto_rows": null,
            "grid_column": null,
            "grid_gap": null,
            "grid_row": null,
            "grid_template_areas": null,
            "grid_template_columns": null,
            "grid_template_rows": null,
            "height": null,
            "justify_content": null,
            "justify_items": null,
            "left": null,
            "margin": null,
            "max_height": null,
            "max_width": null,
            "min_height": null,
            "min_width": null,
            "object_fit": null,
            "object_position": null,
            "order": null,
            "overflow": null,
            "overflow_x": null,
            "overflow_y": null,
            "padding": null,
            "right": null,
            "top": null,
            "visibility": null,
            "width": null
          }
        },
        "58f3623440fe4eb0893baa460b75ed0e": {
          "model_module": "@jupyter-widgets/controls",
          "model_name": "HBoxModel",
          "model_module_version": "1.5.0",
          "state": {
            "_dom_classes": [],
            "_model_module": "@jupyter-widgets/controls",
            "_model_module_version": "1.5.0",
            "_model_name": "HBoxModel",
            "_view_count": null,
            "_view_module": "@jupyter-widgets/controls",
            "_view_module_version": "1.5.0",
            "_view_name": "HBoxView",
            "box_style": "",
            "children": [
              "IPY_MODEL_0f77355cd71d44889c10f960ae934d9b",
              "IPY_MODEL_a887c5879e4a40f2a841e1b906d4a8f6",
              "IPY_MODEL_11e2a910b11b4dfeadce3f995c7187f5"
            ],
            "layout": "IPY_MODEL_fe4eaa61d53b4c0ab96f6318724c4bc8"
          }
        },
        "0f77355cd71d44889c10f960ae934d9b": {
          "model_module": "@jupyter-widgets/controls",
          "model_name": "HTMLModel",
          "model_module_version": "1.5.0",
          "state": {
            "_dom_classes": [],
            "_model_module": "@jupyter-widgets/controls",
            "_model_module_version": "1.5.0",
            "_model_name": "HTMLModel",
            "_view_count": null,
            "_view_module": "@jupyter-widgets/controls",
            "_view_module_version": "1.5.0",
            "_view_name": "HTMLView",
            "description": "",
            "description_tooltip": null,
            "layout": "IPY_MODEL_d0b5c86001bb413989699a5e572700c9",
            "placeholder": "​",
            "style": "IPY_MODEL_49f6cb56413d45fd93d3b2b220a74e33",
            "value": "Downloading: 100%"
          }
        },
        "a887c5879e4a40f2a841e1b906d4a8f6": {
          "model_module": "@jupyter-widgets/controls",
          "model_name": "FloatProgressModel",
          "model_module_version": "1.5.0",
          "state": {
            "_dom_classes": [],
            "_model_module": "@jupyter-widgets/controls",
            "_model_module_version": "1.5.0",
            "_model_name": "FloatProgressModel",
            "_view_count": null,
            "_view_module": "@jupyter-widgets/controls",
            "_view_module_version": "1.5.0",
            "_view_name": "ProgressView",
            "bar_style": "success",
            "description": "",
            "description_tooltip": null,
            "layout": "IPY_MODEL_1f92a648442e4c21a6b85a451f369743",
            "max": 995526,
            "min": 0,
            "orientation": "horizontal",
            "style": "IPY_MODEL_49b11cd9bc0e40c2ac7aec7a9f087885",
            "value": 995526
          }
        },
        "11e2a910b11b4dfeadce3f995c7187f5": {
          "model_module": "@jupyter-widgets/controls",
          "model_name": "HTMLModel",
          "model_module_version": "1.5.0",
          "state": {
            "_dom_classes": [],
            "_model_module": "@jupyter-widgets/controls",
            "_model_module_version": "1.5.0",
            "_model_name": "HTMLModel",
            "_view_count": null,
            "_view_module": "@jupyter-widgets/controls",
            "_view_module_version": "1.5.0",
            "_view_name": "HTMLView",
            "description": "",
            "description_tooltip": null,
            "layout": "IPY_MODEL_0bffb159b0074438b48efc562f5ddcc7",
            "placeholder": "​",
            "style": "IPY_MODEL_bc4e3d3dd00a45ecb76af2165b5a0167",
            "value": " 972k/972k [00:00&lt;00:00, 1.13MB/s]"
          }
        },
        "fe4eaa61d53b4c0ab96f6318724c4bc8": {
          "model_module": "@jupyter-widgets/base",
          "model_name": "LayoutModel",
          "model_module_version": "1.2.0",
          "state": {
            "_model_module": "@jupyter-widgets/base",
            "_model_module_version": "1.2.0",
            "_model_name": "LayoutModel",
            "_view_count": null,
            "_view_module": "@jupyter-widgets/base",
            "_view_module_version": "1.2.0",
            "_view_name": "LayoutView",
            "align_content": null,
            "align_items": null,
            "align_self": null,
            "border": null,
            "bottom": null,
            "display": null,
            "flex": null,
            "flex_flow": null,
            "grid_area": null,
            "grid_auto_columns": null,
            "grid_auto_flow": null,
            "grid_auto_rows": null,
            "grid_column": null,
            "grid_gap": null,
            "grid_row": null,
            "grid_template_areas": null,
            "grid_template_columns": null,
            "grid_template_rows": null,
            "height": null,
            "justify_content": null,
            "justify_items": null,
            "left": null,
            "margin": null,
            "max_height": null,
            "max_width": null,
            "min_height": null,
            "min_width": null,
            "object_fit": null,
            "object_position": null,
            "order": null,
            "overflow": null,
            "overflow_x": null,
            "overflow_y": null,
            "padding": null,
            "right": null,
            "top": null,
            "visibility": null,
            "width": null
          }
        },
        "d0b5c86001bb413989699a5e572700c9": {
          "model_module": "@jupyter-widgets/base",
          "model_name": "LayoutModel",
          "model_module_version": "1.2.0",
          "state": {
            "_model_module": "@jupyter-widgets/base",
            "_model_module_version": "1.2.0",
            "_model_name": "LayoutModel",
            "_view_count": null,
            "_view_module": "@jupyter-widgets/base",
            "_view_module_version": "1.2.0",
            "_view_name": "LayoutView",
            "align_content": null,
            "align_items": null,
            "align_self": null,
            "border": null,
            "bottom": null,
            "display": null,
            "flex": null,
            "flex_flow": null,
            "grid_area": null,
            "grid_auto_columns": null,
            "grid_auto_flow": null,
            "grid_auto_rows": null,
            "grid_column": null,
            "grid_gap": null,
            "grid_row": null,
            "grid_template_areas": null,
            "grid_template_columns": null,
            "grid_template_rows": null,
            "height": null,
            "justify_content": null,
            "justify_items": null,
            "left": null,
            "margin": null,
            "max_height": null,
            "max_width": null,
            "min_height": null,
            "min_width": null,
            "object_fit": null,
            "object_position": null,
            "order": null,
            "overflow": null,
            "overflow_x": null,
            "overflow_y": null,
            "padding": null,
            "right": null,
            "top": null,
            "visibility": null,
            "width": null
          }
        },
        "49f6cb56413d45fd93d3b2b220a74e33": {
          "model_module": "@jupyter-widgets/controls",
          "model_name": "DescriptionStyleModel",
          "model_module_version": "1.5.0",
          "state": {
            "_model_module": "@jupyter-widgets/controls",
            "_model_module_version": "1.5.0",
            "_model_name": "DescriptionStyleModel",
            "_view_count": null,
            "_view_module": "@jupyter-widgets/base",
            "_view_module_version": "1.2.0",
            "_view_name": "StyleView",
            "description_width": ""
          }
        },
        "1f92a648442e4c21a6b85a451f369743": {
          "model_module": "@jupyter-widgets/base",
          "model_name": "LayoutModel",
          "model_module_version": "1.2.0",
          "state": {
            "_model_module": "@jupyter-widgets/base",
            "_model_module_version": "1.2.0",
            "_model_name": "LayoutModel",
            "_view_count": null,
            "_view_module": "@jupyter-widgets/base",
            "_view_module_version": "1.2.0",
            "_view_name": "LayoutView",
            "align_content": null,
            "align_items": null,
            "align_self": null,
            "border": null,
            "bottom": null,
            "display": null,
            "flex": null,
            "flex_flow": null,
            "grid_area": null,
            "grid_auto_columns": null,
            "grid_auto_flow": null,
            "grid_auto_rows": null,
            "grid_column": null,
            "grid_gap": null,
            "grid_row": null,
            "grid_template_areas": null,
            "grid_template_columns": null,
            "grid_template_rows": null,
            "height": null,
            "justify_content": null,
            "justify_items": null,
            "left": null,
            "margin": null,
            "max_height": null,
            "max_width": null,
            "min_height": null,
            "min_width": null,
            "object_fit": null,
            "object_position": null,
            "order": null,
            "overflow": null,
            "overflow_x": null,
            "overflow_y": null,
            "padding": null,
            "right": null,
            "top": null,
            "visibility": null,
            "width": null
          }
        },
        "49b11cd9bc0e40c2ac7aec7a9f087885": {
          "model_module": "@jupyter-widgets/controls",
          "model_name": "ProgressStyleModel",
          "model_module_version": "1.5.0",
          "state": {
            "_model_module": "@jupyter-widgets/controls",
            "_model_module_version": "1.5.0",
            "_model_name": "ProgressStyleModel",
            "_view_count": null,
            "_view_module": "@jupyter-widgets/base",
            "_view_module_version": "1.2.0",
            "_view_name": "StyleView",
            "bar_color": null,
            "description_width": ""
          }
        },
        "0bffb159b0074438b48efc562f5ddcc7": {
          "model_module": "@jupyter-widgets/base",
          "model_name": "LayoutModel",
          "model_module_version": "1.2.0",
          "state": {
            "_model_module": "@jupyter-widgets/base",
            "_model_module_version": "1.2.0",
            "_model_name": "LayoutModel",
            "_view_count": null,
            "_view_module": "@jupyter-widgets/base",
            "_view_module_version": "1.2.0",
            "_view_name": "LayoutView",
            "align_content": null,
            "align_items": null,
            "align_self": null,
            "border": null,
            "bottom": null,
            "display": null,
            "flex": null,
            "flex_flow": null,
            "grid_area": null,
            "grid_auto_columns": null,
            "grid_auto_flow": null,
            "grid_auto_rows": null,
            "grid_column": null,
            "grid_gap": null,
            "grid_row": null,
            "grid_template_areas": null,
            "grid_template_columns": null,
            "grid_template_rows": null,
            "height": null,
            "justify_content": null,
            "justify_items": null,
            "left": null,
            "margin": null,
            "max_height": null,
            "max_width": null,
            "min_height": null,
            "min_width": null,
            "object_fit": null,
            "object_position": null,
            "order": null,
            "overflow": null,
            "overflow_x": null,
            "overflow_y": null,
            "padding": null,
            "right": null,
            "top": null,
            "visibility": null,
            "width": null
          }
        },
        "bc4e3d3dd00a45ecb76af2165b5a0167": {
          "model_module": "@jupyter-widgets/controls",
          "model_name": "DescriptionStyleModel",
          "model_module_version": "1.5.0",
          "state": {
            "_model_module": "@jupyter-widgets/controls",
            "_model_module_version": "1.5.0",
            "_model_name": "DescriptionStyleModel",
            "_view_count": null,
            "_view_module": "@jupyter-widgets/base",
            "_view_module_version": "1.2.0",
            "_view_name": "StyleView",
            "description_width": ""
          }
        },
        "04ed89fe5b8f43b682fe9beac04ad67b": {
          "model_module": "@jupyter-widgets/controls",
          "model_name": "HBoxModel",
          "model_module_version": "1.5.0",
          "state": {
            "_dom_classes": [],
            "_model_module": "@jupyter-widgets/controls",
            "_model_module_version": "1.5.0",
            "_model_name": "HBoxModel",
            "_view_count": null,
            "_view_module": "@jupyter-widgets/controls",
            "_view_module_version": "1.5.0",
            "_view_name": "HBoxView",
            "box_style": "",
            "children": [
              "IPY_MODEL_52d138e4cc2140f9915af6fca043dea1",
              "IPY_MODEL_da46879a254049e485491e66793a76bf",
              "IPY_MODEL_068585027d8e44f2b13504b3e9ff3aef"
            ],
            "layout": "IPY_MODEL_63b9667ae0214131a5352113428c8b7e"
          }
        },
        "52d138e4cc2140f9915af6fca043dea1": {
          "model_module": "@jupyter-widgets/controls",
          "model_name": "HTMLModel",
          "model_module_version": "1.5.0",
          "state": {
            "_dom_classes": [],
            "_model_module": "@jupyter-widgets/controls",
            "_model_module_version": "1.5.0",
            "_model_name": "HTMLModel",
            "_view_count": null,
            "_view_module": "@jupyter-widgets/controls",
            "_view_module_version": "1.5.0",
            "_view_name": "HTMLView",
            "description": "",
            "description_tooltip": null,
            "layout": "IPY_MODEL_b986c8690ae44a23be9902f71661898b",
            "placeholder": "​",
            "style": "IPY_MODEL_0575561fa9994719b783ed7dadb10031",
            "value": "Downloading: 100%"
          }
        },
        "da46879a254049e485491e66793a76bf": {
          "model_module": "@jupyter-widgets/controls",
          "model_name": "FloatProgressModel",
          "model_module_version": "1.5.0",
          "state": {
            "_dom_classes": [],
            "_model_module": "@jupyter-widgets/controls",
            "_model_module_version": "1.5.0",
            "_model_name": "FloatProgressModel",
            "_view_count": null,
            "_view_module": "@jupyter-widgets/controls",
            "_view_module_version": "1.5.0",
            "_view_name": "ProgressView",
            "bar_style": "success",
            "description": "",
            "description_tooltip": null,
            "layout": "IPY_MODEL_461a5742702a406c9e0a27e219933131",
            "max": 112,
            "min": 0,
            "orientation": "horizontal",
            "style": "IPY_MODEL_58df6d4586f74468a75bd172902704fc",
            "value": 112
          }
        },
        "068585027d8e44f2b13504b3e9ff3aef": {
          "model_module": "@jupyter-widgets/controls",
          "model_name": "HTMLModel",
          "model_module_version": "1.5.0",
          "state": {
            "_dom_classes": [],
            "_model_module": "@jupyter-widgets/controls",
            "_model_module_version": "1.5.0",
            "_model_name": "HTMLModel",
            "_view_count": null,
            "_view_module": "@jupyter-widgets/controls",
            "_view_module_version": "1.5.0",
            "_view_name": "HTMLView",
            "description": "",
            "description_tooltip": null,
            "layout": "IPY_MODEL_70e03de3d2404777835b4d11a382bc11",
            "placeholder": "​",
            "style": "IPY_MODEL_35df9e30f2c74decba19373ff529ce7e",
            "value": " 112/112 [00:00&lt;00:00, 3.02kB/s]"
          }
        },
        "63b9667ae0214131a5352113428c8b7e": {
          "model_module": "@jupyter-widgets/base",
          "model_name": "LayoutModel",
          "model_module_version": "1.2.0",
          "state": {
            "_model_module": "@jupyter-widgets/base",
            "_model_module_version": "1.2.0",
            "_model_name": "LayoutModel",
            "_view_count": null,
            "_view_module": "@jupyter-widgets/base",
            "_view_module_version": "1.2.0",
            "_view_name": "LayoutView",
            "align_content": null,
            "align_items": null,
            "align_self": null,
            "border": null,
            "bottom": null,
            "display": null,
            "flex": null,
            "flex_flow": null,
            "grid_area": null,
            "grid_auto_columns": null,
            "grid_auto_flow": null,
            "grid_auto_rows": null,
            "grid_column": null,
            "grid_gap": null,
            "grid_row": null,
            "grid_template_areas": null,
            "grid_template_columns": null,
            "grid_template_rows": null,
            "height": null,
            "justify_content": null,
            "justify_items": null,
            "left": null,
            "margin": null,
            "max_height": null,
            "max_width": null,
            "min_height": null,
            "min_width": null,
            "object_fit": null,
            "object_position": null,
            "order": null,
            "overflow": null,
            "overflow_x": null,
            "overflow_y": null,
            "padding": null,
            "right": null,
            "top": null,
            "visibility": null,
            "width": null
          }
        },
        "b986c8690ae44a23be9902f71661898b": {
          "model_module": "@jupyter-widgets/base",
          "model_name": "LayoutModel",
          "model_module_version": "1.2.0",
          "state": {
            "_model_module": "@jupyter-widgets/base",
            "_model_module_version": "1.2.0",
            "_model_name": "LayoutModel",
            "_view_count": null,
            "_view_module": "@jupyter-widgets/base",
            "_view_module_version": "1.2.0",
            "_view_name": "LayoutView",
            "align_content": null,
            "align_items": null,
            "align_self": null,
            "border": null,
            "bottom": null,
            "display": null,
            "flex": null,
            "flex_flow": null,
            "grid_area": null,
            "grid_auto_columns": null,
            "grid_auto_flow": null,
            "grid_auto_rows": null,
            "grid_column": null,
            "grid_gap": null,
            "grid_row": null,
            "grid_template_areas": null,
            "grid_template_columns": null,
            "grid_template_rows": null,
            "height": null,
            "justify_content": null,
            "justify_items": null,
            "left": null,
            "margin": null,
            "max_height": null,
            "max_width": null,
            "min_height": null,
            "min_width": null,
            "object_fit": null,
            "object_position": null,
            "order": null,
            "overflow": null,
            "overflow_x": null,
            "overflow_y": null,
            "padding": null,
            "right": null,
            "top": null,
            "visibility": null,
            "width": null
          }
        },
        "0575561fa9994719b783ed7dadb10031": {
          "model_module": "@jupyter-widgets/controls",
          "model_name": "DescriptionStyleModel",
          "model_module_version": "1.5.0",
          "state": {
            "_model_module": "@jupyter-widgets/controls",
            "_model_module_version": "1.5.0",
            "_model_name": "DescriptionStyleModel",
            "_view_count": null,
            "_view_module": "@jupyter-widgets/base",
            "_view_module_version": "1.2.0",
            "_view_name": "StyleView",
            "description_width": ""
          }
        },
        "461a5742702a406c9e0a27e219933131": {
          "model_module": "@jupyter-widgets/base",
          "model_name": "LayoutModel",
          "model_module_version": "1.2.0",
          "state": {
            "_model_module": "@jupyter-widgets/base",
            "_model_module_version": "1.2.0",
            "_model_name": "LayoutModel",
            "_view_count": null,
            "_view_module": "@jupyter-widgets/base",
            "_view_module_version": "1.2.0",
            "_view_name": "LayoutView",
            "align_content": null,
            "align_items": null,
            "align_self": null,
            "border": null,
            "bottom": null,
            "display": null,
            "flex": null,
            "flex_flow": null,
            "grid_area": null,
            "grid_auto_columns": null,
            "grid_auto_flow": null,
            "grid_auto_rows": null,
            "grid_column": null,
            "grid_gap": null,
            "grid_row": null,
            "grid_template_areas": null,
            "grid_template_columns": null,
            "grid_template_rows": null,
            "height": null,
            "justify_content": null,
            "justify_items": null,
            "left": null,
            "margin": null,
            "max_height": null,
            "max_width": null,
            "min_height": null,
            "min_width": null,
            "object_fit": null,
            "object_position": null,
            "order": null,
            "overflow": null,
            "overflow_x": null,
            "overflow_y": null,
            "padding": null,
            "right": null,
            "top": null,
            "visibility": null,
            "width": null
          }
        },
        "58df6d4586f74468a75bd172902704fc": {
          "model_module": "@jupyter-widgets/controls",
          "model_name": "ProgressStyleModel",
          "model_module_version": "1.5.0",
          "state": {
            "_model_module": "@jupyter-widgets/controls",
            "_model_module_version": "1.5.0",
            "_model_name": "ProgressStyleModel",
            "_view_count": null,
            "_view_module": "@jupyter-widgets/base",
            "_view_module_version": "1.2.0",
            "_view_name": "StyleView",
            "bar_color": null,
            "description_width": ""
          }
        },
        "70e03de3d2404777835b4d11a382bc11": {
          "model_module": "@jupyter-widgets/base",
          "model_name": "LayoutModel",
          "model_module_version": "1.2.0",
          "state": {
            "_model_module": "@jupyter-widgets/base",
            "_model_module_version": "1.2.0",
            "_model_name": "LayoutModel",
            "_view_count": null,
            "_view_module": "@jupyter-widgets/base",
            "_view_module_version": "1.2.0",
            "_view_name": "LayoutView",
            "align_content": null,
            "align_items": null,
            "align_self": null,
            "border": null,
            "bottom": null,
            "display": null,
            "flex": null,
            "flex_flow": null,
            "grid_area": null,
            "grid_auto_columns": null,
            "grid_auto_flow": null,
            "grid_auto_rows": null,
            "grid_column": null,
            "grid_gap": null,
            "grid_row": null,
            "grid_template_areas": null,
            "grid_template_columns": null,
            "grid_template_rows": null,
            "height": null,
            "justify_content": null,
            "justify_items": null,
            "left": null,
            "margin": null,
            "max_height": null,
            "max_width": null,
            "min_height": null,
            "min_width": null,
            "object_fit": null,
            "object_position": null,
            "order": null,
            "overflow": null,
            "overflow_x": null,
            "overflow_y": null,
            "padding": null,
            "right": null,
            "top": null,
            "visibility": null,
            "width": null
          }
        },
        "35df9e30f2c74decba19373ff529ce7e": {
          "model_module": "@jupyter-widgets/controls",
          "model_name": "DescriptionStyleModel",
          "model_module_version": "1.5.0",
          "state": {
            "_model_module": "@jupyter-widgets/controls",
            "_model_module_version": "1.5.0",
            "_model_name": "DescriptionStyleModel",
            "_view_count": null,
            "_view_module": "@jupyter-widgets/base",
            "_view_module_version": "1.2.0",
            "_view_name": "StyleView",
            "description_width": ""
          }
        },
        "2ccb7cd6805e4659a7311d07e073edf0": {
          "model_module": "@jupyter-widgets/controls",
          "model_name": "HBoxModel",
          "model_module_version": "1.5.0",
          "state": {
            "_dom_classes": [],
            "_model_module": "@jupyter-widgets/controls",
            "_model_module_version": "1.5.0",
            "_model_name": "HBoxModel",
            "_view_count": null,
            "_view_module": "@jupyter-widgets/controls",
            "_view_module_version": "1.5.0",
            "_view_name": "HBoxView",
            "box_style": "",
            "children": [
              "IPY_MODEL_5c677bee725f4c5fb624c2bd140a338e",
              "IPY_MODEL_e6a60f4edc1e4fd98e32d5fbc30e6433",
              "IPY_MODEL_5133324b71b54418862e381f5a78eaef"
            ],
            "layout": "IPY_MODEL_a8d3073cc8244f7eb4735b2e470ac714"
          }
        },
        "5c677bee725f4c5fb624c2bd140a338e": {
          "model_module": "@jupyter-widgets/controls",
          "model_name": "HTMLModel",
          "model_module_version": "1.5.0",
          "state": {
            "_dom_classes": [],
            "_model_module": "@jupyter-widgets/controls",
            "_model_module_version": "1.5.0",
            "_model_name": "HTMLModel",
            "_view_count": null,
            "_view_module": "@jupyter-widgets/controls",
            "_view_module_version": "1.5.0",
            "_view_name": "HTMLView",
            "description": "",
            "description_tooltip": null,
            "layout": "IPY_MODEL_9160c91bdd144a9e9a5e52503c3ccf17",
            "placeholder": "​",
            "style": "IPY_MODEL_e18fbd0040a34d929e13e8cd6abab4c5",
            "value": "Downloading: 100%"
          }
        },
        "e6a60f4edc1e4fd98e32d5fbc30e6433": {
          "model_module": "@jupyter-widgets/controls",
          "model_name": "FloatProgressModel",
          "model_module_version": "1.5.0",
          "state": {
            "_dom_classes": [],
            "_model_module": "@jupyter-widgets/controls",
            "_model_module_version": "1.5.0",
            "_model_name": "FloatProgressModel",
            "_view_count": null,
            "_view_module": "@jupyter-widgets/controls",
            "_view_module_version": "1.5.0",
            "_view_name": "ProgressView",
            "bar_style": "success",
            "description": "",
            "description_tooltip": null,
            "layout": "IPY_MODEL_271845d1a7ee4cb2b0d00f39aa08826f",
            "max": 24,
            "min": 0,
            "orientation": "horizontal",
            "style": "IPY_MODEL_1b40fb2efa0b4ceca5b746c05d0cd2ea",
            "value": 24
          }
        },
        "5133324b71b54418862e381f5a78eaef": {
          "model_module": "@jupyter-widgets/controls",
          "model_name": "HTMLModel",
          "model_module_version": "1.5.0",
          "state": {
            "_dom_classes": [],
            "_model_module": "@jupyter-widgets/controls",
            "_model_module_version": "1.5.0",
            "_model_name": "HTMLModel",
            "_view_count": null,
            "_view_module": "@jupyter-widgets/controls",
            "_view_module_version": "1.5.0",
            "_view_name": "HTMLView",
            "description": "",
            "description_tooltip": null,
            "layout": "IPY_MODEL_db5c5b5b6a49401b808c36491fbe4683",
            "placeholder": "​",
            "style": "IPY_MODEL_cebf2a3613ec465bb058778e8b72e88c",
            "value": " 24.0/24.0 [00:00&lt;00:00, 508B/s]"
          }
        },
        "a8d3073cc8244f7eb4735b2e470ac714": {
          "model_module": "@jupyter-widgets/base",
          "model_name": "LayoutModel",
          "model_module_version": "1.2.0",
          "state": {
            "_model_module": "@jupyter-widgets/base",
            "_model_module_version": "1.2.0",
            "_model_name": "LayoutModel",
            "_view_count": null,
            "_view_module": "@jupyter-widgets/base",
            "_view_module_version": "1.2.0",
            "_view_name": "LayoutView",
            "align_content": null,
            "align_items": null,
            "align_self": null,
            "border": null,
            "bottom": null,
            "display": null,
            "flex": null,
            "flex_flow": null,
            "grid_area": null,
            "grid_auto_columns": null,
            "grid_auto_flow": null,
            "grid_auto_rows": null,
            "grid_column": null,
            "grid_gap": null,
            "grid_row": null,
            "grid_template_areas": null,
            "grid_template_columns": null,
            "grid_template_rows": null,
            "height": null,
            "justify_content": null,
            "justify_items": null,
            "left": null,
            "margin": null,
            "max_height": null,
            "max_width": null,
            "min_height": null,
            "min_width": null,
            "object_fit": null,
            "object_position": null,
            "order": null,
            "overflow": null,
            "overflow_x": null,
            "overflow_y": null,
            "padding": null,
            "right": null,
            "top": null,
            "visibility": null,
            "width": null
          }
        },
        "9160c91bdd144a9e9a5e52503c3ccf17": {
          "model_module": "@jupyter-widgets/base",
          "model_name": "LayoutModel",
          "model_module_version": "1.2.0",
          "state": {
            "_model_module": "@jupyter-widgets/base",
            "_model_module_version": "1.2.0",
            "_model_name": "LayoutModel",
            "_view_count": null,
            "_view_module": "@jupyter-widgets/base",
            "_view_module_version": "1.2.0",
            "_view_name": "LayoutView",
            "align_content": null,
            "align_items": null,
            "align_self": null,
            "border": null,
            "bottom": null,
            "display": null,
            "flex": null,
            "flex_flow": null,
            "grid_area": null,
            "grid_auto_columns": null,
            "grid_auto_flow": null,
            "grid_auto_rows": null,
            "grid_column": null,
            "grid_gap": null,
            "grid_row": null,
            "grid_template_areas": null,
            "grid_template_columns": null,
            "grid_template_rows": null,
            "height": null,
            "justify_content": null,
            "justify_items": null,
            "left": null,
            "margin": null,
            "max_height": null,
            "max_width": null,
            "min_height": null,
            "min_width": null,
            "object_fit": null,
            "object_position": null,
            "order": null,
            "overflow": null,
            "overflow_x": null,
            "overflow_y": null,
            "padding": null,
            "right": null,
            "top": null,
            "visibility": null,
            "width": null
          }
        },
        "e18fbd0040a34d929e13e8cd6abab4c5": {
          "model_module": "@jupyter-widgets/controls",
          "model_name": "DescriptionStyleModel",
          "model_module_version": "1.5.0",
          "state": {
            "_model_module": "@jupyter-widgets/controls",
            "_model_module_version": "1.5.0",
            "_model_name": "DescriptionStyleModel",
            "_view_count": null,
            "_view_module": "@jupyter-widgets/base",
            "_view_module_version": "1.2.0",
            "_view_name": "StyleView",
            "description_width": ""
          }
        },
        "271845d1a7ee4cb2b0d00f39aa08826f": {
          "model_module": "@jupyter-widgets/base",
          "model_name": "LayoutModel",
          "model_module_version": "1.2.0",
          "state": {
            "_model_module": "@jupyter-widgets/base",
            "_model_module_version": "1.2.0",
            "_model_name": "LayoutModel",
            "_view_count": null,
            "_view_module": "@jupyter-widgets/base",
            "_view_module_version": "1.2.0",
            "_view_name": "LayoutView",
            "align_content": null,
            "align_items": null,
            "align_self": null,
            "border": null,
            "bottom": null,
            "display": null,
            "flex": null,
            "flex_flow": null,
            "grid_area": null,
            "grid_auto_columns": null,
            "grid_auto_flow": null,
            "grid_auto_rows": null,
            "grid_column": null,
            "grid_gap": null,
            "grid_row": null,
            "grid_template_areas": null,
            "grid_template_columns": null,
            "grid_template_rows": null,
            "height": null,
            "justify_content": null,
            "justify_items": null,
            "left": null,
            "margin": null,
            "max_height": null,
            "max_width": null,
            "min_height": null,
            "min_width": null,
            "object_fit": null,
            "object_position": null,
            "order": null,
            "overflow": null,
            "overflow_x": null,
            "overflow_y": null,
            "padding": null,
            "right": null,
            "top": null,
            "visibility": null,
            "width": null
          }
        },
        "1b40fb2efa0b4ceca5b746c05d0cd2ea": {
          "model_module": "@jupyter-widgets/controls",
          "model_name": "ProgressStyleModel",
          "model_module_version": "1.5.0",
          "state": {
            "_model_module": "@jupyter-widgets/controls",
            "_model_module_version": "1.5.0",
            "_model_name": "ProgressStyleModel",
            "_view_count": null,
            "_view_module": "@jupyter-widgets/base",
            "_view_module_version": "1.2.0",
            "_view_name": "StyleView",
            "bar_color": null,
            "description_width": ""
          }
        },
        "db5c5b5b6a49401b808c36491fbe4683": {
          "model_module": "@jupyter-widgets/base",
          "model_name": "LayoutModel",
          "model_module_version": "1.2.0",
          "state": {
            "_model_module": "@jupyter-widgets/base",
            "_model_module_version": "1.2.0",
            "_model_name": "LayoutModel",
            "_view_count": null,
            "_view_module": "@jupyter-widgets/base",
            "_view_module_version": "1.2.0",
            "_view_name": "LayoutView",
            "align_content": null,
            "align_items": null,
            "align_self": null,
            "border": null,
            "bottom": null,
            "display": null,
            "flex": null,
            "flex_flow": null,
            "grid_area": null,
            "grid_auto_columns": null,
            "grid_auto_flow": null,
            "grid_auto_rows": null,
            "grid_column": null,
            "grid_gap": null,
            "grid_row": null,
            "grid_template_areas": null,
            "grid_template_columns": null,
            "grid_template_rows": null,
            "height": null,
            "justify_content": null,
            "justify_items": null,
            "left": null,
            "margin": null,
            "max_height": null,
            "max_width": null,
            "min_height": null,
            "min_width": null,
            "object_fit": null,
            "object_position": null,
            "order": null,
            "overflow": null,
            "overflow_x": null,
            "overflow_y": null,
            "padding": null,
            "right": null,
            "top": null,
            "visibility": null,
            "width": null
          }
        },
        "cebf2a3613ec465bb058778e8b72e88c": {
          "model_module": "@jupyter-widgets/controls",
          "model_name": "DescriptionStyleModel",
          "model_module_version": "1.5.0",
          "state": {
            "_model_module": "@jupyter-widgets/controls",
            "_model_module_version": "1.5.0",
            "_model_name": "DescriptionStyleModel",
            "_view_count": null,
            "_view_module": "@jupyter-widgets/base",
            "_view_module_version": "1.2.0",
            "_view_name": "StyleView",
            "description_width": ""
          }
        },
        "0ed6885feb3740b18b278c5c8ea51965": {
          "model_module": "@jupyter-widgets/controls",
          "model_name": "HBoxModel",
          "model_module_version": "1.5.0",
          "state": {
            "_dom_classes": [],
            "_model_module": "@jupyter-widgets/controls",
            "_model_module_version": "1.5.0",
            "_model_name": "HBoxModel",
            "_view_count": null,
            "_view_module": "@jupyter-widgets/controls",
            "_view_module_version": "1.5.0",
            "_view_name": "HBoxView",
            "box_style": "",
            "children": [
              "IPY_MODEL_8971151f1637488eb8bdccdfae518d4d",
              "IPY_MODEL_ea559c8985844f25b61b15021496e87c",
              "IPY_MODEL_d02e875646074d2aa84587b22919507f"
            ],
            "layout": "IPY_MODEL_b98e811b73ae4c0f9ba8ed93e121c8b6"
          }
        },
        "8971151f1637488eb8bdccdfae518d4d": {
          "model_module": "@jupyter-widgets/controls",
          "model_name": "HTMLModel",
          "model_module_version": "1.5.0",
          "state": {
            "_dom_classes": [],
            "_model_module": "@jupyter-widgets/controls",
            "_model_module_version": "1.5.0",
            "_model_name": "HTMLModel",
            "_view_count": null,
            "_view_module": "@jupyter-widgets/controls",
            "_view_module_version": "1.5.0",
            "_view_name": "HTMLView",
            "description": "",
            "description_tooltip": null,
            "layout": "IPY_MODEL_641424b8ba6040cb872003561eaf70c3",
            "placeholder": "​",
            "style": "IPY_MODEL_18b348c7f0ce4d09b7dbf04be1c77d1a",
            "value": "Downloading: 100%"
          }
        },
        "ea559c8985844f25b61b15021496e87c": {
          "model_module": "@jupyter-widgets/controls",
          "model_name": "FloatProgressModel",
          "model_module_version": "1.5.0",
          "state": {
            "_dom_classes": [],
            "_model_module": "@jupyter-widgets/controls",
            "_model_module_version": "1.5.0",
            "_model_name": "FloatProgressModel",
            "_view_count": null,
            "_view_module": "@jupyter-widgets/controls",
            "_view_module_version": "1.5.0",
            "_view_name": "ProgressView",
            "bar_style": "success",
            "description": "",
            "description_tooltip": null,
            "layout": "IPY_MODEL_6c0b73a0f5194903a2e9df28cc31d8ea",
            "max": 642,
            "min": 0,
            "orientation": "horizontal",
            "style": "IPY_MODEL_5d41c2a70b10439081988c24c5c64ee9",
            "value": 642
          }
        },
        "d02e875646074d2aa84587b22919507f": {
          "model_module": "@jupyter-widgets/controls",
          "model_name": "HTMLModel",
          "model_module_version": "1.5.0",
          "state": {
            "_dom_classes": [],
            "_model_module": "@jupyter-widgets/controls",
            "_model_module_version": "1.5.0",
            "_model_name": "HTMLModel",
            "_view_count": null,
            "_view_module": "@jupyter-widgets/controls",
            "_view_module_version": "1.5.0",
            "_view_name": "HTMLView",
            "description": "",
            "description_tooltip": null,
            "layout": "IPY_MODEL_831d8b438a324951954b1ad57fcaa0c5",
            "placeholder": "​",
            "style": "IPY_MODEL_8de5912187994a6bbe4ac26e7b7ba00a",
            "value": " 642/642 [00:00&lt;00:00, 9.07kB/s]"
          }
        },
        "b98e811b73ae4c0f9ba8ed93e121c8b6": {
          "model_module": "@jupyter-widgets/base",
          "model_name": "LayoutModel",
          "model_module_version": "1.2.0",
          "state": {
            "_model_module": "@jupyter-widgets/base",
            "_model_module_version": "1.2.0",
            "_model_name": "LayoutModel",
            "_view_count": null,
            "_view_module": "@jupyter-widgets/base",
            "_view_module_version": "1.2.0",
            "_view_name": "LayoutView",
            "align_content": null,
            "align_items": null,
            "align_self": null,
            "border": null,
            "bottom": null,
            "display": null,
            "flex": null,
            "flex_flow": null,
            "grid_area": null,
            "grid_auto_columns": null,
            "grid_auto_flow": null,
            "grid_auto_rows": null,
            "grid_column": null,
            "grid_gap": null,
            "grid_row": null,
            "grid_template_areas": null,
            "grid_template_columns": null,
            "grid_template_rows": null,
            "height": null,
            "justify_content": null,
            "justify_items": null,
            "left": null,
            "margin": null,
            "max_height": null,
            "max_width": null,
            "min_height": null,
            "min_width": null,
            "object_fit": null,
            "object_position": null,
            "order": null,
            "overflow": null,
            "overflow_x": null,
            "overflow_y": null,
            "padding": null,
            "right": null,
            "top": null,
            "visibility": null,
            "width": null
          }
        },
        "641424b8ba6040cb872003561eaf70c3": {
          "model_module": "@jupyter-widgets/base",
          "model_name": "LayoutModel",
          "model_module_version": "1.2.0",
          "state": {
            "_model_module": "@jupyter-widgets/base",
            "_model_module_version": "1.2.0",
            "_model_name": "LayoutModel",
            "_view_count": null,
            "_view_module": "@jupyter-widgets/base",
            "_view_module_version": "1.2.0",
            "_view_name": "LayoutView",
            "align_content": null,
            "align_items": null,
            "align_self": null,
            "border": null,
            "bottom": null,
            "display": null,
            "flex": null,
            "flex_flow": null,
            "grid_area": null,
            "grid_auto_columns": null,
            "grid_auto_flow": null,
            "grid_auto_rows": null,
            "grid_column": null,
            "grid_gap": null,
            "grid_row": null,
            "grid_template_areas": null,
            "grid_template_columns": null,
            "grid_template_rows": null,
            "height": null,
            "justify_content": null,
            "justify_items": null,
            "left": null,
            "margin": null,
            "max_height": null,
            "max_width": null,
            "min_height": null,
            "min_width": null,
            "object_fit": null,
            "object_position": null,
            "order": null,
            "overflow": null,
            "overflow_x": null,
            "overflow_y": null,
            "padding": null,
            "right": null,
            "top": null,
            "visibility": null,
            "width": null
          }
        },
        "18b348c7f0ce4d09b7dbf04be1c77d1a": {
          "model_module": "@jupyter-widgets/controls",
          "model_name": "DescriptionStyleModel",
          "model_module_version": "1.5.0",
          "state": {
            "_model_module": "@jupyter-widgets/controls",
            "_model_module_version": "1.5.0",
            "_model_name": "DescriptionStyleModel",
            "_view_count": null,
            "_view_module": "@jupyter-widgets/base",
            "_view_module_version": "1.2.0",
            "_view_name": "StyleView",
            "description_width": ""
          }
        },
        "6c0b73a0f5194903a2e9df28cc31d8ea": {
          "model_module": "@jupyter-widgets/base",
          "model_name": "LayoutModel",
          "model_module_version": "1.2.0",
          "state": {
            "_model_module": "@jupyter-widgets/base",
            "_model_module_version": "1.2.0",
            "_model_name": "LayoutModel",
            "_view_count": null,
            "_view_module": "@jupyter-widgets/base",
            "_view_module_version": "1.2.0",
            "_view_name": "LayoutView",
            "align_content": null,
            "align_items": null,
            "align_self": null,
            "border": null,
            "bottom": null,
            "display": null,
            "flex": null,
            "flex_flow": null,
            "grid_area": null,
            "grid_auto_columns": null,
            "grid_auto_flow": null,
            "grid_auto_rows": null,
            "grid_column": null,
            "grid_gap": null,
            "grid_row": null,
            "grid_template_areas": null,
            "grid_template_columns": null,
            "grid_template_rows": null,
            "height": null,
            "justify_content": null,
            "justify_items": null,
            "left": null,
            "margin": null,
            "max_height": null,
            "max_width": null,
            "min_height": null,
            "min_width": null,
            "object_fit": null,
            "object_position": null,
            "order": null,
            "overflow": null,
            "overflow_x": null,
            "overflow_y": null,
            "padding": null,
            "right": null,
            "top": null,
            "visibility": null,
            "width": null
          }
        },
        "5d41c2a70b10439081988c24c5c64ee9": {
          "model_module": "@jupyter-widgets/controls",
          "model_name": "ProgressStyleModel",
          "model_module_version": "1.5.0",
          "state": {
            "_model_module": "@jupyter-widgets/controls",
            "_model_module_version": "1.5.0",
            "_model_name": "ProgressStyleModel",
            "_view_count": null,
            "_view_module": "@jupyter-widgets/base",
            "_view_module_version": "1.2.0",
            "_view_name": "StyleView",
            "bar_color": null,
            "description_width": ""
          }
        },
        "831d8b438a324951954b1ad57fcaa0c5": {
          "model_module": "@jupyter-widgets/base",
          "model_name": "LayoutModel",
          "model_module_version": "1.2.0",
          "state": {
            "_model_module": "@jupyter-widgets/base",
            "_model_module_version": "1.2.0",
            "_model_name": "LayoutModel",
            "_view_count": null,
            "_view_module": "@jupyter-widgets/base",
            "_view_module_version": "1.2.0",
            "_view_name": "LayoutView",
            "align_content": null,
            "align_items": null,
            "align_self": null,
            "border": null,
            "bottom": null,
            "display": null,
            "flex": null,
            "flex_flow": null,
            "grid_area": null,
            "grid_auto_columns": null,
            "grid_auto_flow": null,
            "grid_auto_rows": null,
            "grid_column": null,
            "grid_gap": null,
            "grid_row": null,
            "grid_template_areas": null,
            "grid_template_columns": null,
            "grid_template_rows": null,
            "height": null,
            "justify_content": null,
            "justify_items": null,
            "left": null,
            "margin": null,
            "max_height": null,
            "max_width": null,
            "min_height": null,
            "min_width": null,
            "object_fit": null,
            "object_position": null,
            "order": null,
            "overflow": null,
            "overflow_x": null,
            "overflow_y": null,
            "padding": null,
            "right": null,
            "top": null,
            "visibility": null,
            "width": null
          }
        },
        "8de5912187994a6bbe4ac26e7b7ba00a": {
          "model_module": "@jupyter-widgets/controls",
          "model_name": "DescriptionStyleModel",
          "model_module_version": "1.5.0",
          "state": {
            "_model_module": "@jupyter-widgets/controls",
            "_model_module_version": "1.5.0",
            "_model_name": "DescriptionStyleModel",
            "_view_count": null,
            "_view_module": "@jupyter-widgets/base",
            "_view_module_version": "1.2.0",
            "_view_name": "StyleView",
            "description_width": ""
          }
        },
        "73ae8fbba7814cd58538ea318ed58f69": {
          "model_module": "@jupyter-widgets/controls",
          "model_name": "HBoxModel",
          "model_module_version": "1.5.0",
          "state": {
            "_dom_classes": [],
            "_model_module": "@jupyter-widgets/controls",
            "_model_module_version": "1.5.0",
            "_model_name": "HBoxModel",
            "_view_count": null,
            "_view_module": "@jupyter-widgets/controls",
            "_view_module_version": "1.5.0",
            "_view_name": "HBoxView",
            "box_style": "",
            "children": [
              "IPY_MODEL_caf03f9b2bb84c1e85d8a454a68e501d",
              "IPY_MODEL_a0bbe49b0c1d4c78bf9a562b5151fe22",
              "IPY_MODEL_de94688425b142a0a7d7dbca33200d53"
            ],
            "layout": "IPY_MODEL_23e272179bf74566a8a08b3265005df2"
          }
        },
        "caf03f9b2bb84c1e85d8a454a68e501d": {
          "model_module": "@jupyter-widgets/controls",
          "model_name": "HTMLModel",
          "model_module_version": "1.5.0",
          "state": {
            "_dom_classes": [],
            "_model_module": "@jupyter-widgets/controls",
            "_model_module_version": "1.5.0",
            "_model_name": "HTMLModel",
            "_view_count": null,
            "_view_module": "@jupyter-widgets/controls",
            "_view_module_version": "1.5.0",
            "_view_name": "HTMLView",
            "description": "",
            "description_tooltip": null,
            "layout": "IPY_MODEL_73ebe3d6f2d34dcfadfd395188e9fb15",
            "placeholder": "​",
            "style": "IPY_MODEL_1efb19867eaa4e05a77f1a9a3a8509f4",
            "value": "Downloading: 100%"
          }
        },
        "a0bbe49b0c1d4c78bf9a562b5151fe22": {
          "model_module": "@jupyter-widgets/controls",
          "model_name": "FloatProgressModel",
          "model_module_version": "1.5.0",
          "state": {
            "_dom_classes": [],
            "_model_module": "@jupyter-widgets/controls",
            "_model_module_version": "1.5.0",
            "_model_name": "FloatProgressModel",
            "_view_count": null,
            "_view_module": "@jupyter-widgets/controls",
            "_view_module_version": "1.5.0",
            "_view_name": "ProgressView",
            "bar_style": "success",
            "description": "",
            "description_tooltip": null,
            "layout": "IPY_MODEL_177ec823327d4b6e8d1bd3d94675577f",
            "max": 711456796,
            "min": 0,
            "orientation": "horizontal",
            "style": "IPY_MODEL_363d63d40e0f4b418cc431bd9ad00f06",
            "value": 711456796
          }
        },
        "de94688425b142a0a7d7dbca33200d53": {
          "model_module": "@jupyter-widgets/controls",
          "model_name": "HTMLModel",
          "model_module_version": "1.5.0",
          "state": {
            "_dom_classes": [],
            "_model_module": "@jupyter-widgets/controls",
            "_model_module_version": "1.5.0",
            "_model_name": "HTMLModel",
            "_view_count": null,
            "_view_module": "@jupyter-widgets/controls",
            "_view_module_version": "1.5.0",
            "_view_name": "HTMLView",
            "description": "",
            "description_tooltip": null,
            "layout": "IPY_MODEL_6c6bc096a2b64443af787fc59012d0bd",
            "placeholder": "​",
            "style": "IPY_MODEL_d098c2c7dd2844569775e5a8327ec669",
            "value": " 678M/678M [00:36&lt;00:00, 20.5MB/s]"
          }
        },
        "23e272179bf74566a8a08b3265005df2": {
          "model_module": "@jupyter-widgets/base",
          "model_name": "LayoutModel",
          "model_module_version": "1.2.0",
          "state": {
            "_model_module": "@jupyter-widgets/base",
            "_model_module_version": "1.2.0",
            "_model_name": "LayoutModel",
            "_view_count": null,
            "_view_module": "@jupyter-widgets/base",
            "_view_module_version": "1.2.0",
            "_view_name": "LayoutView",
            "align_content": null,
            "align_items": null,
            "align_self": null,
            "border": null,
            "bottom": null,
            "display": null,
            "flex": null,
            "flex_flow": null,
            "grid_area": null,
            "grid_auto_columns": null,
            "grid_auto_flow": null,
            "grid_auto_rows": null,
            "grid_column": null,
            "grid_gap": null,
            "grid_row": null,
            "grid_template_areas": null,
            "grid_template_columns": null,
            "grid_template_rows": null,
            "height": null,
            "justify_content": null,
            "justify_items": null,
            "left": null,
            "margin": null,
            "max_height": null,
            "max_width": null,
            "min_height": null,
            "min_width": null,
            "object_fit": null,
            "object_position": null,
            "order": null,
            "overflow": null,
            "overflow_x": null,
            "overflow_y": null,
            "padding": null,
            "right": null,
            "top": null,
            "visibility": null,
            "width": null
          }
        },
        "73ebe3d6f2d34dcfadfd395188e9fb15": {
          "model_module": "@jupyter-widgets/base",
          "model_name": "LayoutModel",
          "model_module_version": "1.2.0",
          "state": {
            "_model_module": "@jupyter-widgets/base",
            "_model_module_version": "1.2.0",
            "_model_name": "LayoutModel",
            "_view_count": null,
            "_view_module": "@jupyter-widgets/base",
            "_view_module_version": "1.2.0",
            "_view_name": "LayoutView",
            "align_content": null,
            "align_items": null,
            "align_self": null,
            "border": null,
            "bottom": null,
            "display": null,
            "flex": null,
            "flex_flow": null,
            "grid_area": null,
            "grid_auto_columns": null,
            "grid_auto_flow": null,
            "grid_auto_rows": null,
            "grid_column": null,
            "grid_gap": null,
            "grid_row": null,
            "grid_template_areas": null,
            "grid_template_columns": null,
            "grid_template_rows": null,
            "height": null,
            "justify_content": null,
            "justify_items": null,
            "left": null,
            "margin": null,
            "max_height": null,
            "max_width": null,
            "min_height": null,
            "min_width": null,
            "object_fit": null,
            "object_position": null,
            "order": null,
            "overflow": null,
            "overflow_x": null,
            "overflow_y": null,
            "padding": null,
            "right": null,
            "top": null,
            "visibility": null,
            "width": null
          }
        },
        "1efb19867eaa4e05a77f1a9a3a8509f4": {
          "model_module": "@jupyter-widgets/controls",
          "model_name": "DescriptionStyleModel",
          "model_module_version": "1.5.0",
          "state": {
            "_model_module": "@jupyter-widgets/controls",
            "_model_module_version": "1.5.0",
            "_model_name": "DescriptionStyleModel",
            "_view_count": null,
            "_view_module": "@jupyter-widgets/base",
            "_view_module_version": "1.2.0",
            "_view_name": "StyleView",
            "description_width": ""
          }
        },
        "177ec823327d4b6e8d1bd3d94675577f": {
          "model_module": "@jupyter-widgets/base",
          "model_name": "LayoutModel",
          "model_module_version": "1.2.0",
          "state": {
            "_model_module": "@jupyter-widgets/base",
            "_model_module_version": "1.2.0",
            "_model_name": "LayoutModel",
            "_view_count": null,
            "_view_module": "@jupyter-widgets/base",
            "_view_module_version": "1.2.0",
            "_view_name": "LayoutView",
            "align_content": null,
            "align_items": null,
            "align_self": null,
            "border": null,
            "bottom": null,
            "display": null,
            "flex": null,
            "flex_flow": null,
            "grid_area": null,
            "grid_auto_columns": null,
            "grid_auto_flow": null,
            "grid_auto_rows": null,
            "grid_column": null,
            "grid_gap": null,
            "grid_row": null,
            "grid_template_areas": null,
            "grid_template_columns": null,
            "grid_template_rows": null,
            "height": null,
            "justify_content": null,
            "justify_items": null,
            "left": null,
            "margin": null,
            "max_height": null,
            "max_width": null,
            "min_height": null,
            "min_width": null,
            "object_fit": null,
            "object_position": null,
            "order": null,
            "overflow": null,
            "overflow_x": null,
            "overflow_y": null,
            "padding": null,
            "right": null,
            "top": null,
            "visibility": null,
            "width": null
          }
        },
        "363d63d40e0f4b418cc431bd9ad00f06": {
          "model_module": "@jupyter-widgets/controls",
          "model_name": "ProgressStyleModel",
          "model_module_version": "1.5.0",
          "state": {
            "_model_module": "@jupyter-widgets/controls",
            "_model_module_version": "1.5.0",
            "_model_name": "ProgressStyleModel",
            "_view_count": null,
            "_view_module": "@jupyter-widgets/base",
            "_view_module_version": "1.2.0",
            "_view_name": "StyleView",
            "bar_color": null,
            "description_width": ""
          }
        },
        "6c6bc096a2b64443af787fc59012d0bd": {
          "model_module": "@jupyter-widgets/base",
          "model_name": "LayoutModel",
          "model_module_version": "1.2.0",
          "state": {
            "_model_module": "@jupyter-widgets/base",
            "_model_module_version": "1.2.0",
            "_model_name": "LayoutModel",
            "_view_count": null,
            "_view_module": "@jupyter-widgets/base",
            "_view_module_version": "1.2.0",
            "_view_name": "LayoutView",
            "align_content": null,
            "align_items": null,
            "align_self": null,
            "border": null,
            "bottom": null,
            "display": null,
            "flex": null,
            "flex_flow": null,
            "grid_area": null,
            "grid_auto_columns": null,
            "grid_auto_flow": null,
            "grid_auto_rows": null,
            "grid_column": null,
            "grid_gap": null,
            "grid_row": null,
            "grid_template_areas": null,
            "grid_template_columns": null,
            "grid_template_rows": null,
            "height": null,
            "justify_content": null,
            "justify_items": null,
            "left": null,
            "margin": null,
            "max_height": null,
            "max_width": null,
            "min_height": null,
            "min_width": null,
            "object_fit": null,
            "object_position": null,
            "order": null,
            "overflow": null,
            "overflow_x": null,
            "overflow_y": null,
            "padding": null,
            "right": null,
            "top": null,
            "visibility": null,
            "width": null
          }
        },
        "d098c2c7dd2844569775e5a8327ec669": {
          "model_module": "@jupyter-widgets/controls",
          "model_name": "DescriptionStyleModel",
          "model_module_version": "1.5.0",
          "state": {
            "_model_module": "@jupyter-widgets/controls",
            "_model_module_version": "1.5.0",
            "_model_name": "DescriptionStyleModel",
            "_view_count": null,
            "_view_module": "@jupyter-widgets/base",
            "_view_module_version": "1.2.0",
            "_view_name": "StyleView",
            "description_width": ""
          }
        }
      }
    }
  },
  "cells": [
    {
      "cell_type": "markdown",
      "source": [
        "![image.png](data:image/png;base64,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)"
      ],
      "metadata": {
        "id": "pBBbG603g0l0"
      }
    },
    {
      "cell_type": "markdown",
      "source": [
        "## Векторизация текстов\n",
        "\n",
        "### 1. Bag of Words\n",
        "\n",
        "### 2. Tf IDF"
      ],
      "metadata": {
        "id": "iIIRRdwgjAoJ"
      }
    },
    {
      "cell_type": "code",
      "source": [
        "from sklearn.feature_extraction.text import TfidfVectorizer"
      ],
      "metadata": {
        "id": "IMMK_Zv0g02s"
      },
      "execution_count": null,
      "outputs": []
    },
    {
      "cell_type": "code",
      "source": [
        "texts = ['i love ice-cream', 'i love cats and dogs', 'my favourite film is cats']"
      ],
      "metadata": {
        "id": "n1T0e30MmWZl"
      },
      "execution_count": null,
      "outputs": []
    },
    {
      "cell_type": "code",
      "source": [
        "tfidf = TfidfVectorizer().fit(texts)"
      ],
      "metadata": {
        "id": "kHDjj0JhmeG1"
      },
      "execution_count": null,
      "outputs": []
    },
    {
      "cell_type": "code",
      "source": [
        "transformed_version = tfidf.transform(texts)"
      ],
      "metadata": {
        "id": "MOH68FIlmh7V"
      },
      "execution_count": null,
      "outputs": []
    },
    {
      "cell_type": "code",
      "source": [
        "import numpy as np\n",
        "transformed_version.toarray().shape"
      ],
      "metadata": {
        "colab": {
          "base_uri": "https://localhost:8080/"
        },
        "id": "3jApZMWUmmjY",
        "outputId": "cbf3f1f0-2a86-4e19-d5ac-26704a52ed67"
      },
      "execution_count": null,
      "outputs": [
        {
          "output_type": "execute_result",
          "data": {
            "text/plain": [
              "(3, 10)"
            ]
          },
          "metadata": {},
          "execution_count": 11
        }
      ]
    },
    {
      "cell_type": "code",
      "source": [
        "transformed_version.toarray()[0]"
      ],
      "metadata": {
        "colab": {
          "base_uri": "https://localhost:8080/"
        },
        "id": "iGzHU6Yumn7N",
        "outputId": "bfc400a9-26ce-4580-83d9-dddfd596db11"
      },
      "execution_count": null,
      "outputs": [
        {
          "output_type": "execute_result",
          "data": {
            "text/plain": [
              "array([0.        , 0.        , 0.62276601, 0.        , 0.        ,\n",
              "       0.        , 0.62276601, 0.        , 0.4736296 , 0.        ])"
            ]
          },
          "metadata": {},
          "execution_count": 13
        }
      ]
    },
    {
      "cell_type": "markdown",
      "source": [
        "### 3. Word2Vec\n",
        "### 4. Elmo\n",
        "### 5. Bert"
      ],
      "metadata": {
        "id": "uqfEGmePnFr8"
      }
    },
    {
      "cell_type": "code",
      "source": [
        "# Word2vec"
      ],
      "metadata": {
        "id": "Q375uFm1m7nF"
      },
      "execution_count": null,
      "outputs": []
    },
    {
      "cell_type": "code",
      "source": [
        "import gensim\n",
        "from gensim.models import Word2Vec"
      ],
      "metadata": {
        "id": "90E8OhqLn8pI"
      },
      "execution_count": null,
      "outputs": []
    },
    {
      "cell_type": "code",
      "source": [
        "model = Word2Vec(sentences=texts, vector_size=100, window=5, min_count=1)"
      ],
      "metadata": {
        "colab": {
          "base_uri": "https://localhost:8080/"
        },
        "id": "XwfdDWton9u8",
        "outputId": "aa50bf55-6b93-4c4c-f61c-eda2acc11b8d"
      },
      "execution_count": null,
      "outputs": [
        {
          "output_type": "stream",
          "name": "stderr",
          "text": [
            "WARNING:gensim.models.word2vec:Each 'sentences' item should be a list of words (usually unicode strings). First item here is instead plain <class 'str'>.\n"
          ]
        }
      ]
    },
    {
      "cell_type": "code",
      "source": [
        "import gensim.downloader"
      ],
      "metadata": {
        "id": "djJTJqpiob8J"
      },
      "execution_count": null,
      "outputs": []
    },
    {
      "cell_type": "code",
      "source": [
        "print(list(gensim.downloader.info()['models'].keys()))"
      ],
      "metadata": {
        "colab": {
          "base_uri": "https://localhost:8080/"
        },
        "id": "riJ0g-Foomd3",
        "outputId": "dcbbf61f-6e00-4c2a-86aa-dfe3261e35d9"
      },
      "execution_count": null,
      "outputs": [
        {
          "output_type": "stream",
          "name": "stdout",
          "text": [
            "['fasttext-wiki-news-subwords-300', 'conceptnet-numberbatch-17-06-300', 'word2vec-ruscorpora-300', 'word2vec-google-news-300', 'glove-wiki-gigaword-50', 'glove-wiki-gigaword-100', 'glove-wiki-gigaword-200', 'glove-wiki-gigaword-300', 'glove-twitter-25', 'glove-twitter-50', 'glove-twitter-100', 'glove-twitter-200', '__testing_word2vec-matrix-synopsis']\n"
          ]
        }
      ]
    },
    {
      "cell_type": "code",
      "source": [
        "glove_vectors = gensim.downloader.load('glove-wiki-gigaword-300')"
      ],
      "metadata": {
        "colab": {
          "base_uri": "https://localhost:8080/"
        },
        "id": "-m1eqDw3oooQ",
        "outputId": "7c4790e1-7770-4d47-fe39-2f6ec5eb1b96"
      },
      "execution_count": null,
      "outputs": [
        {
          "output_type": "stream",
          "name": "stdout",
          "text": [
            "[==================================================] 100.0% 376.1/376.1MB downloaded\n"
          ]
        }
      ]
    },
    {
      "cell_type": "code",
      "source": [
        "glove_vectors['world']"
      ],
      "metadata": {
        "colab": {
          "base_uri": "https://localhost:8080/"
        },
        "id": "RwFYgFPMo_KD",
        "outputId": "61413689-3a1b-4110-fc59-05e5138e5a41"
      },
      "execution_count": null,
      "outputs": [
        {
          "output_type": "execute_result",
          "data": {
            "text/plain": [
              "array([-0.25831  ,  0.43644  , -0.1138   , -0.5259   ,  0.20213  ,\n",
              "        0.95247  , -0.58764  , -0.047001 , -0.053704 , -1.744    ,\n",
              "        0.99583  ,  0.063464 , -0.093147 , -0.26441  , -0.28676  ,\n",
              "       -0.52357  , -0.17867  ,  0.18171  , -0.71696  , -0.13301  ,\n",
              "        0.42476  ,  0.42044  ,  0.3775   ,  0.082431 ,  0.13154  ,\n",
              "       -0.10151  , -0.11898  ,  0.029509 , -0.39635  ,  0.26516  ,\n",
              "       -0.55091  ,  0.23805  , -0.018748 , -0.039944 , -1.1972   ,\n",
              "        0.13567  ,  0.09371  , -0.60134  ,  0.12887  ,  0.34876  ,\n",
              "       -0.25588  , -0.33466  ,  0.069678 ,  0.5429   ,  0.25246  ,\n",
              "        0.17249  ,  0.099885 ,  0.099456 , -0.01592  ,  0.2617   ,\n",
              "        0.36155  , -0.12417  ,  0.27516  ,  0.037434 , -0.075003 ,\n",
              "        0.61096  ,  0.05261  ,  0.017307 ,  0.12576  , -0.11952  ,\n",
              "       -0.49077  ,  0.026711 , -0.27187  , -0.15268  , -0.22147  ,\n",
              "        0.18131  , -0.045344 ,  0.76151  ,  0.17489  , -0.44112  ,\n",
              "        0.027347 ,  0.42676  , -0.0069618, -0.60233  , -0.016613 ,\n",
              "        0.18418  ,  0.021843 , -0.34176  , -0.55154  ,  0.35013  ,\n",
              "        0.42137  , -0.26789  , -0.18035  ,  0.053171 ,  0.14083  ,\n",
              "        0.29055  ,  0.152    ,  0.01439  ,  0.38663  ,  0.030334 ,\n",
              "       -0.14704  , -0.036147 ,  0.27349  , -0.21787  ,  0.19873  ,\n",
              "        0.12488  , -0.049808 ,  0.41397  , -0.14756  , -0.41982  ,\n",
              "        0.31144  ,  0.043027 ,  0.13019  , -0.1066   ,  0.19274  ,\n",
              "       -0.035078 ,  0.29942  , -0.11902  , -0.44143  ,  0.30043  ,\n",
              "       -0.14127  ,  0.025526 , -0.13042  , -0.14063  ,  0.073307 ,\n",
              "        0.073228 ,  0.24368  ,  0.52377  ,  0.049154 , -0.11187  ,\n",
              "       -0.52428  ,  0.010288 ,  0.16688  , -0.0030069,  0.22922  ,\n",
              "        0.66468  , -0.36986  ,  0.095543 , -0.26651  , -0.57594  ,\n",
              "        0.16846  ,  0.26121  ,  0.2439   , -0.45329  , -0.52662  ,\n",
              "       -0.011254 , -0.017331 , -0.30143  , -0.52018  , -0.11831  ,\n",
              "       -0.28169  ,  0.19066  ,  0.13315  ,  0.41312  ,  0.23883  ,\n",
              "       -0.10314  ,  0.62913  , -0.091733 , -0.28854  ,  0.16397  ,\n",
              "        0.44321  , -0.60102  , -0.1172   , -0.056136 ,  0.60052  ,\n",
              "       -0.054252 , -0.55247  , -0.11621  ,  0.068191 , -0.45674  ,\n",
              "        0.032338 ,  0.051022 ,  0.22195  , -0.16676  ,  0.033077 ,\n",
              "       -0.15372  ,  0.20906  ,  0.3812   , -0.13643  , -0.27834  ,\n",
              "        0.06265  ,  0.27672  , -0.56545  , -0.2464   ,  0.29436  ,\n",
              "        0.16149  ,  0.77578  , -0.14377  , -0.11131  ,  1.1964   ,\n",
              "       -0.067608 ,  0.46178  ,  0.69352  , -0.31582  ,  0.64509  ,\n",
              "        0.072062 , -0.50423  ,  0.27635  , -0.13346  ,  0.01853  ,\n",
              "        0.25858  , -0.15529  ,  0.12289  , -0.34966  , -0.48943  ,\n",
              "        0.11885  ,  0.16122  , -0.25976  ,  0.15021  ,  0.11598  ,\n",
              "        1.8908   ,  0.23723  ,  0.14245  , -0.32139  , -0.16806  ,\n",
              "        0.26471  , -0.27449  , -0.010458 ,  0.044555 , -0.21198  ,\n",
              "       -0.17074  ,  0.046153 , -0.21848  , -0.26406  , -0.14896  ,\n",
              "        0.60799  , -0.56122  , -0.36819  , -0.15405  ,  0.16577  ,\n",
              "        0.33116  , -0.48585  , -0.24098  , -0.029899 ,  0.17621  ,\n",
              "        0.045554 , -0.0063902,  0.36114  , -0.49063  , -0.041788 ,\n",
              "        0.080747 ,  0.061024 ,  0.39921  ,  0.01599  ,  0.15847  ,\n",
              "        0.0091571,  0.38123  ,  0.20664  , -0.39652  , -0.26899  ,\n",
              "       -0.77855  ,  0.01754  ,  0.242    ,  0.17483  , -0.62412  ,\n",
              "       -0.093079 , -0.29577  , -0.0076823, -0.034885 ,  0.25996  ,\n",
              "        0.31075  , -0.36391  ,  0.21322  ,  0.19122  ,  0.0075838,\n",
              "       -0.43858  ,  0.12941  , -0.73911  , -0.032862 , -0.038055 ,\n",
              "        0.19221  , -0.43609  , -0.2739   , -0.15047  ,  0.11068  ,\n",
              "        0.34753  , -0.61807  , -0.0093843,  0.19075  ,  0.32107  ,\n",
              "       -0.13255  ,  0.36662  ,  0.75575  ,  0.94367  ,  0.10123  ,\n",
              "       -0.13744  , -2.0208   ,  0.069843 ,  0.83247  , -0.22516  ,\n",
              "       -0.52209  , -0.60384  , -0.38571  ,  0.19936  ,  0.519    ,\n",
              "       -0.28605  , -0.39936  ,  0.12247  , -0.77574  , -0.078337 ,\n",
              "       -0.35379  , -0.40318  , -0.84683  ,  0.089815 ,  0.21117  ,\n",
              "        0.45053  ,  0.35026  ,  0.081697 , -0.0044191, -0.14102  ],\n",
              "      dtype=float32)"
            ]
          },
          "metadata": {},
          "execution_count": 24
        }
      ]
    },
    {
      "cell_type": "code",
      "source": [
        "text = \"i love world\""
      ],
      "metadata": {
        "id": "A0fwylFotdYq"
      },
      "execution_count": null,
      "outputs": []
    },
    {
      "cell_type": "code",
      "source": [
        "text_tokenized = text.split()"
      ],
      "metadata": {
        "id": "q_A77a4Ds1E2"
      },
      "execution_count": null,
      "outputs": []
    },
    {
      "cell_type": "code",
      "source": [
        "text_tokenized"
      ],
      "metadata": {
        "colab": {
          "base_uri": "https://localhost:8080/"
        },
        "id": "ldQ1kEoKtoEO",
        "outputId": "329cf150-42e2-4cfa-818e-9423571b0f2f"
      },
      "execution_count": null,
      "outputs": [
        {
          "output_type": "execute_result",
          "data": {
            "text/plain": [
              "['i', 'love', 'world']"
            ]
          },
          "metadata": {},
          "execution_count": 27
        }
      ]
    },
    {
      "cell_type": "code",
      "source": [
        "words_vectors = [glove_vectors[w] for w in text_tokenized]\n",
        "vectors_concated = np.stack(words_vectors)\n",
        "text_vetor = np.mean(vectors_concated, axis=0)"
      ],
      "metadata": {
        "id": "62HwpKRitovL"
      },
      "execution_count": null,
      "outputs": []
    },
    {
      "cell_type": "code",
      "source": [
        "text_vetor.shape"
      ],
      "metadata": {
        "colab": {
          "base_uri": "https://localhost:8080/"
        },
        "id": "No5TafzYueIG",
        "outputId": "b35592ff-c632-4c77-a54a-628ca4c5f7bf"
      },
      "execution_count": null,
      "outputs": [
        {
          "output_type": "execute_result",
          "data": {
            "text/plain": [
              "(300,)"
            ]
          },
          "metadata": {},
          "execution_count": 30
        }
      ]
    },
    {
      "cell_type": "code",
      "source": [
        "text_vetor"
      ],
      "metadata": {
        "colab": {
          "base_uri": "https://localhost:8080/"
        },
        "id": "TaogbjpiuWyV",
        "outputId": "89b84205-acae-4d1e-f3fe-1dde9c1dd990"
      },
      "execution_count": null,
      "outputs": [
        {
          "output_type": "execute_result",
          "data": {
            "text/plain": [
              "array([-2.81093329e-01,  9.16900039e-02, -1.07002325e-01, -1.95432350e-01,\n",
              "        2.26400048e-02,  3.26246649e-01, -2.09678337e-01, -8.75340030e-02,\n",
              "       -6.02910034e-02, -1.69701993e+00,  6.27250016e-01, -9.90626588e-02,\n",
              "       -2.29997680e-01,  3.74190025e-02, -1.17808998e-01, -2.45558634e-01,\n",
              "       -1.50120005e-01, -3.47512662e-02, -5.56763411e-02,  3.00433308e-01,\n",
              "        2.07816660e-01,  6.72256708e-01,  1.06489331e-01,  1.56940341e-01,\n",
              "       -2.94300020e-02, -5.42570017e-02, -4.75823991e-02, -3.19476992e-01,\n",
              "        2.91966703e-02, -3.68833356e-02, -2.15934336e-01,  3.52523327e-01,\n",
              "       -3.20469320e-01, -2.20261335e-01, -1.31139994e+00,  1.90446675e-01,\n",
              "       -2.01053321e-01, -3.29360008e-01, -1.23326981e-03,  2.41448343e-01,\n",
              "       -1.69153363e-02, -6.20393336e-01, -5.44419996e-02, -1.23066707e-02,\n",
              "        2.79396683e-01,  6.03230000e-02,  5.06781638e-01,  2.16975346e-01,\n",
              "        2.66066696e-02,  1.90264657e-01,  2.40060017e-01, -1.19239993e-01,\n",
              "        1.42804995e-01, -7.27586672e-02, -3.36391002e-01,  4.77686644e-01,\n",
              "        1.83676556e-01,  1.87385663e-01,  4.95263308e-01, -6.98866621e-02,\n",
              "        3.99003357e-01,  2.18633376e-03,  1.54966712e-02,  3.36750001e-01,\n",
              "       -1.44742668e-01, -2.55860001e-01,  2.48253345e-02,  2.75131613e-01,\n",
              "        1.65019989e-01, -1.39056668e-01, -2.89243367e-02, -1.05090015e-01,\n",
              "       -1.16512597e-01,  1.40509978e-01,  2.33423337e-02,  7.54516646e-02,\n",
              "        1.74187675e-01,  6.41865516e-03, -3.97036672e-01, -8.58667493e-03,\n",
              "        7.83806667e-02,  4.71966565e-02,  5.44969976e-01, -2.08209679e-01,\n",
              "        2.54399925e-02,  3.21856648e-01, -1.39403328e-01,  3.89903337e-01,\n",
              "        2.02209994e-01, -6.30586669e-02, -9.94069949e-02,  1.05084337e-01,\n",
              "       -1.83009997e-01, -5.23063362e-01,  5.17623639e-03,  1.22895680e-01,\n",
              "       -9.51826647e-02,  5.35443313e-02, -9.26116705e-02, -4.39203352e-01,\n",
              "        1.49046332e-01, -9.54676643e-02, -9.04299989e-02, -2.29300007e-01,\n",
              "       -5.94596751e-02, -1.02593340e-02,  2.90306658e-01, -6.39999425e-03,\n",
              "       -2.35627666e-01,  9.90299955e-02, -6.15133345e-03, -8.29399973e-02,\n",
              "        9.26866662e-03, -4.86213326e-01,  1.87822655e-01,  1.81539342e-01,\n",
              "       -3.21833305e-02,  2.10166648e-01,  1.03355013e-01, -1.85959995e-01,\n",
              "       -3.16244692e-01, -5.17173260e-02,  9.50390026e-02,  1.98051035e-01,\n",
              "        1.16646670e-01, -1.64826676e-01, -1.18566662e-01,  1.27171263e-01,\n",
              "       -1.46843329e-01, -3.75334430e-03,  2.98973322e-01, -1.44233406e-02,\n",
              "        1.92996010e-01, -1.45531997e-01, -4.24620003e-01, -2.97146644e-02,\n",
              "       -2.31450334e-01, -2.24512652e-01, -2.50992656e-01,  1.01500660e-01,\n",
              "       -1.99000672e-01,  2.82801360e-01,  2.76983321e-01,  3.29086661e-01,\n",
              "       -1.15316659e-01, -1.90397218e-01,  1.07633276e-02,  1.20399967e-02,\n",
              "       -1.30369008e-01,  1.31508991e-01, -2.58579999e-01, -6.88463226e-02,\n",
              "       -1.43116668e-01,  6.84796646e-02,  3.76696676e-01,  4.85543348e-02,\n",
              "       -1.29900023e-01, -5.33066690e-02,  2.33566999e-01, -3.23296666e-01,\n",
              "        1.07822992e-01, -2.65822679e-01,  9.52566564e-02, -4.20746654e-02,\n",
              "       -1.40229002e-01,  2.06233338e-01, -2.67480072e-02,  3.01397324e-01,\n",
              "       -1.59683332e-01, -1.78421333e-01, -1.73146665e-01,  4.26066630e-02,\n",
              "       -7.50853300e-01, -3.38233300e-02,  3.51533405e-02,  2.34513327e-01,\n",
              "        1.92897335e-01,  4.43999982e-03, -8.27000067e-02,  5.25336683e-01,\n",
              "        1.03860669e-01,  1.57610670e-01,  3.66276652e-01, -1.41938671e-01,\n",
              "        8.21159855e-02, -1.49562672e-01, -2.62010008e-01,  4.38676685e-01,\n",
              "        1.91106677e-01,  1.27871677e-01, -7.42233321e-02, -2.50941008e-01,\n",
              "        2.70033311e-02, -2.23313332e-01, -4.67643976e-01, -1.67421341e-01,\n",
              "       -4.39193398e-02,  5.20754755e-02,  1.02423333e-01, -9.75687280e-02,\n",
              "        1.82556665e+00,  7.70766661e-02,  2.48499990e-01, -2.18153391e-02,\n",
              "        1.13226674e-01,  1.05843335e-01,  7.87753239e-02,  3.33677322e-01,\n",
              "        5.84456623e-02, -8.88233408e-02, -5.05226672e-01,  8.25093314e-02,\n",
              "       -1.11026339e-01,  5.08990102e-02, -1.94546655e-01,  2.75202334e-01,\n",
              "       -3.69192958e-02, -1.18083358e-02,  1.66200045e-02, -4.11780067e-02,\n",
              "        3.08943331e-01, -1.56463340e-01, -1.19336329e-01,  4.76150028e-02,\n",
              "        8.20666701e-02,  5.66379987e-02,  1.54785261e-01,  1.16566718e-02,\n",
              "       -2.27406010e-01,  1.15170471e-01, -3.68243344e-02, -1.37674659e-01,\n",
              "        2.00143337e-01, -4.97883320e-01, -6.02066629e-02,  1.74432382e-01,\n",
              "        8.05773661e-02,  2.39323333e-01, -3.33636642e-01, -1.60808668e-01,\n",
              "       -4.01705652e-01,  1.27119990e-02,  9.87916663e-02,  2.61053354e-01,\n",
              "       -2.98599333e-01, -8.47763345e-02, -3.34369659e-01, -8.06767642e-02,\n",
              "        4.79899943e-02,  8.06966648e-02,  1.97500661e-01, -1.87702343e-01,\n",
              "       -6.08959980e-02,  2.93363303e-01,  3.64064604e-01, -7.70186707e-02,\n",
              "        3.57866675e-01, -4.24546629e-01,  8.47593322e-02, -2.38881692e-01,\n",
              "        1.35931671e-01, -3.91319990e-01, -5.79789989e-02, -3.05293679e-01,\n",
              "        1.79530010e-02,  2.47548655e-01, -3.94083351e-01, -2.19921425e-01,\n",
              "        1.15651667e-01,  3.72622013e-01,  1.06033338e-02, -1.71473324e-01,\n",
              "        5.06153345e-01,  1.82824656e-01,  5.08058667e-02, -1.17700666e-01,\n",
              "       -1.84936666e+00, -8.64703432e-02,  4.55603361e-01, -1.40214011e-01,\n",
              "       -3.42736632e-01, -2.42713332e-01, -2.13476345e-01, -1.99166592e-02,\n",
              "       -3.04399934e-02, -2.19999743e-03, -2.43116662e-01,  1.70535102e-01,\n",
              "       -3.03486675e-01, -2.06215993e-01, -2.86173820e-01, -2.75128335e-01,\n",
              "       -3.48628014e-01, -9.14883316e-02,  2.63273329e-01, -2.27720007e-01,\n",
              "        3.33273321e-01, -3.90589982e-02,  1.28793642e-01,  1.53101325e-01],\n",
              "      dtype=float32)"
            ]
          },
          "metadata": {},
          "execution_count": 29
        }
      ]
    },
    {
      "cell_type": "code",
      "source": [
        "# Elmo"
      ],
      "metadata": {
        "id": "-MSVMYukuXoG"
      },
      "execution_count": null,
      "outputs": []
    },
    {
      "cell_type": "code",
      "source": [
        "!pip install allennlp"
      ],
      "metadata": {
        "colab": {
          "base_uri": "https://localhost:8080/"
        },
        "id": "Fzq2CGGnvCe0",
        "outputId": "872f1d52-1fe1-44ff-a120-8480c0d603c9"
      },
      "execution_count": null,
      "outputs": [
        {
          "output_type": "stream",
          "name": "stdout",
          "text": [
            "Collecting allennlp\n",
            "  Using cached allennlp-2.10.1-py3-none-any.whl (730 kB)\n",
            "Collecting torch<1.13.0,>=1.10.0 (from allennlp)\n",
            "  Downloading torch-1.12.1-cp310-cp310-manylinux1_x86_64.whl (776.3 MB)\n",
            "\u001b[2K     \u001b[90m━━━━━━━━━━━━━━━━━━━━━━━━━━━━━━━━━━━━━━━━\u001b[0m \u001b[32m776.3/776.3 MB\u001b[0m \u001b[31m980.1 kB/s\u001b[0m eta \u001b[36m0:00:00\u001b[0m\n",
            "\u001b[?25hCollecting torchvision<0.14.0,>=0.8.1 (from allennlp)\n",
            "  Downloading torchvision-0.13.1-cp310-cp310-manylinux1_x86_64.whl (19.1 MB)\n",
            "\u001b[2K     \u001b[90m━━━━━━━━━━━━━━━━━━━━━━━━━━━━━━━━━━━━━━━━\u001b[0m \u001b[32m19.1/19.1 MB\u001b[0m \u001b[31m57.5 MB/s\u001b[0m eta \u001b[36m0:00:00\u001b[0m\n",
            "\u001b[?25hCollecting cached-path<1.2.0,>=1.1.3 (from allennlp)\n",
            "  Downloading cached_path-1.1.6-py3-none-any.whl (26 kB)\n",
            "Collecting fairscale==0.4.6 (from allennlp)\n",
            "  Downloading fairscale-0.4.6.tar.gz (248 kB)\n",
            "\u001b[2K     \u001b[90m━━━━━━━━━━━━━━━━━━━━━━━━━━━━━━━━━━━━━━━━\u001b[0m \u001b[32m248.2/248.2 kB\u001b[0m \u001b[31m23.3 MB/s\u001b[0m eta \u001b[36m0:00:00\u001b[0m\n",
            "\u001b[?25h  Installing build dependencies ... \u001b[?25l\u001b[?25hdone\n",
            "  Getting requirements to build wheel ... \u001b[?25l\u001b[?25hdone\n",
            "  Installing backend dependencies ... \u001b[?25l\u001b[?25hdone\n",
            "  Preparing metadata (pyproject.toml) ... \u001b[?25l\u001b[?25hdone\n",
            "Requirement already satisfied: nltk>=3.6.5 in /usr/local/lib/python3.10/dist-packages (from allennlp) (3.8.1)\n",
            "Collecting spacy<3.4,>=2.1.0 (from allennlp)\n",
            "  Downloading spacy-3.3.3-cp310-cp310-manylinux_2_17_x86_64.manylinux2014_x86_64.whl (6.3 MB)\n",
            "\u001b[2K     \u001b[90m━━━━━━━━━━━━━━━━━━━━━━━━━━━━━━━━━━━━━━━━\u001b[0m \u001b[32m6.3/6.3 MB\u001b[0m \u001b[31m1.0 MB/s\u001b[0m eta \u001b[36m0:00:00\u001b[0m\n",
            "\u001b[?25hRequirement already satisfied: numpy>=1.21.4 in /usr/local/lib/python3.10/dist-packages (from allennlp) (1.23.5)\n",
            "Collecting tensorboardX>=1.2 (from allennlp)\n",
            "  Downloading tensorboardX-2.6.2.2-py2.py3-none-any.whl (101 kB)\n",
            "\u001b[2K     \u001b[90m━━━━━━━━━━━━━━━━━━━━━━━━━━━━━━━━━━━━━━━━\u001b[0m \u001b[32m101.7/101.7 kB\u001b[0m \u001b[31m12.4 MB/s\u001b[0m eta \u001b[36m0:00:00\u001b[0m\n",
            "\u001b[?25hRequirement already satisfied: requests>=2.28 in /usr/local/lib/python3.10/dist-packages (from allennlp) (2.31.0)\n",
            "Requirement already satisfied: tqdm>=4.62 in /usr/local/lib/python3.10/dist-packages (from allennlp) (4.66.1)\n",
            "Requirement already satisfied: h5py>=3.6.0 in /usr/local/lib/python3.10/dist-packages (from allennlp) (3.9.0)\n",
            "Requirement already satisfied: scikit-learn>=1.0.1 in /usr/local/lib/python3.10/dist-packages (from allennlp) (1.2.2)\n",
            "Requirement already satisfied: scipy>=1.7.3 in /usr/local/lib/python3.10/dist-packages (from allennlp) (1.11.3)\n",
            "Requirement already satisfied: pytest>=6.2.5 in /usr/local/lib/python3.10/dist-packages (from allennlp) (7.4.3)\n",
            "Collecting transformers<4.21,>=4.1 (from allennlp)\n",
            "  Downloading transformers-4.20.1-py3-none-any.whl (4.4 MB)\n",
            "\u001b[2K     \u001b[90m━━━━━━━━━━━━━━━━━━━━━━━━━━━━━━━━━━━━━━━━\u001b[0m \u001b[32m4.4/4.4 MB\u001b[0m \u001b[31m45.1 MB/s\u001b[0m eta \u001b[36m0:00:00\u001b[0m\n",
            "\u001b[?25hCollecting sentencepiece>=0.1.96 (from allennlp)\n",
            "  Downloading sentencepiece-0.1.99-cp310-cp310-manylinux_2_17_x86_64.manylinux2014_x86_64.whl (1.3 MB)\n",
            "\u001b[2K     \u001b[90m━━━━━━━━━━━━━━━━━━━━━━━━━━━━━━━━━━━━━━━━\u001b[0m \u001b[32m1.3/1.3 MB\u001b[0m \u001b[31m70.2 MB/s\u001b[0m eta \u001b[36m0:00:00\u001b[0m\n",
            "\u001b[?25hCollecting filelock<3.8,>=3.3 (from allennlp)\n",
            "  Downloading filelock-3.7.1-py3-none-any.whl (10 kB)\n",
            "Collecting lmdb>=1.2.1 (from allennlp)\n",
            "  Downloading lmdb-1.4.1-cp310-cp310-manylinux_2_17_x86_64.manylinux2014_x86_64.whl (299 kB)\n",
            "\u001b[2K     \u001b[90m━━━━━━━━━━━━━━━━━━━━━━━━━━━━━━━━━━━━━━━━\u001b[0m \u001b[32m299.2/299.2 kB\u001b[0m \u001b[31m33.4 MB/s\u001b[0m eta \u001b[36m0:00:00\u001b[0m\n",
            "\u001b[?25hRequirement already satisfied: more-itertools>=8.12.0 in /usr/local/lib/python3.10/dist-packages (from allennlp) (10.1.0)\n",
            "Collecting termcolor==1.1.0 (from allennlp)\n",
            "  Downloading termcolor-1.1.0.tar.gz (3.9 kB)\n",
            "  Preparing metadata (setup.py) ... \u001b[?25l\u001b[?25hdone\n",
            "Collecting wandb<0.13.0,>=0.10.0 (from allennlp)\n",
            "  Downloading wandb-0.12.21-py2.py3-none-any.whl (1.8 MB)\n",
            "\u001b[2K     \u001b[90m━━━━━━━━━━━━━━━━━━━━━━━━━━━━━━━━━━━━━━━━\u001b[0m \u001b[32m1.8/1.8 MB\u001b[0m \u001b[31m72.0 MB/s\u001b[0m eta \u001b[36m0:00:00\u001b[0m\n",
            "\u001b[?25hCollecting huggingface-hub>=0.0.16 (from allennlp)\n",
            "  Downloading huggingface_hub-0.18.0-py3-none-any.whl (301 kB)\n",
            "\u001b[2K     \u001b[90m━━━━━━━━━━━━━━━━━━━━━━━━━━━━━━━━━━━━━━━━\u001b[0m \u001b[32m302.0/302.0 kB\u001b[0m \u001b[31m32.1 MB/s\u001b[0m eta \u001b[36m0:00:00\u001b[0m\n",
            "\u001b[?25hCollecting dill>=0.3.4 (from allennlp)\n",
            "  Downloading dill-0.3.7-py3-none-any.whl (115 kB)\n",
            "\u001b[2K     \u001b[90m━━━━━━━━━━━━━━━━━━━━━━━━━━━━━━━━━━━━━━━━\u001b[0m \u001b[32m115.3/115.3 kB\u001b[0m \u001b[31m14.6 MB/s\u001b[0m eta \u001b[36m0:00:00\u001b[0m\n",
            "\u001b[?25hCollecting base58>=2.1.1 (from allennlp)\n",
            "  Downloading base58-2.1.1-py3-none-any.whl (5.6 kB)\n",
            "Collecting sacremoses (from allennlp)\n",
            "  Downloading sacremoses-0.1.1-py3-none-any.whl (897 kB)\n",
            "\u001b[2K     \u001b[90m━━━━━━━━━━━━━━━━━━━━━━━━━━━━━━━━━━━━━━━━\u001b[0m \u001b[32m897.5/897.5 kB\u001b[0m \u001b[31m61.1 MB/s\u001b[0m eta \u001b[36m0:00:00\u001b[0m\n",
            "\u001b[?25hRequirement already satisfied: typer>=0.4.1 in /usr/local/lib/python3.10/dist-packages (from allennlp) (0.9.0)\n",
            "Requirement already satisfied: protobuf<4.0.0,>=3.12.0 in /usr/local/lib/python3.10/dist-packages (from allennlp) (3.20.3)\n",
            "Requirement already satisfied: traitlets>5.1.1 in /usr/local/lib/python3.10/dist-packages (from allennlp) (5.7.1)\n",
            "Collecting jsonnet>=0.10.0 (from allennlp)\n",
            "  Downloading jsonnet-0.20.0.tar.gz (594 kB)\n",
            "\u001b[2K     \u001b[90m━━━━━━━━━━━━━━━━━━━━━━━━━━━━━━━━━━━━━━━━\u001b[0m \u001b[32m594.2/594.2 kB\u001b[0m \u001b[31m44.9 MB/s\u001b[0m eta \u001b[36m0:00:00\u001b[0m\n",
            "\u001b[?25h  Preparing metadata (setup.py) ... \u001b[?25l\u001b[?25hdone\n",
            "Collecting rich<13.0,>=12.1 (from cached-path<1.2.0,>=1.1.3->allennlp)\n",
            "  Downloading rich-12.6.0-py3-none-any.whl (237 kB)\n",
            "\u001b[2K     \u001b[90m━━━━━━━━━━━━━━━━━━━━━━━━━━━━━━━━━━━━━━━━\u001b[0m \u001b[32m237.5/237.5 kB\u001b[0m \u001b[31m23.8 MB/s\u001b[0m eta \u001b[36m0:00:00\u001b[0m\n",
            "\u001b[?25hCollecting boto3<2.0,>=1.0 (from cached-path<1.2.0,>=1.1.3->allennlp)\n",
            "  Downloading boto3-1.28.78-py3-none-any.whl (135 kB)\n",
            "\u001b[2K     \u001b[90m━━━━━━━━━━━━━━━━━━━━━━━━━━━━━━━━━━━━━━━━\u001b[0m \u001b[32m135.8/135.8 kB\u001b[0m \u001b[31m970.9 kB/s\u001b[0m eta \u001b[36m0:00:00\u001b[0m\n",
            "\u001b[?25hRequirement already satisfied: google-cloud-storage<3.0,>=1.32.0 in /usr/local/lib/python3.10/dist-packages (from cached-path<1.2.0,>=1.1.3->allennlp) (2.8.0)\n",
            "Collecting huggingface-hub>=0.0.16 (from allennlp)\n",
            "  Downloading huggingface_hub-0.10.1-py3-none-any.whl (163 kB)\n",
            "\u001b[2K     \u001b[90m━━━━━━━━━━━━━━━━━━━━━━━━━━━━━━━━━━━━━━━━\u001b[0m \u001b[32m163.5/163.5 kB\u001b[0m \u001b[31m19.3 MB/s\u001b[0m eta \u001b[36m0:00:00\u001b[0m\n",
            "\u001b[?25hRequirement already satisfied: pyyaml>=5.1 in /usr/local/lib/python3.10/dist-packages (from huggingface-hub>=0.0.16->allennlp) (6.0.1)\n",
            "Requirement already satisfied: typing-extensions>=3.7.4.3 in /usr/local/lib/python3.10/dist-packages (from huggingface-hub>=0.0.16->allennlp) (4.5.0)\n",
            "Requirement already satisfied: packaging>=20.9 in /usr/local/lib/python3.10/dist-packages (from huggingface-hub>=0.0.16->allennlp) (23.2)\n",
            "Requirement already satisfied: click in /usr/local/lib/python3.10/dist-packages (from nltk>=3.6.5->allennlp) (8.1.7)\n",
            "Requirement already satisfied: joblib in /usr/local/lib/python3.10/dist-packages (from nltk>=3.6.5->allennlp) (1.3.2)\n",
            "Requirement already satisfied: regex>=2021.8.3 in /usr/local/lib/python3.10/dist-packages (from nltk>=3.6.5->allennlp) (2023.6.3)\n",
            "Requirement already satisfied: iniconfig in /usr/local/lib/python3.10/dist-packages (from pytest>=6.2.5->allennlp) (2.0.0)\n",
            "Requirement already satisfied: pluggy<2.0,>=0.12 in /usr/local/lib/python3.10/dist-packages (from pytest>=6.2.5->allennlp) (1.3.0)\n",
            "Requirement already satisfied: exceptiongroup>=1.0.0rc8 in /usr/local/lib/python3.10/dist-packages (from pytest>=6.2.5->allennlp) (1.1.3)\n",
            "Requirement already satisfied: tomli>=1.0.0 in /usr/local/lib/python3.10/dist-packages (from pytest>=6.2.5->allennlp) (2.0.1)\n",
            "Requirement already satisfied: charset-normalizer<4,>=2 in /usr/local/lib/python3.10/dist-packages (from requests>=2.28->allennlp) (3.3.1)\n",
            "Requirement already satisfied: idna<4,>=2.5 in /usr/local/lib/python3.10/dist-packages (from requests>=2.28->allennlp) (3.4)\n",
            "Requirement already satisfied: urllib3<3,>=1.21.1 in /usr/local/lib/python3.10/dist-packages (from requests>=2.28->allennlp) (2.0.7)\n",
            "Requirement already satisfied: certifi>=2017.4.17 in /usr/local/lib/python3.10/dist-packages (from requests>=2.28->allennlp) (2023.7.22)\n",
            "Requirement already satisfied: threadpoolctl>=2.0.0 in /usr/local/lib/python3.10/dist-packages (from scikit-learn>=1.0.1->allennlp) (3.2.0)\n",
            "Requirement already satisfied: spacy-legacy<3.1.0,>=3.0.9 in /usr/local/lib/python3.10/dist-packages (from spacy<3.4,>=2.1.0->allennlp) (3.0.12)\n",
            "Requirement already satisfied: spacy-loggers<2.0.0,>=1.0.0 in /usr/local/lib/python3.10/dist-packages (from spacy<3.4,>=2.1.0->allennlp) (1.0.5)\n",
            "Requirement already satisfied: murmurhash<1.1.0,>=0.28.0 in /usr/local/lib/python3.10/dist-packages (from spacy<3.4,>=2.1.0->allennlp) (1.0.10)\n",
            "Requirement already satisfied: cymem<2.1.0,>=2.0.2 in /usr/local/lib/python3.10/dist-packages (from spacy<3.4,>=2.1.0->allennlp) (2.0.8)\n",
            "Requirement already satisfied: preshed<3.1.0,>=3.0.2 in /usr/local/lib/python3.10/dist-packages (from spacy<3.4,>=2.1.0->allennlp) (3.0.9)\n",
            "Collecting thinc<8.1.0,>=8.0.14 (from spacy<3.4,>=2.1.0->allennlp)\n",
            "  Downloading thinc-8.0.17-cp310-cp310-manylinux_2_17_x86_64.manylinux2014_x86_64.whl (659 kB)\n",
            "\u001b[2K     \u001b[90m━━━━━━━━━━━━━━━━━━━━━━━━━━━━━━━━━━━━━━━━\u001b[0m \u001b[32m659.5/659.5 kB\u001b[0m \u001b[31m57.8 MB/s\u001b[0m eta \u001b[36m0:00:00\u001b[0m\n",
            "\u001b[?25hRequirement already satisfied: blis<0.8.0,>=0.4.0 in /usr/local/lib/python3.10/dist-packages (from spacy<3.4,>=2.1.0->allennlp) (0.7.11)\n",
            "Collecting wasabi<1.1.0,>=0.9.1 (from spacy<3.4,>=2.1.0->allennlp)\n",
            "  Downloading wasabi-0.10.1-py3-none-any.whl (26 kB)\n",
            "Requirement already satisfied: srsly<3.0.0,>=2.4.3 in /usr/local/lib/python3.10/dist-packages (from spacy<3.4,>=2.1.0->allennlp) (2.4.8)\n",
            "Requirement already satisfied: catalogue<2.1.0,>=2.0.6 in /usr/local/lib/python3.10/dist-packages (from spacy<3.4,>=2.1.0->allennlp) (2.0.10)\n",
            "Collecting typer>=0.4.1 (from allennlp)\n",
            "  Downloading typer-0.4.2-py3-none-any.whl (27 kB)\n",
            "Requirement already satisfied: pathy>=0.3.5 in /usr/local/lib/python3.10/dist-packages (from spacy<3.4,>=2.1.0->allennlp) (0.10.3)\n",
            "Requirement already satisfied: smart-open<7.0.0,>=5.2.1 in /usr/local/lib/python3.10/dist-packages (from spacy<3.4,>=2.1.0->allennlp) (6.4.0)\n",
            "Collecting pydantic!=1.8,!=1.8.1,<1.9.0,>=1.7.4 (from spacy<3.4,>=2.1.0->allennlp)\n",
            "  Downloading pydantic-1.8.2-py3-none-any.whl (126 kB)\n",
            "\u001b[2K     \u001b[90m━━━━━━━━━━━━━━━━━━━━━━━━━━━━━━━━━━━━━━━━\u001b[0m \u001b[32m126.0/126.0 kB\u001b[0m \u001b[31m14.4 MB/s\u001b[0m eta \u001b[36m0:00:00\u001b[0m\n",
            "\u001b[?25hRequirement already satisfied: jinja2 in /usr/local/lib/python3.10/dist-packages (from spacy<3.4,>=2.1.0->allennlp) (3.1.2)\n",
            "Requirement already satisfied: setuptools in /usr/local/lib/python3.10/dist-packages (from spacy<3.4,>=2.1.0->allennlp) (67.7.2)\n",
            "Requirement already satisfied: langcodes<4.0.0,>=3.2.0 in /usr/local/lib/python3.10/dist-packages (from spacy<3.4,>=2.1.0->allennlp) (3.3.0)\n",
            "Requirement already satisfied: pillow!=8.3.*,>=5.3.0 in /usr/local/lib/python3.10/dist-packages (from torchvision<0.14.0,>=0.8.1->allennlp) (9.4.0)\n",
            "Collecting tokenizers!=0.11.3,<0.13,>=0.11.1 (from transformers<4.21,>=4.1->allennlp)\n",
            "  Downloading tokenizers-0.12.1-cp310-cp310-manylinux_2_12_x86_64.manylinux2010_x86_64.whl (6.6 MB)\n",
            "\u001b[2K     \u001b[90m━━━━━━━━━━━━━━━━━━━━━━━━━━━━━━━━━━━━━━━━\u001b[0m \u001b[32m6.6/6.6 MB\u001b[0m \u001b[31m53.8 MB/s\u001b[0m eta \u001b[36m0:00:00\u001b[0m\n",
            "\u001b[?25hCollecting GitPython>=1.0.0 (from wandb<0.13.0,>=0.10.0->allennlp)\n",
            "  Downloading GitPython-3.1.40-py3-none-any.whl (190 kB)\n",
            "\u001b[2K     \u001b[90m━━━━━━━━━━━━━━━━━━━━━━━━━━━━━━━━━━━━━━━━\u001b[0m \u001b[32m190.6/190.6 kB\u001b[0m \u001b[31m20.1 MB/s\u001b[0m eta \u001b[36m0:00:00\u001b[0m\n",
            "\u001b[?25hRequirement already satisfied: promise<3,>=2.0 in /usr/local/lib/python3.10/dist-packages (from wandb<0.13.0,>=0.10.0->allennlp) (2.3)\n",
            "Collecting shortuuid>=0.5.0 (from wandb<0.13.0,>=0.10.0->allennlp)\n",
            "  Downloading shortuuid-1.0.11-py3-none-any.whl (10 kB)\n",
            "Requirement already satisfied: psutil>=5.0.0 in /usr/local/lib/python3.10/dist-packages (from wandb<0.13.0,>=0.10.0->allennlp) (5.9.5)\n",
            "Collecting sentry-sdk>=1.0.0 (from wandb<0.13.0,>=0.10.0->allennlp)\n",
            "  Downloading sentry_sdk-1.34.0-py2.py3-none-any.whl (243 kB)\n",
            "\u001b[2K     \u001b[90m━━━━━━━━━━━━━━━━━━━━━━━━━━━━━━━━━━━━━━━━\u001b[0m \u001b[32m243.9/243.9 kB\u001b[0m \u001b[31m21.5 MB/s\u001b[0m eta \u001b[36m0:00:00\u001b[0m\n",
            "\u001b[?25hRequirement already satisfied: six>=1.13.0 in /usr/local/lib/python3.10/dist-packages (from wandb<0.13.0,>=0.10.0->allennlp) (1.16.0)\n",
            "Collecting docker-pycreds>=0.4.0 (from wandb<0.13.0,>=0.10.0->allennlp)\n",
            "  Downloading docker_pycreds-0.4.0-py2.py3-none-any.whl (9.0 kB)\n",
            "Collecting pathtools (from wandb<0.13.0,>=0.10.0->allennlp)\n",
            "  Downloading pathtools-0.1.2.tar.gz (11 kB)\n",
            "  Preparing metadata (setup.py) ... \u001b[?25l\u001b[?25hdone\n",
            "Collecting setproctitle (from wandb<0.13.0,>=0.10.0->allennlp)\n",
            "  Downloading setproctitle-1.3.3-cp310-cp310-manylinux_2_5_x86_64.manylinux1_x86_64.manylinux_2_17_x86_64.manylinux2014_x86_64.whl (30 kB)\n",
            "Collecting botocore<1.32.0,>=1.31.78 (from boto3<2.0,>=1.0->cached-path<1.2.0,>=1.1.3->allennlp)\n",
            "  Downloading botocore-1.31.78-py3-none-any.whl (11.3 MB)\n",
            "\u001b[2K     \u001b[90m━━━━━━━━━━━━━━━━━━━━━━━━━━━━━━━━━━━━━━━━\u001b[0m \u001b[32m11.3/11.3 MB\u001b[0m \u001b[31m99.0 MB/s\u001b[0m eta \u001b[36m0:00:00\u001b[0m\n",
            "\u001b[?25hCollecting jmespath<2.0.0,>=0.7.1 (from boto3<2.0,>=1.0->cached-path<1.2.0,>=1.1.3->allennlp)\n",
            "  Downloading jmespath-1.0.1-py3-none-any.whl (20 kB)\n",
            "Collecting s3transfer<0.8.0,>=0.7.0 (from boto3<2.0,>=1.0->cached-path<1.2.0,>=1.1.3->allennlp)\n",
            "  Downloading s3transfer-0.7.0-py3-none-any.whl (79 kB)\n",
            "\u001b[2K     \u001b[90m━━━━━━━━━━━━━━━━━━━━━━━━━━━━━━━━━━━━━━━━\u001b[0m \u001b[32m79.8/79.8 kB\u001b[0m \u001b[31m8.9 MB/s\u001b[0m eta \u001b[36m0:00:00\u001b[0m\n",
            "\u001b[?25hCollecting gitdb<5,>=4.0.1 (from GitPython>=1.0.0->wandb<0.13.0,>=0.10.0->allennlp)\n",
            "  Downloading gitdb-4.0.11-py3-none-any.whl (62 kB)\n",
            "\u001b[2K     \u001b[90m━━━━━━━━━━━━━━━━━━━━━━━━━━━━━━━━━━━━━━━━\u001b[0m \u001b[32m62.7/62.7 kB\u001b[0m \u001b[31m7.1 MB/s\u001b[0m eta \u001b[36m0:00:00\u001b[0m\n",
            "\u001b[?25hRequirement already satisfied: google-auth<3.0dev,>=1.25.0 in /usr/local/lib/python3.10/dist-packages (from google-cloud-storage<3.0,>=1.32.0->cached-path<1.2.0,>=1.1.3->allennlp) (2.17.3)\n",
            "Requirement already satisfied: google-api-core!=2.0.*,!=2.1.*,!=2.2.*,!=2.3.0,<3.0.0dev,>=1.31.5 in /usr/local/lib/python3.10/dist-packages (from google-cloud-storage<3.0,>=1.32.0->cached-path<1.2.0,>=1.1.3->allennlp) (2.11.1)\n",
            "Requirement already satisfied: google-cloud-core<3.0dev,>=2.3.0 in /usr/local/lib/python3.10/dist-packages (from google-cloud-storage<3.0,>=1.32.0->cached-path<1.2.0,>=1.1.3->allennlp) (2.3.3)\n",
            "Requirement already satisfied: google-resumable-media>=2.3.2 in /usr/local/lib/python3.10/dist-packages (from google-cloud-storage<3.0,>=1.32.0->cached-path<1.2.0,>=1.1.3->allennlp) (2.6.0)\n",
            "Collecting commonmark<0.10.0,>=0.9.0 (from rich<13.0,>=12.1->cached-path<1.2.0,>=1.1.3->allennlp)\n",
            "  Downloading commonmark-0.9.1-py2.py3-none-any.whl (51 kB)\n",
            "\u001b[2K     \u001b[90m━━━━━━━━━━━━━━━━━━━━━━━━━━━━━━━━━━━━━━━━\u001b[0m \u001b[32m51.1/51.1 kB\u001b[0m \u001b[31m6.6 MB/s\u001b[0m eta \u001b[36m0:00:00\u001b[0m\n",
            "\u001b[?25hRequirement already satisfied: pygments<3.0.0,>=2.6.0 in /usr/local/lib/python3.10/dist-packages (from rich<13.0,>=12.1->cached-path<1.2.0,>=1.1.3->allennlp) (2.16.1)\n",
            "Requirement already satisfied: MarkupSafe>=2.0 in /usr/local/lib/python3.10/dist-packages (from jinja2->spacy<3.4,>=2.1.0->allennlp) (2.1.3)\n",
            "Requirement already satisfied: python-dateutil<3.0.0,>=2.1 in /usr/local/lib/python3.10/dist-packages (from botocore<1.32.0,>=1.31.78->boto3<2.0,>=1.0->cached-path<1.2.0,>=1.1.3->allennlp) (2.8.2)\n",
            "Collecting smmap<6,>=3.0.1 (from gitdb<5,>=4.0.1->GitPython>=1.0.0->wandb<0.13.0,>=0.10.0->allennlp)\n",
            "  Downloading smmap-5.0.1-py3-none-any.whl (24 kB)\n",
            "Requirement already satisfied: googleapis-common-protos<2.0.dev0,>=1.56.2 in /usr/local/lib/python3.10/dist-packages (from google-api-core!=2.0.*,!=2.1.*,!=2.2.*,!=2.3.0,<3.0.0dev,>=1.31.5->google-cloud-storage<3.0,>=1.32.0->cached-path<1.2.0,>=1.1.3->allennlp) (1.61.0)\n",
            "Requirement already satisfied: cachetools<6.0,>=2.0.0 in /usr/local/lib/python3.10/dist-packages (from google-auth<3.0dev,>=1.25.0->google-cloud-storage<3.0,>=1.32.0->cached-path<1.2.0,>=1.1.3->allennlp) (5.3.2)\n",
            "Requirement already satisfied: pyasn1-modules>=0.2.1 in /usr/local/lib/python3.10/dist-packages (from google-auth<3.0dev,>=1.25.0->google-cloud-storage<3.0,>=1.32.0->cached-path<1.2.0,>=1.1.3->allennlp) (0.3.0)\n",
            "Requirement already satisfied: rsa<5,>=3.1.4 in /usr/local/lib/python3.10/dist-packages (from google-auth<3.0dev,>=1.25.0->google-cloud-storage<3.0,>=1.32.0->cached-path<1.2.0,>=1.1.3->allennlp) (4.9)\n",
            "Requirement already satisfied: google-crc32c<2.0dev,>=1.0 in /usr/local/lib/python3.10/dist-packages (from google-resumable-media>=2.3.2->google-cloud-storage<3.0,>=1.32.0->cached-path<1.2.0,>=1.1.3->allennlp) (1.5.0)\n",
            "Requirement already satisfied: pyasn1<0.6.0,>=0.4.6 in /usr/local/lib/python3.10/dist-packages (from pyasn1-modules>=0.2.1->google-auth<3.0dev,>=1.25.0->google-cloud-storage<3.0,>=1.32.0->cached-path<1.2.0,>=1.1.3->allennlp) (0.5.0)\n",
            "Building wheels for collected packages: fairscale, termcolor, jsonnet, pathtools\n",
            "  Building wheel for fairscale (pyproject.toml) ... \u001b[?25l\u001b[?25hdone\n",
            "  Created wheel for fairscale: filename=fairscale-0.4.6-py3-none-any.whl size=307221 sha256=92fe858db5b86116f9133f50f4eb250e5fd2d88719cdf9a7702dcc1cb9482fd9\n",
            "  Stored in directory: /root/.cache/pip/wheels/a1/58/3d/e114952ab4a8f31eb9dae230658450afff986b211a5b1f2256\n",
            "  Building wheel for termcolor (setup.py) ... \u001b[?25l\u001b[?25hdone\n",
            "  Created wheel for termcolor: filename=termcolor-1.1.0-py3-none-any.whl size=4832 sha256=c383b61d51f112f9679e17b98939f03f98723cde1b0beef5c379094b8111f81e\n",
            "  Stored in directory: /root/.cache/pip/wheels/a1/49/46/1b13a65d8da11238af9616b00fdde6d45b0f95d9291bac8452\n",
            "  Building wheel for jsonnet (setup.py) ... \u001b[?25l\u001b[?25hdone\n",
            "  Created wheel for jsonnet: filename=jsonnet-0.20.0-cp310-cp310-linux_x86_64.whl size=6406863 sha256=19af6d208fd0531d37b1645c4873d50c4cd9fa1482c09fcb217082ef3aa6ccb9\n",
            "  Stored in directory: /root/.cache/pip/wheels/63/0d/6b/5467dd1db9332ba4bd5cf4153e2870c5f89bb4db473d989cc2\n",
            "  Building wheel for pathtools (setup.py) ... \u001b[?25l\u001b[?25hdone\n",
            "  Created wheel for pathtools: filename=pathtools-0.1.2-py3-none-any.whl size=8791 sha256=c94f9ad9f8e9fc036d9d189ba928a891d4475c93ec0ee5952d73ee6f3526638b\n",
            "  Stored in directory: /root/.cache/pip/wheels/e7/f3/22/152153d6eb222ee7a56ff8617d80ee5207207a8c00a7aab794\n",
            "Successfully built fairscale termcolor jsonnet pathtools\n",
            "Installing collected packages: wasabi, tokenizers, termcolor, sentencepiece, pathtools, lmdb, jsonnet, commonmark, typer, torch, tensorboardX, smmap, shortuuid, setproctitle, sentry-sdk, sacremoses, rich, pydantic, jmespath, filelock, docker-pycreds, dill, base58, torchvision, thinc, huggingface-hub, gitdb, fairscale, botocore, transformers, spacy, s3transfer, GitPython, wandb, boto3, cached-path, allennlp\n",
            "  Attempting uninstall: wasabi\n",
            "    Found existing installation: wasabi 1.1.2\n",
            "    Uninstalling wasabi-1.1.2:\n",
            "      Successfully uninstalled wasabi-1.1.2\n",
            "  Attempting uninstall: termcolor\n",
            "    Found existing installation: termcolor 2.3.0\n",
            "    Uninstalling termcolor-2.3.0:\n",
            "      Successfully uninstalled termcolor-2.3.0\n",
            "  Attempting uninstall: typer\n",
            "    Found existing installation: typer 0.9.0\n",
            "    Uninstalling typer-0.9.0:\n",
            "      Successfully uninstalled typer-0.9.0\n",
            "  Attempting uninstall: torch\n",
            "    Found existing installation: torch 2.1.0+cu118\n",
            "    Uninstalling torch-2.1.0+cu118:\n",
            "      Successfully uninstalled torch-2.1.0+cu118\n",
            "  Attempting uninstall: rich\n",
            "    Found existing installation: rich 13.6.0\n",
            "    Uninstalling rich-13.6.0:\n",
            "      Successfully uninstalled rich-13.6.0\n",
            "  Attempting uninstall: pydantic\n",
            "    Found existing installation: pydantic 1.10.13\n",
            "    Uninstalling pydantic-1.10.13:\n",
            "      Successfully uninstalled pydantic-1.10.13\n",
            "  Attempting uninstall: filelock\n",
            "    Found existing installation: filelock 3.12.4\n",
            "    Uninstalling filelock-3.12.4:\n",
            "      Successfully uninstalled filelock-3.12.4\n",
            "  Attempting uninstall: torchvision\n",
            "    Found existing installation: torchvision 0.16.0+cu118\n",
            "    Uninstalling torchvision-0.16.0+cu118:\n",
            "      Successfully uninstalled torchvision-0.16.0+cu118\n",
            "  Attempting uninstall: thinc\n",
            "    Found existing installation: thinc 8.1.12\n",
            "    Uninstalling thinc-8.1.12:\n",
            "      Successfully uninstalled thinc-8.1.12\n",
            "  Attempting uninstall: spacy\n",
            "    Found existing installation: spacy 3.6.1\n",
            "    Uninstalling spacy-3.6.1:\n",
            "      Successfully uninstalled spacy-3.6.1\n",
            "\u001b[31mERROR: pip's dependency resolver does not currently take into account all the packages that are installed. This behaviour is the source of the following dependency conflicts.\n",
            "lida 0.0.10 requires fastapi, which is not installed.\n",
            "lida 0.0.10 requires kaleido, which is not installed.\n",
            "lida 0.0.10 requires python-multipart, which is not installed.\n",
            "lida 0.0.10 requires uvicorn, which is not installed.\n",
            "llmx 0.0.15a0 requires cohere, which is not installed.\n",
            "llmx 0.0.15a0 requires openai, which is not installed.\n",
            "llmx 0.0.15a0 requires tiktoken, which is not installed.\n",
            "en-core-web-sm 3.6.0 requires spacy<3.7.0,>=3.6.0, but you have spacy 3.3.3 which is incompatible.\n",
            "inflect 7.0.0 requires pydantic>=1.9.1, but you have pydantic 1.8.2 which is incompatible.\n",
            "torchaudio 2.1.0+cu118 requires torch==2.1.0, but you have torch 1.12.1 which is incompatible.\n",
            "torchdata 0.7.0 requires torch==2.1.0, but you have torch 1.12.1 which is incompatible.\n",
            "torchtext 0.16.0 requires torch==2.1.0, but you have torch 1.12.1 which is incompatible.\u001b[0m\u001b[31m\n",
            "\u001b[0mSuccessfully installed GitPython-3.1.40 allennlp-2.10.1 base58-2.1.1 boto3-1.28.78 botocore-1.31.78 cached-path-1.1.6 commonmark-0.9.1 dill-0.3.7 docker-pycreds-0.4.0 fairscale-0.4.6 filelock-3.7.1 gitdb-4.0.11 huggingface-hub-0.10.1 jmespath-1.0.1 jsonnet-0.20.0 lmdb-1.4.1 pathtools-0.1.2 pydantic-1.8.2 rich-12.6.0 s3transfer-0.7.0 sacremoses-0.1.1 sentencepiece-0.1.99 sentry-sdk-1.34.0 setproctitle-1.3.3 shortuuid-1.0.11 smmap-5.0.1 spacy-3.3.3 tensorboardX-2.6.2.2 termcolor-1.1.0 thinc-8.0.17 tokenizers-0.12.1 torch-1.12.1 torchvision-0.13.1 transformers-4.20.1 typer-0.4.2 wandb-0.12.21 wasabi-0.10.1\n"
          ]
        }
      ]
    },
    {
      "cell_type": "code",
      "source": [
        "import allennlp\n",
        "from allennlp.modules.elmo import Elmo, batch_to_ids"
      ],
      "metadata": {
        "id": "puDP-PKyvEcM"
      },
      "execution_count": null,
      "outputs": []
    },
    {
      "cell_type": "code",
      "source": [
        "options_file = \"https://s3-us-west-2.amazonaws.com/allennlp/models/elmo/2x4096_512_2048cnn_2xhighway/elmo_2x4096_512_2048cnn_2xhighway_options.json\"\n",
        "weight_file = \"https://s3-us-west-2.amazonaws.com/allennlp/models/elmo/2x4096_512_2048cnn_2xhighway/elmo_2x4096_512_2048cnn_2xhighway_weights.hdf5\""
      ],
      "metadata": {
        "id": "xlnrzP3cvJdT"
      },
      "execution_count": null,
      "outputs": []
    },
    {
      "cell_type": "code",
      "source": [
        "elmo = Elmo(options_file, weight_file, 1, dropout=0)"
      ],
      "metadata": {
        "colab": {
          "base_uri": "https://localhost:8080/",
          "height": 51,
          "referenced_widgets": [
            "ccd0403347254d1ea5420aa6f65a2ea8",
            "f26c4b61f9f240fab065c53c6046b0e1",
            "f09fe76eb1c7435d94172ab48d7d3cf5",
            "e9654438249f4e05b2c1fe54d7b34eac"
          ]
        },
        "id": "kP_wvdY-xL3n",
        "outputId": "43e5c1fb-e4c7-4adf-b8d6-d28c00af25dd"
      },
      "execution_count": null,
      "outputs": [
        {
          "output_type": "display_data",
          "data": {
            "text/plain": [
              "Output()"
            ],
            "application/vnd.jupyter.widget-view+json": {
              "version_major": 2,
              "version_minor": 0,
              "model_id": "ccd0403347254d1ea5420aa6f65a2ea8"
            }
          },
          "metadata": {}
        },
        {
          "output_type": "display_data",
          "data": {
            "text/plain": [],
            "text/html": [
              "<pre style=\"white-space:pre;overflow-x:auto;line-height:normal;font-family:Menlo,'DejaVu Sans Mono',consolas,'Courier New',monospace\"></pre>\n"
            ]
          },
          "metadata": {}
        },
        {
          "output_type": "display_data",
          "data": {
            "text/plain": [
              "\n"
            ],
            "text/html": [
              "<pre style=\"white-space:pre;overflow-x:auto;line-height:normal;font-family:Menlo,'DejaVu Sans Mono',consolas,'Courier New',monospace\">\n",
              "</pre>\n"
            ]
          },
          "metadata": {}
        },
        {
          "output_type": "display_data",
          "data": {
            "text/plain": [
              "Output()"
            ],
            "application/vnd.jupyter.widget-view+json": {
              "version_major": 2,
              "version_minor": 0,
              "model_id": "f09fe76eb1c7435d94172ab48d7d3cf5"
            }
          },
          "metadata": {}
        },
        {
          "output_type": "display_data",
          "data": {
            "text/plain": [],
            "text/html": [
              "<pre style=\"white-space:pre;overflow-x:auto;line-height:normal;font-family:Menlo,'DejaVu Sans Mono',consolas,'Courier New',monospace\"></pre>\n"
            ]
          },
          "metadata": {}
        },
        {
          "output_type": "display_data",
          "data": {
            "text/plain": [
              "\n"
            ],
            "text/html": [
              "<pre style=\"white-space:pre;overflow-x:auto;line-height:normal;font-family:Menlo,'DejaVu Sans Mono',consolas,'Courier New',monospace\">\n",
              "</pre>\n"
            ]
          },
          "metadata": {}
        }
      ]
    },
    {
      "cell_type": "code",
      "source": [
        "sentences = [['First', 'sentence', 'mama', '.'], ['Another', '.']]\n",
        "character_ids = batch_to_ids(sentences)\n",
        "embeddings = elmo(character_ids)"
      ],
      "metadata": {
        "id": "RJy97v_qvPaG"
      },
      "execution_count": null,
      "outputs": []
    },
    {
      "cell_type": "code",
      "source": [
        "embeddings['elmo_representations'][0].shape"
      ],
      "metadata": {
        "colab": {
          "base_uri": "https://localhost:8080/"
        },
        "id": "MZwleS_jxWZf",
        "outputId": "cd73a6cb-42db-4ba1-a67a-edd915386df3"
      },
      "execution_count": null,
      "outputs": [
        {
          "output_type": "execute_result",
          "data": {
            "text/plain": [
              "torch.Size([2, 4, 1024])"
            ]
          },
          "metadata": {},
          "execution_count": 45
        }
      ]
    },
    {
      "cell_type": "code",
      "source": [
        "import torch\n",
        "vector_text_elmo = torch.mean(embeddings['elmo_representations'][0], dim=0)\n",
        "vector_text_elmo = torch.mean(vector_text_elmo, dim=0)"
      ],
      "metadata": {
        "id": "NVHmqoPfxydk"
      },
      "execution_count": null,
      "outputs": []
    },
    {
      "cell_type": "code",
      "source": [
        "vector_text_elmo.shape"
      ],
      "metadata": {
        "colab": {
          "base_uri": "https://localhost:8080/"
        },
        "id": "R0w69_ZGx_a0",
        "outputId": "9b0802c5-4801-4902-da9e-48d1f71fdbcb"
      },
      "execution_count": null,
      "outputs": [
        {
          "output_type": "execute_result",
          "data": {
            "text/plain": [
              "torch.Size([1024])"
            ]
          },
          "metadata": {},
          "execution_count": 47
        }
      ]
    },
    {
      "cell_type": "markdown",
      "source": [
        "## Bert"
      ],
      "metadata": {
        "id": "VUDDYuirwYa8"
      }
    },
    {
      "cell_type": "code",
      "source": [
        "!pip install transformers"
      ],
      "metadata": {
        "colab": {
          "base_uri": "https://localhost:8080/"
        },
        "id": "LXwvECFrwZeM",
        "outputId": "12f5b139-d335-40d0-bd0f-6c1cbbd4b0a5"
      },
      "execution_count": null,
      "outputs": [
        {
          "output_type": "stream",
          "name": "stdout",
          "text": [
            "Requirement already satisfied: transformers in /usr/local/lib/python3.10/dist-packages (4.20.1)\n",
            "Requirement already satisfied: filelock in /usr/local/lib/python3.10/dist-packages (from transformers) (3.7.1)\n",
            "Requirement already satisfied: huggingface-hub<1.0,>=0.1.0 in /usr/local/lib/python3.10/dist-packages (from transformers) (0.10.1)\n",
            "Requirement already satisfied: numpy>=1.17 in /usr/local/lib/python3.10/dist-packages (from transformers) (1.23.5)\n",
            "Requirement already satisfied: packaging>=20.0 in /usr/local/lib/python3.10/dist-packages (from transformers) (23.2)\n",
            "Requirement already satisfied: pyyaml>=5.1 in /usr/local/lib/python3.10/dist-packages (from transformers) (6.0.1)\n",
            "Requirement already satisfied: regex!=2019.12.17 in /usr/local/lib/python3.10/dist-packages (from transformers) (2023.6.3)\n",
            "Requirement already satisfied: requests in /usr/local/lib/python3.10/dist-packages (from transformers) (2.31.0)\n",
            "Requirement already satisfied: tokenizers!=0.11.3,<0.13,>=0.11.1 in /usr/local/lib/python3.10/dist-packages (from transformers) (0.12.1)\n",
            "Requirement already satisfied: tqdm>=4.27 in /usr/local/lib/python3.10/dist-packages (from transformers) (4.66.1)\n",
            "Requirement already satisfied: typing-extensions>=3.7.4.3 in /usr/local/lib/python3.10/dist-packages (from huggingface-hub<1.0,>=0.1.0->transformers) (4.5.0)\n",
            "Requirement already satisfied: charset-normalizer<4,>=2 in /usr/local/lib/python3.10/dist-packages (from requests->transformers) (3.3.1)\n",
            "Requirement already satisfied: idna<4,>=2.5 in /usr/local/lib/python3.10/dist-packages (from requests->transformers) (3.4)\n",
            "Requirement already satisfied: urllib3<3,>=1.21.1 in /usr/local/lib/python3.10/dist-packages (from requests->transformers) (2.0.7)\n",
            "Requirement already satisfied: certifi>=2017.4.17 in /usr/local/lib/python3.10/dist-packages (from requests->transformers) (2023.7.22)\n"
          ]
        }
      ]
    },
    {
      "cell_type": "code",
      "source": [
        "import transformers\n",
        "from transformers import BertTokenizer\n",
        "from transformers import AutoModel\n",
        "\n",
        "#download = 'DeepPavlov/rubert-base-cased' # Russian\n",
        "download = 'DeepPavlov/bert-base-multilingual-cased-sentence' # English + Russian\n",
        "tokenizer = BertTokenizer.from_pretrained(download)\n",
        "model = AutoModel.from_pretrained(download)"
      ],
      "metadata": {
        "colab": {
          "base_uri": "https://localhost:8080/",
          "height": 177,
          "referenced_widgets": [
            "58f3623440fe4eb0893baa460b75ed0e",
            "0f77355cd71d44889c10f960ae934d9b",
            "a887c5879e4a40f2a841e1b906d4a8f6",
            "11e2a910b11b4dfeadce3f995c7187f5",
            "fe4eaa61d53b4c0ab96f6318724c4bc8",
            "d0b5c86001bb413989699a5e572700c9",
            "49f6cb56413d45fd93d3b2b220a74e33",
            "1f92a648442e4c21a6b85a451f369743",
            "49b11cd9bc0e40c2ac7aec7a9f087885",
            "0bffb159b0074438b48efc562f5ddcc7",
            "bc4e3d3dd00a45ecb76af2165b5a0167",
            "04ed89fe5b8f43b682fe9beac04ad67b",
            "52d138e4cc2140f9915af6fca043dea1",
            "da46879a254049e485491e66793a76bf",
            "068585027d8e44f2b13504b3e9ff3aef",
            "63b9667ae0214131a5352113428c8b7e",
            "b986c8690ae44a23be9902f71661898b",
            "0575561fa9994719b783ed7dadb10031",
            "461a5742702a406c9e0a27e219933131",
            "58df6d4586f74468a75bd172902704fc",
            "70e03de3d2404777835b4d11a382bc11",
            "35df9e30f2c74decba19373ff529ce7e",
            "2ccb7cd6805e4659a7311d07e073edf0",
            "5c677bee725f4c5fb624c2bd140a338e",
            "e6a60f4edc1e4fd98e32d5fbc30e6433",
            "5133324b71b54418862e381f5a78eaef",
            "a8d3073cc8244f7eb4735b2e470ac714",
            "9160c91bdd144a9e9a5e52503c3ccf17",
            "e18fbd0040a34d929e13e8cd6abab4c5",
            "271845d1a7ee4cb2b0d00f39aa08826f",
            "1b40fb2efa0b4ceca5b746c05d0cd2ea",
            "db5c5b5b6a49401b808c36491fbe4683",
            "cebf2a3613ec465bb058778e8b72e88c",
            "0ed6885feb3740b18b278c5c8ea51965",
            "8971151f1637488eb8bdccdfae518d4d",
            "ea559c8985844f25b61b15021496e87c",
            "d02e875646074d2aa84587b22919507f",
            "b98e811b73ae4c0f9ba8ed93e121c8b6",
            "641424b8ba6040cb872003561eaf70c3",
            "18b348c7f0ce4d09b7dbf04be1c77d1a",
            "6c0b73a0f5194903a2e9df28cc31d8ea",
            "5d41c2a70b10439081988c24c5c64ee9",
            "831d8b438a324951954b1ad57fcaa0c5",
            "8de5912187994a6bbe4ac26e7b7ba00a",
            "73ae8fbba7814cd58538ea318ed58f69",
            "caf03f9b2bb84c1e85d8a454a68e501d",
            "a0bbe49b0c1d4c78bf9a562b5151fe22",
            "de94688425b142a0a7d7dbca33200d53",
            "23e272179bf74566a8a08b3265005df2",
            "73ebe3d6f2d34dcfadfd395188e9fb15",
            "1efb19867eaa4e05a77f1a9a3a8509f4",
            "177ec823327d4b6e8d1bd3d94675577f",
            "363d63d40e0f4b418cc431bd9ad00f06",
            "6c6bc096a2b64443af787fc59012d0bd",
            "d098c2c7dd2844569775e5a8327ec669"
          ]
        },
        "id": "GKuMSZHfxBWE",
        "outputId": "9493450b-9f6e-4e7d-e726-9dcefa5ce093"
      },
      "execution_count": null,
      "outputs": [
        {
          "output_type": "display_data",
          "data": {
            "text/plain": [
              "Downloading:   0%|          | 0.00/972k [00:00<?, ?B/s]"
            ],
            "application/vnd.jupyter.widget-view+json": {
              "version_major": 2,
              "version_minor": 0,
              "model_id": "58f3623440fe4eb0893baa460b75ed0e"
            }
          },
          "metadata": {}
        },
        {
          "output_type": "display_data",
          "data": {
            "text/plain": [
              "Downloading:   0%|          | 0.00/112 [00:00<?, ?B/s]"
            ],
            "application/vnd.jupyter.widget-view+json": {
              "version_major": 2,
              "version_minor": 0,
              "model_id": "04ed89fe5b8f43b682fe9beac04ad67b"
            }
          },
          "metadata": {}
        },
        {
          "output_type": "display_data",
          "data": {
            "text/plain": [
              "Downloading:   0%|          | 0.00/24.0 [00:00<?, ?B/s]"
            ],
            "application/vnd.jupyter.widget-view+json": {
              "version_major": 2,
              "version_minor": 0,
              "model_id": "2ccb7cd6805e4659a7311d07e073edf0"
            }
          },
          "metadata": {}
        },
        {
          "output_type": "display_data",
          "data": {
            "text/plain": [
              "Downloading:   0%|          | 0.00/642 [00:00<?, ?B/s]"
            ],
            "application/vnd.jupyter.widget-view+json": {
              "version_major": 2,
              "version_minor": 0,
              "model_id": "0ed6885feb3740b18b278c5c8ea51965"
            }
          },
          "metadata": {}
        },
        {
          "output_type": "display_data",
          "data": {
            "text/plain": [
              "Downloading:   0%|          | 0.00/678M [00:00<?, ?B/s]"
            ],
            "application/vnd.jupyter.widget-view+json": {
              "version_major": 2,
              "version_minor": 0,
              "model_id": "73ae8fbba7814cd58538ea318ed58f69"
            }
          },
          "metadata": {}
        }
      ]
    },
    {
      "cell_type": "code",
      "source": [
        "# tokens = []\n",
        "# tokens.append(tokenizer.encode(\"Я люблю свою собаку\", \"Она очень дружелюбная\"))\n",
        "# tokens.append(tokenizer.encode(\"Белый снег\", \"Серый лёд\", \"На растрескавшейся земле\"))\n",
        "# tokens.append(tokenizer.encode(\"Весь мир насилья мы разрушим\", \"До основанья, а затем\"))\n",
        "# tokens.append(tokenizer.encode(\"Мы наш, мы новый мир построим\", \"Кто был ничем, тот станет всем\"))\n",
        "\n",
        "# for t in tokens:\n",
        "#     print(tokenizer.convert_ids_to_tokens(t))"
      ],
      "metadata": {
        "colab": {
          "base_uri": "https://localhost:8080/"
        },
        "id": "nCa18Gy4yNRO",
        "outputId": "17a5de81-f5ed-475a-c2be-758ef22f573c"
      },
      "execution_count": null,
      "outputs": [
        {
          "output_type": "stream",
          "name": "stdout",
          "text": [
            "['[CLS]', 'Я', 'люблю', 'свою', 'собаку', '[SEP]', 'Она', 'очень', 'дружелюб', '##ная', '[SEP]']\n",
            "['[CLS]', 'Белый', 'снег', '[SEP]', 'Серый', 'лёд', '[SEP]']\n",
            "['[CLS]', 'Весь', 'мир', 'насиль', '##я', 'мы', 'разруш', '##им', '[SEP]', 'До', 'основан', '##ья', ',', 'а', 'затем', '[SEP]']\n",
            "['[CLS]', 'Мы', 'наш', ',', 'мы', 'новый', 'мир', 'постро', '##им', '[SEP]', 'Кто', 'был', 'ничем', ',', 'тот', 'станет', 'всем', '[SEP]']\n"
          ]
        }
      ]
    },
    {
      "cell_type": "code",
      "source": [
        "tok = tokenizer.encode_plus(\"Я люблю свою собаку\", \"Она очень дружелюбная\", return_tensors = \"pt\")"
      ],
      "metadata": {
        "id": "JcDGt9yByvu7"
      },
      "execution_count": null,
      "outputs": []
    },
    {
      "cell_type": "code",
      "source": [
        "embedding_bert = model(**tok)['last_hidden_state']"
      ],
      "metadata": {
        "id": "6iEZcK1jygJM"
      },
      "execution_count": null,
      "outputs": []
    },
    {
      "cell_type": "code",
      "source": [
        "embedding_bert.shape"
      ],
      "metadata": {
        "colab": {
          "base_uri": "https://localhost:8080/"
        },
        "id": "sFdDnpdOy2km",
        "outputId": "bfc04477-f1fd-4367-f9e7-109e143764d2"
      },
      "execution_count": null,
      "outputs": [
        {
          "output_type": "execute_result",
          "data": {
            "text/plain": [
              "torch.Size([1, 20, 768])"
            ]
          },
          "metadata": {},
          "execution_count": 62
        }
      ]
    },
    {
      "cell_type": "code",
      "source": [
        "embedding_bert = torch.mean(embedding_bert, dim = 1).squeeze()"
      ],
      "metadata": {
        "id": "giYkl0dJzFAf"
      },
      "execution_count": null,
      "outputs": []
    },
    {
      "cell_type": "code",
      "source": [
        "embedding_bert"
      ],
      "metadata": {
        "colab": {
          "base_uri": "https://localhost:8080/"
        },
        "id": "FN21nl5szNz_",
        "outputId": "f36e8da8-6aec-425a-914f-7e3319dcff01"
      },
      "execution_count": null,
      "outputs": [
        {
          "output_type": "execute_result",
          "data": {
            "text/plain": [
              "tensor([ 3.8804e-02,  9.3535e-01,  1.3968e+00,  7.1402e-01,  6.7355e-01,\n",
              "        -6.1647e-01, -1.5169e-01,  1.3508e+00,  5.4837e-02,  6.7969e-01,\n",
              "        -1.8430e+00, -8.5651e-02,  9.0885e-01,  6.0569e-01, -6.4775e-01,\n",
              "         4.7425e-02,  1.0735e+00,  1.1359e+00,  3.2534e-01,  8.6561e-01,\n",
              "         1.3473e-01, -4.1645e-01, -5.2358e-01, -2.9307e-01, -1.7268e-02,\n",
              "         9.6568e-01, -1.0797e+00, -4.3991e-01, -1.8429e-01, -3.0671e-01,\n",
              "        -3.7357e-01,  5.9972e-02, -3.2764e-01,  5.1579e-01,  1.6011e-01,\n",
              "         6.4953e-01,  1.0403e-01,  3.3971e-01, -2.4394e-01, -3.2081e-01,\n",
              "         3.3159e-01, -7.6983e-02, -9.0741e-01, -6.4762e-02,  2.6427e-01,\n",
              "         4.5067e-01, -3.9279e-01, -3.2359e-01, -1.3269e-01,  4.6232e-01,\n",
              "         6.3427e-01, -3.9154e-01,  9.6690e-03,  4.1325e-01, -2.2534e-01,\n",
              "        -3.2332e-01, -2.3791e-01, -6.8555e-02,  4.9500e-01,  1.7634e-02,\n",
              "         8.2832e-01,  4.9192e-01,  3.4550e-01,  6.5748e-01, -1.4448e-02,\n",
              "         1.6324e-01, -4.5527e-01, -5.4066e-01, -3.4816e-02,  1.1978e-01,\n",
              "         4.9889e-01, -5.3470e-02,  2.8954e-01,  3.8730e-01, -1.3581e-01,\n",
              "        -1.7779e-01, -1.3870e-01,  4.6191e-01,  4.7627e-01, -1.2605e+00,\n",
              "        -1.3745e+00, -1.0885e+00, -9.6011e-01,  1.1475e-02,  2.7348e-02,\n",
              "         1.3049e-01,  4.1408e-01,  5.5690e-01, -3.8097e-01,  3.2470e-01,\n",
              "        -2.1946e-01,  1.0636e+00,  2.2223e-01, -1.9092e-01, -1.8217e-02,\n",
              "         1.1648e+00, -2.4516e-01,  6.0220e-02,  2.5659e-01, -3.5818e-01,\n",
              "         4.9334e-01,  3.1011e-01,  1.6173e+00, -3.0226e-01,  1.1509e+00,\n",
              "        -1.7241e+00, -3.4785e-01,  2.8234e-01,  2.9591e-01,  1.2645e-01,\n",
              "         9.3144e-02, -5.6672e-01,  2.1530e-01,  4.0907e-01,  1.0805e+00,\n",
              "        -2.5935e-01, -3.4132e-01,  9.0589e-01,  1.2490e+00, -2.9770e-01,\n",
              "         1.0091e+00,  3.2055e-01, -3.4990e-01, -5.0454e-01,  7.2166e-01,\n",
              "        -4.2674e-01,  8.7553e-02,  1.4538e+00,  1.9707e-01, -4.8181e-01,\n",
              "         7.6511e-01,  4.3108e-01,  7.8416e-01, -5.9964e-01,  1.9853e+00,\n",
              "        -3.6554e-01, -1.3379e-01,  5.4834e-01,  4.9504e-01,  5.8877e-01,\n",
              "         2.5021e-01,  3.3203e-01, -3.0420e-01, -1.8899e-01, -3.4092e-01,\n",
              "        -5.9595e-01, -1.8352e-01,  9.2669e-01,  1.6150e-02,  3.6933e-02,\n",
              "         6.8317e-01, -3.3342e-02,  5.7533e-01,  1.0608e+00,  3.2412e-02,\n",
              "         7.6415e-01,  4.1377e-01, -8.6219e-01, -2.3171e-02, -4.5295e-03,\n",
              "         2.5391e-01,  6.8617e-01, -7.9809e-01,  1.0918e+00, -8.0584e-01,\n",
              "        -5.2813e-01,  1.0304e-01, -9.0000e-01,  1.2650e-01,  1.5156e-01,\n",
              "        -9.5971e-01, -3.4032e-01, -4.9322e-01,  8.3662e-01,  6.9639e-01,\n",
              "         2.3067e-01,  6.1539e-03,  1.0131e+00, -6.7830e-02,  4.0094e-01,\n",
              "        -1.9925e-01,  1.3972e-01,  1.1689e+00, -9.4862e-01, -5.4127e-01,\n",
              "         8.2074e-01, -3.2770e-01, -1.3453e+00,  3.0436e-01,  1.3933e-01,\n",
              "        -5.4108e-01, -7.8986e-01,  1.9644e-01,  3.5516e-01, -2.1743e-01,\n",
              "        -2.7057e-01, -8.8923e-01, -5.9744e-01, -1.9841e-02, -2.2725e-01,\n",
              "        -7.8407e-02,  3.1738e-01, -8.7962e-01,  1.0576e-01, -1.2342e-01,\n",
              "         1.0486e+00,  3.1207e-01,  1.5293e-01, -7.0963e-01,  4.2239e-01,\n",
              "         6.2989e-01,  3.0357e-01, -1.1448e+00,  4.8394e-01, -2.7500e-01,\n",
              "        -2.8854e-01, -8.7598e-01, -2.2943e-01,  9.4481e-01,  2.7666e-01,\n",
              "         5.3342e-01,  6.2843e-01,  6.7161e-01, -6.9353e-01, -2.0421e-01,\n",
              "        -3.6472e-02,  2.0821e-01,  4.6570e-01,  7.2465e-01,  2.4450e-01,\n",
              "        -1.8112e+00,  4.2895e-01, -5.3041e-01,  7.5767e-01, -4.1526e-01,\n",
              "        -8.6993e-01,  4.6191e-01,  1.5814e-02, -5.1084e-01,  5.2468e-01,\n",
              "        -1.2309e+00,  8.6562e-01,  3.6440e-01,  2.8566e-01,  2.7602e-01,\n",
              "         1.1542e+00, -5.1719e-01, -5.3248e-01,  1.1230e-01,  2.2868e-02,\n",
              "        -3.3190e-01,  1.3790e-01, -9.2248e-02, -1.2912e-01, -4.1361e-01,\n",
              "         6.1454e-01, -1.0536e+00,  9.9405e-03, -3.2343e-01, -1.5250e+00,\n",
              "         1.0869e+00, -3.6545e-01, -9.4097e-02,  3.3542e-01, -2.9868e-01,\n",
              "        -5.1016e-01, -1.9461e-01,  8.7123e-01,  6.9169e-02,  7.1045e-01,\n",
              "        -3.5608e-01, -9.2037e-01, -4.1379e-01, -2.0232e-01, -1.5417e-01,\n",
              "        -1.2755e+00, -5.3969e-01, -4.4480e-01,  1.4728e-01,  5.0552e-01,\n",
              "        -4.2546e-01,  1.6452e-01,  1.8955e-01, -8.2079e-01, -4.4588e-01,\n",
              "        -6.1127e-01,  4.1488e-01, -5.8940e-01,  4.1727e-03, -5.4779e-01,\n",
              "        -8.0514e-01, -2.4908e-01,  2.7495e-02, -2.7042e-01, -9.4850e-01,\n",
              "         5.9830e-02, -1.1073e+00, -1.5856e-01,  1.6480e-03, -6.2282e-01,\n",
              "        -7.3890e-02, -8.0770e-01,  1.8912e-01,  1.2629e+00,  2.1247e-02,\n",
              "         1.2505e-01,  1.8745e-01,  6.4600e-01,  3.0062e-01,  9.6407e-01,\n",
              "        -1.9067e+00, -1.8648e-01, -5.2981e-01,  2.9791e-01,  7.7015e-01,\n",
              "        -2.9784e-01,  5.3165e-01,  1.9775e-01, -2.9977e-01,  1.0073e+00,\n",
              "         3.0307e-01,  6.8950e-01, -4.4671e-02, -9.2762e-01, -3.7864e-01,\n",
              "         5.9354e-01,  2.9061e-01, -2.5837e-01,  3.8503e-01,  8.2122e-01,\n",
              "         1.0633e-01,  1.2382e-01,  3.0287e-01, -3.1045e-01, -9.6366e-01,\n",
              "         2.8395e-02, -5.0460e-01, -1.7683e-02, -2.2840e-01, -8.8710e-01,\n",
              "        -1.0359e+00, -1.3562e-01,  6.6215e-01,  7.3894e-01,  6.8488e-01,\n",
              "         1.5839e-01,  8.1184e-01,  1.0725e+00, -5.4994e-01,  1.4116e-01,\n",
              "         2.1662e-01,  1.4551e-01, -1.7834e-01, -7.3498e-01,  5.0188e-01,\n",
              "         3.8067e-01, -1.5074e+00, -9.1014e-01, -9.7779e-02, -1.1883e-01,\n",
              "        -8.4103e-01,  3.5175e-01, -3.9345e-01, -1.5676e-01, -2.4711e-01,\n",
              "         6.6760e-02, -3.5276e-01, -3.0275e-01, -1.4298e+00,  1.2815e+00,\n",
              "        -4.0176e-02,  5.3019e-01,  1.4239e-02, -9.2238e-01,  3.4973e-01,\n",
              "         5.4635e-01, -8.0406e-01,  1.5223e+00, -5.1202e-01,  4.6414e-01,\n",
              "         1.0854e+00, -7.1426e-01, -5.6409e-01, -4.3891e-01, -2.4903e-01,\n",
              "        -5.2006e-01, -8.9784e-02, -1.3170e-01,  9.4681e-02,  4.3312e-02,\n",
              "        -3.6851e-01,  9.5514e-02,  6.5362e-01,  2.1747e-01, -4.5476e-01,\n",
              "        -1.4640e+00,  2.3045e-01,  1.9686e-01,  1.1779e-01, -5.1059e-02,\n",
              "         9.9610e-01, -1.2744e-01,  1.6387e+00,  1.4036e+00,  1.1105e+00,\n",
              "         9.5364e-01,  3.1127e-01,  4.1734e-01, -8.5583e-01, -1.2468e-02,\n",
              "         8.0761e-02,  4.0438e-01,  5.4465e-01,  5.7696e-01,  3.0570e-01,\n",
              "        -1.9193e-01,  9.3032e-01, -2.5152e-01, -1.6463e-01, -2.2797e-01,\n",
              "        -6.8123e-01, -1.1762e-01,  7.6787e-01, -1.8179e-01, -1.2459e+00,\n",
              "         3.9726e-01,  1.4788e-01, -6.0722e-01,  1.5932e-01, -2.6121e-01,\n",
              "        -6.6889e-01,  3.3773e-01,  6.9835e-01, -6.7969e-01, -6.4423e-01,\n",
              "        -2.9204e-01,  3.9967e-01, -1.5761e-01, -6.3401e-01, -1.0296e+00,\n",
              "        -8.5496e-01,  7.4507e-02, -6.0480e-01, -5.0374e-01, -4.8910e-01,\n",
              "         1.0952e+00,  1.5547e-01,  1.0217e+00,  1.1604e-01,  2.9528e-01,\n",
              "         3.7500e-01, -4.7669e-01,  6.1638e-03,  4.3170e-01, -3.4174e-01,\n",
              "         2.3726e-01,  8.6703e-02,  2.6069e-01,  5.7239e-02,  1.1867e+00,\n",
              "         2.5644e-02,  3.3758e-01,  2.8916e-01,  2.2707e-01,  3.3763e-01,\n",
              "        -2.6740e-01,  3.0751e-02, -5.0372e-02,  2.9304e-01, -2.8888e-01,\n",
              "         6.2784e-01,  8.5598e-01, -1.5926e-01,  1.4367e-01, -7.0665e-01,\n",
              "         8.4648e-02, -1.1612e+00,  2.7306e-01, -2.8048e-01,  1.6242e+00,\n",
              "         2.3408e-01,  9.3235e-01, -3.2000e-01,  2.7863e-01,  9.9351e-02,\n",
              "        -2.6374e-02, -7.0096e-01,  5.3236e-02, -9.0635e-01,  3.5192e-01,\n",
              "         2.8126e-01,  7.5457e-01, -1.8599e-01,  7.1986e-01,  9.5030e-02,\n",
              "         1.8475e-01, -1.8971e-01, -5.3923e-01,  1.7534e+00, -1.5298e+00,\n",
              "         4.0843e-01,  2.3974e-01, -4.4399e-01,  2.6706e-01,  2.6297e-01,\n",
              "        -1.8910e-01,  3.0045e-01, -7.7788e-01,  2.3359e-01,  2.0495e-01,\n",
              "        -7.6404e-01, -5.3370e-01,  2.5526e-01,  4.1949e-01, -3.6797e-01,\n",
              "        -2.3438e-01,  1.2186e-01,  3.2400e-02,  2.1416e-01, -1.1783e-01,\n",
              "        -1.7911e-01, -1.5548e-01,  1.1636e-01, -3.5748e-02, -7.7487e-01,\n",
              "         4.6896e-02,  1.6457e-01, -9.2055e-01,  1.6945e-01,  3.7876e-01,\n",
              "        -4.4750e-01, -6.9812e-02, -3.9331e-01, -5.1812e-01,  9.6434e-01,\n",
              "         5.8459e-01, -2.3491e-01, -7.8110e-01,  4.7709e-01, -4.9735e-02,\n",
              "         2.2862e-01, -7.4412e-02, -1.1912e+00, -4.7586e-01,  5.1300e-01,\n",
              "        -3.6358e-01,  8.2830e-01, -4.3040e-01,  5.5068e-02, -1.1852e+00,\n",
              "        -1.1275e+00,  1.2803e+00, -3.9518e-01, -7.2420e-01,  3.3173e-01,\n",
              "         7.2134e-01, -4.5906e-01, -1.2650e+00, -6.8185e-02, -9.4232e-02,\n",
              "         4.5706e-01,  5.6083e-01, -1.6327e-02,  2.9380e-01, -3.1208e-01,\n",
              "         3.2850e-02, -7.5192e-01,  2.9477e-01,  2.8896e-02,  1.2259e-01,\n",
              "         2.6885e-01,  7.3397e-01,  8.7848e-01,  1.2925e+00,  1.7765e+00,\n",
              "         1.1746e-01, -2.3721e-01, -1.2593e+00, -1.4870e-01,  3.0613e-03,\n",
              "         3.4590e-02,  3.5878e-01, -3.1180e-01, -1.2880e-01, -3.1772e-01,\n",
              "         2.4937e-01,  4.8346e-01, -9.3810e-01,  1.8501e-01,  2.5819e-01,\n",
              "        -2.9812e-01,  5.2683e-01,  1.0633e+00, -3.5058e-01, -3.7493e-02,\n",
              "         3.8772e-01,  5.9799e-01, -4.7105e-01,  2.6480e-01, -9.3898e-01,\n",
              "         3.6813e-02, -2.3082e-02, -2.9116e-01, -1.1665e+00,  2.0189e-01,\n",
              "        -9.3901e-01,  2.3041e-02,  1.3737e-01,  5.6751e-01,  8.2439e-02,\n",
              "        -2.9948e-01,  7.6173e-01, -7.3117e-01,  4.1338e-01, -8.0361e-01,\n",
              "         5.3156e-01,  1.1463e-01, -1.0383e+00,  1.0911e+00,  1.0269e+00,\n",
              "         4.6393e-01,  5.8621e-01,  3.3649e-01,  1.2538e+00,  7.0115e-01,\n",
              "         2.6539e-01,  2.6293e-02, -5.1420e-01, -1.2794e-01,  7.5002e-01,\n",
              "         2.0136e-01, -4.1131e-01,  4.0836e-01, -1.0119e+00,  9.0054e-02,\n",
              "         1.4651e-01,  7.3185e-02, -6.1142e-01,  4.1505e-01,  1.2457e-02,\n",
              "         8.7183e-02,  2.9098e-01, -3.9065e-01, -8.3231e-01, -8.3864e-01,\n",
              "         4.9847e-01, -1.0572e+00,  1.0301e-01, -2.7483e-02, -6.9541e-01,\n",
              "        -3.9402e-01,  7.5177e-02, -2.6426e-01, -2.4483e-01, -6.3632e-03,\n",
              "        -1.8089e-01,  6.0692e-01,  5.9249e-01, -1.2587e+00,  1.0817e-01,\n",
              "         4.5134e-01, -1.1670e+00,  3.1786e-01, -5.8671e-01,  4.7005e-01,\n",
              "         3.6093e-01, -7.8001e-01, -3.6642e-01,  9.3259e-01,  2.0328e-01,\n",
              "        -8.4091e-01,  2.1239e-01, -8.5088e-02, -5.6695e-01, -4.8321e-01,\n",
              "        -6.7432e-01, -5.1685e-02,  1.1647e-01,  3.4128e-01, -1.9965e-01,\n",
              "        -1.0478e-01,  4.2357e-01, -1.8727e-01,  2.1999e-01,  1.4609e-01,\n",
              "        -3.2766e-02,  4.2142e-01, -2.1099e-01,  7.5911e-01,  3.5077e-01,\n",
              "        -6.9488e-01,  3.6984e-01, -9.1530e-01,  5.8083e-01, -6.6693e-01,\n",
              "        -5.3592e-01,  5.5674e-01,  1.0760e-01,  1.6860e-02, -5.8252e-01,\n",
              "         8.2412e-01,  7.6991e-01, -2.1770e-01, -1.3885e-01,  3.8051e-01,\n",
              "        -5.8586e-01, -9.6809e-01, -1.6619e-01,  8.1136e-01,  6.3927e-01,\n",
              "         4.4561e-01,  3.0115e-01, -3.6460e-01, -3.3774e-01, -1.1313e-01,\n",
              "        -5.1430e-01, -1.6241e-01, -6.8749e-01, -4.7082e-01,  6.6020e-03,\n",
              "         3.5109e-01, -8.1578e-01,  4.5964e-01, -8.3339e-01, -3.4248e-01,\n",
              "        -2.5414e-01, -1.4638e+00, -9.6326e-01,  1.5873e-01, -1.1667e-01,\n",
              "        -4.6649e-01,  4.1132e-01, -4.3748e-01, -4.4563e-01, -1.0909e+00,\n",
              "        -1.6533e-01,  8.5499e-02, -1.2933e+00, -1.2284e+00,  1.0158e-01,\n",
              "        -4.4281e-02, -7.5015e-01,  6.3927e-01,  2.2406e-01,  1.7514e-01,\n",
              "         7.6915e-01,  2.6336e-01,  9.5030e-01, -1.9094e-01, -1.6245e+00,\n",
              "         6.5026e-02,  1.0740e-01, -1.7054e-01, -1.1429e+00,  6.3444e-01,\n",
              "        -5.7020e-02, -9.0059e-01, -1.1362e+00, -3.0235e-01, -1.2633e+00,\n",
              "        -1.8106e-01,  2.3486e-01,  6.7823e-03, -4.6080e-01,  1.6180e-02,\n",
              "        -1.3765e-01, -2.9854e-01, -1.2220e-01], grad_fn=<SqueezeBackward0>)"
            ]
          },
          "metadata": {},
          "execution_count": 64
        }
      ]
    },
    {
      "cell_type": "markdown",
      "source": [
        "# Снижение размерности"
      ],
      "metadata": {
        "id": "U2xFs0JC0tOf"
      }
    },
    {
      "cell_type": "markdown",
      "source": [
        "## PCA\n",
        "\n",
        "`sklearn.decomposition.PCA`"
      ],
      "metadata": {
        "id": "JPbXLWwY0wQL"
      }
    },
    {
      "cell_type": "markdown",
      "source": [
        "## T-SNE\n",
        "\n",
        "## UMAP\n",
        "\n",
        "## Autoencoders"
      ],
      "metadata": {
        "id": "mMa3De7-02ha"
      }
    },
    {
      "cell_type": "code",
      "source": [
        "from sklearn.manifold import TSNE"
      ],
      "metadata": {
        "id": "r7JQeCyHzWlm"
      },
      "execution_count": null,
      "outputs": []
    },
    {
      "cell_type": "code",
      "source": [
        "X = np.array([[0, 0, 0], [0, 1, 1], [1, 0, 1], [1, 1, 1]])"
      ],
      "metadata": {
        "id": "9U4OKF4y1Q15"
      },
      "execution_count": null,
      "outputs": []
    },
    {
      "cell_type": "code",
      "source": [
        "X_embedded = TSNE(n_components=2, learning_rate='auto',\n",
        "                   init='random', perplexity=3).fit_transform(X)"
      ],
      "metadata": {
        "id": "X-nTWVA01ZVD"
      },
      "execution_count": null,
      "outputs": []
    },
    {
      "cell_type": "code",
      "source": [
        "X_embedded"
      ],
      "metadata": {
        "colab": {
          "base_uri": "https://localhost:8080/"
        },
        "id": "LJOfZiW61xt0",
        "outputId": "2fbf7030-76b1-4efe-fb36-fc26c8e3ed6e"
      },
      "execution_count": null,
      "outputs": [
        {
          "output_type": "execute_result",
          "data": {
            "text/plain": [
              "array([[ -5.0222077,  47.860294 ],\n",
              "       [-74.31918  ,  53.801804 ],\n",
              "       [-80.80871  , -15.403574 ],\n",
              "       [-11.610577 , -21.506285 ]], dtype=float32)"
            ]
          },
          "metadata": {},
          "execution_count": 70
        }
      ]
    },
    {
      "cell_type": "code",
      "source": [
        "# Umap\n",
        "! pip install umap-learn"
      ],
      "metadata": {
        "colab": {
          "base_uri": "https://localhost:8080/"
        },
        "id": "2_1YmB5B17RD",
        "outputId": "192fafc5-7217-44c3-914b-6a6859d643ff"
      },
      "execution_count": null,
      "outputs": [
        {
          "output_type": "stream",
          "name": "stdout",
          "text": [
            "Collecting umap-learn\n",
            "  Downloading umap-learn-0.5.4.tar.gz (90 kB)\n",
            "\u001b[2K     \u001b[90m━━━━━━━━━━━━━━━━━━━━━━━━━━━━━━━━━━━━━━━━\u001b[0m \u001b[32m90.8/90.8 kB\u001b[0m \u001b[31m1.7 MB/s\u001b[0m eta \u001b[36m0:00:00\u001b[0m\n",
            "\u001b[?25h  Preparing metadata (setup.py) ... \u001b[?25l\u001b[?25hdone\n",
            "Requirement already satisfied: numpy>=1.17 in /usr/local/lib/python3.10/dist-packages (from umap-learn) (1.23.5)\n",
            "Requirement already satisfied: scipy>=1.3.1 in /usr/local/lib/python3.10/dist-packages (from umap-learn) (1.11.3)\n",
            "Requirement already satisfied: scikit-learn>=0.22 in /usr/local/lib/python3.10/dist-packages (from umap-learn) (1.2.2)\n",
            "Requirement already satisfied: numba>=0.51.2 in /usr/local/lib/python3.10/dist-packages (from umap-learn) (0.56.4)\n",
            "Collecting pynndescent>=0.5 (from umap-learn)\n",
            "  Downloading pynndescent-0.5.10.tar.gz (1.1 MB)\n",
            "\u001b[2K     \u001b[90m━━━━━━━━━━━━━━━━━━━━━━━━━━━━━━━━━━━━━━━━\u001b[0m \u001b[32m1.1/1.1 MB\u001b[0m \u001b[31m19.9 MB/s\u001b[0m eta \u001b[36m0:00:00\u001b[0m\n",
            "\u001b[?25h  Preparing metadata (setup.py) ... \u001b[?25l\u001b[?25hdone\n",
            "Requirement already satisfied: tqdm in /usr/local/lib/python3.10/dist-packages (from umap-learn) (4.66.1)\n",
            "Requirement already satisfied: tbb>=2019.0 in /usr/local/lib/python3.10/dist-packages (from umap-learn) (2021.10.0)\n",
            "Requirement already satisfied: llvmlite<0.40,>=0.39.0dev0 in /usr/local/lib/python3.10/dist-packages (from numba>=0.51.2->umap-learn) (0.39.1)\n",
            "Requirement already satisfied: setuptools in /usr/local/lib/python3.10/dist-packages (from numba>=0.51.2->umap-learn) (67.7.2)\n",
            "Requirement already satisfied: joblib>=0.11 in /usr/local/lib/python3.10/dist-packages (from pynndescent>=0.5->umap-learn) (1.3.2)\n",
            "Requirement already satisfied: threadpoolctl>=2.0.0 in /usr/local/lib/python3.10/dist-packages (from scikit-learn>=0.22->umap-learn) (3.2.0)\n",
            "Building wheels for collected packages: umap-learn, pynndescent\n",
            "  Building wheel for umap-learn (setup.py) ... \u001b[?25l\u001b[?25hdone\n",
            "  Created wheel for umap-learn: filename=umap_learn-0.5.4-py3-none-any.whl size=86770 sha256=d0d3d260fa92a148d4a9b93e1f02673557374d0f15c47f703bb97d07f9ce770c\n",
            "  Stored in directory: /root/.cache/pip/wheels/fb/66/29/199acf5784d0f7b8add6d466175ab45506c96e386ed5dd0633\n",
            "  Building wheel for pynndescent (setup.py) ... \u001b[?25l\u001b[?25hdone\n",
            "  Created wheel for pynndescent: filename=pynndescent-0.5.10-py3-none-any.whl size=55615 sha256=b28dd0d2446e981403db11135948b2e4f16fa7d5a9620d14f8b9a6a6bf143bfe\n",
            "  Stored in directory: /root/.cache/pip/wheels/4a/38/5d/f60a40a66a9512b7e5e83517ebc2d1b42d857be97d135f1096\n",
            "Successfully built umap-learn pynndescent\n",
            "Installing collected packages: pynndescent, umap-learn\n",
            "Successfully installed pynndescent-0.5.10 umap-learn-0.5.4\n"
          ]
        }
      ]
    },
    {
      "cell_type": "code",
      "source": [
        "import pandas as pd"
      ],
      "metadata": {
        "id": "GeIuYOiC2FaR"
      },
      "execution_count": null,
      "outputs": []
    },
    {
      "cell_type": "code",
      "source": [
        "penguins = pd.read_csv(\"https://raw.githubusercontent.com/allisonhorst/palmerpenguins/c19a904462482430170bfe2c718775ddb7dbb885/inst/extdata/penguins.csv\")\n",
        "penguins.head()"
      ],
      "metadata": {
        "colab": {
          "base_uri": "https://localhost:8080/",
          "height": 206
        },
        "id": "Rdtv3EGT2QXp",
        "outputId": "9415e4fb-75ba-4e33-c3b6-b2316a57a3a8"
      },
      "execution_count": null,
      "outputs": [
        {
          "output_type": "execute_result",
          "data": {
            "text/plain": [
              "  species     island  bill_length_mm  bill_depth_mm  flipper_length_mm  \\\n",
              "0  Adelie  Torgersen            39.1           18.7              181.0   \n",
              "1  Adelie  Torgersen            39.5           17.4              186.0   \n",
              "2  Adelie  Torgersen            40.3           18.0              195.0   \n",
              "3  Adelie  Torgersen             NaN            NaN                NaN   \n",
              "4  Adelie  Torgersen            36.7           19.3              193.0   \n",
              "\n",
              "   body_mass_g     sex  year  \n",
              "0       3750.0    male  2007  \n",
              "1       3800.0  female  2007  \n",
              "2       3250.0  female  2007  \n",
              "3          NaN     NaN  2007  \n",
              "4       3450.0  female  2007  "
            ],
            "text/html": [
              "\n",
              "  <div id=\"df-b62cad62-d9f3-4295-a749-8501031fa466\" class=\"colab-df-container\">\n",
              "    <div>\n",
              "<style scoped>\n",
              "    .dataframe tbody tr th:only-of-type {\n",
              "        vertical-align: middle;\n",
              "    }\n",
              "\n",
              "    .dataframe tbody tr th {\n",
              "        vertical-align: top;\n",
              "    }\n",
              "\n",
              "    .dataframe thead th {\n",
              "        text-align: right;\n",
              "    }\n",
              "</style>\n",
              "<table border=\"1\" class=\"dataframe\">\n",
              "  <thead>\n",
              "    <tr style=\"text-align: right;\">\n",
              "      <th></th>\n",
              "      <th>species</th>\n",
              "      <th>island</th>\n",
              "      <th>bill_length_mm</th>\n",
              "      <th>bill_depth_mm</th>\n",
              "      <th>flipper_length_mm</th>\n",
              "      <th>body_mass_g</th>\n",
              "      <th>sex</th>\n",
              "      <th>year</th>\n",
              "    </tr>\n",
              "  </thead>\n",
              "  <tbody>\n",
              "    <tr>\n",
              "      <th>0</th>\n",
              "      <td>Adelie</td>\n",
              "      <td>Torgersen</td>\n",
              "      <td>39.1</td>\n",
              "      <td>18.7</td>\n",
              "      <td>181.0</td>\n",
              "      <td>3750.0</td>\n",
              "      <td>male</td>\n",
              "      <td>2007</td>\n",
              "    </tr>\n",
              "    <tr>\n",
              "      <th>1</th>\n",
              "      <td>Adelie</td>\n",
              "      <td>Torgersen</td>\n",
              "      <td>39.5</td>\n",
              "      <td>17.4</td>\n",
              "      <td>186.0</td>\n",
              "      <td>3800.0</td>\n",
              "      <td>female</td>\n",
              "      <td>2007</td>\n",
              "    </tr>\n",
              "    <tr>\n",
              "      <th>2</th>\n",
              "      <td>Adelie</td>\n",
              "      <td>Torgersen</td>\n",
              "      <td>40.3</td>\n",
              "      <td>18.0</td>\n",
              "      <td>195.0</td>\n",
              "      <td>3250.0</td>\n",
              "      <td>female</td>\n",
              "      <td>2007</td>\n",
              "    </tr>\n",
              "    <tr>\n",
              "      <th>3</th>\n",
              "      <td>Adelie</td>\n",
              "      <td>Torgersen</td>\n",
              "      <td>NaN</td>\n",
              "      <td>NaN</td>\n",
              "      <td>NaN</td>\n",
              "      <td>NaN</td>\n",
              "      <td>NaN</td>\n",
              "      <td>2007</td>\n",
              "    </tr>\n",
              "    <tr>\n",
              "      <th>4</th>\n",
              "      <td>Adelie</td>\n",
              "      <td>Torgersen</td>\n",
              "      <td>36.7</td>\n",
              "      <td>19.3</td>\n",
              "      <td>193.0</td>\n",
              "      <td>3450.0</td>\n",
              "      <td>female</td>\n",
              "      <td>2007</td>\n",
              "    </tr>\n",
              "  </tbody>\n",
              "</table>\n",
              "</div>\n",
              "    <div class=\"colab-df-buttons\">\n",
              "\n",
              "  <div class=\"colab-df-container\">\n",
              "    <button class=\"colab-df-convert\" onclick=\"convertToInteractive('df-b62cad62-d9f3-4295-a749-8501031fa466')\"\n",
              "            title=\"Convert this dataframe to an interactive table.\"\n",
              "            style=\"display:none;\">\n",
              "\n",
              "  <svg xmlns=\"http://www.w3.org/2000/svg\" height=\"24px\" viewBox=\"0 -960 960 960\">\n",
              "    <path d=\"M120-120v-720h720v720H120Zm60-500h600v-160H180v160Zm220 220h160v-160H400v160Zm0 220h160v-160H400v160ZM180-400h160v-160H180v160Zm440 0h160v-160H620v160ZM180-180h160v-160H180v160Zm440 0h160v-160H620v160Z\"/>\n",
              "  </svg>\n",
              "    </button>\n",
              "\n",
              "  <style>\n",
              "    .colab-df-container {\n",
              "      display:flex;\n",
              "      gap: 12px;\n",
              "    }\n",
              "\n",
              "    .colab-df-convert {\n",
              "      background-color: #E8F0FE;\n",
              "      border: none;\n",
              "      border-radius: 50%;\n",
              "      cursor: pointer;\n",
              "      display: none;\n",
              "      fill: #1967D2;\n",
              "      height: 32px;\n",
              "      padding: 0 0 0 0;\n",
              "      width: 32px;\n",
              "    }\n",
              "\n",
              "    .colab-df-convert:hover {\n",
              "      background-color: #E2EBFA;\n",
              "      box-shadow: 0px 1px 2px rgba(60, 64, 67, 0.3), 0px 1px 3px 1px rgba(60, 64, 67, 0.15);\n",
              "      fill: #174EA6;\n",
              "    }\n",
              "\n",
              "    .colab-df-buttons div {\n",
              "      margin-bottom: 4px;\n",
              "    }\n",
              "\n",
              "    [theme=dark] .colab-df-convert {\n",
              "      background-color: #3B4455;\n",
              "      fill: #D2E3FC;\n",
              "    }\n",
              "\n",
              "    [theme=dark] .colab-df-convert:hover {\n",
              "      background-color: #434B5C;\n",
              "      box-shadow: 0px 1px 3px 1px rgba(0, 0, 0, 0.15);\n",
              "      filter: drop-shadow(0px 1px 2px rgba(0, 0, 0, 0.3));\n",
              "      fill: #FFFFFF;\n",
              "    }\n",
              "  </style>\n",
              "\n",
              "    <script>\n",
              "      const buttonEl =\n",
              "        document.querySelector('#df-b62cad62-d9f3-4295-a749-8501031fa466 button.colab-df-convert');\n",
              "      buttonEl.style.display =\n",
              "        google.colab.kernel.accessAllowed ? 'block' : 'none';\n",
              "\n",
              "      async function convertToInteractive(key) {\n",
              "        const element = document.querySelector('#df-b62cad62-d9f3-4295-a749-8501031fa466');\n",
              "        const dataTable =\n",
              "          await google.colab.kernel.invokeFunction('convertToInteractive',\n",
              "                                                    [key], {});\n",
              "        if (!dataTable) return;\n",
              "\n",
              "        const docLinkHtml = 'Like what you see? Visit the ' +\n",
              "          '<a target=\"_blank\" href=https://colab.research.google.com/notebooks/data_table.ipynb>data table notebook</a>'\n",
              "          + ' to learn more about interactive tables.';\n",
              "        element.innerHTML = '';\n",
              "        dataTable['output_type'] = 'display_data';\n",
              "        await google.colab.output.renderOutput(dataTable, element);\n",
              "        const docLink = document.createElement('div');\n",
              "        docLink.innerHTML = docLinkHtml;\n",
              "        element.appendChild(docLink);\n",
              "      }\n",
              "    </script>\n",
              "  </div>\n",
              "\n",
              "\n",
              "<div id=\"df-642f13fc-288d-4732-8a87-a8a190610bda\">\n",
              "  <button class=\"colab-df-quickchart\" onclick=\"quickchart('df-642f13fc-288d-4732-8a87-a8a190610bda')\"\n",
              "            title=\"Suggest charts.\"\n",
              "            style=\"display:none;\">\n",
              "\n",
              "<svg xmlns=\"http://www.w3.org/2000/svg\" height=\"24px\"viewBox=\"0 0 24 24\"\n",
              "     width=\"24px\">\n",
              "    <g>\n",
              "        <path d=\"M19 3H5c-1.1 0-2 .9-2 2v14c0 1.1.9 2 2 2h14c1.1 0 2-.9 2-2V5c0-1.1-.9-2-2-2zM9 17H7v-7h2v7zm4 0h-2V7h2v10zm4 0h-2v-4h2v4z\"/>\n",
              "    </g>\n",
              "</svg>\n",
              "  </button>\n",
              "\n",
              "<style>\n",
              "  .colab-df-quickchart {\n",
              "      --bg-color: #E8F0FE;\n",
              "      --fill-color: #1967D2;\n",
              "      --hover-bg-color: #E2EBFA;\n",
              "      --hover-fill-color: #174EA6;\n",
              "      --disabled-fill-color: #AAA;\n",
              "      --disabled-bg-color: #DDD;\n",
              "  }\n",
              "\n",
              "  [theme=dark] .colab-df-quickchart {\n",
              "      --bg-color: #3B4455;\n",
              "      --fill-color: #D2E3FC;\n",
              "      --hover-bg-color: #434B5C;\n",
              "      --hover-fill-color: #FFFFFF;\n",
              "      --disabled-bg-color: #3B4455;\n",
              "      --disabled-fill-color: #666;\n",
              "  }\n",
              "\n",
              "  .colab-df-quickchart {\n",
              "    background-color: var(--bg-color);\n",
              "    border: none;\n",
              "    border-radius: 50%;\n",
              "    cursor: pointer;\n",
              "    display: none;\n",
              "    fill: var(--fill-color);\n",
              "    height: 32px;\n",
              "    padding: 0;\n",
              "    width: 32px;\n",
              "  }\n",
              "\n",
              "  .colab-df-quickchart:hover {\n",
              "    background-color: var(--hover-bg-color);\n",
              "    box-shadow: 0 1px 2px rgba(60, 64, 67, 0.3), 0 1px 3px 1px rgba(60, 64, 67, 0.15);\n",
              "    fill: var(--button-hover-fill-color);\n",
              "  }\n",
              "\n",
              "  .colab-df-quickchart-complete:disabled,\n",
              "  .colab-df-quickchart-complete:disabled:hover {\n",
              "    background-color: var(--disabled-bg-color);\n",
              "    fill: var(--disabled-fill-color);\n",
              "    box-shadow: none;\n",
              "  }\n",
              "\n",
              "  .colab-df-spinner {\n",
              "    border: 2px solid var(--fill-color);\n",
              "    border-color: transparent;\n",
              "    border-bottom-color: var(--fill-color);\n",
              "    animation:\n",
              "      spin 1s steps(1) infinite;\n",
              "  }\n",
              "\n",
              "  @keyframes spin {\n",
              "    0% {\n",
              "      border-color: transparent;\n",
              "      border-bottom-color: var(--fill-color);\n",
              "      border-left-color: var(--fill-color);\n",
              "    }\n",
              "    20% {\n",
              "      border-color: transparent;\n",
              "      border-left-color: var(--fill-color);\n",
              "      border-top-color: var(--fill-color);\n",
              "    }\n",
              "    30% {\n",
              "      border-color: transparent;\n",
              "      border-left-color: var(--fill-color);\n",
              "      border-top-color: var(--fill-color);\n",
              "      border-right-color: var(--fill-color);\n",
              "    }\n",
              "    40% {\n",
              "      border-color: transparent;\n",
              "      border-right-color: var(--fill-color);\n",
              "      border-top-color: var(--fill-color);\n",
              "    }\n",
              "    60% {\n",
              "      border-color: transparent;\n",
              "      border-right-color: var(--fill-color);\n",
              "    }\n",
              "    80% {\n",
              "      border-color: transparent;\n",
              "      border-right-color: var(--fill-color);\n",
              "      border-bottom-color: var(--fill-color);\n",
              "    }\n",
              "    90% {\n",
              "      border-color: transparent;\n",
              "      border-bottom-color: var(--fill-color);\n",
              "    }\n",
              "  }\n",
              "</style>\n",
              "\n",
              "  <script>\n",
              "    async function quickchart(key) {\n",
              "      const quickchartButtonEl =\n",
              "        document.querySelector('#' + key + ' button');\n",
              "      quickchartButtonEl.disabled = true;  // To prevent multiple clicks.\n",
              "      quickchartButtonEl.classList.add('colab-df-spinner');\n",
              "      try {\n",
              "        const charts = await google.colab.kernel.invokeFunction(\n",
              "            'suggestCharts', [key], {});\n",
              "      } catch (error) {\n",
              "        console.error('Error during call to suggestCharts:', error);\n",
              "      }\n",
              "      quickchartButtonEl.classList.remove('colab-df-spinner');\n",
              "      quickchartButtonEl.classList.add('colab-df-quickchart-complete');\n",
              "    }\n",
              "    (() => {\n",
              "      let quickchartButtonEl =\n",
              "        document.querySelector('#df-642f13fc-288d-4732-8a87-a8a190610bda button');\n",
              "      quickchartButtonEl.style.display =\n",
              "        google.colab.kernel.accessAllowed ? 'block' : 'none';\n",
              "    })();\n",
              "  </script>\n",
              "</div>\n",
              "    </div>\n",
              "  </div>\n"
            ]
          },
          "metadata": {},
          "execution_count": 73
        }
      ]
    },
    {
      "cell_type": "code",
      "source": [
        "penguins = penguins.dropna()"
      ],
      "metadata": {
        "id": "uBL4CMiJ2ahu"
      },
      "execution_count": null,
      "outputs": []
    },
    {
      "cell_type": "code",
      "source": [
        "import umap"
      ],
      "metadata": {
        "id": "N13NvDYe2RHA"
      },
      "execution_count": null,
      "outputs": []
    },
    {
      "cell_type": "code",
      "source": [
        "reducer = umap.UMAP()"
      ],
      "metadata": {
        "id": "wJTHU-q92fgp"
      },
      "execution_count": null,
      "outputs": []
    },
    {
      "cell_type": "code",
      "source": [
        "penguin_data = penguins[\n",
        "    [\n",
        "        \"bill_length_mm\",\n",
        "        \"bill_depth_mm\",\n",
        "        \"flipper_length_mm\",\n",
        "        \"body_mass_g\",\n",
        "    ]\n",
        "].values"
      ],
      "metadata": {
        "id": "u1YRFOLO2xMt"
      },
      "execution_count": null,
      "outputs": []
    },
    {
      "cell_type": "code",
      "source": [
        "from sklearn.preprocessing import StandardScaler\n",
        "scaled_penguin_data = StandardScaler().fit_transform(penguin_data)"
      ],
      "metadata": {
        "id": "aL6P4RCH2g33"
      },
      "execution_count": null,
      "outputs": []
    },
    {
      "cell_type": "code",
      "source": [
        "embedding = reducer.fit_transform(scaled_penguin_data)"
      ],
      "metadata": {
        "id": "Z8YpX-tt2ji5"
      },
      "execution_count": null,
      "outputs": []
    },
    {
      "cell_type": "markdown",
      "source": [
        "## Упражнение\n",
        "\n"
      ],
      "metadata": {
        "id": "lL9SxTPKmdkb"
      }
    },
    {
      "cell_type": "code",
      "source": [],
      "metadata": {
        "id": "yyx_GNY42yHX"
      },
      "execution_count": null,
      "outputs": []
    }
  ]
}