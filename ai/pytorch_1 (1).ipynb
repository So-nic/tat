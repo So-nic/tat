{
  "nbformat": 4,
  "nbformat_minor": 0,
  "metadata": {
    "colab": {
      "provenance": []
    },
    "kernelspec": {
      "name": "python3",
      "display_name": "Python 3"
    },
    "language_info": {
      "name": "python"
    }
  },
  "cells": [
    {
      "cell_type": "code",
      "execution_count": null,
      "metadata": {
        "id": "sdM9YVgh-LEU"
      },
      "outputs": [],
      "source": [
        "import torch\n",
        "import numpy as np\n",
        "import pandas as pd"
      ]
    },
    {
      "cell_type": "markdown",
      "source": [
        "Данная строка кода создает тензор в библиотеке PyTorch.\n",
        "\n",
        "**torch.tensor()** - это функция для создания тензора. В данном случае, передаваемый аргумент [[1., -1.], [1., -1.]] представляет собой двумерный массив/список, содержащий значения для инициализации тензора."
      ],
      "metadata": {
        "id": "pn9QyEYS-9nn"
      }
    },
    {
      "cell_type": "code",
      "source": [
        "torch.tensor([[1., -1.], [1., -1.]])"
      ],
      "metadata": {
        "colab": {
          "base_uri": "https://localhost:8080/"
        },
        "id": "sC38Wd_N-iGQ",
        "outputId": "9258b177-cc29-45e3-e708-28bac73c23c6"
      },
      "execution_count": null,
      "outputs": [
        {
          "output_type": "execute_result",
          "data": {
            "text/plain": [
              "tensor([[ 1., -1.],\n",
              "        [ 1., -1.]])"
            ]
          },
          "metadata": {},
          "execution_count": 2
        }
      ]
    },
    {
      "cell_type": "markdown",
      "source": [
        "Эта строка кода создает тензор в библиотеке PyTorch, используя функцию torch.tensor(). В данном случае, в качестве аргумента передается результат преобразования массива NumPy в тензор."
      ],
      "metadata": {
        "id": "ik5K33EJ_Maj"
      }
    },
    {
      "cell_type": "code",
      "source": [
        "torch.tensor(np.array([[1, 2, 3], [4, 5, 6]]))"
      ],
      "metadata": {
        "colab": {
          "base_uri": "https://localhost:8080/"
        },
        "id": "iwfLw06M_M43",
        "outputId": "0a46364a-8aca-40e6-8037-c82eaca49096"
      },
      "execution_count": null,
      "outputs": [
        {
          "output_type": "execute_result",
          "data": {
            "text/plain": [
              "tensor([[1, 2, 3],\n",
              "        [4, 5, 6]])"
            ]
          },
          "metadata": {},
          "execution_count": 3
        }
      ]
    },
    {
      "cell_type": "markdown",
      "source": [
        "Данная строка кода выполняет преобразование массива NumPy в тензор PyTorch."
      ],
      "metadata": {
        "id": "h8wyAW7w_m-v"
      }
    },
    {
      "cell_type": "code",
      "source": [
        "torch.from_numpy(np.array([[1, 2, 3], [4, 5, 6]]))"
      ],
      "metadata": {
        "colab": {
          "base_uri": "https://localhost:8080/"
        },
        "id": "9I3KQgie_nrj",
        "outputId": "40d595aa-4ead-4ec0-f227-2f73b1479093"
      },
      "execution_count": null,
      "outputs": [
        {
          "output_type": "execute_result",
          "data": {
            "text/plain": [
              "tensor([[1, 2, 3],\n",
              "        [4, 5, 6]])"
            ]
          },
          "metadata": {},
          "execution_count": 4
        }
      ]
    },
    {
      "cell_type": "markdown",
      "source": [
        "Данная строка кода создает тензор PyTorch размером 2x4, заполненный нулями и с типом данных torch.complex32."
      ],
      "metadata": {
        "id": "5M_04wEq_rPS"
      }
    },
    {
      "cell_type": "code",
      "source": [
        "torch.zeros([2, 4], dtype=torch.complex32)"
      ],
      "metadata": {
        "colab": {
          "base_uri": "https://localhost:8080/"
        },
        "id": "x6-ivGu9AS6X",
        "outputId": "6825612a-4925-4a5d-a029-7c3e6d9507f9"
      },
      "execution_count": null,
      "outputs": [
        {
          "output_type": "stream",
          "name": "stderr",
          "text": [
            "<ipython-input-5-36c2eba0da08>:1: UserWarning: ComplexHalf support is experimental and many operators don't support it yet. (Triggered internally at ../aten/src/ATen/EmptyTensor.cpp:31.)\n",
            "  torch.zeros([2, 4], dtype=torch.complex32)\n"
          ]
        },
        {
          "output_type": "execute_result",
          "data": {
            "text/plain": [
              "tensor([[0.+0.j, 0.+0.j, 0.+0.j, 0.+0.j],\n",
              "        [0.+0.j, 0.+0.j, 0.+0.j, 0.+0.j]], dtype=torch.complex32)"
            ]
          },
          "metadata": {},
          "execution_count": 5
        }
      ]
    },
    {
      "cell_type": "markdown",
      "source": [
        "Данная строка кода создает тензор PyTorch размером 2x4, заполненный единицами и с типом данных torch.int64."
      ],
      "metadata": {
        "id": "wS216mQLAs2R"
      }
    },
    {
      "cell_type": "code",
      "source": [
        "torch.ones([2, 4], dtype=torch.int64)"
      ],
      "metadata": {
        "colab": {
          "base_uri": "https://localhost:8080/"
        },
        "id": "GncahITiAvzL",
        "outputId": "7a00da45-5bc9-400c-90db-23300c6c288d"
      },
      "execution_count": null,
      "outputs": [
        {
          "output_type": "execute_result",
          "data": {
            "text/plain": [
              "tensor([[1, 1, 1, 1],\n",
              "        [1, 1, 1, 1]])"
            ]
          },
          "metadata": {},
          "execution_count": 6
        }
      ]
    },
    {
      "cell_type": "markdown",
      "source": [
        "Данная строка кода создает единичную матрицу (или матрицу единичного соотношения) размером 5x5 с использованием библиотеки PyTorch.\n",
        "\n",
        "torch.eye() используется для создания единичной матрицы с размерами, заданными аргументом. В данном случае, аргумент 5 указывает на размеры матрицы - 5 строк и 5 столбцов."
      ],
      "metadata": {
        "id": "hQFX1Cu8A0xx"
      }
    },
    {
      "cell_type": "code",
      "source": [
        "torch.eye(5)"
      ],
      "metadata": {
        "colab": {
          "base_uri": "https://localhost:8080/"
        },
        "id": "Hbo_mNe3BPwc",
        "outputId": "fd614c38-91ed-431f-8337-48b6e0fa01ed"
      },
      "execution_count": null,
      "outputs": [
        {
          "output_type": "execute_result",
          "data": {
            "text/plain": [
              "tensor([[1., 0., 0., 0., 0.],\n",
              "        [0., 1., 0., 0., 0.],\n",
              "        [0., 0., 1., 0., 0.],\n",
              "        [0., 0., 0., 1., 0.],\n",
              "        [0., 0., 0., 0., 1.]])"
            ]
          },
          "metadata": {},
          "execution_count": 7
        }
      ]
    },
    {
      "cell_type": "markdown",
      "source": [
        "Данная строка кода используется для проверки наличия и доступности GPU (графического процессора) для вычислений с помощью библиотеки PyTorch.\n",
        "\n",
        "Метод torch.cuda.is_available() возвращает булево значение (True или False) в зависимости от того, доступно ли GPU для использования.\n",
        "\n",
        "Если возвращается значение True, это означает, что у вас установлен и доступен GPU, и вы можете использовать его для ускорения вычислений в PyTorch. Если возвращается значение False, это означает, что либо у вас нет GPU, либо оно не доступно для использования в данный момент."
      ],
      "metadata": {
        "id": "P4nz-c42BUi7"
      }
    },
    {
      "cell_type": "code",
      "source": [
        "torch.cuda.is_available()"
      ],
      "metadata": {
        "colab": {
          "base_uri": "https://localhost:8080/"
        },
        "id": "Mgf9SLReBrNz",
        "outputId": "3f3d7864-c126-45e7-8ff6-44547d5327c5"
      },
      "execution_count": null,
      "outputs": [
        {
          "output_type": "execute_result",
          "data": {
            "text/plain": [
              "False"
            ]
          },
          "metadata": {},
          "execution_count": 8
        }
      ]
    },
    {
      "cell_type": "markdown",
      "source": [
        "Данная строка кода используется для выбора устройства (device) для выполнения вычислений в PyTorch, в зависимости от доступности и возможности использования графического процессора (GPU)."
      ],
      "metadata": {
        "id": "nCPtRwH_B-gO"
      }
    },
    {
      "cell_type": "code",
      "source": [
        "device = 'cuda' if torch.cuda.is_available() else 'cpu'"
      ],
      "metadata": {
        "id": "ZQJ7mmI4B_Vi"
      },
      "execution_count": null,
      "outputs": []
    },
    {
      "cell_type": "code",
      "source": [
        "A = torch.tensor([[1., -1.], [1., -1.]])"
      ],
      "metadata": {
        "id": "hvLyz8SoCH7d"
      },
      "execution_count": null,
      "outputs": []
    },
    {
      "cell_type": "markdown",
      "source": [
        "Данная строка кода выполняет операцию переноса (move) объекта A на определенное устройство (device) в PyTorch.\n",
        "\n",
        "В PyTorch, устройство (device) может быть 'cuda' для использования графического процессора (GPU) или 'cpu' для использования центрального процессора (CPU).\n",
        "\n",
        "Функция to(device) позволяет изменять расположение (device) тензора или модели PyTorch. При выполнении операции A.to(device), тензор или модель A будет перемещен(а) на указанное устройство (device)."
      ],
      "metadata": {
        "id": "4hn4_B5-CMrS"
      }
    },
    {
      "cell_type": "code",
      "source": [
        "A.to(device)"
      ],
      "metadata": {
        "colab": {
          "base_uri": "https://localhost:8080/"
        },
        "id": "snZIbQ2uC3B4",
        "outputId": "5e54ed69-1bc4-456e-9ffb-84f0ce202c11"
      },
      "execution_count": null,
      "outputs": [
        {
          "output_type": "execute_result",
          "data": {
            "text/plain": [
              "tensor([[ 1., -1.],\n",
              "        [ 1., -1.]])"
            ]
          },
          "metadata": {},
          "execution_count": 11
        }
      ]
    },
    {
      "cell_type": "code",
      "source": [
        "device = 'cpu'"
      ],
      "metadata": {
        "id": "TJzEZCB7C_VU"
      },
      "execution_count": null,
      "outputs": []
    },
    {
      "cell_type": "code",
      "source": [
        "a = torch.Tensor([1,2,3])"
      ],
      "metadata": {
        "id": "nJLAh6QaDEPA"
      },
      "execution_count": null,
      "outputs": []
    },
    {
      "cell_type": "code",
      "source": [
        "a.to(device)"
      ],
      "metadata": {
        "colab": {
          "base_uri": "https://localhost:8080/"
        },
        "id": "0M9hHWY8DFlF",
        "outputId": "1a460bd2-0873-4b9b-cf65-20580b882dc9"
      },
      "execution_count": null,
      "outputs": [
        {
          "output_type": "execute_result",
          "data": {
            "text/plain": [
              "tensor([1., 2., 3.])"
            ]
          },
          "metadata": {},
          "execution_count": 14
        }
      ]
    },
    {
      "cell_type": "code",
      "source": [
        "x = torch.tensor([[1, 2, 3], [4, 5, 6]])\n",
        "print(x[0][1],'\\n\\n')\n",
        "\n",
        "x[0][1] = 8\n",
        "print(x)"
      ],
      "metadata": {
        "colab": {
          "base_uri": "https://localhost:8080/"
        },
        "id": "Iozds3OUDJa1",
        "outputId": "74fc8b5f-2629-4ef2-d42b-bd0e2bb6b937"
      },
      "execution_count": null,
      "outputs": [
        {
          "output_type": "stream",
          "name": "stdout",
          "text": [
            "tensor(2) \n",
            "\n",
            "\n",
            "tensor([[1, 8, 3],\n",
            "        [4, 5, 6]])\n"
          ]
        }
      ]
    },
    {
      "cell_type": "code",
      "source": [
        "A.shape"
      ],
      "metadata": {
        "colab": {
          "base_uri": "https://localhost:8080/"
        },
        "id": "GcdJAbPWDUM2",
        "outputId": "d62e4548-ca68-469b-bde9-0342f551bd9f"
      },
      "execution_count": null,
      "outputs": [
        {
          "output_type": "execute_result",
          "data": {
            "text/plain": [
              "torch.Size([2, 2])"
            ]
          },
          "metadata": {},
          "execution_count": 16
        }
      ]
    },
    {
      "cell_type": "code",
      "source": [
        "x = torch.tensor([[1]])\n",
        "int(x[0][0])"
      ],
      "metadata": {
        "colab": {
          "base_uri": "https://localhost:8080/"
        },
        "id": "AhAhCIjAEBah",
        "outputId": "90af9a4f-0103-4af9-f09d-e665016821e5"
      },
      "execution_count": null,
      "outputs": [
        {
          "output_type": "execute_result",
          "data": {
            "text/plain": [
              "1"
            ]
          },
          "metadata": {},
          "execution_count": 17
        }
      ]
    },
    {
      "cell_type": "markdown",
      "source": [
        "Данная строка кода возвращает скалярное значение (тип данных Python) из тензора x в PyTorch.\n",
        "\n",
        "В PyTorch, тензоры могут содержать как многомерные массивы значений (например, матрицы), так и скалярные значения (единичные числа). Метод item() применяется к тензору x и извлекает его значение как обычное число в Python. Если x содержит более одного элемента, то item() вернет только первый элемент тензора."
      ],
      "metadata": {
        "id": "8ARKT-lbEMEg"
      }
    },
    {
      "cell_type": "code",
      "source": [
        "x.item()"
      ],
      "metadata": {
        "colab": {
          "base_uri": "https://localhost:8080/"
        },
        "id": "tTydArtSETP4",
        "outputId": "ab046b39-8054-4167-d789-a7d7b1aa5b29"
      },
      "execution_count": null,
      "outputs": [
        {
          "output_type": "execute_result",
          "data": {
            "text/plain": [
              "1"
            ]
          },
          "metadata": {},
          "execution_count": 18
        }
      ]
    },
    {
      "cell_type": "markdown",
      "source": [
        "Данный код выполняет вычисление градиента функции от переменной x в PyTorch, используя автоматическое дифференцирование.\n",
        "\n",
        "В первой строке создается тензор x размером 2x2 с указанными значениями. Параметр requires_grad=True указывает, что мы хотим вычислить градиенты этого тензора в отношении других тензоров или скаляров.\n",
        "\n",
        "Во второй строке вычисляется функция out, которая является результатом возведения элементов тензора x в квадрат и их суммирования. Это выражение можно записать как: out = x[0,0]^2 + x[0,1]^2 + x[1,0]^2 + x[1,1]^2.\n",
        "\n",
        "В третьей строке вызывается метод backward(), который инициирует обратное распространение ошибки (backpropagation) и вычисляет градиенты всех тензоров с параметром requires_grad=True относительно out.\n",
        "\n",
        "В последней строке кода x.grad возвращает вычисленные градиенты функции out по отношению к x. Градиенты сохраняются в атрибуте grad объекта x."
      ],
      "metadata": {
        "id": "WWnua7LyE4zR"
      }
    },
    {
      "cell_type": "code",
      "source": [
        "x = torch.tensor([[1., -1.], [1., 1.]], requires_grad=True)\n",
        "out = x.pow(2).sum()\n",
        "out.backward()\n",
        "x.grad"
      ],
      "metadata": {
        "colab": {
          "base_uri": "https://localhost:8080/"
        },
        "id": "KwO9Ta6FE5ez",
        "outputId": "d5b61757-888e-42f7-d3f6-0868454cae0f"
      },
      "execution_count": null,
      "outputs": [
        {
          "output_type": "execute_result",
          "data": {
            "text/plain": [
              "tensor([[ 2., -2.],\n",
              "        [ 2.,  2.]])"
            ]
          },
          "metadata": {},
          "execution_count": 19
        }
      ]
    },
    {
      "cell_type": "markdown",
      "source": [
        "Данная строка кода выполняет операцию возведения в квадрат каждого элемента тензора x."
      ],
      "metadata": {
        "id": "KC1hoqKxFdVf"
      }
    },
    {
      "cell_type": "code",
      "source": [
        "x.pow(2)"
      ],
      "metadata": {
        "colab": {
          "base_uri": "https://localhost:8080/"
        },
        "id": "N1ZQYim7Fe4V",
        "outputId": "321248e8-7f50-4eb5-aadc-7db1df13c93d"
      },
      "execution_count": null,
      "outputs": [
        {
          "output_type": "execute_result",
          "data": {
            "text/plain": [
              "tensor([[1., 1.],\n",
              "        [1., 1.]], grad_fn=<PowBackward0>)"
            ]
          },
          "metadata": {},
          "execution_count": 20
        }
      ]
    },
    {
      "cell_type": "markdown",
      "source": [
        "Данный код создает новый тензор на основе data и присваивает его переменной tensor.\n",
        "\n",
        "tensor.new_tensor(data) создает новый тензор на основе data с теми же типом данных и устройством памяти, что и у исходного тензора tensor. Это позволяет создать новый тензор с такими же характеристиками, но с другими значениями.\n",
        "\n",
        "В данном случае, исходный тензор tensor инициализируется с помощью функции torch.ones с размерностью (2,) и типом данных torch.int8. Затем, с использованием метода new_tensor, создается новый тензор с данными из data."
      ],
      "metadata": {
        "id": "PVvCeI4fFzIu"
      }
    },
    {
      "cell_type": "code",
      "source": [
        "tensor = torch.ones((2,), dtype=torch.int8)\n",
        "data = [[0, 1], [2, 3]]\n",
        "tensor.new_tensor(data)"
      ],
      "metadata": {
        "colab": {
          "base_uri": "https://localhost:8080/"
        },
        "id": "TDQxOp8FFziK",
        "outputId": "ef8689e3-0d08-460e-a3eb-c3565b8843c6"
      },
      "execution_count": null,
      "outputs": [
        {
          "output_type": "execute_result",
          "data": {
            "text/plain": [
              "tensor([[0, 1],\n",
              "        [2, 3]], dtype=torch.int8)"
            ]
          },
          "metadata": {},
          "execution_count": 21
        }
      ]
    },
    {
      "cell_type": "markdown",
      "source": [
        "Копирование тензоров производится функцией tensor.clone()"
      ],
      "metadata": {
        "id": "7ii8PKiUF3kE"
      }
    },
    {
      "cell_type": "code",
      "source": [
        "a = torch.tensor([[2,1,3],[3,2,1],[5,4,2]])\n",
        "b = a.clone()"
      ],
      "metadata": {
        "id": "aVIhs9rOF5kf"
      },
      "execution_count": null,
      "outputs": []
    },
    {
      "cell_type": "markdown",
      "source": [
        " Продифференцируем функцию u(x,y) = x^2 + y^2 -x - y"
      ],
      "metadata": {
        "id": "d0qGoQUaGhvm"
      }
    },
    {
      "cell_type": "markdown",
      "source": [
        "Данный код выполняет следующие действия:\n",
        "\n",
        "Создает два тензора x и y с одним элементом [4.] и [2.] соответственно. Оба тензора имеют установленный флаг requires_grad = True, что указывает на то, что необходимо вычислять градиенты по этим тензорам в процессе обратного распространения ошибки.\n",
        "\n",
        "Создает переменные x и y с помощью класса Variable из модуля torch.autograd. Это старая версия использования градиентов в PyTorch, и сейчас рекомендуется использовать просто тензоры с флагом requires_grad = True.\n",
        "\n",
        "Выполняет вычисление функции u, которая является результатом вычисления выражения x^2 + y^2 - x - y.\n",
        "\n",
        "Вызывает метод backward() для тензора u для вычисления градиентов по x и y. Флаг retain_graph=True указывает на то, что граф вычислений должен быть сохранен, чтобы можно было вычислить градиенты в следующих строках кода.\n",
        "\n",
        "Выводит градиенты x.grad и y.grad.\n",
        "\n",
        "Обнуляет градиенты тензоров x и y с помощью метода zero_().\n",
        "\n",
        "Создает тензор a размером (2, 2) со случайными значениями, а затем выполняет вычисления над ним, включающие умножение на 3, деление на (a - 1). Флаг requires_grad для a сначала равен False, но после вызова requires_grad_(True) он устанавливается на True.\n",
        "\n",
        "Вычисляет b как сумму элементов a в квадрате.\n",
        "\n",
        "Выводит информацию о градиентной функции b.grad_fn, которая отображает примененную операцию для получения b.\n",
        "\n",
        "Создает тензор x размером (2, 2) из единиц с установленным флагом requires_grad=True.\n",
        "\n",
        "Выполняет операцию y = x + 2.\n",
        "\n",
        "Выполняет операцию z = y * y * 3.\n",
        "\n",
        "Выполняет операцию out = z.mean() - вычисление среднего значения элементов z.\n",
        "\n",
        "Вызывает метод backward() для тензора out для вычисления градиентов по x.\n",
        "\n",
        "Выводит градиенты x.grad."
      ],
      "metadata": {
        "id": "MaAl__F8IKpe"
      }
    },
    {
      "cell_type": "code",
      "source": [
        "x = torch.tensor([4.], requires_grad = True)\n",
        "y = torch.tensor([2.], requires_grad = True)\n",
        "\n",
        "from torch.autograd import Variable\n",
        "x = Variable(x, requires_grad = True)\n",
        "y = Variable(y, requires_grad = True)\n",
        "\n",
        "u = torch.pow(x,2) +  torch.pow(y,2) - x - y\n",
        "\n",
        "u.backward(retain_graph=True)\n",
        "print('gradient of x: {}'.format(x.grad), '\\n gradient of y: {}'.format(y.grad))\n",
        "\n",
        "x.grad.data.zero_()\n",
        "y.grad.data.zero_()\n",
        "\n",
        "a = torch.randn(2, 2)\n",
        "a = ((a * 3) / (a - 1))\n",
        "print(a.requires_grad)\n",
        "a.requires_grad_(True)\n",
        "print(a.requires_grad)\n",
        "b = (a * a).sum()\n",
        "print(b.grad_fn)\n",
        "\n",
        "x = torch.ones(2, 2, requires_grad=True)\n",
        "print(x)\n",
        "y = x + 2\n",
        "print(y)\n",
        "z = y * y * 3\n",
        "out = z.mean()\n",
        "print(z, out)\n",
        "out.backward()\n",
        "print(x.grad)"
      ],
      "metadata": {
        "colab": {
          "base_uri": "https://localhost:8080/"
        },
        "id": "EokATPp5Gie9",
        "outputId": "db35a2eb-b7d6-41b5-8976-33e57a73f578"
      },
      "execution_count": null,
      "outputs": [
        {
          "output_type": "stream",
          "name": "stdout",
          "text": [
            "gradient of x: tensor([7.]) \n",
            " gradient of y: tensor([3.])\n",
            "False\n",
            "True\n",
            "<SumBackward0 object at 0x7810e88f4100>\n",
            "tensor([[1., 1.],\n",
            "        [1., 1.]], requires_grad=True)\n",
            "tensor([[3., 3.],\n",
            "        [3., 3.]], grad_fn=<AddBackward0>)\n",
            "tensor([[27., 27.],\n",
            "        [27., 27.]], grad_fn=<MulBackward0>) tensor(27., grad_fn=<MeanBackward0>)\n",
            "tensor([[4.5000, 4.5000],\n",
            "        [4.5000, 4.5000]])\n"
          ]
        }
      ]
    },
    {
      "cell_type": "markdown",
      "source": [
        "Данный код выполняет следующие действия:\n",
        "\n",
        "Печатает значение свойства requires_grad для тензора x. Свойство requires_grad указывает, следует ли вычислять градиенты для данного тензора при выполнении операций с ним. Значение True означает, что градиенты будут вычисляться, а значение False означает, что градиенты не будут вычисляться.\n",
        "\n",
        "Создает новый тензор y с помощью метода detach() от тензора x. Метод detach() создает новый тензор, который является копией x, но не связан с графом вычислений. Это означает, что градиенты не будут вычисляться для y и он будет являться отдельным от x тензором.\n",
        "\n",
        "Печатает значение свойства requires_grad для тензора y. Здесь значение должно быть False, так как y был создан с отключенным вычислением градиентов при отделении его от x с помощью detach()."
      ],
      "metadata": {
        "id": "Xr7CV0v-HrB-"
      }
    },
    {
      "cell_type": "code",
      "source": [
        "print(x.requires_grad)\n",
        "y = x.detach()\n",
        "print(y.requires_grad)"
      ],
      "metadata": {
        "colab": {
          "base_uri": "https://localhost:8080/"
        },
        "id": "lVpLiMvRHrnW",
        "outputId": "89448003-19b3-496d-ec4f-2b179e1b91aa"
      },
      "execution_count": null,
      "outputs": [
        {
          "output_type": "stream",
          "name": "stdout",
          "text": [
            "True\n",
            "False\n"
          ]
        }
      ]
    },
    {
      "cell_type": "markdown",
      "source": [
        "## Методы view(), cat()"
      ],
      "metadata": {
        "id": "zKAGi1U3IM4E"
      }
    },
    {
      "cell_type": "code",
      "source": [
        "tensor = torch.FloatTensor([[1,2,3],[4,5,6],[7,8,9]])"
      ],
      "metadata": {
        "id": "eOL-8YBEISuz"
      },
      "execution_count": null,
      "outputs": []
    },
    {
      "cell_type": "markdown",
      "source": [
        "Метод **view()** используется для изменения формы тензора, чтобы он соответствовал новым размерам, указанным в аргументе."
      ],
      "metadata": {
        "id": "wQsr2wzTI5Ov"
      }
    },
    {
      "cell_type": "markdown",
      "source": [
        "Данная строчка кода выполняет операцию изменения размерности (reshaping) для тензора tensor"
      ],
      "metadata": {
        "id": "KPXpxAumI-L-"
      }
    },
    {
      "cell_type": "code",
      "source": [
        "tensor.view(-1)"
      ],
      "metadata": {
        "colab": {
          "base_uri": "https://localhost:8080/"
        },
        "id": "YyCe3XVmJB8_",
        "outputId": "cdcab9bf-e8d1-4ef9-f4bb-513f0cd80c42"
      },
      "execution_count": null,
      "outputs": [
        {
          "output_type": "execute_result",
          "data": {
            "text/plain": [
              "tensor([1., 2., 3., 4., 5., 6., 7., 8., 9.])"
            ]
          },
          "metadata": {},
          "execution_count": 27
        }
      ]
    },
    {
      "cell_type": "markdown",
      "source": [
        "Когда аргументы заданы как 1,-1, это означает, что мы хотим изменить форму тензора на такую, где первое измерение имеет размер 1 (то есть будет добавлено одно измерение), а размер второго измерения рассчитывается автоматически на основе общего количества элементов в тензоре, чтобы поддерживать согласованность.\n",
        "\n",
        "Таким образом, tensor.view(1,-1) преобразует тензор tensor в новую форму, где он будет иметь размерность (1, N), где N - это автоматически вычисленный размер второго измерения. Это может быть полезно, например, при решении задач, где ожидается ввод тензора определенного размера или формы, или для операций, требующих конкретной размерности."
      ],
      "metadata": {
        "id": "Wx7K3f9UJgUJ"
      }
    },
    {
      "cell_type": "code",
      "source": [
        "tensor.view(1,-1)"
      ],
      "metadata": {
        "colab": {
          "base_uri": "https://localhost:8080/"
        },
        "id": "b4pPrj8wJg-J",
        "outputId": "2232ea6e-9da7-4547-c303-1a0c4cd287ca"
      },
      "execution_count": null,
      "outputs": [
        {
          "output_type": "execute_result",
          "data": {
            "text/plain": [
              "tensor([[1., 2., 3., 4., 5., 6., 7., 8., 9.]])"
            ]
          },
          "metadata": {},
          "execution_count": 28
        }
      ]
    },
    {
      "cell_type": "markdown",
      "source": [
        "Когда аргумент -1 используется в методе view(), это означает, что размер этого измерения должен быть вычислен автоматически. Таким образом, -1, 1 указывает на новую форму тензора, где первое измерение будет иметь неопределенный размер (размер будет вычислен автоматически), а второе измерение будет иметь размер 1.\n",
        "\n",
        "Итак, tensor.view(-1, 1) изменяет форму тензора tensor на новую форму, где он будет иметь размерность (N, 1), где N - это автоматически вычисленный размер первого измерения. Это может быть полезно, например, при решении задач, где ожидается вывод тензора с определенной размерностью или формой, или для операций, требующих конкретной размерности."
      ],
      "metadata": {
        "id": "bd0-ikqHKw5Y"
      }
    },
    {
      "cell_type": "code",
      "source": [
        "tensor.view(-1,1)"
      ],
      "metadata": {
        "colab": {
          "base_uri": "https://localhost:8080/"
        },
        "id": "KOI_vmRiKx40",
        "outputId": "3d99640e-2280-480f-ea2e-d35e9e353b48"
      },
      "execution_count": null,
      "outputs": [
        {
          "output_type": "execute_result",
          "data": {
            "text/plain": [
              "tensor([[1.],\n",
              "        [2.],\n",
              "        [3.],\n",
              "        [4.],\n",
              "        [5.],\n",
              "        [6.],\n",
              "        [7.],\n",
              "        [8.],\n",
              "        [9.]])"
            ]
          },
          "metadata": {},
          "execution_count": 29
        }
      ]
    },
    {
      "cell_type": "code",
      "source": [
        "tensor2 = torch.FloatTensor([[10,11,12]])"
      ],
      "metadata": {
        "id": "_kcHRuv9K2x7"
      },
      "execution_count": null,
      "outputs": []
    },
    {
      "cell_type": "markdown",
      "source": [
        "Данная строка кода выполняет операцию конкатенации (объединения) двух тензоров tensor и tensor2 вдоль указанного измерения dim=0.\n",
        "\n",
        "Метод torch.cat() используется для объединения (конкатенации) тензоров вдоль указанной оси (измерения). В данном случае, tensor и tensor2 являются аргументами метода torch.cat(), а dim=0 указывает на ось, вдоль которой будет выполняться объединение."
      ],
      "metadata": {
        "id": "Gj_InHmeLI6N"
      }
    },
    {
      "cell_type": "code",
      "source": [
        "Tensor = torch.cat((tensor,tensor2), dim=0)"
      ],
      "metadata": {
        "id": "5Ekkr1viLHzt"
      },
      "execution_count": null,
      "outputs": []
    },
    {
      "cell_type": "code",
      "source": [
        "Tensor2 = Tensor.new_full((4,3),3)\n",
        "Tensor2"
      ],
      "metadata": {
        "colab": {
          "base_uri": "https://localhost:8080/"
        },
        "id": "eQSwt_SMLNZ1",
        "outputId": "e887d550-dc5e-4a5a-9e7c-edf0e815d23c"
      },
      "execution_count": null,
      "outputs": [
        {
          "output_type": "execute_result",
          "data": {
            "text/plain": [
              "tensor([[3., 3., 3.],\n",
              "        [3., 3., 3.],\n",
              "        [3., 3., 3.],\n",
              "        [3., 3., 3.]])"
            ]
          },
          "metadata": {},
          "execution_count": 32
        }
      ]
    },
    {
      "cell_type": "code",
      "source": [
        "TENSOR = torch.cat((Tensor,Tensor2),axis = 0)\n",
        "TENSOR"
      ],
      "metadata": {
        "colab": {
          "base_uri": "https://localhost:8080/"
        },
        "id": "zUgA8xdfLS2w",
        "outputId": "11cad0f2-daba-40b3-b52b-ab37f4f71ab0"
      },
      "execution_count": null,
      "outputs": [
        {
          "output_type": "execute_result",
          "data": {
            "text/plain": [
              "tensor([[ 1.,  2.,  3.],\n",
              "        [ 4.,  5.,  6.],\n",
              "        [ 7.,  8.,  9.],\n",
              "        [10., 11., 12.],\n",
              "        [ 3.,  3.,  3.],\n",
              "        [ 3.,  3.,  3.],\n",
              "        [ 3.,  3.,  3.],\n",
              "        [ 3.,  3.,  3.]])"
            ]
          },
          "metadata": {},
          "execution_count": 33
        }
      ]
    },
    {
      "cell_type": "code",
      "source": [
        "TENSOR = torch.cat((Tensor,Tensor2),axis = 1)\n",
        "TENSOR"
      ],
      "metadata": {
        "colab": {
          "base_uri": "https://localhost:8080/"
        },
        "id": "uqbKY-qALZ3p",
        "outputId": "f9df6893-98c1-4dbb-a1ed-49cde4f8134d"
      },
      "execution_count": null,
      "outputs": [
        {
          "output_type": "execute_result",
          "data": {
            "text/plain": [
              "tensor([[ 1.,  2.,  3.,  3.,  3.,  3.],\n",
              "        [ 4.,  5.,  6.,  3.,  3.,  3.],\n",
              "        [ 7.,  8.,  9.,  3.,  3.,  3.],\n",
              "        [10., 11., 12.,  3.,  3.,  3.]])"
            ]
          },
          "metadata": {},
          "execution_count": 34
        }
      ]
    },
    {
      "cell_type": "markdown",
      "source": [],
      "metadata": {
        "id": "rBsbNzFCLkJ9"
      }
    },
    {
      "cell_type": "code",
      "source": [
        "a = torch.tensor([1,2,3])\n",
        "b = torch.tensor([4,5,6])\n",
        "torch.cat((a,b), dim=0)"
      ],
      "metadata": {
        "colab": {
          "base_uri": "https://localhost:8080/"
        },
        "id": "gbD_qaNUMe5o",
        "outputId": "02382d4b-4852-487e-d390-d68cd57fd539"
      },
      "execution_count": null,
      "outputs": [
        {
          "output_type": "execute_result",
          "data": {
            "text/plain": [
              "tensor([1, 2, 3, 4, 5, 6])"
            ]
          },
          "metadata": {},
          "execution_count": 36
        }
      ]
    },
    {
      "cell_type": "code",
      "source": [
        "torch.stack((a,b), dim=1)"
      ],
      "metadata": {
        "colab": {
          "base_uri": "https://localhost:8080/"
        },
        "id": "3wHgdIqZLkdd",
        "outputId": "4a5cf4c7-ee67-47d1-c2ac-03a52602fb01"
      },
      "execution_count": null,
      "outputs": [
        {
          "output_type": "execute_result",
          "data": {
            "text/plain": [
              "tensor([[1, 4],\n",
              "        [2, 5],\n",
              "        [3, 6]])"
            ]
          },
          "metadata": {},
          "execution_count": 37
        }
      ]
    },
    {
      "cell_type": "markdown",
      "source": [
        "### Избежание популярной ошибки"
      ],
      "metadata": {
        "id": "cGhfdl-sMla8"
      }
    },
    {
      "cell_type": "code",
      "source": [
        "a = torch.ones((1,3))\n",
        "b = torch.zeros(4)\n",
        "c = torch.cat((a,b.view(1,-1)),axis = 1)"
      ],
      "metadata": {
        "id": "epckQBd9Mhbt"
      },
      "execution_count": null,
      "outputs": []
    },
    {
      "cell_type": "markdown",
      "source": [
        "# Модуль nn и создание моделей"
      ],
      "metadata": {
        "id": "eBRTq2H3M95B"
      }
    },
    {
      "cell_type": "code",
      "source": [
        "import torch.nn as nn\n",
        "import torch.nn.functional as F\n",
        "import pandas as pd"
      ],
      "metadata": {
        "id": "2ZuKbsf0M6EE"
      },
      "execution_count": null,
      "outputs": []
    },
    {
      "cell_type": "markdown",
      "source": [],
      "metadata": {
        "id": "HEWNSi7kNYzE"
      }
    },
    {
      "cell_type": "markdown",
      "source": [
        "Данная строка кода определяет архитектуру нейронной сети (NN) с использованием модулей из библиотеки PyTorch.\n",
        "\n",
        "С помощью nn.Sequential() создается последовательное соединение нескольких слоев (модулей), где вывод одного слоя является входом для следующего слоя.\n",
        "\n",
        "Архитектура нейронной сети в данном случае состоит из следующих слоев:\n",
        "\n",
        "nn.Linear(1, 20): Линейный слой с входным размером 1 и выходным размером 20. Это означает, что данный слой принимает одномерный вектор размерностью 1 и выдает одномерный вектор размерностью 20, применяя линейное преобразование к входным данным.\n",
        "\n",
        "nn.ReLU(): Функция активации ReLU (Rectified Linear Unit) применяется к выходу предыдущего слоя. ReLU пропускает положительные значения без изменений и отсекает отрицательные значения, заменяя их нулем.\n",
        "\n",
        "nn.Linear(20, 10): Линейный слой с размерностью входа 20 и размерностью выхода 10. Аналогично первому линейному слою, производится линейное преобразование размерности входа в размерность выхода.\n",
        "\n",
        "nn.Tanh(): Гиперболический тангенс (Tanh) применяется к выходу предыдущего слоя. Tanh сжимает значения в диапазоне от -1 до 1.\n",
        "\n",
        "nn.Linear(10, 1): Линейный слой с размерностью входа 10 и размерностью выхода 1.\n",
        "\n",
        "nn.Sigmoid(): Сигмоидная функция применяется к выходу предыдущего слоя. Сигмоид преобразует значения в диапазоне от 0 до 1.\n",
        "\n",
        "Таким образом, данная строка кода определяет последовательную нейронную сеть с различными слоями и функциями активации, которая принимает одномерный вход и выдает одномерный выход. Каждый слой выполняет определенные математические операции и обеспечивает нелинейность в выходных данных посредством функций активации."
      ],
      "metadata": {
        "id": "ZO8fGLIJOCqj"
      }
    },
    {
      "cell_type": "code",
      "source": [
        "NN = nn.Sequential(nn.Linear(1, 20),nn.ReLU(),nn.Linear(20, 10),nn.Tanh() , nn.Linear(10,1),nn.Sigmoid())\n",
        "NN"
      ],
      "metadata": {
        "colab": {
          "base_uri": "https://localhost:8080/"
        },
        "id": "JRR-7QPuNDvg",
        "outputId": "baf8b75e-75b7-498e-eb97-e74af8da0f5e"
      },
      "execution_count": null,
      "outputs": [
        {
          "output_type": "execute_result",
          "data": {
            "text/plain": [
              "Sequential(\n",
              "  (0): Linear(in_features=1, out_features=20, bias=True)\n",
              "  (1): ReLU()\n",
              "  (2): Linear(in_features=20, out_features=10, bias=True)\n",
              "  (3): Tanh()\n",
              "  (4): Linear(in_features=10, out_features=1, bias=True)\n",
              "  (5): Sigmoid()\n",
              ")"
            ]
          },
          "metadata": {},
          "execution_count": 40
        }
      ]
    },
    {
      "cell_type": "markdown",
      "source": [
        "Данная строка кода создает тензор X размером (1000, 1) с нормально распределенными случайными значениями.\n",
        "\n",
        "Конкретнее, функция torch.normal() используется для генерации случайных чисел из нормального (гауссовского) распределения.\n",
        "\n",
        "Аргумент mean задает среднее значение распределения. В данном случае, torch.zeros((1000, 1)) создает тензор размером (1000, 1), состоящий из нулей. Этот тензор задает среднее значение 0 для каждого элемента в тензоре X."
      ],
      "metadata": {
        "id": "EdBbKFKOOeUk"
      }
    },
    {
      "cell_type": "code",
      "source": [
        "X = torch.normal(mean= torch.zeros((1000, 1)), std= 2)"
      ],
      "metadata": {
        "id": "A3ETBgXyOepD"
      },
      "execution_count": null,
      "outputs": []
    },
    {
      "cell_type": "markdown",
      "source": [
        "Данная строка кода применяет функцию косинуса (torch.cos()) к каждому элементу тензора X и сохраняет результаты в тензор Y.\n",
        "\n",
        "В данном случае, тензор X содержит случайно сгенерированные значения, как описано в предыдущем вопросе. Функция torch.cos() вычисляет косинус для каждого элемента входного тензора."
      ],
      "metadata": {
        "id": "pSRF49iUOo2O"
      }
    },
    {
      "cell_type": "code",
      "source": [
        "Y = torch.cos(X)"
      ],
      "metadata": {
        "id": "U2LO18_0OpbC"
      },
      "execution_count": null,
      "outputs": []
    },
    {
      "cell_type": "markdown",
      "source": [
        "matplotlib.pyplot - это модуль библиотеки matplotlib, который предоставляет функциональность для создания различных типов графиков и диаграмм.\n",
        "\n",
        "seaborn - это библиотека для визуализации, основанная на matplotlib. Она предоставляет более высокоуровневый интерфейс и более привлекательные стили по умолчанию для графиков.\n",
        "\n",
        "sns.set_theme() - эта строка кода устанавливает текущую тему оформления seaborn для графиков. Темы оформления определяют внешний вид элементов графиков, таких как фоны, цвета и шрифты. Вызов функции set_theme() без аргументов устанавливает тему по умолчанию."
      ],
      "metadata": {
        "id": "Io5gMiZ2QCnp"
      }
    },
    {
      "cell_type": "code",
      "source": [
        "import matplotlib.pyplot as plt\n",
        "import seaborn as sns\n",
        "sns.set_theme()"
      ],
      "metadata": {
        "id": "jMwCFVlJQDu5"
      },
      "execution_count": null,
      "outputs": []
    },
    {
      "cell_type": "markdown",
      "source": [
        "Данная строка кода создает объект DataFrame из двух столбцов данных X и Y.\n",
        "\n",
        "pd.DataFrame - это функция из библиотеки pandas, которая используется для создания объекта DataFrame. DataFrame - это двумерная структура данных, которая представляет собой таблицу с метками строк и столбцов.\n",
        "\n",
        "{'X' : X.view(-1), 'Y' : Y.view(-1)} - это словарь, который передается в качестве аргумента для создания DataFrame. В словаре каждый ключ ('X' и 'Y') соответствует названию столбца, а значения (X.view(-1) и Y.view(-1)) представляют собой данные для этих столбцов. X.view(-1) и Y.view(-1) предполагает, что X и Y - это объекты с определенными размерностями, и view(-1) используется для приведения их к одной размерности.\n",
        "\n",
        "Таким образом, data будет содержать DataFrame с двумя столбцами X и Y, где каждый столбец содержит соответствующие данные, переданные из X и"
      ],
      "metadata": {
        "id": "5p6L7qK0RaVY"
      }
    },
    {
      "cell_type": "code",
      "source": [
        "data = pd.DataFrame({'X' : X.view(-1), 'Y' : Y.view(-1)})"
      ],
      "metadata": {
        "id": "NDrerU5BQPBG"
      },
      "execution_count": null,
      "outputs": []
    },
    {
      "cell_type": "code",
      "source": [
        "X_test  = torch.normal(mean= torch.zeros((100, 1)), std= 2)\n",
        "Y_test = torch.cos(X_test)"
      ],
      "metadata": {
        "id": "qafMheMKSf3w"
      },
      "execution_count": null,
      "outputs": []
    },
    {
      "cell_type": "markdown",
      "source": [
        "Данная строчка кода выполняет следующее:\n",
        "\n",
        "Использует модель нейронной сети NN для входного тестового набора данных X_test.\n",
        "\n",
        "Применяет модель нейронной сети NN к тензору X_test и получает прогнозы Y_preds - выходные значения, предсказанные нейронной сетью для каждого входного примера в X_test.\n",
        "\n",
        "В результате, Y_preds будет содержать прогнозы, сделанные моделью нейронной сети NN для входного тестового набора данных X_test."
      ],
      "metadata": {
        "id": "Z-2jtjWrS1V_"
      }
    },
    {
      "cell_type": "code",
      "source": [
        "Y_preds = NN(X_test)"
      ],
      "metadata": {
        "id": "_UGNaJ94SpOt"
      },
      "execution_count": null,
      "outputs": []
    },
    {
      "cell_type": "markdown",
      "source": [
        "Данная строчка кода выполняет следующие действия:\n",
        "\n",
        "Создает новый объект data3, который является пустым DataFrame (таблицей) в библиотеке pandas.\n",
        "\n",
        "Заполняет столбец с названием 'Y' значениями из тензора Y_preds. Для этого используется метод detach(), который отсоединяет тензор Y_preds от графа вычислений. Затем применяется метод view(-1), который преобразует форму тензора в одномерную. В результате получается одномерный массив значений Y_preds, который становится столбцом 'Y' в data3.\n",
        "\n",
        "Заполняет столбец с названием 'X' значениями из тензора X_test. Аналогично как в предыдущем шаге, сначала применяется метод detach() для отсоединения тензора X_test от графа вычислений, а затем метод view(-1) для преобразования формы в одномерный массив значений. Результатом будет одномерный массив значений X_test, который становится столбцом 'X' в data3.\n",
        "\n",
        "Таким образом, data3 будет содержать два столбца: 'Y' со значениями прогнозов Y_preds и 'X' со значениями из X_test."
      ],
      "metadata": {
        "id": "OVwGcf04TeB2"
      }
    },
    {
      "cell_type": "code",
      "source": [
        "data3 = pd.DataFrame({'Y' : Y_preds.detach().view(-1),'X' : X_test.detach().view(-1)})"
      ],
      "metadata": {
        "id": "KVx-3JkDTATP"
      },
      "execution_count": null,
      "outputs": []
    },
    {
      "cell_type": "markdown",
      "source": [
        "Данный код выполняет следующие действия:\n",
        "\n",
        "Создает объект criterion типа torch.nn.MSELoss(). MSELoss (Mean Squared Error Loss) является функцией потерь, которая используется для измерения разницы между предсказанными значениями и целевыми значениями в задачах регрессии. Она измеряет среднеквадратичную ошибку между предсказаниями и целевыми значениями.\n",
        "\n",
        "Создает объект optimizer типа torch.optim.Adam(). Adam представляет собой оптимизационный алгоритм, используемый для обновления параметров модели во время обучения. В данном случае, NN.parameters() используется для передачи параметров нейронной сети NN в оптимизатор Adam. Параметр lr=1e-2 указывает скорость обучения (learning rate) оптимизатора, то есть шаг, с которым параметры модели будут обновляться в каждой итерации обучения.\n",
        "\n",
        "Таким образом, criterion представляет функцию потерь (MSE Loss), а optimizer представляет оптимизатор (Adam), который будет использоваться для обучения нейронной сети NN с помощью градиентного спуска"
      ],
      "metadata": {
        "id": "0ru8LY4gUje-"
      }
    },
    {
      "cell_type": "code",
      "source": [
        "criterion = torch.nn.MSELoss()\n",
        "optimizer = torch.optim.Adam(NN.parameters(), lr=1e-2)"
      ],
      "metadata": {
        "id": "kaRf_DRETevK"
      },
      "execution_count": null,
      "outputs": []
    },
    {
      "cell_type": "markdown",
      "source": [
        "Данный код представляет функцию train, которая выполняет обучение модели машинного обучения с помощью переданных параметров.\n",
        "\n",
        "Аргументы функции:\n",
        "\n",
        "model: модель машинного обучения, которую нужно обучить.\n",
        "x и y: входные данные и соответствующие им целевые значения (метки).\n",
        "criterion: функция потерь, которая будет использоваться для измерения разницы между предсказанными значениями и целевыми значениями.\n",
        "optimizer: оптимизатор, используемый для обновления параметров модели.\n",
        "num_epoch: количество эпох обучения (полных проходов по всем обучающим данным).\n",
        "show_freq: частота вывода информации о потерях (loss) во время обучения. Значение по умолчанию равно 10, что означает, что информация о потерях будет выводиться каждые 10 эпох.\n",
        "Внутри функции есть два цикла:\n",
        "\n",
        "Внешний цикл for t in range(num_epoch) выполняет итерации по каждой эпохе обучения.\n",
        "Внутренний цикл for X in x проходится по каждому входному примеру в обучающих данных x.\n",
        "В каждой итерации внутреннего цикла:\n",
        "\n",
        "Модель model принимает входной пример X и делает предсказание y_pred.\n",
        "Вычисляется значение функции потерь loss между предсказанным значением y_pred и соответствующим целевым значением y[i].\n",
        "Оптимизатор optimizer обнуляет градиенты предыдущего шага с помощью optimizer.zero_grad().\n",
        "Вычисляется градиент функции потерь с помощью loss.backward().\n",
        "Оптимизатор optimizer выполняет шаг градиентного спуска с помощью optimizer.step(), обновляя параметры модели на основе вычисленных градиентов.\n",
        "После каждой show_freq эпох выводится значение последней потери (loss.item()).\n",
        "\n",
        "В конце функция возвращает обученную модель model."
      ],
      "metadata": {
        "id": "jo-x_9K1U2wh"
      }
    },
    {
      "cell_type": "code",
      "source": [
        "def train(model, x,y,criterion, optimizer,num_epoch, show_freq = 10):\n",
        "    for t in range(num_epoch):\n",
        "        i = 0\n",
        "        for X in x:\n",
        "            y_pred = model(X)\n",
        "            loss = criterion(y_pred, y[i])\n",
        "            optimizer.zero_grad()\n",
        "            loss.backward()\n",
        "            optimizer.step()\n",
        "            i+=1\n",
        "        if t % show_freq == 0:\n",
        "            print(t, loss.item())\n",
        "    return model"
      ],
      "metadata": {
        "id": "n2w_EFRnU3Cd"
      },
      "execution_count": null,
      "outputs": []
    },
    {
      "cell_type": "code",
      "source": [
        "NN = train(NN, X, Y,criterion,optimizer, 1, 1)"
      ],
      "metadata": {
        "colab": {
          "base_uri": "https://localhost:8080/"
        },
        "id": "AFwojXrPVwyR",
        "outputId": "2b2b7fb8-bab7-479c-bc5d-8900326f0c63"
      },
      "execution_count": null,
      "outputs": [
        {
          "output_type": "stream",
          "name": "stdout",
          "text": [
            "0 0.021843310445547104\n"
          ]
        }
      ]
    },
    {
      "cell_type": "code",
      "source": [
        "Y_preds = NN(X_test)"
      ],
      "metadata": {
        "id": "nG02TLpKV9Zd"
      },
      "execution_count": null,
      "outputs": []
    },
    {
      "cell_type": "code",
      "source": [
        "data4 = pd.DataFrame({'Y' : Y_preds.detach().view(-1),'X' : X_test.detach().view(-1)})"
      ],
      "metadata": {
        "id": "IC5oHvQxWMAp"
      },
      "execution_count": null,
      "outputs": []
    },
    {
      "cell_type": "code",
      "source": [
        "NN = train(NN, X, Y,criterion,optimizer, 15, 1)"
      ],
      "metadata": {
        "colab": {
          "base_uri": "https://localhost:8080/"
        },
        "id": "11_5BSGnWVvd",
        "outputId": "372a2910-9ca1-4b2a-ba16-0a4e97160e0e"
      },
      "execution_count": null,
      "outputs": [
        {
          "output_type": "stream",
          "name": "stdout",
          "text": [
            "0 3.228604327887297e-05\n",
            "1 0.0015543471090495586\n",
            "2 0.0003375062660779804\n",
            "3 0.00024005769228097051\n",
            "4 0.0009484472102485597\n",
            "5 2.896690057241358e-05\n",
            "6 0.004790817387402058\n",
            "7 0.005243571009486914\n",
            "8 1.61111220222665e-05\n",
            "9 9.296193456975743e-05\n",
            "10 0.00024980102898553014\n",
            "11 0.005189491901546717\n",
            "12 0.00035039993235841393\n",
            "13 0.025938717648386955\n",
            "14 0.0001791992544895038\n"
          ]
        }
      ]
    },
    {
      "cell_type": "markdown",
      "source": [
        "Данный код определяет класс Net, который является подклассом nn.Module из библиотеки PyTorch. Класс Net представляет собой нейронную сеть с двумя полносвязными слоями.\n",
        "\n",
        "В конструкторе __init__ класса Net определяются и инициализируются два полносвязных слоя: self.L1 и self.L2. Первый слой self.L1 имеет размерность dim на входе и 20 нейронов на выходе. Второй слой self.L2 имеет 20 нейронов на входе и 1 нейрон на выходе.\n",
        "\n",
        "Метод forward класса Net определяет последовательность операций прямого прохода (forward pass) нейронной сети. Входной тензор x проходит через первый слой self.L1, затем применяется функция активации ReLU (F.relu), результат проходит через второй слой self.L2, и наконец, применяется функция активации сигмоида (torch.sigmoid), возвращая выходной тензор.\n",
        "\n",
        "Таким образом, класс Net определяет архитектуру нейронной сети с двумя полносвязными слоями и описывает прямой проход для получения предсказаний на входных данных."
      ],
      "metadata": {
        "id": "fcq8_-rPXVzL"
      }
    },
    {
      "cell_type": "code",
      "source": [
        "class Net(nn.Module):\n",
        "\n",
        "    def __init__(self, dim):\n",
        "        super(Net, self).__init__()\n",
        "        self.L1 = nn.Linear(dim, 20)\n",
        "        self.L2 = nn.Linear(20,1)\n",
        "\n",
        "    def forward(self, x):\n",
        "        x = self.L1(x)\n",
        "        x = F.relu(x)\n",
        "        x = self.L2(x)\n",
        "        x = torch.sigmoid(x)\n",
        "        return x"
      ],
      "metadata": {
        "id": "hGXE5PrLXWSb"
      },
      "execution_count": null,
      "outputs": []
    },
    {
      "cell_type": "markdown",
      "source": [
        "Данный код использует модуль train_test_split из библиотеки scikit-learn (sklearn) для разделения данных на обучающий и тестовый наборы.\n",
        "\n",
        "Сначала он импортирует функцию train_test_split из модуля sklearn.model_selection.\n",
        "\n",
        "Затем он считывает данные из файла 'gbm-data.csv' с помощью библиотеки Pandas и сохраняет их в переменную data.\n",
        "\n",
        "Далее, код создает две переменные: targets и features. Переменная targets содержит значения первого столбца данных (data.columns[0]), преобразованных в массив NumPy. Переменная features содержит значения всех столбцов, начиная со второго (data.columns[1:]), также преобразованных в массив NumPy.\n",
        "\n",
        "Затем код вызывает функцию train_test_split и передает ей features, targets, test_size=0.8 (что означает, что 80% данных будут использованы для тестирования), и random_state=241 (задает начальное значение для генератора случайных чисел, чтобы гарантировать воспроизводимость результатов).\n",
        "\n",
        "Результат вызова функции train_test_split - четыре набора данных: X_train, X_test, y_train и y_test. X_train содержит обучающие данные (80% от исходных данных), X_test содержит тестовые данные (20% от исходных данных), y_train содержит метки (целевые значения) для обучающих данных и y_test содержит метки для тестовых данных."
      ],
      "metadata": {
        "id": "N-Co0L5-X7WR"
      }
    },
    {
      "cell_type": "code",
      "source": [
        "from sklearn.model_selection import train_test_split\n",
        "\n",
        "data = pd.read_csv('gbm-data.csv')\n",
        "#print(data.columns)\n",
        "\n",
        "targets = data[data.columns[0]].to_numpy()\n",
        "features = data[data.columns[1:]].to_numpy()\n",
        "\n",
        "X_train, X_test, y_train, y_test = train_test_split(features, targets,test_size=0.8,random_state=241)"
      ],
      "metadata": {
        "id": "OmYIPPnQX79t"
      },
      "execution_count": null,
      "outputs": []
    },
    {
      "cell_type": "markdown",
      "source": [
        "Данный код использует библиотеку PyTorch для преобразования данных в тензоры.\n",
        "\n",
        "Сначала код преобразует переменные X_train и X_test из массивов NumPy в тензоры PyTorch, используя функцию torch.Tensor(). То же самое происходит с переменными y_train и y_test.\n",
        "\n",
        "Преобразование данных в тензоры позволяет использовать данные в операциях, оптимизированных для работы с тензорами PyTorch. Тензоры являются основной структурой данных в PyTorch и обеспечивают эффективные вычисления для обучения нейронных сетей и других моделей глубокого обучения.\n",
        "\n",
        "Преобразование данных в тензоры также может быть полезным при использовании других функций и операций, доступных в библиотеке PyTorch, таких как автоматическое дифференцирование и использование GPU для ускорения вычислений."
      ],
      "metadata": {
        "id": "7IndricyYwzL"
      }
    },
    {
      "cell_type": "code",
      "source": [
        "X_train = torch.Tensor(X_train)\n",
        "X_test = torch.Tensor(X_test)\n",
        "\n",
        "y_train = torch.Tensor(y_train)\n",
        "y_test = torch.Tensor(y_test)"
      ],
      "metadata": {
        "id": "COhgrxQ0YxMz"
      },
      "execution_count": null,
      "outputs": []
    },
    {
      "cell_type": "code",
      "source": [
        "net = Net(1776)"
      ],
      "metadata": {
        "id": "XjXQ9x5-Y1nT"
      },
      "execution_count": null,
      "outputs": []
    },
    {
      "cell_type": "markdown",
      "source": [
        "Данный участок кода выполняет инициализацию функции потерь (loss function) и оптимизатора для обучения нейронной сети.\n",
        "\n",
        "Строка criterion = torch.nn.BCELoss() создает экземпляр функции потерь с помощью torch.nn.BCELoss(). BCELoss означает \"binary cross-entropy loss\" и обычно используется в задачах классификации бинарных данных. Она вычисляет потерю между бинарными предсказаниями и соответствующими истинными метками.\n",
        "\n",
        "Строка optimizer = torch.optim.Adam(net.parameters(), lr=1e-3) создает экземпляр оптимизатора Adam с помощью torch.optim.Adam(). Оптимизатор Adam используется для обновления весов модели во время обучения. Он принимает в качестве параметра net.parameters(), что означает, что все обучаемые параметры модели (веса и смещения) будут оптимизироваться. Параметр lr=1e-3 задает скорость обучения (learning rate) для оптимизации, то есть определяет, насколько сильно веса будут обновляться на каждой итерации обучения.\n",
        "\n",
        "Эти две строки кода подготавливают необходимые компоненты для обучения нейронной сети: функцию потерь для оценки ошибки и оптимизатор для обновления весов модели при обратном распространении ошибки."
      ],
      "metadata": {
        "id": "hnFEHg06Zyna"
      }
    },
    {
      "cell_type": "code",
      "source": [
        "criterion = torch.nn.BCELoss()\n",
        "optimizer = torch.optim.Adam(net.parameters(), lr=1e-3)"
      ],
      "metadata": {
        "id": "H2jER3_vZ0Ji"
      },
      "execution_count": null,
      "outputs": []
    },
    {
      "cell_type": "code",
      "source": [
        "net = train(net, X_train, y_train.view(750,1),criterion,optimizer, 15, 1)"
      ],
      "metadata": {
        "id": "oYyEaXqwZ2AW"
      },
      "execution_count": null,
      "outputs": []
    },
    {
      "cell_type": "markdown",
      "source": [
        "Данный код использует нейронную сеть net для выполнения предсказаний на тестовых данных X_test.\n",
        "\n",
        "Строка y_prob = net(X_test) прогоняет тестовые данные X_test через нейронную сеть net и сохраняет результаты предсказаний в y_prob. Результаты предсказаний обычно выражают вероятности принадлежности к определенным классам.\n",
        "\n",
        "Строка (y_prob>0.5) сравнивает каждое предсказание из y_prob с пороговым значением 0.5. В результате получается булевский тензор, где True указывает на предсказание больше 0.5, а False указывает на предсказание меньше или равное 0.5.\n",
        "\n",
        "Строка .detach().numpy() отвечает за отсоединение от вычислительного графа PyTorch и преобразование тензора y_prob в массив NumPy. Такое преобразование может быть полезным, если требуется использовать выходные данные вне фреймворка PyTorch.\n",
        "\n",
        "Строка .astype('int32') приводит тип элементов массива NumPy к типу int32. В данном случае, вероятности классов преобразуются в целые числа.\n",
        "\n",
        "Строка .reshape(-1) изменяет форму массива, чтобы привести его к одномерному массиву. В данном случае, это может быть полезным, если результаты предсказаний y_pred требуется использовать в дальнейших операциях или метриках.\n",
        "\n",
        "В итоге, в переменной y_pred будет храниться одномерный массив из 0 и 1, где 0 указывает на предсказание меньше или равное 0.5, а 1 указывает на предсказание больше 0.5. Этот массив может использоваться для оценки качества предсказаний модели или других задач, связанных с классификацией."
      ],
      "metadata": {
        "id": "w_vIN6d6Z89T"
      }
    },
    {
      "cell_type": "code",
      "source": [
        "y_prob = net(X_test)\n",
        "y_pred = (y_prob>0.5).detach().numpy().astype('int32').reshape(-1)"
      ],
      "metadata": {
        "id": "cmBdQhQdZ7RS"
      },
      "execution_count": null,
      "outputs": []
    },
    {
      "cell_type": "markdown",
      "source": [
        "Данный код выполняет вычисление точности (accuracy) модели на основе предсказаний y_pred и истинных меток y_test.\n",
        "\n",
        "Строка ans = y_test.detach().numpy().reshape(-1) отвечает за преобразование тензора y_test в массив NumPy и изменение его формы до одномерного массива. Предполагается, что y_test содержит истинные метки классов для тестовых данных.\n",
        "\n",
        "Строка (y_pred == ans) сравнивает каждый элемент предсказаний y_pred с соответствующим элементом истинных меток ans. Результатом сравнения является булевский массив, где True указывает на правильное предсказание, а False указывает на неправильное предсказание.\n",
        "\n",
        "Строка .astype('int32') преобразует булевский массив в массив целых чисел типа int32, где True преобразуется в 1, а False в 0. Таким образом, каждое правильное предсказание будет представляться значением 1, а неправильное - значением 0.\n",
        "\n",
        "Строка .sum() вычисляет сумму всех элементов массива, то есть подсчитывает количество правильных предсказаний.\n",
        "\n",
        "Выражение len(y_pred) возвращает количество элементов в массиве y_pred, которое представляет общее число предсказаний.\n",
        "\n",
        "Наконец, acc = (y_pred == ans).astype('int32').sum()/len(y_pred) вычисляет точность (accuracy) модели путем деления количества правильных предсказаний на общее число предсказаний. Результат сохраняется в переменной acc."
      ],
      "metadata": {
        "id": "lTw93l4aa_xD"
      }
    },
    {
      "cell_type": "code",
      "source": [
        "ans = y_test.detach().numpy().reshape(-1)\n",
        "acc = (y_pred == ans).astype('int32').sum()/len(y_pred)"
      ],
      "metadata": {
        "id": "EmfBD6IvbAqS"
      },
      "execution_count": null,
      "outputs": []
    },
    {
      "cell_type": "markdown",
      "source": [
        "Данный код представляет функцию train, которая выполняет обучение модели машинного обучения.\n",
        "\n",
        "Входные параметры функции:\n",
        "\n",
        "model: модель, которую нужно обучить.\n",
        "x: входные данные (значения признаков).\n",
        "y: целевые метки (истинные значения, которые модель должна предсказывать).\n",
        "criterion: функция потерь (loss function), которая используется для оценки ошибки модели.\n",
        "optimizer: оптимизатор, используемый для обновления параметров модели на основе градиентного спуска.\n",
        "num_epoch: количество эпох обучения, то есть сколько раз модель пройдет по всем обучающим примерам.\n",
        "show_freq: частота вывода информации о потерях (losses) на каждой эпохе. По умолчанию равно 10, что означает вывод информации каждые 10 эпох.\n",
        "Внутри функции происходит итерация по числу эпох num_epoch. Затем для каждой эпохи итерируется по всем обучающим примерам X из входных данных x. Для каждого обучающего примера происходит следующее:\n",
        "\n",
        "На основе текущего обучающего примера X, модель model делает предсказание y_pred.\n",
        "Вычисляется значение функции потерь loss между предсказанными значениями y_pred и истинными метками y[i].\n",
        "Оптимизатор optimizer зануляет градиенты ранее вычисленных параметров модели.\n",
        "Вызывается метод backward() у loss для вычисления градиентов функции потерь по параметрам модели.\n",
        "Оптимизатор optimizer обновляет параметры модели на основе вычисленных градиентов с помощью метода step().\n",
        "Индекс i увеличивается для обработки следующего обучающего примера.\n",
        "Если значение текущей эпохи t делится на show_freq без остатка, то происходит вывод значения текущей потери loss.item(). Значение потери добавляется в список losses на каждой эпохе.\n",
        "\n",
        "В конце функция возвращает обученную модель model и список значений потерь losses."
      ],
      "metadata": {
        "id": "8jS9kgOGbuCC"
      }
    },
    {
      "cell_type": "code",
      "source": [
        "def train(model, x,y,criterion, optimizer,num_epoch, show_freq = 10):\n",
        "    losses = []\n",
        "    for t in range(num_epoch):\n",
        "        i = 0\n",
        "        for X in x:\n",
        "            y_pred = model(X)\n",
        "            loss = criterion(y_pred, y[i])\n",
        "            optimizer.zero_grad()\n",
        "            loss.backward()\n",
        "            optimizer.step()\n",
        "            i+=1\n",
        "        if t % show_freq == 0:\n",
        "            print(t, loss.item())\n",
        "        losses.append(loss.item())\n",
        "    return model, losses"
      ],
      "metadata": {
        "id": "gjU4fRJSblmS"
      },
      "execution_count": null,
      "outputs": []
    },
    {
      "cell_type": "code",
      "source": [
        "net1 = Net(1776)\n",
        "criterion = torch.nn.BCELoss()\n",
        "optimizer = torch.optim.Adam(net1.parameters(), lr=1e-2)\n",
        "net1,loss = train(net1, X_train, y_train.view(750,1),criterion,optimizer, 15, 1)"
      ],
      "metadata": {
        "id": "raeWhiyycwnh"
      },
      "execution_count": null,
      "outputs": []
    },
    {
      "cell_type": "code",
      "source": [
        "def train(model, x,y,x_test,y_test,criterion, optimizer,num_epoch, show_freq = 10):\n",
        "    losses = []\n",
        "    val_losses = []\n",
        "    for t in range(num_epoch):\n",
        "        i = 0\n",
        "        for X in x:\n",
        "            y_pred = model(X)\n",
        "            loss = criterion(y_pred, y[i])\n",
        "            optimizer.zero_grad()\n",
        "            loss.backward()\n",
        "            optimizer.step()\n",
        "            i+=1\n",
        "        if t % show_freq == 0:\n",
        "            print(t, loss.item())\n",
        "        losses.append(loss.item())\n",
        "        with torch.no_grad():\n",
        "            y_val = model(x_test)\n",
        "            loss_al = criterion(y_val, y_test)\n",
        "            val_losses.append(loss_al)\n",
        "    return model, losses,val_losses"
      ],
      "metadata": {
        "id": "Yw1IDuOYc6RJ"
      },
      "execution_count": null,
      "outputs": []
    },
    {
      "cell_type": "code",
      "source": [
        "net2 = Net(1776)"
      ],
      "metadata": {
        "id": "SkTdbG2ac9lu"
      },
      "execution_count": null,
      "outputs": []
    },
    {
      "cell_type": "code",
      "source": [
        "criterion = torch.nn.BCELoss()\n",
        "optimizer = torch.optim.Adam(net2.parameters(), lr=1e-2)"
      ],
      "metadata": {
        "id": "wLgD6JFGc_Il"
      },
      "execution_count": null,
      "outputs": []
    },
    {
      "cell_type": "code",
      "source": [
        "net2,loss,val = train(net2, X_train, y_train.view(750,1),X_test,y_test.view(3001,1),criterion,optimizer, 15, 1)"
      ],
      "metadata": {
        "id": "jbm913gKdBmJ"
      },
      "execution_count": null,
      "outputs": []
    }
  ]
}