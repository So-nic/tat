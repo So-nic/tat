{
  "cells": [
    {
      "cell_type": "markdown",
      "metadata": {
        "id": "88UplZ55jc2J"
      },
      "source": [
        "## Введение в глубокое обучение\n",
        "### Занятие 6. Автоэнкодеры и векторные представления слов.\n",
        "\n",
        "##### Автор: [Радослав Нейчев](https://www.linkedin.com/in/radoslav-neychev/), @neychev\n",
        "##### Credits: embeddings visualization is based on the notebook by [YSDA NLP course](https://github.com/yandexdataschool/nlp_course)"
      ]
    },
    {
      "cell_type": "markdown",
      "metadata": {
        "id": "FnFbi7Y1jc2K"
      },
      "source": [
        "#### План занятия:\n",
        "0. Повторение основных моментов при работе с текстами\n",
        "1. Автоэнкодеры, снижение размерности и построение информативных представлений данных\n",
        "2. Построение информативных представлений слов. Обзор word2vec\n",
        "3. Работа с предобученными векторными представлениями слов"
      ]
    },
    {
      "cell_type": "markdown",
      "metadata": {
        "id": "8EPg2ko8jc2L"
      },
      "source": [
        "### 0. Повторение основных моментов при работе с текстами\n",
        "Вспомним основные отличия текста от табличных данных:\n",
        "1. Текст представляет собой последовательность токенов из конечного алфавита, т.е. все элементы последовательности принимают дискретные значения.\n",
        "2. Текст может быть _переменной длины_.\n",
        "\n",
        "__Токен__ – минимальный и неделимый элемент текстовой последовательности. В зависимости от выбора эксперта, в качестве токенов могут выступать как символы, так и морфемы, слова или даже группы слов."
      ]
    },
    {
      "cell_type": "markdown",
      "metadata": {
        "id": "JMW7VoaLjc2L"
      },
      "source": [
        "### 1. Автоэнкодеры, снижение размерности и построение информативных представлений данных\n",
        "__Go to slides__"
      ]
    },
    {
      "cell_type": "markdown",
      "metadata": {
        "id": "fxb9-icsjc2L"
      },
      "source": [
        "### 2. Построение информативных векторных представлений слов. Обзор word2vec.\n",
        "Человек воспринимает слова знакомого языка как отдельные смысловые единицы. Затем из них складывается смысл всего предложения или текста. Машина, в отличие от человека, не имеет представления о смысле слов, она не владеет языком. Для машины слова являются лишь последовательностью некоторых символов. Чтобы использовать всю доступную информацию при работе с текстом необходимы информативные представления слов. Уже рассмотренное one-hot кодирование имеет несколько минусов.\n",
        "\n",
        "##### __One-hot кодирование__\n",
        "Каждому токену в словаре был сопоставлен уникальный индекс. Тогда токену можно поставить в соответствие вектор размера словаря, где единственное ненулевое значение стоит на соответствующей токену позиции. Например, слово \"самолет\" сопоставлено индексу 0, а размерность словаря 5. Данному токену соответствует вектор `[1, 0, 0, 0, 0]`.\n",
        "Слово \"обед\" сопоставлено индексу 4, поэтому ему соответствует вектор `[0, 0, 0, 0, 1]`.\n",
        "\n",
        "Получается, что векторные представления всех слов ортогональны друг другу, и слово \"кот\" удалено от слова \"самолет\" так же, как и от слова \"кошка\". Для владеющего языком человека разница между словами очевидна, как и то, что \"кошка\" и \"кот\" гораздо ближе друг к другу по смыслу, чем \"кошка\" и \"самолет\". При построении информативного векторного представления также хотелось бы установить смысловую близость слов. Учесть связи между словами и их смысл нам поможет word2vec.\n",
        "\n",
        "#### __Построение эмбеддингов с помощью word2vec__.\n",
        "\n",
        "__Go to slides__"
      ]
    },
    {
      "cell_type": "markdown",
      "metadata": {
        "id": "hw4KvlEIjc2M"
      },
      "source": [
        "\n",
        "С этим может помочь простая мысль (озвученная в различных формах множество раз): __слово в значительной мере определяется контекстом, в котором оно встречается__. На основании чего можно сделать простой вывод: для некоторых слов более характерен один контекст, а для других – другой. Именно на этой идее и построен word2vec (как и многие другие эмбеддинги).\n",
        "\n",
        "По слову можно научиться предсказывать контекст, в котором оно встречается. Конечно, результат не будет идеально точным. Но если модель делает предсказания лучше, чем случайным образом, значит, она улавливает какую-то связь. И тогда внутреннее представление модели для каждого слова и может использоваться в качестве искомого векторного представления, причем и в других задачах.\n",
        "\n",
        "\n",
        "Формулировка гипотезы выше (слово значительно связано с контекстом) позволяет использовать в качестве обучающей выборки все множество текстов для выбранного языка. Собрание сочинений классиков, статьи в энциклопедии, новостные заметки – все это становится обучающей выборкой. И векторные представления, полученные на основе данных текстов позволяют улавливать связь между этими словами."
      ]
    },
    {
      "cell_type": "code",
      "execution_count": null,
      "metadata": {
        "id": "6hCGbJlljc2M",
        "colab": {
          "base_uri": "https://localhost:8080/"
        },
        "outputId": "13718a7a-a181-422e-b0fd-55e9192a928c"
      },
      "outputs": [
        {
          "output_type": "stream",
          "name": "stdout",
          "text": [
            "Looking in indexes: https://pypi.org/simple, https://us-python.pkg.dev/colab-wheels/public/simple/\n",
            "Requirement already satisfied: nltk in /usr/local/lib/python3.7/dist-packages (3.7)\n",
            "Requirement already satisfied: gensim in /usr/local/lib/python3.7/dist-packages (3.6.0)\n",
            "Collecting gensim\n",
            "  Downloading gensim-4.2.0-cp37-cp37m-manylinux_2_12_x86_64.manylinux2010_x86_64.whl (24.1 MB)\n",
            "\u001b[K     |████████████████████████████████| 24.1 MB 1.4 MB/s \n",
            "\u001b[?25hRequirement already satisfied: bokeh in /usr/local/lib/python3.7/dist-packages (2.3.3)\n",
            "Collecting bokeh\n",
            "  Downloading bokeh-2.4.3-py3-none-any.whl (18.5 MB)\n",
            "\u001b[K     |████████████████████████████████| 18.5 MB 1.2 MB/s \n",
            "\u001b[?25hCollecting umap-learn\n",
            "  Downloading umap-learn-0.5.3.tar.gz (88 kB)\n",
            "\u001b[K     |████████████████████████████████| 88 kB 7.6 MB/s \n",
            "\u001b[?25hRequirement already satisfied: joblib in /usr/local/lib/python3.7/dist-packages (from nltk) (1.2.0)\n",
            "Requirement already satisfied: tqdm in /usr/local/lib/python3.7/dist-packages (from nltk) (4.64.1)\n",
            "Requirement already satisfied: regex>=2021.8.3 in /usr/local/lib/python3.7/dist-packages (from nltk) (2022.6.2)\n",
            "Requirement already satisfied: click in /usr/local/lib/python3.7/dist-packages (from nltk) (7.1.2)\n",
            "Requirement already satisfied: numpy>=1.17.0 in /usr/local/lib/python3.7/dist-packages (from gensim) (1.21.6)\n",
            "Requirement already satisfied: smart-open>=1.8.1 in /usr/local/lib/python3.7/dist-packages (from gensim) (5.2.1)\n",
            "Requirement already satisfied: scipy>=0.18.1 in /usr/local/lib/python3.7/dist-packages (from gensim) (1.7.3)\n",
            "Requirement already satisfied: pillow>=7.1.0 in /usr/local/lib/python3.7/dist-packages (from bokeh) (7.1.2)\n",
            "Requirement already satisfied: packaging>=16.8 in /usr/local/lib/python3.7/dist-packages (from bokeh) (21.3)\n",
            "Requirement already satisfied: typing-extensions>=3.10.0 in /usr/local/lib/python3.7/dist-packages (from bokeh) (4.1.1)\n",
            "Requirement already satisfied: PyYAML>=3.10 in /usr/local/lib/python3.7/dist-packages (from bokeh) (6.0)\n",
            "Requirement already satisfied: tornado>=5.1 in /usr/local/lib/python3.7/dist-packages (from bokeh) (6.0.4)\n",
            "Requirement already satisfied: Jinja2>=2.9 in /usr/local/lib/python3.7/dist-packages (from bokeh) (2.11.3)\n",
            "Requirement already satisfied: MarkupSafe>=0.23 in /usr/local/lib/python3.7/dist-packages (from Jinja2>=2.9->bokeh) (2.0.1)\n",
            "Requirement already satisfied: pyparsing!=3.0.5,>=2.0.2 in /usr/local/lib/python3.7/dist-packages (from packaging>=16.8->bokeh) (3.0.9)\n",
            "Requirement already satisfied: scikit-learn>=0.22 in /usr/local/lib/python3.7/dist-packages (from umap-learn) (1.0.2)\n",
            "Requirement already satisfied: numba>=0.49 in /usr/local/lib/python3.7/dist-packages (from umap-learn) (0.56.4)\n",
            "Collecting pynndescent>=0.5\n",
            "  Downloading pynndescent-0.5.8.tar.gz (1.1 MB)\n",
            "\u001b[K     |████████████████████████████████| 1.1 MB 53.4 MB/s \n",
            "\u001b[?25hRequirement already satisfied: setuptools in /usr/local/lib/python3.7/dist-packages (from numba>=0.49->umap-learn) (57.4.0)\n",
            "Requirement already satisfied: llvmlite<0.40,>=0.39.0dev0 in /usr/local/lib/python3.7/dist-packages (from numba>=0.49->umap-learn) (0.39.1)\n",
            "Requirement already satisfied: importlib-metadata in /usr/local/lib/python3.7/dist-packages (from numba>=0.49->umap-learn) (4.13.0)\n",
            "Requirement already satisfied: zipp>=0.5 in /usr/local/lib/python3.7/dist-packages (from importlib-metadata->numba>=0.49->umap-learn) (3.10.0)\n",
            "Requirement already satisfied: threadpoolctl>=2.0.0 in /usr/local/lib/python3.7/dist-packages (from scikit-learn>=0.22->umap-learn) (3.1.0)\n",
            "Building wheels for collected packages: umap-learn, pynndescent\n",
            "  Building wheel for umap-learn (setup.py) ... \u001b[?25l\u001b[?25hdone\n",
            "  Created wheel for umap-learn: filename=umap_learn-0.5.3-py3-none-any.whl size=82830 sha256=a03cb4644d8c48cedf6d457b317541edbcccd4d7e9177901b2a2ab016fda5a9c\n",
            "  Stored in directory: /root/.cache/pip/wheels/b3/52/a5/1fd9e3e76a7ab34f134c07469cd6f16e27ef3a37aeff1fe821\n",
            "  Building wheel for pynndescent (setup.py) ... \u001b[?25l\u001b[?25hdone\n",
            "  Created wheel for pynndescent: filename=pynndescent-0.5.8-py3-none-any.whl size=55512 sha256=8859139402ed6210f8e6055b4a00a730d781f30e1429a34926a9d51c2fbf36e6\n",
            "  Stored in directory: /root/.cache/pip/wheels/19/bc/eb/974072a56a7082a302f8b4be1ad6d21bf5019235c2eff65928\n",
            "Successfully built umap-learn pynndescent\n",
            "Installing collected packages: pynndescent, umap-learn, gensim, bokeh\n",
            "  Attempting uninstall: gensim\n",
            "    Found existing installation: gensim 3.6.0\n",
            "    Uninstalling gensim-3.6.0:\n",
            "      Successfully uninstalled gensim-3.6.0\n",
            "  Attempting uninstall: bokeh\n",
            "    Found existing installation: bokeh 2.3.3\n",
            "    Uninstalling bokeh-2.3.3:\n",
            "      Successfully uninstalled bokeh-2.3.3\n",
            "\u001b[31mERROR: pip's dependency resolver does not currently take into account all the packages that are installed. This behaviour is the source of the following dependency conflicts.\n",
            "panel 0.12.1 requires bokeh<2.4.0,>=2.3.0, but you have bokeh 2.4.3 which is incompatible.\u001b[0m\n",
            "Successfully installed bokeh-2.4.3 gensim-4.2.0 pynndescent-0.5.8 umap-learn-0.5.3\n"
          ]
        }
      ],
      "source": [
        "! pip install --upgrade nltk gensim bokeh umap-learn"
      ]
    },
    {
      "cell_type": "code",
      "execution_count": null,
      "metadata": {
        "id": "FrPgXMTRjc2M"
      },
      "outputs": [],
      "source": [
        "import itertools\n",
        "import string\n",
        "\n",
        "import numpy as np\n",
        "import umap\n",
        "from nltk.tokenize import WordPunctTokenizer\n",
        "\n",
        "from matplotlib import pyplot as plt\n",
        "\n",
        "from IPython.display import clear_output"
      ]
    },
    {
      "cell_type": "code",
      "execution_count": null,
      "metadata": {
        "id": "3coGV9tFjc2N",
        "outputId": "b9fdcc63-b8e5-4cc8-d8f2-474a8b62b211",
        "colab": {
          "base_uri": "https://localhost:8080/"
        }
      },
      "outputs": [
        {
          "output_type": "stream",
          "name": "stdout",
          "text": [
            "--2022-11-09 12:47:40--  https://www.dropbox.com/s/obaitrix9jyu84r/quora.txt?dl=1\n",
            "Resolving www.dropbox.com (www.dropbox.com)... 162.125.5.18, 2620:100:6018:18::a27d:312\n",
            "Connecting to www.dropbox.com (www.dropbox.com)|162.125.5.18|:443... connected.\n",
            "HTTP request sent, awaiting response... 302 Found\n",
            "Location: /s/dl/obaitrix9jyu84r/quora.txt [following]\n",
            "--2022-11-09 12:47:41--  https://www.dropbox.com/s/dl/obaitrix9jyu84r/quora.txt\n",
            "Reusing existing connection to www.dropbox.com:443.\n",
            "HTTP request sent, awaiting response... 302 Found\n",
            "Location: https://uc01ccd6b4729f72a1877d87a92d.dl.dropboxusercontent.com/cd/0/get/BwbV2OZqyRMo7OVEBtnI2PME3T7HHfYTnxaARvRPGe75AgAnkvHP_xQBEX6TkmwYq6FI11Vg-nfC1SZbx_e2XQPPT8POvekFiDxzeBgAcNu82xAVlhzpNLEUEUQUbOwd38EDArA8_SSwstLeM6VFkALYHrBSp6BlJ-lmJRqUenMXwA/file?dl=1# [following]\n",
            "--2022-11-09 12:47:41--  https://uc01ccd6b4729f72a1877d87a92d.dl.dropboxusercontent.com/cd/0/get/BwbV2OZqyRMo7OVEBtnI2PME3T7HHfYTnxaARvRPGe75AgAnkvHP_xQBEX6TkmwYq6FI11Vg-nfC1SZbx_e2XQPPT8POvekFiDxzeBgAcNu82xAVlhzpNLEUEUQUbOwd38EDArA8_SSwstLeM6VFkALYHrBSp6BlJ-lmJRqUenMXwA/file?dl=1\n",
            "Resolving uc01ccd6b4729f72a1877d87a92d.dl.dropboxusercontent.com (uc01ccd6b4729f72a1877d87a92d.dl.dropboxusercontent.com)... 162.125.3.15, 2620:100:6018:15::a27d:30f\n",
            "Connecting to uc01ccd6b4729f72a1877d87a92d.dl.dropboxusercontent.com (uc01ccd6b4729f72a1877d87a92d.dl.dropboxusercontent.com)|162.125.3.15|:443... connected.\n",
            "HTTP request sent, awaiting response... 200 OK\n",
            "Length: 33813903 (32M) [application/binary]\n",
            "Saving to: ‘./quora.txt’\n",
            "\n",
            "./quora.txt         100%[===================>]  32.25M  80.8MB/s    in 0.4s    \n",
            "\n",
            "2022-11-09 12:47:42 (80.8 MB/s) - ‘./quora.txt’ saved [33813903/33813903]\n",
            "\n"
          ]
        }
      ],
      "source": [
        "# download the data:\n",
        "!wget https://www.dropbox.com/s/obaitrix9jyu84r/quora.txt?dl=1 -O ./quora.txt -nc\n",
        "# alternative download link: https://yadi.sk/i/BPQrUu1NaTduEw"
      ]
    },
    {
      "cell_type": "code",
      "execution_count": null,
      "metadata": {
        "scrolled": false,
        "id": "FkujpGnMjc2N",
        "outputId": "8cbc4c04-7370-4087-f516-c80ff0768bd5",
        "colab": {
          "base_uri": "https://localhost:8080/",
          "height": 35
        }
      },
      "outputs": [
        {
          "output_type": "execute_result",
          "data": {
            "text/plain": [
              "'What are all the pros and cons of having dual citizenship?\\n'"
            ],
            "application/vnd.google.colaboratory.intrinsic+json": {
              "type": "string"
            }
          },
          "metadata": {},
          "execution_count": 4
        }
      ],
      "source": [
        "data = list(open(\"./quora.txt\", encoding=\"utf-8\"))\n",
        "data[55]"
      ]
    },
    {
      "cell_type": "markdown",
      "metadata": {
        "id": "WKJ7H3Mvjc2N"
      },
      "source": [
        "Произведем токенизацию и базовую предобработку:"
      ]
    },
    {
      "cell_type": "code",
      "execution_count": null,
      "metadata": {
        "id": "4pZ5_SBBjc2O",
        "outputId": "ed3730d6-e6a2-475a-b1fe-ed44c22f5173",
        "colab": {
          "base_uri": "https://localhost:8080/"
        }
      },
      "outputs": [
        {
          "output_type": "stream",
          "name": "stdout",
          "text": [
            "['What', 'TV', 'shows', 'or', 'books', 'help', 'you', 'read', 'people', \"'\", 's', 'body', 'language', '?']\n"
          ]
        }
      ],
      "source": [
        "tokenizer = WordPunctTokenizer()\n",
        "print(tokenizer.tokenize(data[50]))\n",
        "data_tok = [tokenizer.tokenize(x.lower()) for x in data]"
      ]
    },
    {
      "cell_type": "code",
      "execution_count": null,
      "metadata": {
        "id": "hJu73Dtgjc2O",
        "outputId": "1fbec8e6-a1a0-4d5e-ce59-a6f3f20993e7",
        "colab": {
          "base_uri": "https://localhost:8080/"
        }
      },
      "outputs": [
        {
          "output_type": "execute_result",
          "data": {
            "text/plain": [
              "537272"
            ]
          },
          "metadata": {},
          "execution_count": 6
        }
      ],
      "source": [
        "len(data)"
      ]
    },
    {
      "cell_type": "markdown",
      "metadata": {
        "id": "K1rukJ5Ijc2O"
      },
      "source": [
        "Для начала, обучим word2vec на доступном наборе данных. Строить для этого модель вручную не понадобится, она уже доступна в `gensim`."
      ]
    },
    {
      "cell_type": "code",
      "execution_count": null,
      "metadata": {
        "id": "xZybsBixjc2O"
      },
      "outputs": [],
      "source": [
        "from gensim.models import Word2Vec\n",
        "model = Word2Vec(data_tok,\n",
        "                 vector_size=32,      # embedding vector size\n",
        "                 min_count=5,  # consider words that occured at least 5 times\n",
        "                 window=5).wv  # define context as a 5-word window around the target word"
      ]
    },
    {
      "cell_type": "markdown",
      "metadata": {
        "id": "pZlfHn6hjc2O"
      },
      "source": [
        "Теперь нам доступны векторы для любого слова из словаря:"
      ]
    },
    {
      "cell_type": "code",
      "execution_count": null,
      "metadata": {
        "id": "PFWvw5RUjc2O",
        "outputId": "83e8d70d-c749-4423-dfd0-cc460daf81d2",
        "colab": {
          "base_uri": "https://localhost:8080/"
        }
      },
      "outputs": [
        {
          "output_type": "execute_result",
          "data": {
            "text/plain": [
              "array([-1.6260289 ,  0.72172344, -0.22443022,  0.02166116,  0.6309772 ,\n",
              "        1.8932906 , -0.2702431 , -1.5375609 , -0.46870956,  3.3435225 ,\n",
              "        1.9519538 , -1.5382302 ,  0.7857858 ,  1.905574  ,  1.4623067 ,\n",
              "        0.37732717, -5.0946913 , -1.4828953 , -1.4123696 , -2.514107  ,\n",
              "        2.3614693 ,  0.47887847, -2.9216616 ,  0.1493887 ,  0.5817923 ,\n",
              "        0.27198172, -1.4305896 , -3.257401  , -3.4542992 ,  0.54872507,\n",
              "       -0.6800773 ,  0.00997528], dtype=float32)"
            ]
          },
          "metadata": {},
          "execution_count": 8
        }
      ],
      "source": [
        "# now you can get word vectors !\n",
        "model.get_vector('cat')"
      ]
    },
    {
      "cell_type": "markdown",
      "metadata": {
        "id": "Eh3FgVWCjc2O"
      },
      "source": [
        "Так как слова представлены векторами, теперь можно вычислить расстояние (или некоторую меру схожести) между ними. Например, можно оценить, какие слова наиболее близки к заданному."
      ]
    },
    {
      "cell_type": "code",
      "execution_count": null,
      "metadata": {
        "id": "nQ1Q-BTvjc2P",
        "outputId": "49f5928e-0b94-47c8-8934-33b3cd6d58c6",
        "colab": {
          "base_uri": "https://localhost:8080/"
        }
      },
      "outputs": [
        {
          "output_type": "execute_result",
          "data": {
            "text/plain": [
              "[('dog', 0.7703542709350586),\n",
              " ('parent', 0.755887508392334),\n",
              " ('cake', 0.7409449815750122),\n",
              " ('baby', 0.736035943031311),\n",
              " ('teenager', 0.7299429178237915),\n",
              " ('ass', 0.7237233519554138),\n",
              " ('alcoholic', 0.7172170281410217),\n",
              " ('hobby', 0.7158686518669128),\n",
              " ('shower', 0.7030816674232483),\n",
              " ('whale', 0.6956217288970947)]"
            ]
          },
          "metadata": {},
          "execution_count": 9
        }
      ],
      "source": [
        "# or query similar words directly. Go play with it!\n",
        "model.most_similar('pet')"
      ]
    },
    {
      "cell_type": "markdown",
      "metadata": {
        "id": "OUBDWDr6jc2P"
      },
      "source": [
        "#### Использование предобученных векторных представлений\n",
        "Для получения качественных эмбеддингов стоит использовать большие наборы данных. Также бывает полезным использовать данные из определенной предметной области. Конечно, обучение занимает значительное время, поэтому зачастую используются предобученные эмбеддинги для слов.\n",
        "\n",
        "Загрузим предобученные эмбеддинги небольшой размерности (25). Они были обучены на данных из Twitter."
      ]
    },
    {
      "cell_type": "code",
      "execution_count": null,
      "metadata": {
        "id": "UBw5tY5jjc2P",
        "colab": {
          "base_uri": "https://localhost:8080/"
        },
        "outputId": "ffcbdb4c-9a13-4931-d530-8c3093412d21"
      },
      "outputs": [
        {
          "output_type": "stream",
          "name": "stdout",
          "text": [
            "[==================================================] 100.0% 104.8/104.8MB downloaded\n"
          ]
        }
      ],
      "source": [
        "import gensim.downloader as api\n",
        "model = api.load('glove-twitter-25')"
      ]
    },
    {
      "cell_type": "code",
      "execution_count": null,
      "metadata": {
        "id": "QSK5S1kfjc2P",
        "outputId": "803b5808-c635-460a-8549-0f66c50626a9",
        "colab": {
          "base_uri": "https://localhost:8080/"
        }
      },
      "outputs": [
        {
          "output_type": "execute_result",
          "data": {
            "text/plain": [
              "[('утро', 0.8916537761688232),\n",
              " ('весна', 0.878777265548706),\n",
              " ('зима', 0.8693447113037109),\n",
              " ('скоро', 0.8552830219268799),\n",
              " ('солнце', 0.8396058082580566),\n",
              " ('ночь', 0.8204128742218018),\n",
              " ('надеюсь', 0.8200833797454834),\n",
              " ('воскресенье', 0.8176007270812988),\n",
              " ('летом', 0.8077778816223145),\n",
              " ('солнышко', 0.8064454793930054)]"
            ]
          },
          "metadata": {},
          "execution_count": 19
        }
      ],
      "source": [
        "model.most_similar(positive=[\"лето\"])#, negative=[\"animal\"])"
      ]
    },
    {
      "cell_type": "markdown",
      "metadata": {
        "id": "-IumdPhajc2P"
      },
      "source": [
        "#### Визуализация векторных представлений слов\n",
        "\n",
        "В данный момент каждое слово представлено вектором размерности 25. Для визуализации слов нам понадобится техника снижения размерности. Для простоты можно воспользоваться методом главных компонент, PCA, который также может рассматриваться как линейный автоэнкодер:\n",
        "\n",
        "$$\\|(X W) \\hat{W} - X\\|^2_2 \\to_{W, \\hat{W}} \\min,$$\n",
        "где $W$ и $\\hat{W}$ – обучаемые параметры."
      ]
    },
    {
      "cell_type": "code",
      "execution_count": null,
      "metadata": {
        "id": "7vgbo7O6jc2P",
        "colab": {
          "base_uri": "https://localhost:8080/"
        },
        "outputId": "8a48019e-2433-4ddd-9337-421e7fb1a296"
      },
      "outputs": [
        {
          "output_type": "stream",
          "name": "stderr",
          "text": [
            "WARNING:gensim.models.keyedvectors:sorting after vectors have been allocated is expensive & error-prone\n"
          ]
        }
      ],
      "source": [
        "model.sort_by_descending_frequency()"
      ]
    },
    {
      "cell_type": "code",
      "source": [
        "len(model.key_to_index.keys())"
      ],
      "metadata": {
        "colab": {
          "base_uri": "https://localhost:8080/"
        },
        "id": "q32DTOl9exWu",
        "outputId": "af66afa8-f04d-4f78-b069-fa0e17f26e21"
      },
      "execution_count": null,
      "outputs": [
        {
          "output_type": "execute_result",
          "data": {
            "text/plain": [
              "1193514"
            ]
          },
          "metadata": {},
          "execution_count": 21
        }
      ]
    },
    {
      "cell_type": "code",
      "execution_count": null,
      "metadata": {
        "id": "B2jYK0j6jc2P",
        "outputId": "e2b647c0-01e5-41c8-b481-fba0f9f03ee5",
        "colab": {
          "base_uri": "https://localhost:8080/"
        }
      },
      "outputs": [
        {
          "output_type": "stream",
          "name": "stdout",
          "text": [
            "['<user>', '_', 'please', 'apa', 'justin', 'text', 'hari', 'playing', 'once', 'sei']\n"
          ]
        }
      ],
      "source": [
        "words = list(model.key_to_index.keys())[:1000]\n",
        "\n",
        "print(words[::100])\n",
        "\n",
        "word_vectors = np.asarray([model[x] for x in words])"
      ]
    },
    {
      "cell_type": "code",
      "execution_count": null,
      "metadata": {
        "id": "hXYg9Aqvjc2Q"
      },
      "outputs": [],
      "source": [
        "from sklearn.decomposition import PCA\n",
        "from sklearn.preprocessing import StandardScaler\n",
        "pca = PCA(2)\n",
        "scaler = StandardScaler()\n",
        "\n",
        "word_vectors_pca = scaler.fit_transform(word_vectors)\n",
        "word_vectors_pca = pca.fit_transform(word_vectors_pca)"
      ]
    },
    {
      "cell_type": "markdown",
      "metadata": {
        "id": "bebk8po5jc2Q"
      },
      "source": [
        "Для визуализации обратимся к замечательной библиотеке `bokeh`. Графики являются интерактивными."
      ]
    },
    {
      "cell_type": "code",
      "execution_count": null,
      "metadata": {
        "id": "xfuE3tQijc2Q"
      },
      "outputs": [],
      "source": [
        "import bokeh.models as bm, bokeh.plotting as pl\n",
        "from bokeh.io import output_notebook\n",
        "output_notebook()\n",
        "\n",
        "def draw_vectors(x, y, radius=10, alpha=0.25, color='blue',\n",
        "                 width=600, height=400, show=True, **kwargs):\n",
        "    \"\"\" draws an interactive plot for data points with auxilirary info on hover \"\"\"\n",
        "    if isinstance(color, str): color = [color] * len(x)\n",
        "    data_source = bm.ColumnDataSource({ 'x' : x, 'y' : y, 'color': color, **kwargs })\n",
        "\n",
        "    fig = pl.figure(active_scroll='wheel_zoom', width=width, height=height)\n",
        "    fig.scatter('x', 'y', size=radius, color='color', alpha=alpha, source=data_source)\n",
        "\n",
        "    fig.add_tools(bm.HoverTool(tooltips=[(key, \"@\" + key) for key in kwargs.keys()]))\n",
        "    if show: pl.show(fig)\n",
        "    return fig"
      ]
    },
    {
      "cell_type": "code",
      "execution_count": null,
      "metadata": {
        "id": "oLqHnLJrjc2Q",
        "outputId": "fb2202c1-8577-4df6-9f29-e8bd7007a04e",
        "colab": {
          "base_uri": "https://localhost:8080/",
          "height": 434
        }
      },
      "outputs": [
        {
          "output_type": "display_data",
          "data": {
            "application/javascript": [
              "(function(root) {\n",
              "  function now() {\n",
              "    return new Date();\n",
              "  }\n",
              "\n",
              "  const force = true;\n",
              "\n",
              "  if (typeof root._bokeh_onload_callbacks === \"undefined\" || force === true) {\n",
              "    root._bokeh_onload_callbacks = [];\n",
              "    root._bokeh_is_loading = undefined;\n",
              "  }\n",
              "\n",
              "const JS_MIME_TYPE = 'application/javascript';\n",
              "  const HTML_MIME_TYPE = 'text/html';\n",
              "  const EXEC_MIME_TYPE = 'application/vnd.bokehjs_exec.v0+json';\n",
              "  const CLASS_NAME = 'output_bokeh rendered_html';\n",
              "\n",
              "  /**\n",
              "   * Render data to the DOM node\n",
              "   */\n",
              "  function render(props, node) {\n",
              "    const script = document.createElement(\"script\");\n",
              "    node.appendChild(script);\n",
              "  }\n",
              "\n",
              "  /**\n",
              "   * Handle when an output is cleared or removed\n",
              "   */\n",
              "  function handleClearOutput(event, handle) {\n",
              "    const cell = handle.cell;\n",
              "\n",
              "    const id = cell.output_area._bokeh_element_id;\n",
              "    const server_id = cell.output_area._bokeh_server_id;\n",
              "    // Clean up Bokeh references\n",
              "    if (id != null && id in Bokeh.index) {\n",
              "      Bokeh.index[id].model.document.clear();\n",
              "      delete Bokeh.index[id];\n",
              "    }\n",
              "\n",
              "    if (server_id !== undefined) {\n",
              "      // Clean up Bokeh references\n",
              "      const cmd_clean = \"from bokeh.io.state import curstate; print(curstate().uuid_to_server['\" + server_id + \"'].get_sessions()[0].document.roots[0]._id)\";\n",
              "      cell.notebook.kernel.execute(cmd_clean, {\n",
              "        iopub: {\n",
              "          output: function(msg) {\n",
              "            const id = msg.content.text.trim();\n",
              "            if (id in Bokeh.index) {\n",
              "              Bokeh.index[id].model.document.clear();\n",
              "              delete Bokeh.index[id];\n",
              "            }\n",
              "          }\n",
              "        }\n",
              "      });\n",
              "      // Destroy server and session\n",
              "      const cmd_destroy = \"import bokeh.io.notebook as ion; ion.destroy_server('\" + server_id + \"')\";\n",
              "      cell.notebook.kernel.execute(cmd_destroy);\n",
              "    }\n",
              "  }\n",
              "\n",
              "  /**\n",
              "   * Handle when a new output is added\n",
              "   */\n",
              "  function handleAddOutput(event, handle) {\n",
              "    const output_area = handle.output_area;\n",
              "    const output = handle.output;\n",
              "\n",
              "    // limit handleAddOutput to display_data with EXEC_MIME_TYPE content only\n",
              "    if ((output.output_type != \"display_data\") || (!Object.prototype.hasOwnProperty.call(output.data, EXEC_MIME_TYPE))) {\n",
              "      return\n",
              "    }\n",
              "\n",
              "    const toinsert = output_area.element.find(\".\" + CLASS_NAME.split(' ')[0]);\n",
              "\n",
              "    if (output.metadata[EXEC_MIME_TYPE][\"id\"] !== undefined) {\n",
              "      toinsert[toinsert.length - 1].firstChild.textContent = output.data[JS_MIME_TYPE];\n",
              "      // store reference to embed id on output_area\n",
              "      output_area._bokeh_element_id = output.metadata[EXEC_MIME_TYPE][\"id\"];\n",
              "    }\n",
              "    if (output.metadata[EXEC_MIME_TYPE][\"server_id\"] !== undefined) {\n",
              "      const bk_div = document.createElement(\"div\");\n",
              "      bk_div.innerHTML = output.data[HTML_MIME_TYPE];\n",
              "      const script_attrs = bk_div.children[0].attributes;\n",
              "      for (let i = 0; i < script_attrs.length; i++) {\n",
              "        toinsert[toinsert.length - 1].firstChild.setAttribute(script_attrs[i].name, script_attrs[i].value);\n",
              "        toinsert[toinsert.length - 1].firstChild.textContent = bk_div.children[0].textContent\n",
              "      }\n",
              "      // store reference to server id on output_area\n",
              "      output_area._bokeh_server_id = output.metadata[EXEC_MIME_TYPE][\"server_id\"];\n",
              "    }\n",
              "  }\n",
              "\n",
              "  function register_renderer(events, OutputArea) {\n",
              "\n",
              "    function append_mime(data, metadata, element) {\n",
              "      // create a DOM node to render to\n",
              "      const toinsert = this.create_output_subarea(\n",
              "        metadata,\n",
              "        CLASS_NAME,\n",
              "        EXEC_MIME_TYPE\n",
              "      );\n",
              "      this.keyboard_manager.register_events(toinsert);\n",
              "      // Render to node\n",
              "      const props = {data: data, metadata: metadata[EXEC_MIME_TYPE]};\n",
              "      render(props, toinsert[toinsert.length - 1]);\n",
              "      element.append(toinsert);\n",
              "      return toinsert\n",
              "    }\n",
              "\n",
              "    /* Handle when an output is cleared or removed */\n",
              "    events.on('clear_output.CodeCell', handleClearOutput);\n",
              "    events.on('delete.Cell', handleClearOutput);\n",
              "\n",
              "    /* Handle when a new output is added */\n",
              "    events.on('output_added.OutputArea', handleAddOutput);\n",
              "\n",
              "    /**\n",
              "     * Register the mime type and append_mime function with output_area\n",
              "     */\n",
              "    OutputArea.prototype.register_mime_type(EXEC_MIME_TYPE, append_mime, {\n",
              "      /* Is output safe? */\n",
              "      safe: true,\n",
              "      /* Index of renderer in `output_area.display_order` */\n",
              "      index: 0\n",
              "    });\n",
              "  }\n",
              "\n",
              "  // register the mime type if in Jupyter Notebook environment and previously unregistered\n",
              "  if (root.Jupyter !== undefined) {\n",
              "    const events = require('base/js/events');\n",
              "    const OutputArea = require('notebook/js/outputarea').OutputArea;\n",
              "\n",
              "    if (OutputArea.prototype.mime_types().indexOf(EXEC_MIME_TYPE) == -1) {\n",
              "      register_renderer(events, OutputArea);\n",
              "    }\n",
              "  }\n",
              "  if (typeof (root._bokeh_timeout) === \"undefined\" || force === true) {\n",
              "    root._bokeh_timeout = Date.now() + 5000;\n",
              "    root._bokeh_failed_load = false;\n",
              "  }\n",
              "\n",
              "  const NB_LOAD_WARNING = {'data': {'text/html':\n",
              "     \"<div style='background-color: #fdd'>\\n\"+\n",
              "     \"<p>\\n\"+\n",
              "     \"BokehJS does not appear to have successfully loaded. If loading BokehJS from CDN, this \\n\"+\n",
              "     \"may be due to a slow or bad network connection. Possible fixes:\\n\"+\n",
              "     \"</p>\\n\"+\n",
              "     \"<ul>\\n\"+\n",
              "     \"<li>re-rerun `output_notebook()` to attempt to load from CDN again, or</li>\\n\"+\n",
              "     \"<li>use INLINE resources instead, as so:</li>\\n\"+\n",
              "     \"</ul>\\n\"+\n",
              "     \"<code>\\n\"+\n",
              "     \"from bokeh.resources import INLINE\\n\"+\n",
              "     \"output_notebook(resources=INLINE)\\n\"+\n",
              "     \"</code>\\n\"+\n",
              "     \"</div>\"}};\n",
              "\n",
              "  function display_loaded() {\n",
              "    const el = document.getElementById(null);\n",
              "    if (el != null) {\n",
              "      el.textContent = \"BokehJS is loading...\";\n",
              "    }\n",
              "    if (root.Bokeh !== undefined) {\n",
              "      if (el != null) {\n",
              "        el.textContent = \"BokehJS \" + root.Bokeh.version + \" successfully loaded.\";\n",
              "      }\n",
              "    } else if (Date.now() < root._bokeh_timeout) {\n",
              "      setTimeout(display_loaded, 100)\n",
              "    }\n",
              "  }\n",
              "\n",
              "  function run_callbacks() {\n",
              "    try {\n",
              "      root._bokeh_onload_callbacks.forEach(function(callback) {\n",
              "        if (callback != null)\n",
              "          callback();\n",
              "      });\n",
              "    } finally {\n",
              "      delete root._bokeh_onload_callbacks\n",
              "    }\n",
              "    console.debug(\"Bokeh: all callbacks have finished\");\n",
              "  }\n",
              "\n",
              "  function load_libs(css_urls, js_urls, callback) {\n",
              "    if (css_urls == null) css_urls = [];\n",
              "    if (js_urls == null) js_urls = [];\n",
              "\n",
              "    root._bokeh_onload_callbacks.push(callback);\n",
              "    if (root._bokeh_is_loading > 0) {\n",
              "      console.debug(\"Bokeh: BokehJS is being loaded, scheduling callback at\", now());\n",
              "      return null;\n",
              "    }\n",
              "    if (js_urls == null || js_urls.length === 0) {\n",
              "      run_callbacks();\n",
              "      return null;\n",
              "    }\n",
              "    console.debug(\"Bokeh: BokehJS not loaded, scheduling load and callback at\", now());\n",
              "    root._bokeh_is_loading = css_urls.length + js_urls.length;\n",
              "\n",
              "    function on_load() {\n",
              "      root._bokeh_is_loading--;\n",
              "      if (root._bokeh_is_loading === 0) {\n",
              "        console.debug(\"Bokeh: all BokehJS libraries/stylesheets loaded\");\n",
              "        run_callbacks()\n",
              "      }\n",
              "    }\n",
              "\n",
              "    function on_error(url) {\n",
              "      console.error(\"failed to load \" + url);\n",
              "    }\n",
              "\n",
              "    for (let i = 0; i < css_urls.length; i++) {\n",
              "      const url = css_urls[i];\n",
              "      const element = document.createElement(\"link\");\n",
              "      element.onload = on_load;\n",
              "      element.onerror = on_error.bind(null, url);\n",
              "      element.rel = \"stylesheet\";\n",
              "      element.type = \"text/css\";\n",
              "      element.href = url;\n",
              "      console.debug(\"Bokeh: injecting link tag for BokehJS stylesheet: \", url);\n",
              "      document.body.appendChild(element);\n",
              "    }\n",
              "\n",
              "    for (let i = 0; i < js_urls.length; i++) {\n",
              "      const url = js_urls[i];\n",
              "      const element = document.createElement('script');\n",
              "      element.onload = on_load;\n",
              "      element.onerror = on_error.bind(null, url);\n",
              "      element.async = false;\n",
              "      element.src = url;\n",
              "      console.debug(\"Bokeh: injecting script tag for BokehJS library: \", url);\n",
              "      document.head.appendChild(element);\n",
              "    }\n",
              "  };\n",
              "\n",
              "  function inject_raw_css(css) {\n",
              "    const element = document.createElement(\"style\");\n",
              "    element.appendChild(document.createTextNode(css));\n",
              "    document.body.appendChild(element);\n",
              "  }\n",
              "\n",
              "  const js_urls = [\"https://cdn.bokeh.org/bokeh/release/bokeh-2.4.3.min.js\", \"https://cdn.bokeh.org/bokeh/release/bokeh-gl-2.4.3.min.js\", \"https://cdn.bokeh.org/bokeh/release/bokeh-widgets-2.4.3.min.js\", \"https://cdn.bokeh.org/bokeh/release/bokeh-tables-2.4.3.min.js\", \"https://cdn.bokeh.org/bokeh/release/bokeh-mathjax-2.4.3.min.js\"];\n",
              "  const css_urls = [];\n",
              "\n",
              "  const inline_js = [    function(Bokeh) {\n",
              "      Bokeh.set_log_level(\"info\");\n",
              "    },\n",
              "function(Bokeh) {\n",
              "    }\n",
              "  ];\n",
              "\n",
              "  function run_inline_js() {\n",
              "    if (root.Bokeh !== undefined || force === true) {\n",
              "          for (let i = 0; i < inline_js.length; i++) {\n",
              "      inline_js[i].call(root, root.Bokeh);\n",
              "    }\n",
              "} else if (Date.now() < root._bokeh_timeout) {\n",
              "      setTimeout(run_inline_js, 100);\n",
              "    } else if (!root._bokeh_failed_load) {\n",
              "      console.log(\"Bokeh: BokehJS failed to load within specified timeout.\");\n",
              "      root._bokeh_failed_load = true;\n",
              "    } else if (force !== true) {\n",
              "      const cell = $(document.getElementById(null)).parents('.cell').data().cell;\n",
              "      cell.output_area.append_execute_result(NB_LOAD_WARNING)\n",
              "    }\n",
              "  }\n",
              "\n",
              "  if (root._bokeh_is_loading === 0) {\n",
              "    console.debug(\"Bokeh: BokehJS loaded, going straight to plotting\");\n",
              "    run_inline_js();\n",
              "  } else {\n",
              "    load_libs(css_urls, js_urls, function() {\n",
              "      console.debug(\"Bokeh: BokehJS plotting callback run at\", now());\n",
              "      run_inline_js();\n",
              "    });\n",
              "  }\n",
              "}(window));"
            ],
            "application/vnd.bokehjs_load.v0+json": "(function(root) {\n  function now() {\n    return new Date();\n  }\n\n  const force = true;\n\n  if (typeof root._bokeh_onload_callbacks === \"undefined\" || force === true) {\n    root._bokeh_onload_callbacks = [];\n    root._bokeh_is_loading = undefined;\n  }\n\n\n  if (typeof (root._bokeh_timeout) === \"undefined\" || force === true) {\n    root._bokeh_timeout = Date.now() + 5000;\n    root._bokeh_failed_load = false;\n  }\n\n  const NB_LOAD_WARNING = {'data': {'text/html':\n     \"<div style='background-color: #fdd'>\\n\"+\n     \"<p>\\n\"+\n     \"BokehJS does not appear to have successfully loaded. If loading BokehJS from CDN, this \\n\"+\n     \"may be due to a slow or bad network connection. Possible fixes:\\n\"+\n     \"</p>\\n\"+\n     \"<ul>\\n\"+\n     \"<li>re-rerun `output_notebook()` to attempt to load from CDN again, or</li>\\n\"+\n     \"<li>use INLINE resources instead, as so:</li>\\n\"+\n     \"</ul>\\n\"+\n     \"<code>\\n\"+\n     \"from bokeh.resources import INLINE\\n\"+\n     \"output_notebook(resources=INLINE)\\n\"+\n     \"</code>\\n\"+\n     \"</div>\"}};\n\n  function display_loaded() {\n    const el = document.getElementById(null);\n    if (el != null) {\n      el.textContent = \"BokehJS is loading...\";\n    }\n    if (root.Bokeh !== undefined) {\n      if (el != null) {\n        el.textContent = \"BokehJS \" + root.Bokeh.version + \" successfully loaded.\";\n      }\n    } else if (Date.now() < root._bokeh_timeout) {\n      setTimeout(display_loaded, 100)\n    }\n  }\n\n  function run_callbacks() {\n    try {\n      root._bokeh_onload_callbacks.forEach(function(callback) {\n        if (callback != null)\n          callback();\n      });\n    } finally {\n      delete root._bokeh_onload_callbacks\n    }\n    console.debug(\"Bokeh: all callbacks have finished\");\n  }\n\n  function load_libs(css_urls, js_urls, callback) {\n    if (css_urls == null) css_urls = [];\n    if (js_urls == null) js_urls = [];\n\n    root._bokeh_onload_callbacks.push(callback);\n    if (root._bokeh_is_loading > 0) {\n      console.debug(\"Bokeh: BokehJS is being loaded, scheduling callback at\", now());\n      return null;\n    }\n    if (js_urls == null || js_urls.length === 0) {\n      run_callbacks();\n      return null;\n    }\n    console.debug(\"Bokeh: BokehJS not loaded, scheduling load and callback at\", now());\n    root._bokeh_is_loading = css_urls.length + js_urls.length;\n\n    function on_load() {\n      root._bokeh_is_loading--;\n      if (root._bokeh_is_loading === 0) {\n        console.debug(\"Bokeh: all BokehJS libraries/stylesheets loaded\");\n        run_callbacks()\n      }\n    }\n\n    function on_error(url) {\n      console.error(\"failed to load \" + url);\n    }\n\n    for (let i = 0; i < css_urls.length; i++) {\n      const url = css_urls[i];\n      const element = document.createElement(\"link\");\n      element.onload = on_load;\n      element.onerror = on_error.bind(null, url);\n      element.rel = \"stylesheet\";\n      element.type = \"text/css\";\n      element.href = url;\n      console.debug(\"Bokeh: injecting link tag for BokehJS stylesheet: \", url);\n      document.body.appendChild(element);\n    }\n\n    for (let i = 0; i < js_urls.length; i++) {\n      const url = js_urls[i];\n      const element = document.createElement('script');\n      element.onload = on_load;\n      element.onerror = on_error.bind(null, url);\n      element.async = false;\n      element.src = url;\n      console.debug(\"Bokeh: injecting script tag for BokehJS library: \", url);\n      document.head.appendChild(element);\n    }\n  };\n\n  function inject_raw_css(css) {\n    const element = document.createElement(\"style\");\n    element.appendChild(document.createTextNode(css));\n    document.body.appendChild(element);\n  }\n\n  const js_urls = [\"https://cdn.bokeh.org/bokeh/release/bokeh-2.4.3.min.js\", \"https://cdn.bokeh.org/bokeh/release/bokeh-gl-2.4.3.min.js\", \"https://cdn.bokeh.org/bokeh/release/bokeh-widgets-2.4.3.min.js\", \"https://cdn.bokeh.org/bokeh/release/bokeh-tables-2.4.3.min.js\", \"https://cdn.bokeh.org/bokeh/release/bokeh-mathjax-2.4.3.min.js\"];\n  const css_urls = [];\n\n  const inline_js = [    function(Bokeh) {\n      Bokeh.set_log_level(\"info\");\n    },\nfunction(Bokeh) {\n    }\n  ];\n\n  function run_inline_js() {\n    if (root.Bokeh !== undefined || force === true) {\n          for (let i = 0; i < inline_js.length; i++) {\n      inline_js[i].call(root, root.Bokeh);\n    }\n} else if (Date.now() < root._bokeh_timeout) {\n      setTimeout(run_inline_js, 100);\n    } else if (!root._bokeh_failed_load) {\n      console.log(\"Bokeh: BokehJS failed to load within specified timeout.\");\n      root._bokeh_failed_load = true;\n    } else if (force !== true) {\n      const cell = $(document.getElementById(null)).parents('.cell').data().cell;\n      cell.output_area.append_execute_result(NB_LOAD_WARNING)\n    }\n  }\n\n  if (root._bokeh_is_loading === 0) {\n    console.debug(\"Bokeh: BokehJS loaded, going straight to plotting\");\n    run_inline_js();\n  } else {\n    load_libs(css_urls, js_urls, function() {\n      console.debug(\"Bokeh: BokehJS plotting callback run at\", now());\n      run_inline_js();\n    });\n  }\n}(window));"
          },
          "metadata": {}
        },
        {
          "output_type": "display_data",
          "data": {
            "text/html": [
              "\n",
              "  <div class=\"bk-root\" id=\"ae2a3e38-75b8-4a63-a13f-836a20660e8d\" data-root-id=\"1003\"></div>\n"
            ]
          },
          "metadata": {}
        },
        {
          "output_type": "display_data",
          "data": {
            "application/javascript": [
              "(function(root) {\n",
              "  function embed_document(root) {\n",
              "  const docs_json = {\"04d3b2ee-ef50-4177-9173-538b6bcd0521\":{\"defs\":[],\"roots\":{\"references\":[{\"attributes\":{\"below\":[{\"id\":\"1012\"}],\"center\":[{\"id\":\"1015\"},{\"id\":\"1019\"}],\"height\":400,\"left\":[{\"id\":\"1016\"}],\"renderers\":[{\"id\":\"1038\"}],\"title\":{\"id\":\"1042\"},\"toolbar\":{\"id\":\"1027\"},\"x_range\":{\"id\":\"1004\"},\"x_scale\":{\"id\":\"1008\"},\"y_range\":{\"id\":\"1006\"},\"y_scale\":{\"id\":\"1010\"}},\"id\":\"1003\",\"subtype\":\"Figure\",\"type\":\"Plot\"},{\"attributes\":{\"callback\":null,\"tooltips\":[[\"token\",\"@token\"]]},\"id\":\"1040\",\"type\":\"HoverTool\"},{\"attributes\":{},\"id\":\"1013\",\"type\":\"BasicTicker\"},{\"attributes\":{},\"id\":\"1051\",\"type\":\"Selection\"},{\"attributes\":{\"data\":{\"color\":[\"blue\",\"blue\",\"blue\",\"blue\",\"blue\",\"blue\",\"blue\",\"blue\",\"blue\",\"blue\",\"blue\",\"blue\",\"blue\",\"blue\",\"blue\",\"blue\",\"blue\",\"blue\",\"blue\",\"blue\",\"blue\",\"blue\",\"blue\",\"blue\",\"blue\",\"blue\",\"blue\",\"blue\",\"blue\",\"blue\",\"blue\",\"blue\",\"blue\",\"blue\",\"blue\",\"blue\",\"blue\",\"blue\",\"blue\",\"blue\",\"blue\",\"blue\",\"blue\",\"blue\",\"blue\",\"blue\",\"blue\",\"blue\",\"blue\",\"blue\",\"blue\",\"blue\",\"blue\",\"blue\",\"blue\",\"blue\",\"blue\",\"blue\",\"blue\",\"blue\",\"blue\",\"blue\",\"blue\",\"blue\",\"blue\",\"blue\",\"blue\",\"blue\",\"blue\",\"blue\",\"blue\",\"blue\",\"blue\",\"blue\",\"blue\",\"blue\",\"blue\",\"blue\",\"blue\",\"blue\",\"blue\",\"blue\",\"blue\",\"blue\",\"blue\",\"blue\",\"blue\",\"blue\",\"blue\",\"blue\",\"blue\",\"blue\",\"blue\",\"blue\",\"blue\",\"blue\",\"blue\",\"blue\",\"blue\",\"blue\",\"blue\",\"blue\",\"blue\",\"blue\",\"blue\",\"blue\",\"blue\",\"blue\",\"blue\",\"blue\",\"blue\",\"blue\",\"blue\",\"blue\",\"blue\",\"blue\",\"blue\",\"blue\",\"blue\",\"blue\",\"blue\",\"blue\",\"blue\",\"blue\",\"blue\",\"blue\",\"blue\",\"blue\",\"blue\",\"blue\",\"blue\",\"blue\",\"blue\",\"blue\",\"blue\",\"blue\",\"blue\",\"blue\",\"blue\",\"blue\",\"blue\",\"blue\",\"blue\",\"blue\",\"blue\",\"blue\",\"blue\",\"blue\",\"blue\",\"blue\",\"blue\",\"blue\",\"blue\",\"blue\",\"blue\",\"blue\",\"blue\",\"blue\",\"blue\",\"blue\",\"blue\",\"blue\",\"blue\",\"blue\",\"blue\",\"blue\",\"blue\",\"blue\",\"blue\",\"blue\",\"blue\",\"blue\",\"blue\",\"blue\",\"blue\",\"blue\",\"blue\",\"blue\",\"blue\",\"blue\",\"blue\",\"blue\",\"blue\",\"blue\",\"blue\",\"blue\",\"blue\",\"blue\",\"blue\",\"blue\",\"blue\",\"blue\",\"blue\",\"blue\",\"blue\",\"blue\",\"blue\",\"blue\",\"blue\",\"blue\",\"blue\",\"blue\",\"blue\",\"blue\",\"blue\",\"blue\",\"blue\",\"blue\",\"blue\",\"blue\",\"blue\",\"blue\",\"blue\",\"blue\",\"blue\",\"blue\",\"blue\",\"blue\",\"blue\",\"blue\",\"blue\",\"blue\",\"blue\",\"blue\",\"blue\",\"blue\",\"blue\",\"blue\",\"blue\",\"blue\",\"blue\",\"blue\",\"blue\",\"blue\",\"blue\",\"blue\",\"blue\",\"blue\",\"blue\",\"blue\",\"blue\",\"blue\",\"blue\",\"blue\",\"blue\",\"blue\",\"blue\",\"blue\",\"blue\",\"blue\",\"blue\",\"blue\",\"blue\",\"blue\",\"blue\",\"blue\",\"blue\",\"blue\",\"blue\",\"blue\",\"blue\",\"blue\",\"blue\",\"blue\",\"blue\",\"blue\",\"blue\",\"blue\",\"blue\",\"blue\",\"blue\",\"blue\",\"blue\",\"blue\",\"blue\",\"blue\",\"blue\",\"blue\",\"blue\",\"blue\",\"blue\",\"blue\",\"blue\",\"blue\",\"blue\",\"blue\",\"blue\",\"blue\",\"blue\",\"blue\",\"blue\",\"blue\",\"blue\",\"blue\",\"blue\",\"blue\",\"blue\",\"blue\",\"blue\",\"blue\",\"blue\",\"blue\",\"blue\",\"blue\",\"blue\",\"blue\",\"blue\",\"blue\",\"blue\",\"blue\",\"blue\",\"blue\",\"blue\",\"blue\",\"blue\",\"blue\",\"blue\",\"blue\",\"blue\",\"blue\",\"blue\",\"blue\",\"blue\",\"blue\",\"blue\",\"blue\",\"blue\",\"blue\",\"blue\",\"blue\",\"blue\",\"blue\",\"blue\",\"blue\",\"blue\",\"blue\",\"blue\",\"blue\",\"blue\",\"blue\",\"blue\",\"blue\",\"blue\",\"blue\",\"blue\",\"blue\",\"blue\",\"blue\",\"blue\",\"blue\",\"blue\",\"blue\",\"blue\",\"blue\",\"blue\",\"blue\",\"blue\",\"blue\",\"blue\",\"blue\",\"blue\",\"blue\",\"blue\",\"blue\",\"blue\",\"blue\",\"blue\",\"blue\",\"blue\",\"blue\",\"blue\",\"blue\",\"blue\",\"blue\",\"blue\",\"blue\",\"blue\",\"blue\",\"blue\",\"blue\",\"blue\",\"blue\",\"blue\",\"blue\",\"blue\",\"blue\",\"blue\",\"blue\",\"blue\",\"blue\",\"blue\",\"blue\",\"blue\",\"blue\",\"blue\",\"blue\",\"blue\",\"blue\",\"blue\",\"blue\",\"blue\",\"blue\",\"blue\",\"blue\",\"blue\",\"blue\",\"blue\",\"blue\",\"blue\",\"blue\",\"blue\",\"blue\",\"blue\",\"blue\",\"blue\",\"blue\",\"blue\",\"blue\",\"blue\",\"blue\",\"blue\",\"blue\",\"blue\",\"blue\",\"blue\",\"blue\",\"blue\",\"blue\",\"blue\",\"blue\",\"blue\",\"blue\",\"blue\",\"blue\",\"blue\",\"blue\",\"blue\",\"blue\",\"blue\",\"blue\",\"blue\",\"blue\",\"blue\",\"blue\",\"blue\",\"blue\",\"blue\",\"blue\",\"blue\",\"blue\",\"blue\",\"blue\",\"blue\",\"blue\",\"blue\",\"blue\",\"blue\",\"blue\",\"blue\",\"blue\",\"blue\",\"blue\",\"blue\",\"blue\",\"blue\",\"blue\",\"blue\",\"blue\",\"blue\",\"blue\",\"blue\",\"blue\",\"blue\",\"blue\",\"blue\",\"blue\",\"blue\",\"blue\",\"blue\",\"blue\",\"blue\",\"blue\",\"blue\",\"blue\",\"blue\",\"blue\",\"blue\",\"blue\",\"blue\",\"blue\",\"blue\",\"blue\",\"blue\",\"blue\",\"blue\",\"blue\",\"blue\",\"blue\",\"blue\",\"blue\",\"blue\",\"blue\",\"blue\",\"blue\",\"blue\",\"blue\",\"blue\",\"blue\",\"blue\",\"blue\",\"blue\",\"blue\",\"blue\",\"blue\",\"blue\",\"blue\",\"blue\",\"blue\",\"blue\",\"blue\",\"blue\",\"blue\",\"blue\",\"blue\",\"blue\",\"blue\",\"blue\",\"blue\",\"blue\",\"blue\",\"blue\",\"blue\",\"blue\",\"blue\",\"blue\",\"blue\",\"blue\",\"blue\",\"blue\",\"blue\",\"blue\",\"blue\",\"blue\",\"blue\",\"blue\",\"blue\",\"blue\",\"blue\",\"blue\",\"blue\",\"blue\",\"blue\",\"blue\",\"blue\",\"blue\",\"blue\",\"blue\",\"blue\",\"blue\",\"blue\",\"blue\",\"blue\",\"blue\",\"blue\",\"blue\",\"blue\",\"blue\",\"blue\",\"blue\",\"blue\",\"blue\",\"blue\",\"blue\",\"blue\",\"blue\",\"blue\",\"blue\",\"blue\",\"blue\",\"blue\",\"blue\",\"blue\",\"blue\",\"blue\",\"blue\",\"blue\",\"blue\",\"blue\",\"blue\",\"blue\",\"blue\",\"blue\",\"blue\",\"blue\",\"blue\",\"blue\",\"blue\",\"blue\",\"blue\",\"blue\",\"blue\",\"blue\",\"blue\",\"blue\",\"blue\",\"blue\",\"blue\",\"blue\",\"blue\",\"blue\",\"blue\",\"blue\",\"blue\",\"blue\",\"blue\",\"blue\",\"blue\",\"blue\",\"blue\",\"blue\",\"blue\",\"blue\",\"blue\",\"blue\",\"blue\",\"blue\",\"blue\",\"blue\",\"blue\",\"blue\",\"blue\",\"blue\",\"blue\",\"blue\",\"blue\",\"blue\",\"blue\",\"blue\",\"blue\",\"blue\",\"blue\",\"blue\",\"blue\",\"blue\",\"blue\",\"blue\",\"blue\",\"blue\",\"blue\",\"blue\",\"blue\",\"blue\",\"blue\",\"blue\",\"blue\",\"blue\",\"blue\",\"blue\",\"blue\",\"blue\",\"blue\",\"blue\",\"blue\",\"blue\",\"blue\",\"blue\",\"blue\",\"blue\",\"blue\",\"blue\",\"blue\",\"blue\",\"blue\",\"blue\",\"blue\",\"blue\",\"blue\",\"blue\",\"blue\",\"blue\",\"blue\",\"blue\",\"blue\",\"blue\",\"blue\",\"blue\",\"blue\",\"blue\",\"blue\",\"blue\",\"blue\",\"blue\",\"blue\",\"blue\",\"blue\",\"blue\",\"blue\",\"blue\",\"blue\",\"blue\",\"blue\",\"blue\",\"blue\",\"blue\",\"blue\",\"blue\",\"blue\",\"blue\",\"blue\",\"blue\",\"blue\",\"blue\",\"blue\",\"blue\",\"blue\",\"blue\",\"blue\",\"blue\",\"blue\",\"blue\",\"blue\",\"blue\",\"blue\",\"blue\",\"blue\",\"blue\",\"blue\",\"blue\",\"blue\",\"blue\",\"blue\",\"blue\",\"blue\",\"blue\",\"blue\",\"blue\",\"blue\",\"blue\",\"blue\",\"blue\",\"blue\",\"blue\",\"blue\",\"blue\",\"blue\",\"blue\",\"blue\",\"blue\",\"blue\",\"blue\",\"blue\",\"blue\",\"blue\",\"blue\",\"blue\",\"blue\",\"blue\",\"blue\",\"blue\",\"blue\",\"blue\",\"blue\",\"blue\",\"blue\",\"blue\",\"blue\",\"blue\",\"blue\",\"blue\",\"blue\",\"blue\",\"blue\",\"blue\",\"blue\",\"blue\",\"blue\",\"blue\",\"blue\",\"blue\",\"blue\",\"blue\",\"blue\",\"blue\",\"blue\",\"blue\",\"blue\",\"blue\",\"blue\",\"blue\",\"blue\",\"blue\",\"blue\",\"blue\",\"blue\",\"blue\",\"blue\",\"blue\",\"blue\",\"blue\",\"blue\",\"blue\",\"blue\",\"blue\",\"blue\",\"blue\",\"blue\",\"blue\",\"blue\",\"blue\",\"blue\",\"blue\",\"blue\",\"blue\",\"blue\",\"blue\",\"blue\",\"blue\",\"blue\",\"blue\",\"blue\",\"blue\",\"blue\",\"blue\",\"blue\",\"blue\",\"blue\",\"blue\",\"blue\",\"blue\",\"blue\",\"blue\",\"blue\",\"blue\",\"blue\",\"blue\",\"blue\",\"blue\",\"blue\",\"blue\",\"blue\",\"blue\",\"blue\",\"blue\",\"blue\",\"blue\",\"blue\",\"blue\",\"blue\",\"blue\",\"blue\",\"blue\",\"blue\",\"blue\",\"blue\",\"blue\",\"blue\",\"blue\",\"blue\",\"blue\",\"blue\",\"blue\",\"blue\",\"blue\",\"blue\",\"blue\",\"blue\",\"blue\",\"blue\",\"blue\",\"blue\",\"blue\",\"blue\",\"blue\",\"blue\",\"blue\",\"blue\",\"blue\",\"blue\",\"blue\",\"blue\",\"blue\",\"blue\",\"blue\",\"blue\",\"blue\",\"blue\",\"blue\",\"blue\",\"blue\",\"blue\",\"blue\",\"blue\",\"blue\",\"blue\",\"blue\",\"blue\",\"blue\",\"blue\",\"blue\",\"blue\",\"blue\",\"blue\",\"blue\",\"blue\",\"blue\",\"blue\",\"blue\",\"blue\",\"blue\",\"blue\",\"blue\",\"blue\",\"blue\",\"blue\",\"blue\",\"blue\",\"blue\",\"blue\",\"blue\",\"blue\",\"blue\",\"blue\",\"blue\",\"blue\",\"blue\",\"blue\",\"blue\",\"blue\",\"blue\",\"blue\",\"blue\",\"blue\",\"blue\",\"blue\",\"blue\",\"blue\",\"blue\",\"blue\",\"blue\",\"blue\",\"blue\",\"blue\",\"blue\",\"blue\",\"blue\",\"blue\",\"blue\",\"blue\",\"blue\",\"blue\",\"blue\",\"blue\",\"blue\",\"blue\",\"blue\",\"blue\",\"blue\",\"blue\",\"blue\",\"blue\",\"blue\",\"blue\",\"blue\",\"blue\",\"blue\",\"blue\",\"blue\",\"blue\",\"blue\",\"blue\",\"blue\",\"blue\",\"blue\",\"blue\",\"blue\",\"blue\",\"blue\",\"blue\",\"blue\",\"blue\",\"blue\",\"blue\",\"blue\",\"blue\",\"blue\",\"blue\",\"blue\",\"blue\",\"blue\",\"blue\",\"blue\",\"blue\",\"blue\",\"blue\",\"blue\",\"blue\",\"blue\",\"blue\",\"blue\",\"blue\"],\"token\":[\"<user>\",\".\",\":\",\"rt\",\",\",\"<repeat>\",\"<hashtag>\",\"<number>\",\"<url>\",\"!\",\"i\",\"a\",\"\\\"\",\"the\",\"?\",\"you\",\"to\",\"(\",\"<allcaps>\",\"<elong>\",\")\",\"me\",\"de\",\"<smile>\",\"\\uff01\",\"que\",\"and\",\"\\u3002\",\"-\",\"my\",\"no\",\"\\u3001\",\"is\",\"it\",\"\\u2026\",\"in\",\"n\",\"for\",\"/\",\"of\",\"la\",\"'s\",\"*\",\"do\",\"n't\",\"that\",\"on\",\"y\",\"'\",\"e\",\"o\",\"u\",\"en\",\"this\",\"el\",\"so\",\"be\",\"'m\",\"with\",\"just\",\">\",\"your\",\"^\",\"like\",\"have\",\"te\",\"at\",\"\\uff1f\",\"love\",\"se\",\"are\",\"<\",\"m\",\"r\",\"if\",\"all\",\"b\",\"\\u30fb\",\"not\",\"but\",\"we\",\"es\",\"ya\",\"&\",\"follow\",\"up\",\"what\",\"get\",\"lol\",\"un\",\"\\u2665\",\"lo\",\"when\",\"was\",\"\\u201c\",\"\\u201d\",\"one\",\"por\",\"si\",\"out\",\"_\",\"mi\",\"can\",\"<sadface>\",\"\\u0645\\u0646\",\"\\u2661\",\"\\u00b4\",\"he\",\"con\",\"they\",\"now\",\"go\",\"\\u060c\",\"para\",\"los\",\"know\",\"haha\",\"good\",\"tu\",\"back\",\"~\",\"about\",\"new\",\";\",\"as\",\"day\",\"how\",\"who\",\"will\",\"want\",\"people\",\"yo\",\"eu\",\"from\",\"di\",\"time\",\"<heart>\",\"s\",\"aku\",\"da\",\"'re\",\"<lolface>\",\"una\",\"got\",\"las\",\"more\",\"x\",\"she\",\"today\",\"\\uff08\",\">>\",\"k\",\"by\",\"or\",\"\\u0641\\u064a\",\"\\uff65\",\"too\",\"le\",\"\\u00e9\",\"|\",\"[\",\"\\uff09\",\"]\",\"see\",\"why\",\"yg\",\"ca\",\"como\",\"her\",\"\\u2014\",\"q\",\"need\",\"an\",\"na\",\"\\u7b11\",\"there\",\"\\u03c9\",\"happy\",\"im\",\"mas\",\"je\",\"life\",\"really\",\"make\",\"yang\",\"shit\",\"think\",\"t\",\"\\u2764\",\"n\\u00e3o\",\"never\",\"some\",\"\\uff5e\",\"oh\",\"\\u2605\",\"did\",\"would\",\"del\",\"`\",\"d\",\"please\",\"via\",\"much\",\"fuck\",\"al\",\"dia\",\"$\",\"\\u0648\",\"right\",\"best\",\"c\",\"going\",\"\\u0627\\u0644\\u0644\\u0647\",\"pero\",\"only\",\"has\",\"\\u266a\",\"'ll\",\"twitter\",\"=\",\"hahaha\",\"its\",\"nn\",\"\\uff40\",\"\\u00bf\",\"am\",\"say\",\"<neutralface>\",\"them\",\"here\",\"\\u0644\\u0627\",\"off\",\"still\",\"dan\",\"+\",\"night\",\"w\",\"ada\",\"someone\",\"even\",\"then\",\"\\u2606\",\"ni\",\"come\",\"com\",\"always\",\"man\",\"'ve\",\"been\",\"his\",\"itu\",\"\\u0639\\u0644\\u0649\",\"-_-\",\"\\u263a\",\"over\",\"um\",\"\\u0645\\u0627\",\"hate\",\"girl\",\"ai\",\"had\",\"pra\",\"todo\",\"mais\",\"feel\",\"let\",\"ini\",\"because\",\"\\uff9f\",\"thanks\",\"ah\",\"way\",\"ever\",\"look\",\"tweet\",\"followers\",\"should\",\"our\",\"xd\",\"aja\",\"esta\",\"school\",\"him\",\"ser\",\"take\",\"than\",\"video\",\"em\",\"last\",\"wanna\",\"does\",\"us\",\"miss\",\"l\",\"ga\",\"better\",\"well\",\"could\",\"\\u25bd\",\"%\",\"apa\",\"cuando\",\"team\",\"\\u2714\",\"@\",\"ok\",\"\\u061f\",\"\\u2022\",\"vida\",\"quiero\",\"les\",\"being\",\"real\",\"down\",\"kamu\",\"everyone\",\"gonna\",\"live\",\"tonight\",\"yes\",\"work\",\"ass\",\"retweet\",\"nada\",\"sama\",\"first\",\"<<\",\"photo\",\"tomorrow\",\"where\",\"god\",\"son\",\"ke\",\"ta\",\"f\",\"home\",\"lagi\",\"thank\",\"birthday\",\"\\u2588\",\"ha\",\"great\",\"lmao\",\"omg\",\"morning\",\"m\\u00e1s\",\"mau\",\"baby\",\"dont\",\"\\uff61\",\"their\",\"p\",\"things\",\"game\",\"pas\",\"bad\",\"year\",\"yeah\",\"su\",\"bitch\",\"\\u0432\",\"stop\",\"hoy\",\"something\",\"meu\",\"tak\",\"gak\",\"world\",\"amor\",\"h\",\"\\\\\",\"ver\",\"\\uff1b\",\"porque\",\"give\",\"these\",\"\\u0627\\u0644\\u0644\\u0647\\u0645\",\"were\",\"hay\",\"sleep\",\"gue\",\"every\",\"friends\",\"uma\",\"tell\",\"amo\",\"vou\",\"bien\",\"\\u00a1\",\"again\",\"\\uff3e\",\"\\uff0f\",\"done\",\"after\",\"todos\",\"girls\",\"guys\",\"getting\",\"big\",\"wait\",\"justin\",\"eh\",\"\\u2192\",\"kan\",\"kita\",\"jajaja\",\"wish\",\"said\",\"fucking\",\"show\",\"thing\",\"next\",\"voc\\u00ea\",\"nos\",\"little\",\"tengo\",\"keep\",\"person\",\"''\",\"\\u2200\",\"hope\",\"\\u0643\\u0644\",\"hey\",\"bisa\",\"free\",\"made\",\"foto\",\"va\",\"everything\",\"iya\",\"nigga\",\"eso\",\"et\",\"watch\",\"music\",\"week\",\"talk\",\"ne\",\"solo\",\"gente\",\"udah\",\"\\uff1a\",\"--\",\"\\uff3c\",\"mejor\",\"facebook\",\"ma\",\"v\",\"phone\",\"most\",\"same\",\"okay\",\"ik\",\"before\",\"minha\",\"days\",\"g\",\"ti\",\"damn\",\"nice\",\"voy\",\"vai\",\"call\",\"long\",\"tapi\",\"http\",\"sin\",\"nunca\",\"doing\",\"other\",\"find\",\"il\",\"sa\",\"sorry\",\"nya\",\"orang\",\"\\u00b0\",\"hard\",\"mean\",\"die\",\"\\u0627\\u0644\\u0644\\u064a\",\"tem\",\"soy\",\"este\",\"kalo\",\"s\\u00f3\",\"th\",\"win\",\"nothing\",\"into\",\"face\",\"cute\",\"'d\",\"gracias\",\"lah\",\"\\u0438\",\"any\",\"play\",\"\\u2190\",\"ko\",\"text\",\"\\u2323\",\"estoy\",\"tau\",\"ur\",\"buat\",\"#\",\"cause\",\"\\u044f\",\"put\",\"kau\",\"siempre\",\"juga\",\"casa\",\"\\u0623\\u0646\",\"help\",\"start\",\"feliz\",\"old\",\"ir\",\"very\",\"care\",\"bir\",\"makes\",\"song\",\"check\",\"watching\",\"ahora\",\"jadi\",\"os\",\"may\",\"friend\",\"beautiful\",\"heart\",\"ka\",\"vc\",\"mundo\",\"\\u043d\\u0430\",\"sure\",\"tan\",\"pretty\",\"aqui\",\"\\u043d\\u0435\",\"house\",\"\\u0631\\u062a\\u0648\\u064a\\u062a\",\"\\u064a\\u0627\",\"ja\",\"true\",\"muy\",\"away\",\"already\",\"actually\",\"believe\",\"try\",\"many\",\"ma\\u00f1ana\",\"mis\",\"lu\",\"those\",\"hot\",\"qu\\u00e9\",\"mal\",\"\\u0639\\u0646\",\"though\",\"ask\",\"amazing\",\"bed\",\"}\",\"two\",\"mom\",\"d\\u00eda\",\"ve\",\"dari\",\"gameinsight\",\"stay\",\"fun\",\"around\",\"van\",\"cont\",\"ready\",\"money\",\"bu\",\"funny\",\"cool\",\"hair\",\"\\u00e0\",\"tho\",\"{\",\"wo\",\"hi\",\"name\",\"tiene\",\"hahahaha\",\"pa\",\"algo\",\"gotta\",\"\\u0648\\u0644\\u0627\",\"boy\",\"another\",\"c'est\",\"hari\",\"jajajaja\",\"having\",\"cara\",\"jaja\",\"dm\",\"looking\",\"top\",\"android\",\"dah\",\"wow\",\"\\u2591\",\"eres\",\"ben\",\"must\",\"news\",\"met\",\"est\\u00e1\",\"nih\",\"family\",\"black\",\"thought\",\"nak\",\"super\",\"end\",\"hace\",\"remember\",\"ama\",\"party\",\"cant\",\"vamos\",\"anything\",\"anyone\",\"\\u0641\\u0648\\u0644\\u0648\",\"perfect\",\"guy\",\"vez\",\"christmas\",\"dos\",\"bueno\",\"nao\",\"years\",\"vote\",\"dormir\",\"bro\",\"else\",\"quien\",\"untuk\",\"jangan\",\"myself\",\"head\",\"mind\",\"gua\",\"talking\",\"while\",\"dat\",\"food\",\"\\u0434\",\"coming\",\"wkwk\",\"trying\",\"saya\",\"mucho\",\"without\",\"wrong\",\"\\u2019s\",\"baru\",\"__\",\"hehe\",\"hacer\",\"lot\",\"followed\",\"crazy\",\"hell\",\"feeling\",\"des\",\"kok\",\"j\",\"stats\",\"j'\",\"\\u0627\\u0646\",\"tweets\",\"non\",\"cosas\",\"era\",\"high\",\"niggas\",\"change\",\"movie\",\"xx\",\"mad\",\"sih\",\"sometimes\",\"deh\",\"allah\",\"through\",\"pour\",\"ela\",\"soon\",\"gone\",\"playing\",\"smile\",\"bukan\",\"tv\",\"fans\",\"hasta\",\"akan\",\"y'\",\"looks\",\"isso\",\"\\u270c\",\"tired\",\"boys\",\"might\",\"dong\",\"lg\",\"use\",\"maybe\",\"until\",\"menos\",\"own\",\"dengan\",\"eat\",\"ou\",\"weekend\",\"\\u02d8\",\"class\",\"ele\",\"harry\",\"iphone\",\"friday\",\"single\",\"ff\",\"awesome\",\"bout\",\"muito\",\"hoje\",\"\\u00ac\",\"dios\",\"such\",\"estar\",\"j\\u00e1\",\"quando\",\"esa\",\"making\",\"\\u2501\",\"times\",\"lmfao\",\"gw\",\"moment\",\"yet\",\"aw\",\"smh\",\"banget\",\"masih\",\"qui\",\"quem\",\"\\u2013\",\"leave\",\"du\",\"une\",\"guess\",\"hit\",\"\\u0441\",\"pm\",\"since\",\"pues\",\"est\",\"job\",\"\\uff89\",\"mana\",\"bom\",\"siapa\",\"suka\",\"bieber\",\"mention\",\"lebih\",\"favorite\",\"bitches\",\"forever\",\"\\u0644\\u064a\",\"final\",\"read\",\"alguien\",\"open\",\"yourself\",\"ese\",\"che\",\"sex\",\"yaa\",\"car\",\"direction\",\"tidak\",\"seu\",\"gets\",\"left\",\"re\",\"jam\",\"enough\",\"\\u0625\\u0644\\u0627\",\"once\",\"\\u2019\",\"part\",\"cada\",\"\\u5b9a\\u671f\",\"\\u0644\\u0643\",\"een\",\"seen\",\"kak\",\"as\\u00ed\",\"nem\",\"\\u0639\\u0645\\u0644\",\"white\",\"told\",\"says\",\"esto\",\"sad\",\"mo\",\"fue\",\"yah\",\"summer\",\"\\u0647\",\"\\u2b55\",\"\\u00bb\",\"thats\",\"\\u0645\\u0639\",\"posted\",\"wants\",\"agora\",\"together\",\"fan\",\"men\",\"hear\",\"full\",\"\\u2600\",\"sigo\",\"pq\",\"dulu\",\"plus\",\"foi\",\"tudo\",\"\\u0647\\u0648\",\"ill\",\"\\u3042\",\"thinking\",\"wtf\",\"pagi\",\"mama\",\"kalau\",\"hati\",\"sexy\",\"sayang\",\"baik\",\"semua\",\"hola\",\"went\",\"vos\",\"tanto\",\"finally\",\"fb\",\"sea\",\"stupid\",\"tus\",\"seriously\",\"hora\",\"min\",\"pic\",\"estas\",\"turn\",\"hours\",\"excited\",\"nah\",\"buy\",\"saying\",\"mah\",\"break\",\"needs\",\"ce\",\"room\",\"choice\",\"far\",\"dead\",\"quero\",\"saw\",\"kids\",\"lil\",\"whole\",\"puede\",\"fall\",\"sus\",\"lost\",\"asi\",\"word\",\"\\u2639\",\"also\",\"\\u0631\\u064a\\u062a\\u0648\\u064a\\u062a\",\"probably\",\"everybody\",\"tarde\",\"run\",\"sei\",\"follback\",\"forget\",\"sweet\",\"welcome\",\"selamat\",\"\\uff3f\",\"sur\",\"place\",\"gusta\",\"sabe\",\"androidgames\",\"tp\",\"tiempo\",\"\\u0628\\u0633\",\"sou\",\"tuh\",\"vs\",\"eyes\",\"\\u0627\\u0646\\u0627\",\"picture\",\"das\",\"meet\",\"anak\",\"persona\",\"essa\",\"bored\",\"following\",\"nadie\",\"nobody\",\"dice\",\"alone\",\"sick\",\"red\",\"city\",\"cinta\",\"\\u6708\",\"linda\",\"dream\",\"story\",\"km\",\"het\",\"waiting\",\"^_^\",\"mine\",\"\\u0447\\u0442\\u043e\",\"reason\",\"kk\",\"\\u0644\\u0648\",\"online\",\"fast\",\"udh\",\"wanted\",\"op\",\"others\",\"gay\",\"n\\u2019t\",\"used\",\"sem\",\"understand\",\"moi\",\"sm\",\"aint\",\"donde\",\"bem\",\"which\",\"ng\",\"followback\",\"punya\",\"late\",\"anda\",\"tidur\",\"puedo\",\"early\",\"nd\",\"personas\",\"banyak\",\"\\u2705\",\"\\u278a\",\"trust\",\"noche\",\"tl\",\"\\uff1e\",\"\\u00ab\",\"af\",\"move\",\"pro\",\"bring\",\"ku\",\"called\",\"relationship\",\"idk\",\"hurt\",\"st\",\"pernah\",\"pessoas\",\"hello\",\"uno\",\"unfollowers\",\"cry\"],\"x\":{\"__ndarray__\":\"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\",\"dtype\":\"float32\",\"order\":\"little\",\"shape\":[1000]},\"y\":{\"__ndarray__\":\"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\",\"dtype\":\"float32\",\"order\":\"little\",\"shape\":[1000]}},\"selected\":{\"id\":\"1051\"},\"selection_policy\":{\"id\":\"1050\"}},\"id\":\"1002\",\"type\":\"ColumnDataSource\"},{\"attributes\":{},\"id\":\"1045\",\"type\":\"BasicTickFormatter\"},{\"attributes\":{\"fill_alpha\":{\"value\":0.2},\"fill_color\":{\"field\":\"color\"},\"hatch_alpha\":{\"value\":0.2},\"hatch_color\":{\"field\":\"color\"},\"line_alpha\":{\"value\":0.2},\"line_color\":{\"field\":\"color\"},\"size\":{\"value\":10},\"x\":{\"field\":\"x\"},\"y\":{\"field\":\"y\"}},\"id\":\"1037\",\"type\":\"Scatter\"},{\"attributes\":{\"axis\":{\"id\":\"1012\"},\"coordinates\":null,\"group\":null,\"ticker\":null},\"id\":\"1015\",\"type\":\"Grid\"},{\"attributes\":{},\"id\":\"1024\",\"type\":\"ResetTool\"},{\"attributes\":{},\"id\":\"1025\",\"type\":\"HelpTool\"},{\"attributes\":{\"bottom_units\":\"screen\",\"coordinates\":null,\"fill_alpha\":0.5,\"fill_color\":\"lightgrey\",\"group\":null,\"left_units\":\"screen\",\"level\":\"overlay\",\"line_alpha\":1.0,\"line_color\":\"black\",\"line_dash\":[4,4],\"line_width\":2,\"right_units\":\"screen\",\"syncable\":false,\"top_units\":\"screen\"},\"id\":\"1026\",\"type\":\"BoxAnnotation\"},{\"attributes\":{},\"id\":\"1006\",\"type\":\"DataRange1d\"},{\"attributes\":{\"axis\":{\"id\":\"1016\"},\"coordinates\":null,\"dimension\":1,\"group\":null,\"ticker\":null},\"id\":\"1019\",\"type\":\"Grid\"},{\"attributes\":{},\"id\":\"1048\",\"type\":\"BasicTickFormatter\"},{\"attributes\":{\"source\":{\"id\":\"1002\"}},\"id\":\"1039\",\"type\":\"CDSView\"},{\"attributes\":{\"fill_alpha\":{\"value\":0.1},\"fill_color\":{\"field\":\"color\"},\"hatch_alpha\":{\"value\":0.1},\"hatch_color\":{\"field\":\"color\"},\"line_alpha\":{\"value\":0.1},\"line_color\":{\"field\":\"color\"},\"size\":{\"value\":10},\"x\":{\"field\":\"x\"},\"y\":{\"field\":\"y\"}},\"id\":\"1036\",\"type\":\"Scatter\"},{\"attributes\":{\"coordinates\":null,\"data_source\":{\"id\":\"1002\"},\"glyph\":{\"id\":\"1035\"},\"group\":null,\"hover_glyph\":null,\"muted_glyph\":{\"id\":\"1037\"},\"nonselection_glyph\":{\"id\":\"1036\"},\"view\":{\"id\":\"1039\"}},\"id\":\"1038\",\"type\":\"GlyphRenderer\"},{\"attributes\":{},\"id\":\"1049\",\"type\":\"AllLabels\"},{\"attributes\":{},\"id\":\"1008\",\"type\":\"LinearScale\"},{\"attributes\":{},\"id\":\"1050\",\"type\":\"UnionRenderers\"},{\"attributes\":{},\"id\":\"1046\",\"type\":\"AllLabels\"},{\"attributes\":{},\"id\":\"1004\",\"type\":\"DataRange1d\"},{\"attributes\":{\"fill_alpha\":{\"value\":0.25},\"fill_color\":{\"field\":\"color\"},\"hatch_alpha\":{\"value\":0.25},\"hatch_color\":{\"field\":\"color\"},\"line_alpha\":{\"value\":0.25},\"line_color\":{\"field\":\"color\"},\"size\":{\"value\":10},\"x\":{\"field\":\"x\"},\"y\":{\"field\":\"y\"}},\"id\":\"1035\",\"type\":\"Scatter\"},{\"attributes\":{},\"id\":\"1020\",\"type\":\"PanTool\"},{\"attributes\":{},\"id\":\"1017\",\"type\":\"BasicTicker\"},{\"attributes\":{\"coordinates\":null,\"formatter\":{\"id\":\"1048\"},\"group\":null,\"major_label_policy\":{\"id\":\"1049\"},\"ticker\":{\"id\":\"1013\"}},\"id\":\"1012\",\"type\":\"LinearAxis\"},{\"attributes\":{\"overlay\":{\"id\":\"1026\"}},\"id\":\"1022\",\"type\":\"BoxZoomTool\"},{\"attributes\":{\"coordinates\":null,\"group\":null},\"id\":\"1042\",\"type\":\"Title\"},{\"attributes\":{\"coordinates\":null,\"formatter\":{\"id\":\"1045\"},\"group\":null,\"major_label_policy\":{\"id\":\"1046\"},\"ticker\":{\"id\":\"1017\"}},\"id\":\"1016\",\"type\":\"LinearAxis\"},{\"attributes\":{\"active_scroll\":{\"id\":\"1021\"},\"tools\":[{\"id\":\"1020\"},{\"id\":\"1021\"},{\"id\":\"1022\"},{\"id\":\"1023\"},{\"id\":\"1024\"},{\"id\":\"1025\"},{\"id\":\"1040\"}]},\"id\":\"1027\",\"type\":\"Toolbar\"},{\"attributes\":{},\"id\":\"1023\",\"type\":\"SaveTool\"},{\"attributes\":{},\"id\":\"1010\",\"type\":\"LinearScale\"},{\"attributes\":{},\"id\":\"1021\",\"type\":\"WheelZoomTool\"}],\"root_ids\":[\"1003\"]},\"title\":\"Bokeh Application\",\"version\":\"2.4.3\"}};\n",
              "  const render_items = [{\"docid\":\"04d3b2ee-ef50-4177-9173-538b6bcd0521\",\"root_ids\":[\"1003\"],\"roots\":{\"1003\":\"ae2a3e38-75b8-4a63-a13f-836a20660e8d\"}}];\n",
              "  root.Bokeh.embed.embed_items_notebook(docs_json, render_items);\n",
              "  }\n",
              "  if (root.Bokeh !== undefined) {\n",
              "    embed_document(root);\n",
              "  } else {\n",
              "    let attempts = 0;\n",
              "    const timer = setInterval(function(root) {\n",
              "      if (root.Bokeh !== undefined) {\n",
              "        clearInterval(timer);\n",
              "        embed_document(root);\n",
              "      } else {\n",
              "        attempts++;\n",
              "        if (attempts > 100) {\n",
              "          clearInterval(timer);\n",
              "          console.log(\"Bokeh: ERROR: Unable to run BokehJS code because BokehJS library is missing\");\n",
              "        }\n",
              "      }\n",
              "    }, 10, root)\n",
              "  }\n",
              "})(window);"
            ],
            "application/vnd.bokehjs_exec.v0+json": ""
          },
          "metadata": {
            "application/vnd.bokehjs_exec.v0+json": {
              "id": "1003"
            }
          }
        },
        {
          "output_type": "execute_result",
          "data": {
            "text/plain": [
              "Figure(id='1003', ...)"
            ],
            "text/html": [
              "<div style=\"display: table;\"><div style=\"display: table-row;\"><div style=\"display: table-cell;\"><b title=\"bokeh.plotting.figure.Figure\">Figure</b>(</div><div style=\"display: table-cell;\">id&nbsp;=&nbsp;'1003', <span id=\"1109\" style=\"cursor: pointer;\">&hellip;)</span></div></div><div class=\"1108\" style=\"display: none;\"><div style=\"display: table-cell;\"></div><div style=\"display: table-cell;\">above&nbsp;=&nbsp;[],</div></div><div class=\"1108\" style=\"display: none;\"><div style=\"display: table-cell;\"></div><div style=\"display: table-cell;\">align&nbsp;=&nbsp;'start',</div></div><div class=\"1108\" style=\"display: none;\"><div style=\"display: table-cell;\"></div><div style=\"display: table-cell;\">aspect_ratio&nbsp;=&nbsp;None,</div></div><div class=\"1108\" style=\"display: none;\"><div style=\"display: table-cell;\"></div><div style=\"display: table-cell;\">aspect_scale&nbsp;=&nbsp;1,</div></div><div class=\"1108\" style=\"display: none;\"><div style=\"display: table-cell;\"></div><div style=\"display: table-cell;\">background&nbsp;=&nbsp;None,</div></div><div class=\"1108\" style=\"display: none;\"><div style=\"display: table-cell;\"></div><div style=\"display: table-cell;\">background_fill_alpha&nbsp;=&nbsp;1.0,</div></div><div class=\"1108\" style=\"display: none;\"><div style=\"display: table-cell;\"></div><div style=\"display: table-cell;\">background_fill_color&nbsp;=&nbsp;'#ffffff',</div></div><div class=\"1108\" style=\"display: none;\"><div style=\"display: table-cell;\"></div><div style=\"display: table-cell;\">below&nbsp;=&nbsp;[LinearAxis(id='1012', ...)],</div></div><div class=\"1108\" style=\"display: none;\"><div style=\"display: table-cell;\"></div><div style=\"display: table-cell;\">border_fill_alpha&nbsp;=&nbsp;1.0,</div></div><div class=\"1108\" style=\"display: none;\"><div style=\"display: table-cell;\"></div><div style=\"display: table-cell;\">border_fill_color&nbsp;=&nbsp;'#ffffff',</div></div><div class=\"1108\" style=\"display: none;\"><div style=\"display: table-cell;\"></div><div style=\"display: table-cell;\">center&nbsp;=&nbsp;[Grid(id='1015', ...), Grid(id='1019', ...)],</div></div><div class=\"1108\" style=\"display: none;\"><div style=\"display: table-cell;\"></div><div style=\"display: table-cell;\">css_classes&nbsp;=&nbsp;[],</div></div><div class=\"1108\" style=\"display: none;\"><div style=\"display: table-cell;\"></div><div style=\"display: table-cell;\">disabled&nbsp;=&nbsp;False,</div></div><div class=\"1108\" style=\"display: none;\"><div style=\"display: table-cell;\"></div><div style=\"display: table-cell;\">extra_x_ranges&nbsp;=&nbsp;{},</div></div><div class=\"1108\" style=\"display: none;\"><div style=\"display: table-cell;\"></div><div style=\"display: table-cell;\">extra_x_scales&nbsp;=&nbsp;{},</div></div><div class=\"1108\" style=\"display: none;\"><div style=\"display: table-cell;\"></div><div style=\"display: table-cell;\">extra_y_ranges&nbsp;=&nbsp;{},</div></div><div class=\"1108\" style=\"display: none;\"><div style=\"display: table-cell;\"></div><div style=\"display: table-cell;\">extra_y_scales&nbsp;=&nbsp;{},</div></div><div class=\"1108\" style=\"display: none;\"><div style=\"display: table-cell;\"></div><div style=\"display: table-cell;\">frame_height&nbsp;=&nbsp;None,</div></div><div class=\"1108\" style=\"display: none;\"><div style=\"display: table-cell;\"></div><div style=\"display: table-cell;\">frame_width&nbsp;=&nbsp;None,</div></div><div class=\"1108\" style=\"display: none;\"><div style=\"display: table-cell;\"></div><div style=\"display: table-cell;\">height&nbsp;=&nbsp;400,</div></div><div class=\"1108\" style=\"display: none;\"><div style=\"display: table-cell;\"></div><div style=\"display: table-cell;\">height_policy&nbsp;=&nbsp;'auto',</div></div><div class=\"1108\" style=\"display: none;\"><div style=\"display: table-cell;\"></div><div style=\"display: table-cell;\">hidpi&nbsp;=&nbsp;True,</div></div><div class=\"1108\" style=\"display: none;\"><div style=\"display: table-cell;\"></div><div style=\"display: table-cell;\">inner_height&nbsp;=&nbsp;0,</div></div><div class=\"1108\" style=\"display: none;\"><div style=\"display: table-cell;\"></div><div style=\"display: table-cell;\">inner_width&nbsp;=&nbsp;0,</div></div><div class=\"1108\" style=\"display: none;\"><div style=\"display: table-cell;\"></div><div style=\"display: table-cell;\">js_event_callbacks&nbsp;=&nbsp;{},</div></div><div class=\"1108\" style=\"display: none;\"><div style=\"display: table-cell;\"></div><div style=\"display: table-cell;\">js_property_callbacks&nbsp;=&nbsp;{},</div></div><div class=\"1108\" style=\"display: none;\"><div style=\"display: table-cell;\"></div><div style=\"display: table-cell;\">left&nbsp;=&nbsp;[LinearAxis(id='1016', ...)],</div></div><div class=\"1108\" style=\"display: none;\"><div style=\"display: table-cell;\"></div><div style=\"display: table-cell;\">lod_factor&nbsp;=&nbsp;10,</div></div><div class=\"1108\" style=\"display: none;\"><div style=\"display: table-cell;\"></div><div style=\"display: table-cell;\">lod_interval&nbsp;=&nbsp;300,</div></div><div class=\"1108\" style=\"display: none;\"><div style=\"display: table-cell;\"></div><div style=\"display: table-cell;\">lod_threshold&nbsp;=&nbsp;2000,</div></div><div class=\"1108\" style=\"display: none;\"><div style=\"display: table-cell;\"></div><div style=\"display: table-cell;\">lod_timeout&nbsp;=&nbsp;500,</div></div><div class=\"1108\" style=\"display: none;\"><div style=\"display: table-cell;\"></div><div style=\"display: table-cell;\">margin&nbsp;=&nbsp;(0, 0, 0, 0),</div></div><div class=\"1108\" style=\"display: none;\"><div style=\"display: table-cell;\"></div><div style=\"display: table-cell;\">match_aspect&nbsp;=&nbsp;False,</div></div><div class=\"1108\" style=\"display: none;\"><div style=\"display: table-cell;\"></div><div style=\"display: table-cell;\">max_height&nbsp;=&nbsp;None,</div></div><div class=\"1108\" style=\"display: none;\"><div style=\"display: table-cell;\"></div><div style=\"display: table-cell;\">max_width&nbsp;=&nbsp;None,</div></div><div class=\"1108\" style=\"display: none;\"><div style=\"display: table-cell;\"></div><div style=\"display: table-cell;\">min_border&nbsp;=&nbsp;5,</div></div><div class=\"1108\" style=\"display: none;\"><div style=\"display: table-cell;\"></div><div style=\"display: table-cell;\">min_border_bottom&nbsp;=&nbsp;None,</div></div><div class=\"1108\" style=\"display: none;\"><div style=\"display: table-cell;\"></div><div style=\"display: table-cell;\">min_border_left&nbsp;=&nbsp;None,</div></div><div class=\"1108\" style=\"display: none;\"><div style=\"display: table-cell;\"></div><div style=\"display: table-cell;\">min_border_right&nbsp;=&nbsp;None,</div></div><div class=\"1108\" style=\"display: none;\"><div style=\"display: table-cell;\"></div><div style=\"display: table-cell;\">min_border_top&nbsp;=&nbsp;None,</div></div><div class=\"1108\" style=\"display: none;\"><div style=\"display: table-cell;\"></div><div style=\"display: table-cell;\">min_height&nbsp;=&nbsp;None,</div></div><div class=\"1108\" style=\"display: none;\"><div style=\"display: table-cell;\"></div><div style=\"display: table-cell;\">min_width&nbsp;=&nbsp;None,</div></div><div class=\"1108\" style=\"display: none;\"><div style=\"display: table-cell;\"></div><div style=\"display: table-cell;\">name&nbsp;=&nbsp;None,</div></div><div class=\"1108\" style=\"display: none;\"><div style=\"display: table-cell;\"></div><div style=\"display: table-cell;\">outer_height&nbsp;=&nbsp;0,</div></div><div class=\"1108\" style=\"display: none;\"><div style=\"display: table-cell;\"></div><div style=\"display: table-cell;\">outer_width&nbsp;=&nbsp;0,</div></div><div class=\"1108\" style=\"display: none;\"><div style=\"display: table-cell;\"></div><div style=\"display: table-cell;\">outline_line_alpha&nbsp;=&nbsp;1.0,</div></div><div class=\"1108\" style=\"display: none;\"><div style=\"display: table-cell;\"></div><div style=\"display: table-cell;\">outline_line_cap&nbsp;=&nbsp;'butt',</div></div><div class=\"1108\" style=\"display: none;\"><div style=\"display: table-cell;\"></div><div style=\"display: table-cell;\">outline_line_color&nbsp;=&nbsp;'#e5e5e5',</div></div><div class=\"1108\" style=\"display: none;\"><div style=\"display: table-cell;\"></div><div style=\"display: table-cell;\">outline_line_dash&nbsp;=&nbsp;[],</div></div><div class=\"1108\" style=\"display: none;\"><div style=\"display: table-cell;\"></div><div style=\"display: table-cell;\">outline_line_dash_offset&nbsp;=&nbsp;0,</div></div><div class=\"1108\" style=\"display: none;\"><div style=\"display: table-cell;\"></div><div style=\"display: table-cell;\">outline_line_join&nbsp;=&nbsp;'bevel',</div></div><div class=\"1108\" style=\"display: none;\"><div style=\"display: table-cell;\"></div><div style=\"display: table-cell;\">outline_line_width&nbsp;=&nbsp;1,</div></div><div class=\"1108\" style=\"display: none;\"><div style=\"display: table-cell;\"></div><div style=\"display: table-cell;\">output_backend&nbsp;=&nbsp;'canvas',</div></div><div class=\"1108\" style=\"display: none;\"><div style=\"display: table-cell;\"></div><div style=\"display: table-cell;\">renderers&nbsp;=&nbsp;[GlyphRenderer(id='1038', ...)],</div></div><div class=\"1108\" style=\"display: none;\"><div style=\"display: table-cell;\"></div><div style=\"display: table-cell;\">reset_policy&nbsp;=&nbsp;'standard',</div></div><div class=\"1108\" style=\"display: none;\"><div style=\"display: table-cell;\"></div><div style=\"display: table-cell;\">right&nbsp;=&nbsp;[],</div></div><div class=\"1108\" style=\"display: none;\"><div style=\"display: table-cell;\"></div><div style=\"display: table-cell;\">sizing_mode&nbsp;=&nbsp;None,</div></div><div class=\"1108\" style=\"display: none;\"><div style=\"display: table-cell;\"></div><div style=\"display: table-cell;\">subscribed_events&nbsp;=&nbsp;[],</div></div><div class=\"1108\" style=\"display: none;\"><div style=\"display: table-cell;\"></div><div style=\"display: table-cell;\">syncable&nbsp;=&nbsp;True,</div></div><div class=\"1108\" style=\"display: none;\"><div style=\"display: table-cell;\"></div><div style=\"display: table-cell;\">tags&nbsp;=&nbsp;[],</div></div><div class=\"1108\" style=\"display: none;\"><div style=\"display: table-cell;\"></div><div style=\"display: table-cell;\">title&nbsp;=&nbsp;Title(id='1042', ...),</div></div><div class=\"1108\" style=\"display: none;\"><div style=\"display: table-cell;\"></div><div style=\"display: table-cell;\">title_location&nbsp;=&nbsp;'above',</div></div><div class=\"1108\" style=\"display: none;\"><div style=\"display: table-cell;\"></div><div style=\"display: table-cell;\">toolbar&nbsp;=&nbsp;Toolbar(id='1027', ...),</div></div><div class=\"1108\" style=\"display: none;\"><div style=\"display: table-cell;\"></div><div style=\"display: table-cell;\">toolbar_location&nbsp;=&nbsp;'right',</div></div><div class=\"1108\" style=\"display: none;\"><div style=\"display: table-cell;\"></div><div style=\"display: table-cell;\">toolbar_sticky&nbsp;=&nbsp;True,</div></div><div class=\"1108\" style=\"display: none;\"><div style=\"display: table-cell;\"></div><div style=\"display: table-cell;\">visible&nbsp;=&nbsp;True,</div></div><div class=\"1108\" style=\"display: none;\"><div style=\"display: table-cell;\"></div><div style=\"display: table-cell;\">width&nbsp;=&nbsp;600,</div></div><div class=\"1108\" style=\"display: none;\"><div style=\"display: table-cell;\"></div><div style=\"display: table-cell;\">width_policy&nbsp;=&nbsp;'auto',</div></div><div class=\"1108\" style=\"display: none;\"><div style=\"display: table-cell;\"></div><div style=\"display: table-cell;\">x_range&nbsp;=&nbsp;DataRange1d(id='1004', ...),</div></div><div class=\"1108\" style=\"display: none;\"><div style=\"display: table-cell;\"></div><div style=\"display: table-cell;\">x_scale&nbsp;=&nbsp;LinearScale(id='1008', ...),</div></div><div class=\"1108\" style=\"display: none;\"><div style=\"display: table-cell;\"></div><div style=\"display: table-cell;\">y_range&nbsp;=&nbsp;DataRange1d(id='1006', ...),</div></div><div class=\"1108\" style=\"display: none;\"><div style=\"display: table-cell;\"></div><div style=\"display: table-cell;\">y_scale&nbsp;=&nbsp;LinearScale(id='1010', ...))</div></div></div>\n",
              "<script>\n",
              "(function() {\n",
              "  let expanded = false;\n",
              "  const ellipsis = document.getElementById(\"1109\");\n",
              "  ellipsis.addEventListener(\"click\", function() {\n",
              "    const rows = document.getElementsByClassName(\"1108\");\n",
              "    for (let i = 0; i < rows.length; i++) {\n",
              "      const el = rows[i];\n",
              "      el.style.display = expanded ? \"none\" : \"table-row\";\n",
              "    }\n",
              "    ellipsis.innerHTML = expanded ? \"&hellip;)\" : \"&lsaquo;&lsaquo;&lsaquo;\";\n",
              "    expanded = !expanded;\n",
              "  });\n",
              "})();\n",
              "</script>\n"
            ]
          },
          "metadata": {},
          "execution_count": 26
        }
      ],
      "source": [
        "draw_vectors(word_vectors_pca[:, 0], word_vectors_pca[:, 1], token=words)"
      ]
    },
    {
      "cell_type": "markdown",
      "metadata": {
        "id": "MiFEVPd4jc2Q"
      },
      "source": [
        "#### Снижение размерности с помощью UMAP\n",
        "Метод главных компонент – замечательная техника, но он позволяет улавливать лишь линейные зависимости в данных. Обратимся к технике [UMAP](https://habr.com/ru/company/newprolab/blog/350584/), которая учитывает соседей заданных точек. По ссылке выше можно прочитать развернутое описание данной техники."
      ]
    },
    {
      "cell_type": "code",
      "execution_count": null,
      "metadata": {
        "id": "lSazq5Pijc2Q"
      },
      "outputs": [],
      "source": [
        "embedding = umap.UMAP(n_neighbors=5).fit_transform(word_vectors)"
      ]
    },
    {
      "cell_type": "code",
      "execution_count": null,
      "metadata": {
        "id": "62RBn9Hyjc2Q",
        "outputId": "e71b48f6-d752-4c78-8ab1-c1e6ad0ca0ef",
        "colab": {
          "base_uri": "https://localhost:8080/",
          "height": 434
        }
      },
      "outputs": [
        {
          "output_type": "display_data",
          "data": {
            "application/javascript": [
              "(function(root) {\n",
              "  function now() {\n",
              "    return new Date();\n",
              "  }\n",
              "\n",
              "  const force = true;\n",
              "\n",
              "  if (typeof root._bokeh_onload_callbacks === \"undefined\" || force === true) {\n",
              "    root._bokeh_onload_callbacks = [];\n",
              "    root._bokeh_is_loading = undefined;\n",
              "  }\n",
              "\n",
              "const JS_MIME_TYPE = 'application/javascript';\n",
              "  const HTML_MIME_TYPE = 'text/html';\n",
              "  const EXEC_MIME_TYPE = 'application/vnd.bokehjs_exec.v0+json';\n",
              "  const CLASS_NAME = 'output_bokeh rendered_html';\n",
              "\n",
              "  /**\n",
              "   * Render data to the DOM node\n",
              "   */\n",
              "  function render(props, node) {\n",
              "    const script = document.createElement(\"script\");\n",
              "    node.appendChild(script);\n",
              "  }\n",
              "\n",
              "  /**\n",
              "   * Handle when an output is cleared or removed\n",
              "   */\n",
              "  function handleClearOutput(event, handle) {\n",
              "    const cell = handle.cell;\n",
              "\n",
              "    const id = cell.output_area._bokeh_element_id;\n",
              "    const server_id = cell.output_area._bokeh_server_id;\n",
              "    // Clean up Bokeh references\n",
              "    if (id != null && id in Bokeh.index) {\n",
              "      Bokeh.index[id].model.document.clear();\n",
              "      delete Bokeh.index[id];\n",
              "    }\n",
              "\n",
              "    if (server_id !== undefined) {\n",
              "      // Clean up Bokeh references\n",
              "      const cmd_clean = \"from bokeh.io.state import curstate; print(curstate().uuid_to_server['\" + server_id + \"'].get_sessions()[0].document.roots[0]._id)\";\n",
              "      cell.notebook.kernel.execute(cmd_clean, {\n",
              "        iopub: {\n",
              "          output: function(msg) {\n",
              "            const id = msg.content.text.trim();\n",
              "            if (id in Bokeh.index) {\n",
              "              Bokeh.index[id].model.document.clear();\n",
              "              delete Bokeh.index[id];\n",
              "            }\n",
              "          }\n",
              "        }\n",
              "      });\n",
              "      // Destroy server and session\n",
              "      const cmd_destroy = \"import bokeh.io.notebook as ion; ion.destroy_server('\" + server_id + \"')\";\n",
              "      cell.notebook.kernel.execute(cmd_destroy);\n",
              "    }\n",
              "  }\n",
              "\n",
              "  /**\n",
              "   * Handle when a new output is added\n",
              "   */\n",
              "  function handleAddOutput(event, handle) {\n",
              "    const output_area = handle.output_area;\n",
              "    const output = handle.output;\n",
              "\n",
              "    // limit handleAddOutput to display_data with EXEC_MIME_TYPE content only\n",
              "    if ((output.output_type != \"display_data\") || (!Object.prototype.hasOwnProperty.call(output.data, EXEC_MIME_TYPE))) {\n",
              "      return\n",
              "    }\n",
              "\n",
              "    const toinsert = output_area.element.find(\".\" + CLASS_NAME.split(' ')[0]);\n",
              "\n",
              "    if (output.metadata[EXEC_MIME_TYPE][\"id\"] !== undefined) {\n",
              "      toinsert[toinsert.length - 1].firstChild.textContent = output.data[JS_MIME_TYPE];\n",
              "      // store reference to embed id on output_area\n",
              "      output_area._bokeh_element_id = output.metadata[EXEC_MIME_TYPE][\"id\"];\n",
              "    }\n",
              "    if (output.metadata[EXEC_MIME_TYPE][\"server_id\"] !== undefined) {\n",
              "      const bk_div = document.createElement(\"div\");\n",
              "      bk_div.innerHTML = output.data[HTML_MIME_TYPE];\n",
              "      const script_attrs = bk_div.children[0].attributes;\n",
              "      for (let i = 0; i < script_attrs.length; i++) {\n",
              "        toinsert[toinsert.length - 1].firstChild.setAttribute(script_attrs[i].name, script_attrs[i].value);\n",
              "        toinsert[toinsert.length - 1].firstChild.textContent = bk_div.children[0].textContent\n",
              "      }\n",
              "      // store reference to server id on output_area\n",
              "      output_area._bokeh_server_id = output.metadata[EXEC_MIME_TYPE][\"server_id\"];\n",
              "    }\n",
              "  }\n",
              "\n",
              "  function register_renderer(events, OutputArea) {\n",
              "\n",
              "    function append_mime(data, metadata, element) {\n",
              "      // create a DOM node to render to\n",
              "      const toinsert = this.create_output_subarea(\n",
              "        metadata,\n",
              "        CLASS_NAME,\n",
              "        EXEC_MIME_TYPE\n",
              "      );\n",
              "      this.keyboard_manager.register_events(toinsert);\n",
              "      // Render to node\n",
              "      const props = {data: data, metadata: metadata[EXEC_MIME_TYPE]};\n",
              "      render(props, toinsert[toinsert.length - 1]);\n",
              "      element.append(toinsert);\n",
              "      return toinsert\n",
              "    }\n",
              "\n",
              "    /* Handle when an output is cleared or removed */\n",
              "    events.on('clear_output.CodeCell', handleClearOutput);\n",
              "    events.on('delete.Cell', handleClearOutput);\n",
              "\n",
              "    /* Handle when a new output is added */\n",
              "    events.on('output_added.OutputArea', handleAddOutput);\n",
              "\n",
              "    /**\n",
              "     * Register the mime type and append_mime function with output_area\n",
              "     */\n",
              "    OutputArea.prototype.register_mime_type(EXEC_MIME_TYPE, append_mime, {\n",
              "      /* Is output safe? */\n",
              "      safe: true,\n",
              "      /* Index of renderer in `output_area.display_order` */\n",
              "      index: 0\n",
              "    });\n",
              "  }\n",
              "\n",
              "  // register the mime type if in Jupyter Notebook environment and previously unregistered\n",
              "  if (root.Jupyter !== undefined) {\n",
              "    const events = require('base/js/events');\n",
              "    const OutputArea = require('notebook/js/outputarea').OutputArea;\n",
              "\n",
              "    if (OutputArea.prototype.mime_types().indexOf(EXEC_MIME_TYPE) == -1) {\n",
              "      register_renderer(events, OutputArea);\n",
              "    }\n",
              "  }\n",
              "  if (typeof (root._bokeh_timeout) === \"undefined\" || force === true) {\n",
              "    root._bokeh_timeout = Date.now() + 5000;\n",
              "    root._bokeh_failed_load = false;\n",
              "  }\n",
              "\n",
              "  const NB_LOAD_WARNING = {'data': {'text/html':\n",
              "     \"<div style='background-color: #fdd'>\\n\"+\n",
              "     \"<p>\\n\"+\n",
              "     \"BokehJS does not appear to have successfully loaded. If loading BokehJS from CDN, this \\n\"+\n",
              "     \"may be due to a slow or bad network connection. Possible fixes:\\n\"+\n",
              "     \"</p>\\n\"+\n",
              "     \"<ul>\\n\"+\n",
              "     \"<li>re-rerun `output_notebook()` to attempt to load from CDN again, or</li>\\n\"+\n",
              "     \"<li>use INLINE resources instead, as so:</li>\\n\"+\n",
              "     \"</ul>\\n\"+\n",
              "     \"<code>\\n\"+\n",
              "     \"from bokeh.resources import INLINE\\n\"+\n",
              "     \"output_notebook(resources=INLINE)\\n\"+\n",
              "     \"</code>\\n\"+\n",
              "     \"</div>\"}};\n",
              "\n",
              "  function display_loaded() {\n",
              "    const el = document.getElementById(null);\n",
              "    if (el != null) {\n",
              "      el.textContent = \"BokehJS is loading...\";\n",
              "    }\n",
              "    if (root.Bokeh !== undefined) {\n",
              "      if (el != null) {\n",
              "        el.textContent = \"BokehJS \" + root.Bokeh.version + \" successfully loaded.\";\n",
              "      }\n",
              "    } else if (Date.now() < root._bokeh_timeout) {\n",
              "      setTimeout(display_loaded, 100)\n",
              "    }\n",
              "  }\n",
              "\n",
              "  function run_callbacks() {\n",
              "    try {\n",
              "      root._bokeh_onload_callbacks.forEach(function(callback) {\n",
              "        if (callback != null)\n",
              "          callback();\n",
              "      });\n",
              "    } finally {\n",
              "      delete root._bokeh_onload_callbacks\n",
              "    }\n",
              "    console.debug(\"Bokeh: all callbacks have finished\");\n",
              "  }\n",
              "\n",
              "  function load_libs(css_urls, js_urls, callback) {\n",
              "    if (css_urls == null) css_urls = [];\n",
              "    if (js_urls == null) js_urls = [];\n",
              "\n",
              "    root._bokeh_onload_callbacks.push(callback);\n",
              "    if (root._bokeh_is_loading > 0) {\n",
              "      console.debug(\"Bokeh: BokehJS is being loaded, scheduling callback at\", now());\n",
              "      return null;\n",
              "    }\n",
              "    if (js_urls == null || js_urls.length === 0) {\n",
              "      run_callbacks();\n",
              "      return null;\n",
              "    }\n",
              "    console.debug(\"Bokeh: BokehJS not loaded, scheduling load and callback at\", now());\n",
              "    root._bokeh_is_loading = css_urls.length + js_urls.length;\n",
              "\n",
              "    function on_load() {\n",
              "      root._bokeh_is_loading--;\n",
              "      if (root._bokeh_is_loading === 0) {\n",
              "        console.debug(\"Bokeh: all BokehJS libraries/stylesheets loaded\");\n",
              "        run_callbacks()\n",
              "      }\n",
              "    }\n",
              "\n",
              "    function on_error(url) {\n",
              "      console.error(\"failed to load \" + url);\n",
              "    }\n",
              "\n",
              "    for (let i = 0; i < css_urls.length; i++) {\n",
              "      const url = css_urls[i];\n",
              "      const element = document.createElement(\"link\");\n",
              "      element.onload = on_load;\n",
              "      element.onerror = on_error.bind(null, url);\n",
              "      element.rel = \"stylesheet\";\n",
              "      element.type = \"text/css\";\n",
              "      element.href = url;\n",
              "      console.debug(\"Bokeh: injecting link tag for BokehJS stylesheet: \", url);\n",
              "      document.body.appendChild(element);\n",
              "    }\n",
              "\n",
              "    for (let i = 0; i < js_urls.length; i++) {\n",
              "      const url = js_urls[i];\n",
              "      const element = document.createElement('script');\n",
              "      element.onload = on_load;\n",
              "      element.onerror = on_error.bind(null, url);\n",
              "      element.async = false;\n",
              "      element.src = url;\n",
              "      console.debug(\"Bokeh: injecting script tag for BokehJS library: \", url);\n",
              "      document.head.appendChild(element);\n",
              "    }\n",
              "  };\n",
              "\n",
              "  function inject_raw_css(css) {\n",
              "    const element = document.createElement(\"style\");\n",
              "    element.appendChild(document.createTextNode(css));\n",
              "    document.body.appendChild(element);\n",
              "  }\n",
              "\n",
              "  const js_urls = [\"https://cdn.bokeh.org/bokeh/release/bokeh-2.4.3.min.js\", \"https://cdn.bokeh.org/bokeh/release/bokeh-gl-2.4.3.min.js\", \"https://cdn.bokeh.org/bokeh/release/bokeh-widgets-2.4.3.min.js\", \"https://cdn.bokeh.org/bokeh/release/bokeh-tables-2.4.3.min.js\", \"https://cdn.bokeh.org/bokeh/release/bokeh-mathjax-2.4.3.min.js\"];\n",
              "  const css_urls = [];\n",
              "\n",
              "  const inline_js = [    function(Bokeh) {\n",
              "      Bokeh.set_log_level(\"info\");\n",
              "    },\n",
              "function(Bokeh) {\n",
              "    }\n",
              "  ];\n",
              "\n",
              "  function run_inline_js() {\n",
              "    if (root.Bokeh !== undefined || force === true) {\n",
              "          for (let i = 0; i < inline_js.length; i++) {\n",
              "      inline_js[i].call(root, root.Bokeh);\n",
              "    }\n",
              "} else if (Date.now() < root._bokeh_timeout) {\n",
              "      setTimeout(run_inline_js, 100);\n",
              "    } else if (!root._bokeh_failed_load) {\n",
              "      console.log(\"Bokeh: BokehJS failed to load within specified timeout.\");\n",
              "      root._bokeh_failed_load = true;\n",
              "    } else if (force !== true) {\n",
              "      const cell = $(document.getElementById(null)).parents('.cell').data().cell;\n",
              "      cell.output_area.append_execute_result(NB_LOAD_WARNING)\n",
              "    }\n",
              "  }\n",
              "\n",
              "  if (root._bokeh_is_loading === 0) {\n",
              "    console.debug(\"Bokeh: BokehJS loaded, going straight to plotting\");\n",
              "    run_inline_js();\n",
              "  } else {\n",
              "    load_libs(css_urls, js_urls, function() {\n",
              "      console.debug(\"Bokeh: BokehJS plotting callback run at\", now());\n",
              "      run_inline_js();\n",
              "    });\n",
              "  }\n",
              "}(window));"
            ],
            "application/vnd.bokehjs_load.v0+json": "(function(root) {\n  function now() {\n    return new Date();\n  }\n\n  const force = true;\n\n  if (typeof root._bokeh_onload_callbacks === \"undefined\" || force === true) {\n    root._bokeh_onload_callbacks = [];\n    root._bokeh_is_loading = undefined;\n  }\n\n\n  if (typeof (root._bokeh_timeout) === \"undefined\" || force === true) {\n    root._bokeh_timeout = Date.now() + 5000;\n    root._bokeh_failed_load = false;\n  }\n\n  const NB_LOAD_WARNING = {'data': {'text/html':\n     \"<div style='background-color: #fdd'>\\n\"+\n     \"<p>\\n\"+\n     \"BokehJS does not appear to have successfully loaded. If loading BokehJS from CDN, this \\n\"+\n     \"may be due to a slow or bad network connection. Possible fixes:\\n\"+\n     \"</p>\\n\"+\n     \"<ul>\\n\"+\n     \"<li>re-rerun `output_notebook()` to attempt to load from CDN again, or</li>\\n\"+\n     \"<li>use INLINE resources instead, as so:</li>\\n\"+\n     \"</ul>\\n\"+\n     \"<code>\\n\"+\n     \"from bokeh.resources import INLINE\\n\"+\n     \"output_notebook(resources=INLINE)\\n\"+\n     \"</code>\\n\"+\n     \"</div>\"}};\n\n  function display_loaded() {\n    const el = document.getElementById(null);\n    if (el != null) {\n      el.textContent = \"BokehJS is loading...\";\n    }\n    if (root.Bokeh !== undefined) {\n      if (el != null) {\n        el.textContent = \"BokehJS \" + root.Bokeh.version + \" successfully loaded.\";\n      }\n    } else if (Date.now() < root._bokeh_timeout) {\n      setTimeout(display_loaded, 100)\n    }\n  }\n\n  function run_callbacks() {\n    try {\n      root._bokeh_onload_callbacks.forEach(function(callback) {\n        if (callback != null)\n          callback();\n      });\n    } finally {\n      delete root._bokeh_onload_callbacks\n    }\n    console.debug(\"Bokeh: all callbacks have finished\");\n  }\n\n  function load_libs(css_urls, js_urls, callback) {\n    if (css_urls == null) css_urls = [];\n    if (js_urls == null) js_urls = [];\n\n    root._bokeh_onload_callbacks.push(callback);\n    if (root._bokeh_is_loading > 0) {\n      console.debug(\"Bokeh: BokehJS is being loaded, scheduling callback at\", now());\n      return null;\n    }\n    if (js_urls == null || js_urls.length === 0) {\n      run_callbacks();\n      return null;\n    }\n    console.debug(\"Bokeh: BokehJS not loaded, scheduling load and callback at\", now());\n    root._bokeh_is_loading = css_urls.length + js_urls.length;\n\n    function on_load() {\n      root._bokeh_is_loading--;\n      if (root._bokeh_is_loading === 0) {\n        console.debug(\"Bokeh: all BokehJS libraries/stylesheets loaded\");\n        run_callbacks()\n      }\n    }\n\n    function on_error(url) {\n      console.error(\"failed to load \" + url);\n    }\n\n    for (let i = 0; i < css_urls.length; i++) {\n      const url = css_urls[i];\n      const element = document.createElement(\"link\");\n      element.onload = on_load;\n      element.onerror = on_error.bind(null, url);\n      element.rel = \"stylesheet\";\n      element.type = \"text/css\";\n      element.href = url;\n      console.debug(\"Bokeh: injecting link tag for BokehJS stylesheet: \", url);\n      document.body.appendChild(element);\n    }\n\n    for (let i = 0; i < js_urls.length; i++) {\n      const url = js_urls[i];\n      const element = document.createElement('script');\n      element.onload = on_load;\n      element.onerror = on_error.bind(null, url);\n      element.async = false;\n      element.src = url;\n      console.debug(\"Bokeh: injecting script tag for BokehJS library: \", url);\n      document.head.appendChild(element);\n    }\n  };\n\n  function inject_raw_css(css) {\n    const element = document.createElement(\"style\");\n    element.appendChild(document.createTextNode(css));\n    document.body.appendChild(element);\n  }\n\n  const js_urls = [\"https://cdn.bokeh.org/bokeh/release/bokeh-2.4.3.min.js\", \"https://cdn.bokeh.org/bokeh/release/bokeh-gl-2.4.3.min.js\", \"https://cdn.bokeh.org/bokeh/release/bokeh-widgets-2.4.3.min.js\", \"https://cdn.bokeh.org/bokeh/release/bokeh-tables-2.4.3.min.js\", \"https://cdn.bokeh.org/bokeh/release/bokeh-mathjax-2.4.3.min.js\"];\n  const css_urls = [];\n\n  const inline_js = [    function(Bokeh) {\n      Bokeh.set_log_level(\"info\");\n    },\nfunction(Bokeh) {\n    }\n  ];\n\n  function run_inline_js() {\n    if (root.Bokeh !== undefined || force === true) {\n          for (let i = 0; i < inline_js.length; i++) {\n      inline_js[i].call(root, root.Bokeh);\n    }\n} else if (Date.now() < root._bokeh_timeout) {\n      setTimeout(run_inline_js, 100);\n    } else if (!root._bokeh_failed_load) {\n      console.log(\"Bokeh: BokehJS failed to load within specified timeout.\");\n      root._bokeh_failed_load = true;\n    } else if (force !== true) {\n      const cell = $(document.getElementById(null)).parents('.cell').data().cell;\n      cell.output_area.append_execute_result(NB_LOAD_WARNING)\n    }\n  }\n\n  if (root._bokeh_is_loading === 0) {\n    console.debug(\"Bokeh: BokehJS loaded, going straight to plotting\");\n    run_inline_js();\n  } else {\n    load_libs(css_urls, js_urls, function() {\n      console.debug(\"Bokeh: BokehJS plotting callback run at\", now());\n      run_inline_js();\n    });\n  }\n}(window));"
          },
          "metadata": {}
        },
        {
          "output_type": "display_data",
          "data": {
            "text/html": [
              "\n",
              "  <div class=\"bk-root\" id=\"dddf924a-0cc3-48f0-b924-17f46ad74fec\" data-root-id=\"1113\"></div>\n"
            ]
          },
          "metadata": {}
        },
        {
          "output_type": "display_data",
          "data": {
            "application/javascript": [
              "(function(root) {\n",
              "  function embed_document(root) {\n",
              "  const docs_json = {\"f6f7f55a-adb4-4901-aa60-10883634c79e\":{\"defs\":[],\"roots\":{\"references\":[{\"attributes\":{\"below\":[{\"id\":\"1122\"}],\"center\":[{\"id\":\"1125\"},{\"id\":\"1129\"}],\"height\":400,\"left\":[{\"id\":\"1126\"}],\"renderers\":[{\"id\":\"1148\"}],\"title\":{\"id\":\"1163\"},\"toolbar\":{\"id\":\"1137\"},\"x_range\":{\"id\":\"1114\"},\"x_scale\":{\"id\":\"1118\"},\"y_range\":{\"id\":\"1116\"},\"y_scale\":{\"id\":\"1120\"}},\"id\":\"1113\",\"subtype\":\"Figure\",\"type\":\"Plot\"},{\"attributes\":{},\"id\":\"1135\",\"type\":\"HelpTool\"},{\"attributes\":{},\"id\":\"1171\",\"type\":\"UnionRenderers\"},{\"attributes\":{},\"id\":\"1172\",\"type\":\"Selection\"},{\"attributes\":{\"fill_alpha\":{\"value\":0.1},\"fill_color\":{\"field\":\"color\"},\"hatch_alpha\":{\"value\":0.1},\"hatch_color\":{\"field\":\"color\"},\"line_alpha\":{\"value\":0.1},\"line_color\":{\"field\":\"color\"},\"size\":{\"value\":10},\"x\":{\"field\":\"x\"},\"y\":{\"field\":\"y\"}},\"id\":\"1146\",\"type\":\"Scatter\"},{\"attributes\":{\"active_scroll\":{\"id\":\"1131\"},\"tools\":[{\"id\":\"1130\"},{\"id\":\"1131\"},{\"id\":\"1132\"},{\"id\":\"1133\"},{\"id\":\"1134\"},{\"id\":\"1135\"},{\"id\":\"1150\"}]},\"id\":\"1137\",\"type\":\"Toolbar\"},{\"attributes\":{\"fill_alpha\":{\"value\":0.25},\"fill_color\":{\"field\":\"color\"},\"hatch_alpha\":{\"value\":0.25},\"hatch_color\":{\"field\":\"color\"},\"line_alpha\":{\"value\":0.25},\"line_color\":{\"field\":\"color\"},\"size\":{\"value\":10},\"x\":{\"field\":\"x\"},\"y\":{\"field\":\"y\"}},\"id\":\"1145\",\"type\":\"Scatter\"},{\"attributes\":{},\"id\":\"1134\",\"type\":\"ResetTool\"},{\"attributes\":{\"axis\":{\"id\":\"1122\"},\"coordinates\":null,\"group\":null,\"ticker\":null},\"id\":\"1125\",\"type\":\"Grid\"},{\"attributes\":{},\"id\":\"1133\",\"type\":\"SaveTool\"},{\"attributes\":{},\"id\":\"1169\",\"type\":\"BasicTickFormatter\"},{\"attributes\":{},\"id\":\"1120\",\"type\":\"LinearScale\"},{\"attributes\":{},\"id\":\"1123\",\"type\":\"BasicTicker\"},{\"attributes\":{\"axis\":{\"id\":\"1126\"},\"coordinates\":null,\"dimension\":1,\"group\":null,\"ticker\":null},\"id\":\"1129\",\"type\":\"Grid\"},{\"attributes\":{},\"id\":\"1130\",\"type\":\"PanTool\"},{\"attributes\":{},\"id\":\"1118\",\"type\":\"LinearScale\"},{\"attributes\":{},\"id\":\"1166\",\"type\":\"BasicTickFormatter\"},{\"attributes\":{\"source\":{\"id\":\"1112\"}},\"id\":\"1149\",\"type\":\"CDSView\"},{\"attributes\":{},\"id\":\"1167\",\"type\":\"AllLabels\"},{\"attributes\":{},\"id\":\"1114\",\"type\":\"DataRange1d\"},{\"attributes\":{\"callback\":null,\"tooltips\":[[\"token\",\"@token\"]]},\"id\":\"1150\",\"type\":\"HoverTool\"},{\"attributes\":{},\"id\":\"1127\",\"type\":\"BasicTicker\"},{\"attributes\":{},\"id\":\"1170\",\"type\":\"AllLabels\"},{\"attributes\":{\"coordinates\":null,\"formatter\":{\"id\":\"1169\"},\"group\":null,\"major_label_policy\":{\"id\":\"1170\"},\"ticker\":{\"id\":\"1123\"}},\"id\":\"1122\",\"type\":\"LinearAxis\"},{\"attributes\":{\"coordinates\":null,\"formatter\":{\"id\":\"1166\"},\"group\":null,\"major_label_policy\":{\"id\":\"1167\"},\"ticker\":{\"id\":\"1127\"}},\"id\":\"1126\",\"type\":\"LinearAxis\"},{\"attributes\":{\"data\":{\"color\":[\"blue\",\"blue\",\"blue\",\"blue\",\"blue\",\"blue\",\"blue\",\"blue\",\"blue\",\"blue\",\"blue\",\"blue\",\"blue\",\"blue\",\"blue\",\"blue\",\"blue\",\"blue\",\"blue\",\"blue\",\"blue\",\"blue\",\"blue\",\"blue\",\"blue\",\"blue\",\"blue\",\"blue\",\"blue\",\"blue\",\"blue\",\"blue\",\"blue\",\"blue\",\"blue\",\"blue\",\"blue\",\"blue\",\"blue\",\"blue\",\"blue\",\"blue\",\"blue\",\"blue\",\"blue\",\"blue\",\"blue\",\"blue\",\"blue\",\"blue\",\"blue\",\"blue\",\"blue\",\"blue\",\"blue\",\"blue\",\"blue\",\"blue\",\"blue\",\"blue\",\"blue\",\"blue\",\"blue\",\"blue\",\"blue\",\"blue\",\"blue\",\"blue\",\"blue\",\"blue\",\"blue\",\"blue\",\"blue\",\"blue\",\"blue\",\"blue\",\"blue\",\"blue\",\"blue\",\"blue\",\"blue\",\"blue\",\"blue\",\"blue\",\"blue\",\"blue\",\"blue\",\"blue\",\"blue\",\"blue\",\"blue\",\"blue\",\"blue\",\"blue\",\"blue\",\"blue\",\"blue\",\"blue\",\"blue\",\"blue\",\"blue\",\"blue\",\"blue\",\"blue\",\"blue\",\"blue\",\"blue\",\"blue\",\"blue\",\"blue\",\"blue\",\"blue\",\"blue\",\"blue\",\"blue\",\"blue\",\"blue\",\"blue\",\"blue\",\"blue\",\"blue\",\"blue\",\"blue\",\"blue\",\"blue\",\"blue\",\"blue\",\"blue\",\"blue\",\"blue\",\"blue\",\"blue\",\"blue\",\"blue\",\"blue\",\"blue\",\"blue\",\"blue\",\"blue\",\"blue\",\"blue\",\"blue\",\"blue\",\"blue\",\"blue\",\"blue\",\"blue\",\"blue\",\"blue\",\"blue\",\"blue\",\"blue\",\"blue\",\"blue\",\"blue\",\"blue\",\"blue\",\"blue\",\"blue\",\"blue\",\"blue\",\"blue\",\"blue\",\"blue\",\"blue\",\"blue\",\"blue\",\"blue\",\"blue\",\"blue\",\"blue\",\"blue\",\"blue\",\"blue\",\"blue\",\"blue\",\"blue\",\"blue\",\"blue\",\"blue\",\"blue\",\"blue\",\"blue\",\"blue\",\"blue\",\"blue\",\"blue\",\"blue\",\"blue\",\"blue\",\"blue\",\"blue\",\"blue\",\"blue\",\"blue\",\"blue\",\"blue\",\"blue\",\"blue\",\"blue\",\"blue\",\"blue\",\"blue\",\"blue\",\"blue\",\"blue\",\"blue\",\"blue\",\"blue\",\"blue\",\"blue\",\"blue\",\"blue\",\"blue\",\"blue\",\"blue\",\"blue\",\"blue\",\"blue\",\"blue\",\"blue\",\"blue\",\"blue\",\"blue\",\"blue\",\"blue\",\"blue\",\"blue\",\"blue\",\"blue\",\"blue\",\"blue\",\"blue\",\"blue\",\"blue\",\"blue\",\"blue\",\"blue\",\"blue\",\"blue\",\"blue\",\"blue\",\"blue\",\"blue\",\"blue\",\"blue\",\"blue\",\"blue\",\"blue\",\"blue\",\"blue\",\"blue\",\"blue\",\"blue\",\"blue\",\"blue\",\"blue\",\"blue\",\"blue\",\"blue\",\"blue\",\"blue\",\"blue\",\"blue\",\"blue\",\"blue\",\"blue\",\"blue\",\"blue\",\"blue\",\"blue\",\"blue\",\"blue\",\"blue\",\"blue\",\"blue\",\"blue\",\"blue\",\"blue\",\"blue\",\"blue\",\"blue\",\"blue\",\"blue\",\"blue\",\"blue\",\"blue\",\"blue\",\"blue\",\"blue\",\"blue\",\"blue\",\"blue\",\"blue\",\"blue\",\"blue\",\"blue\",\"blue\",\"blue\",\"blue\",\"blue\",\"blue\",\"blue\",\"blue\",\"blue\",\"blue\",\"blue\",\"blue\",\"blue\",\"blue\",\"blue\",\"blue\",\"blue\",\"blue\",\"blue\",\"blue\",\"blue\",\"blue\",\"blue\",\"blue\",\"blue\",\"blue\",\"blue\",\"blue\",\"blue\",\"blue\",\"blue\",\"blue\",\"blue\",\"blue\",\"blue\",\"blue\",\"blue\",\"blue\",\"blue\",\"blue\",\"blue\",\"blue\",\"blue\",\"blue\",\"blue\",\"blue\",\"blue\",\"blue\",\"blue\",\"blue\",\"blue\",\"blue\",\"blue\",\"blue\",\"blue\",\"blue\",\"blue\",\"blue\",\"blue\",\"blue\",\"blue\",\"blue\",\"blue\",\"blue\",\"blue\",\"blue\",\"blue\",\"blue\",\"blue\",\"blue\",\"blue\",\"blue\",\"blue\",\"blue\",\"blue\",\"blue\",\"blue\",\"blue\",\"blue\",\"blue\",\"blue\",\"blue\",\"blue\",\"blue\",\"blue\",\"blue\",\"blue\",\"blue\",\"blue\",\"blue\",\"blue\",\"blue\",\"blue\",\"blue\",\"blue\",\"blue\",\"blue\",\"blue\",\"blue\",\"blue\",\"blue\",\"blue\",\"blue\",\"blue\",\"blue\",\"blue\",\"blue\",\"blue\",\"blue\",\"blue\",\"blue\",\"blue\",\"blue\",\"blue\",\"blue\",\"blue\",\"blue\",\"blue\",\"blue\",\"blue\",\"blue\",\"blue\",\"blue\",\"blue\",\"blue\",\"blue\",\"blue\",\"blue\",\"blue\",\"blue\",\"blue\",\"blue\",\"blue\",\"blue\",\"blue\",\"blue\",\"blue\",\"blue\",\"blue\",\"blue\",\"blue\",\"blue\",\"blue\",\"blue\",\"blue\",\"blue\",\"blue\",\"blue\",\"blue\",\"blue\",\"blue\",\"blue\",\"blue\",\"blue\",\"blue\",\"blue\",\"blue\",\"blue\",\"blue\",\"blue\",\"blue\",\"blue\",\"blue\",\"blue\",\"blue\",\"blue\",\"blue\",\"blue\",\"blue\",\"blue\",\"blue\",\"blue\",\"blue\",\"blue\",\"blue\",\"blue\",\"blue\",\"blue\",\"blue\",\"blue\",\"blue\",\"blue\",\"blue\",\"blue\",\"blue\",\"blue\",\"blue\",\"blue\",\"blue\",\"blue\",\"blue\",\"blue\",\"blue\",\"blue\",\"blue\",\"blue\",\"blue\",\"blue\",\"blue\",\"blue\",\"blue\",\"blue\",\"blue\",\"blue\",\"blue\",\"blue\",\"blue\",\"blue\",\"blue\",\"blue\",\"blue\",\"blue\",\"blue\",\"blue\",\"blue\",\"blue\",\"blue\",\"blue\",\"blue\",\"blue\",\"blue\",\"blue\",\"blue\",\"blue\",\"blue\",\"blue\",\"blue\",\"blue\",\"blue\",\"blue\",\"blue\",\"blue\",\"blue\",\"blue\",\"blue\",\"blue\",\"blue\",\"blue\",\"blue\",\"blue\",\"blue\",\"blue\",\"blue\",\"blue\",\"blue\",\"blue\",\"blue\",\"blue\",\"blue\",\"blue\",\"blue\",\"blue\",\"blue\",\"blue\",\"blue\",\"blue\",\"blue\",\"blue\",\"blue\",\"blue\",\"blue\",\"blue\",\"blue\",\"blue\",\"blue\",\"blue\",\"blue\",\"blue\",\"blue\",\"blue\",\"blue\",\"blue\",\"blue\",\"blue\",\"blue\",\"blue\",\"blue\",\"blue\",\"blue\",\"blue\",\"blue\",\"blue\",\"blue\",\"blue\",\"blue\",\"blue\",\"blue\",\"blue\",\"blue\",\"blue\",\"blue\",\"blue\",\"blue\",\"blue\",\"blue\",\"blue\",\"blue\",\"blue\",\"blue\",\"blue\",\"blue\",\"blue\",\"blue\",\"blue\",\"blue\",\"blue\",\"blue\",\"blue\",\"blue\",\"blue\",\"blue\",\"blue\",\"blue\",\"blue\",\"blue\",\"blue\",\"blue\",\"blue\",\"blue\",\"blue\",\"blue\",\"blue\",\"blue\",\"blue\",\"blue\",\"blue\",\"blue\",\"blue\",\"blue\",\"blue\",\"blue\",\"blue\",\"blue\",\"blue\",\"blue\",\"blue\",\"blue\",\"blue\",\"blue\",\"blue\",\"blue\",\"blue\",\"blue\",\"blue\",\"blue\",\"blue\",\"blue\",\"blue\",\"blue\",\"blue\",\"blue\",\"blue\",\"blue\",\"blue\",\"blue\",\"blue\",\"blue\",\"blue\",\"blue\",\"blue\",\"blue\",\"blue\",\"blue\",\"blue\",\"blue\",\"blue\",\"blue\",\"blue\",\"blue\",\"blue\",\"blue\",\"blue\",\"blue\",\"blue\",\"blue\",\"blue\",\"blue\",\"blue\",\"blue\",\"blue\",\"blue\",\"blue\",\"blue\",\"blue\",\"blue\",\"blue\",\"blue\",\"blue\",\"blue\",\"blue\",\"blue\",\"blue\",\"blue\",\"blue\",\"blue\",\"blue\",\"blue\",\"blue\",\"blue\",\"blue\",\"blue\",\"blue\",\"blue\",\"blue\",\"blue\",\"blue\",\"blue\",\"blue\",\"blue\",\"blue\",\"blue\",\"blue\",\"blue\",\"blue\",\"blue\",\"blue\",\"blue\",\"blue\",\"blue\",\"blue\",\"blue\",\"blue\",\"blue\",\"blue\",\"blue\",\"blue\",\"blue\",\"blue\",\"blue\",\"blue\",\"blue\",\"blue\",\"blue\",\"blue\",\"blue\",\"blue\",\"blue\",\"blue\",\"blue\",\"blue\",\"blue\",\"blue\",\"blue\",\"blue\",\"blue\",\"blue\",\"blue\",\"blue\",\"blue\",\"blue\",\"blue\",\"blue\",\"blue\",\"blue\",\"blue\",\"blue\",\"blue\",\"blue\",\"blue\",\"blue\",\"blue\",\"blue\",\"blue\",\"blue\",\"blue\",\"blue\",\"blue\",\"blue\",\"blue\",\"blue\",\"blue\",\"blue\",\"blue\",\"blue\",\"blue\",\"blue\",\"blue\",\"blue\",\"blue\",\"blue\",\"blue\",\"blue\",\"blue\",\"blue\",\"blue\",\"blue\",\"blue\",\"blue\",\"blue\",\"blue\",\"blue\",\"blue\",\"blue\",\"blue\",\"blue\",\"blue\",\"blue\",\"blue\",\"blue\",\"blue\",\"blue\",\"blue\",\"blue\",\"blue\",\"blue\",\"blue\",\"blue\",\"blue\",\"blue\",\"blue\",\"blue\",\"blue\",\"blue\",\"blue\",\"blue\",\"blue\",\"blue\",\"blue\",\"blue\",\"blue\",\"blue\",\"blue\",\"blue\",\"blue\",\"blue\",\"blue\",\"blue\",\"blue\",\"blue\",\"blue\",\"blue\",\"blue\",\"blue\",\"blue\",\"blue\",\"blue\",\"blue\",\"blue\",\"blue\",\"blue\",\"blue\",\"blue\",\"blue\",\"blue\",\"blue\",\"blue\",\"blue\",\"blue\",\"blue\",\"blue\",\"blue\",\"blue\",\"blue\",\"blue\",\"blue\",\"blue\",\"blue\",\"blue\",\"blue\",\"blue\",\"blue\",\"blue\",\"blue\",\"blue\",\"blue\",\"blue\",\"blue\",\"blue\",\"blue\",\"blue\",\"blue\",\"blue\",\"blue\",\"blue\",\"blue\",\"blue\",\"blue\",\"blue\",\"blue\",\"blue\",\"blue\",\"blue\",\"blue\",\"blue\",\"blue\",\"blue\",\"blue\",\"blue\",\"blue\",\"blue\",\"blue\",\"blue\",\"blue\",\"blue\",\"blue\",\"blue\",\"blue\",\"blue\",\"blue\",\"blue\",\"blue\",\"blue\",\"blue\",\"blue\",\"blue\",\"blue\",\"blue\",\"blue\",\"blue\",\"blue\",\"blue\",\"blue\",\"blue\",\"blue\",\"blue\",\"blue\",\"blue\",\"blue\",\"blue\",\"blue\",\"blue\",\"blue\",\"blue\",\"blue\",\"blue\",\"blue\",\"blue\",\"blue\",\"blue\",\"blue\",\"blue\",\"blue\",\"blue\",\"blue\",\"blue\",\"blue\",\"blue\",\"blue\",\"blue\",\"blue\",\"blue\",\"blue\",\"blue\",\"blue\",\"blue\",\"blue\",\"blue\",\"blue\",\"blue\",\"blue\",\"blue\",\"blue\",\"blue\",\"blue\",\"blue\",\"blue\",\"blue\",\"blue\",\"blue\",\"blue\",\"blue\",\"blue\",\"blue\",\"blue\",\"blue\",\"blue\",\"blue\",\"blue\",\"blue\",\"blue\",\"blue\",\"blue\",\"blue\",\"blue\",\"blue\",\"blue\",\"blue\",\"blue\",\"blue\",\"blue\",\"blue\",\"blue\",\"blue\",\"blue\",\"blue\",\"blue\",\"blue\",\"blue\",\"blue\",\"blue\",\"blue\",\"blue\",\"blue\",\"blue\",\"blue\",\"blue\",\"blue\",\"blue\",\"blue\",\"blue\",\"blue\",\"blue\",\"blue\",\"blue\"],\"token\":[\"<user>\",\".\",\":\",\"rt\",\",\",\"<repeat>\",\"<hashtag>\",\"<number>\",\"<url>\",\"!\",\"i\",\"a\",\"\\\"\",\"the\",\"?\",\"you\",\"to\",\"(\",\"<allcaps>\",\"<elong>\",\")\",\"me\",\"de\",\"<smile>\",\"\\uff01\",\"que\",\"and\",\"\\u3002\",\"-\",\"my\",\"no\",\"\\u3001\",\"is\",\"it\",\"\\u2026\",\"in\",\"n\",\"for\",\"/\",\"of\",\"la\",\"'s\",\"*\",\"do\",\"n't\",\"that\",\"on\",\"y\",\"'\",\"e\",\"o\",\"u\",\"en\",\"this\",\"el\",\"so\",\"be\",\"'m\",\"with\",\"just\",\">\",\"your\",\"^\",\"like\",\"have\",\"te\",\"at\",\"\\uff1f\",\"love\",\"se\",\"are\",\"<\",\"m\",\"r\",\"if\",\"all\",\"b\",\"\\u30fb\",\"not\",\"but\",\"we\",\"es\",\"ya\",\"&\",\"follow\",\"up\",\"what\",\"get\",\"lol\",\"un\",\"\\u2665\",\"lo\",\"when\",\"was\",\"\\u201c\",\"\\u201d\",\"one\",\"por\",\"si\",\"out\",\"_\",\"mi\",\"can\",\"<sadface>\",\"\\u0645\\u0646\",\"\\u2661\",\"\\u00b4\",\"he\",\"con\",\"they\",\"now\",\"go\",\"\\u060c\",\"para\",\"los\",\"know\",\"haha\",\"good\",\"tu\",\"back\",\"~\",\"about\",\"new\",\";\",\"as\",\"day\",\"how\",\"who\",\"will\",\"want\",\"people\",\"yo\",\"eu\",\"from\",\"di\",\"time\",\"<heart>\",\"s\",\"aku\",\"da\",\"'re\",\"<lolface>\",\"una\",\"got\",\"las\",\"more\",\"x\",\"she\",\"today\",\"\\uff08\",\">>\",\"k\",\"by\",\"or\",\"\\u0641\\u064a\",\"\\uff65\",\"too\",\"le\",\"\\u00e9\",\"|\",\"[\",\"\\uff09\",\"]\",\"see\",\"why\",\"yg\",\"ca\",\"como\",\"her\",\"\\u2014\",\"q\",\"need\",\"an\",\"na\",\"\\u7b11\",\"there\",\"\\u03c9\",\"happy\",\"im\",\"mas\",\"je\",\"life\",\"really\",\"make\",\"yang\",\"shit\",\"think\",\"t\",\"\\u2764\",\"n\\u00e3o\",\"never\",\"some\",\"\\uff5e\",\"oh\",\"\\u2605\",\"did\",\"would\",\"del\",\"`\",\"d\",\"please\",\"via\",\"much\",\"fuck\",\"al\",\"dia\",\"$\",\"\\u0648\",\"right\",\"best\",\"c\",\"going\",\"\\u0627\\u0644\\u0644\\u0647\",\"pero\",\"only\",\"has\",\"\\u266a\",\"'ll\",\"twitter\",\"=\",\"hahaha\",\"its\",\"nn\",\"\\uff40\",\"\\u00bf\",\"am\",\"say\",\"<neutralface>\",\"them\",\"here\",\"\\u0644\\u0627\",\"off\",\"still\",\"dan\",\"+\",\"night\",\"w\",\"ada\",\"someone\",\"even\",\"then\",\"\\u2606\",\"ni\",\"come\",\"com\",\"always\",\"man\",\"'ve\",\"been\",\"his\",\"itu\",\"\\u0639\\u0644\\u0649\",\"-_-\",\"\\u263a\",\"over\",\"um\",\"\\u0645\\u0627\",\"hate\",\"girl\",\"ai\",\"had\",\"pra\",\"todo\",\"mais\",\"feel\",\"let\",\"ini\",\"because\",\"\\uff9f\",\"thanks\",\"ah\",\"way\",\"ever\",\"look\",\"tweet\",\"followers\",\"should\",\"our\",\"xd\",\"aja\",\"esta\",\"school\",\"him\",\"ser\",\"take\",\"than\",\"video\",\"em\",\"last\",\"wanna\",\"does\",\"us\",\"miss\",\"l\",\"ga\",\"better\",\"well\",\"could\",\"\\u25bd\",\"%\",\"apa\",\"cuando\",\"team\",\"\\u2714\",\"@\",\"ok\",\"\\u061f\",\"\\u2022\",\"vida\",\"quiero\",\"les\",\"being\",\"real\",\"down\",\"kamu\",\"everyone\",\"gonna\",\"live\",\"tonight\",\"yes\",\"work\",\"ass\",\"retweet\",\"nada\",\"sama\",\"first\",\"<<\",\"photo\",\"tomorrow\",\"where\",\"god\",\"son\",\"ke\",\"ta\",\"f\",\"home\",\"lagi\",\"thank\",\"birthday\",\"\\u2588\",\"ha\",\"great\",\"lmao\",\"omg\",\"morning\",\"m\\u00e1s\",\"mau\",\"baby\",\"dont\",\"\\uff61\",\"their\",\"p\",\"things\",\"game\",\"pas\",\"bad\",\"year\",\"yeah\",\"su\",\"bitch\",\"\\u0432\",\"stop\",\"hoy\",\"something\",\"meu\",\"tak\",\"gak\",\"world\",\"amor\",\"h\",\"\\\\\",\"ver\",\"\\uff1b\",\"porque\",\"give\",\"these\",\"\\u0627\\u0644\\u0644\\u0647\\u0645\",\"were\",\"hay\",\"sleep\",\"gue\",\"every\",\"friends\",\"uma\",\"tell\",\"amo\",\"vou\",\"bien\",\"\\u00a1\",\"again\",\"\\uff3e\",\"\\uff0f\",\"done\",\"after\",\"todos\",\"girls\",\"guys\",\"getting\",\"big\",\"wait\",\"justin\",\"eh\",\"\\u2192\",\"kan\",\"kita\",\"jajaja\",\"wish\",\"said\",\"fucking\",\"show\",\"thing\",\"next\",\"voc\\u00ea\",\"nos\",\"little\",\"tengo\",\"keep\",\"person\",\"''\",\"\\u2200\",\"hope\",\"\\u0643\\u0644\",\"hey\",\"bisa\",\"free\",\"made\",\"foto\",\"va\",\"everything\",\"iya\",\"nigga\",\"eso\",\"et\",\"watch\",\"music\",\"week\",\"talk\",\"ne\",\"solo\",\"gente\",\"udah\",\"\\uff1a\",\"--\",\"\\uff3c\",\"mejor\",\"facebook\",\"ma\",\"v\",\"phone\",\"most\",\"same\",\"okay\",\"ik\",\"before\",\"minha\",\"days\",\"g\",\"ti\",\"damn\",\"nice\",\"voy\",\"vai\",\"call\",\"long\",\"tapi\",\"http\",\"sin\",\"nunca\",\"doing\",\"other\",\"find\",\"il\",\"sa\",\"sorry\",\"nya\",\"orang\",\"\\u00b0\",\"hard\",\"mean\",\"die\",\"\\u0627\\u0644\\u0644\\u064a\",\"tem\",\"soy\",\"este\",\"kalo\",\"s\\u00f3\",\"th\",\"win\",\"nothing\",\"into\",\"face\",\"cute\",\"'d\",\"gracias\",\"lah\",\"\\u0438\",\"any\",\"play\",\"\\u2190\",\"ko\",\"text\",\"\\u2323\",\"estoy\",\"tau\",\"ur\",\"buat\",\"#\",\"cause\",\"\\u044f\",\"put\",\"kau\",\"siempre\",\"juga\",\"casa\",\"\\u0623\\u0646\",\"help\",\"start\",\"feliz\",\"old\",\"ir\",\"very\",\"care\",\"bir\",\"makes\",\"song\",\"check\",\"watching\",\"ahora\",\"jadi\",\"os\",\"may\",\"friend\",\"beautiful\",\"heart\",\"ka\",\"vc\",\"mundo\",\"\\u043d\\u0430\",\"sure\",\"tan\",\"pretty\",\"aqui\",\"\\u043d\\u0435\",\"house\",\"\\u0631\\u062a\\u0648\\u064a\\u062a\",\"\\u064a\\u0627\",\"ja\",\"true\",\"muy\",\"away\",\"already\",\"actually\",\"believe\",\"try\",\"many\",\"ma\\u00f1ana\",\"mis\",\"lu\",\"those\",\"hot\",\"qu\\u00e9\",\"mal\",\"\\u0639\\u0646\",\"though\",\"ask\",\"amazing\",\"bed\",\"}\",\"two\",\"mom\",\"d\\u00eda\",\"ve\",\"dari\",\"gameinsight\",\"stay\",\"fun\",\"around\",\"van\",\"cont\",\"ready\",\"money\",\"bu\",\"funny\",\"cool\",\"hair\",\"\\u00e0\",\"tho\",\"{\",\"wo\",\"hi\",\"name\",\"tiene\",\"hahahaha\",\"pa\",\"algo\",\"gotta\",\"\\u0648\\u0644\\u0627\",\"boy\",\"another\",\"c'est\",\"hari\",\"jajajaja\",\"having\",\"cara\",\"jaja\",\"dm\",\"looking\",\"top\",\"android\",\"dah\",\"wow\",\"\\u2591\",\"eres\",\"ben\",\"must\",\"news\",\"met\",\"est\\u00e1\",\"nih\",\"family\",\"black\",\"thought\",\"nak\",\"super\",\"end\",\"hace\",\"remember\",\"ama\",\"party\",\"cant\",\"vamos\",\"anything\",\"anyone\",\"\\u0641\\u0648\\u0644\\u0648\",\"perfect\",\"guy\",\"vez\",\"christmas\",\"dos\",\"bueno\",\"nao\",\"years\",\"vote\",\"dormir\",\"bro\",\"else\",\"quien\",\"untuk\",\"jangan\",\"myself\",\"head\",\"mind\",\"gua\",\"talking\",\"while\",\"dat\",\"food\",\"\\u0434\",\"coming\",\"wkwk\",\"trying\",\"saya\",\"mucho\",\"without\",\"wrong\",\"\\u2019s\",\"baru\",\"__\",\"hehe\",\"hacer\",\"lot\",\"followed\",\"crazy\",\"hell\",\"feeling\",\"des\",\"kok\",\"j\",\"stats\",\"j'\",\"\\u0627\\u0646\",\"tweets\",\"non\",\"cosas\",\"era\",\"high\",\"niggas\",\"change\",\"movie\",\"xx\",\"mad\",\"sih\",\"sometimes\",\"deh\",\"allah\",\"through\",\"pour\",\"ela\",\"soon\",\"gone\",\"playing\",\"smile\",\"bukan\",\"tv\",\"fans\",\"hasta\",\"akan\",\"y'\",\"looks\",\"isso\",\"\\u270c\",\"tired\",\"boys\",\"might\",\"dong\",\"lg\",\"use\",\"maybe\",\"until\",\"menos\",\"own\",\"dengan\",\"eat\",\"ou\",\"weekend\",\"\\u02d8\",\"class\",\"ele\",\"harry\",\"iphone\",\"friday\",\"single\",\"ff\",\"awesome\",\"bout\",\"muito\",\"hoje\",\"\\u00ac\",\"dios\",\"such\",\"estar\",\"j\\u00e1\",\"quando\",\"esa\",\"making\",\"\\u2501\",\"times\",\"lmfao\",\"gw\",\"moment\",\"yet\",\"aw\",\"smh\",\"banget\",\"masih\",\"qui\",\"quem\",\"\\u2013\",\"leave\",\"du\",\"une\",\"guess\",\"hit\",\"\\u0441\",\"pm\",\"since\",\"pues\",\"est\",\"job\",\"\\uff89\",\"mana\",\"bom\",\"siapa\",\"suka\",\"bieber\",\"mention\",\"lebih\",\"favorite\",\"bitches\",\"forever\",\"\\u0644\\u064a\",\"final\",\"read\",\"alguien\",\"open\",\"yourself\",\"ese\",\"che\",\"sex\",\"yaa\",\"car\",\"direction\",\"tidak\",\"seu\",\"gets\",\"left\",\"re\",\"jam\",\"enough\",\"\\u0625\\u0644\\u0627\",\"once\",\"\\u2019\",\"part\",\"cada\",\"\\u5b9a\\u671f\",\"\\u0644\\u0643\",\"een\",\"seen\",\"kak\",\"as\\u00ed\",\"nem\",\"\\u0639\\u0645\\u0644\",\"white\",\"told\",\"says\",\"esto\",\"sad\",\"mo\",\"fue\",\"yah\",\"summer\",\"\\u0647\",\"\\u2b55\",\"\\u00bb\",\"thats\",\"\\u0645\\u0639\",\"posted\",\"wants\",\"agora\",\"together\",\"fan\",\"men\",\"hear\",\"full\",\"\\u2600\",\"sigo\",\"pq\",\"dulu\",\"plus\",\"foi\",\"tudo\",\"\\u0647\\u0648\",\"ill\",\"\\u3042\",\"thinking\",\"wtf\",\"pagi\",\"mama\",\"kalau\",\"hati\",\"sexy\",\"sayang\",\"baik\",\"semua\",\"hola\",\"went\",\"vos\",\"tanto\",\"finally\",\"fb\",\"sea\",\"stupid\",\"tus\",\"seriously\",\"hora\",\"min\",\"pic\",\"estas\",\"turn\",\"hours\",\"excited\",\"nah\",\"buy\",\"saying\",\"mah\",\"break\",\"needs\",\"ce\",\"room\",\"choice\",\"far\",\"dead\",\"quero\",\"saw\",\"kids\",\"lil\",\"whole\",\"puede\",\"fall\",\"sus\",\"lost\",\"asi\",\"word\",\"\\u2639\",\"also\",\"\\u0631\\u064a\\u062a\\u0648\\u064a\\u062a\",\"probably\",\"everybody\",\"tarde\",\"run\",\"sei\",\"follback\",\"forget\",\"sweet\",\"welcome\",\"selamat\",\"\\uff3f\",\"sur\",\"place\",\"gusta\",\"sabe\",\"androidgames\",\"tp\",\"tiempo\",\"\\u0628\\u0633\",\"sou\",\"tuh\",\"vs\",\"eyes\",\"\\u0627\\u0646\\u0627\",\"picture\",\"das\",\"meet\",\"anak\",\"persona\",\"essa\",\"bored\",\"following\",\"nadie\",\"nobody\",\"dice\",\"alone\",\"sick\",\"red\",\"city\",\"cinta\",\"\\u6708\",\"linda\",\"dream\",\"story\",\"km\",\"het\",\"waiting\",\"^_^\",\"mine\",\"\\u0447\\u0442\\u043e\",\"reason\",\"kk\",\"\\u0644\\u0648\",\"online\",\"fast\",\"udh\",\"wanted\",\"op\",\"others\",\"gay\",\"n\\u2019t\",\"used\",\"sem\",\"understand\",\"moi\",\"sm\",\"aint\",\"donde\",\"bem\",\"which\",\"ng\",\"followback\",\"punya\",\"late\",\"anda\",\"tidur\",\"puedo\",\"early\",\"nd\",\"personas\",\"banyak\",\"\\u2705\",\"\\u278a\",\"trust\",\"noche\",\"tl\",\"\\uff1e\",\"\\u00ab\",\"af\",\"move\",\"pro\",\"bring\",\"ku\",\"called\",\"relationship\",\"idk\",\"hurt\",\"st\",\"pernah\",\"pessoas\",\"hello\",\"uno\",\"unfollowers\",\"cry\"],\"x\":{\"__ndarray__\":\"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\",\"dtype\":\"float32\",\"order\":\"little\",\"shape\":[1000]},\"y\":{\"__ndarray__\":\"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\",\"dtype\":\"float32\",\"order\":\"little\",\"shape\":[1000]}},\"selected\":{\"id\":\"1172\"},\"selection_policy\":{\"id\":\"1171\"}},\"id\":\"1112\",\"type\":\"ColumnDataSource\"},{\"attributes\":{},\"id\":\"1116\",\"type\":\"DataRange1d\"},{\"attributes\":{\"overlay\":{\"id\":\"1136\"}},\"id\":\"1132\",\"type\":\"BoxZoomTool\"},{\"attributes\":{\"coordinates\":null,\"data_source\":{\"id\":\"1112\"},\"glyph\":{\"id\":\"1145\"},\"group\":null,\"hover_glyph\":null,\"muted_glyph\":{\"id\":\"1147\"},\"nonselection_glyph\":{\"id\":\"1146\"},\"view\":{\"id\":\"1149\"}},\"id\":\"1148\",\"type\":\"GlyphRenderer\"},{\"attributes\":{\"fill_alpha\":{\"value\":0.2},\"fill_color\":{\"field\":\"color\"},\"hatch_alpha\":{\"value\":0.2},\"hatch_color\":{\"field\":\"color\"},\"line_alpha\":{\"value\":0.2},\"line_color\":{\"field\":\"color\"},\"size\":{\"value\":10},\"x\":{\"field\":\"x\"},\"y\":{\"field\":\"y\"}},\"id\":\"1147\",\"type\":\"Scatter\"},{\"attributes\":{\"bottom_units\":\"screen\",\"coordinates\":null,\"fill_alpha\":0.5,\"fill_color\":\"lightgrey\",\"group\":null,\"left_units\":\"screen\",\"level\":\"overlay\",\"line_alpha\":1.0,\"line_color\":\"black\",\"line_dash\":[4,4],\"line_width\":2,\"right_units\":\"screen\",\"syncable\":false,\"top_units\":\"screen\"},\"id\":\"1136\",\"type\":\"BoxAnnotation\"},{\"attributes\":{\"coordinates\":null,\"group\":null},\"id\":\"1163\",\"type\":\"Title\"},{\"attributes\":{},\"id\":\"1131\",\"type\":\"WheelZoomTool\"}],\"root_ids\":[\"1113\"]},\"title\":\"Bokeh Application\",\"version\":\"2.4.3\"}};\n",
              "  const render_items = [{\"docid\":\"f6f7f55a-adb4-4901-aa60-10883634c79e\",\"root_ids\":[\"1113\"],\"roots\":{\"1113\":\"dddf924a-0cc3-48f0-b924-17f46ad74fec\"}}];\n",
              "  root.Bokeh.embed.embed_items_notebook(docs_json, render_items);\n",
              "  }\n",
              "  if (root.Bokeh !== undefined) {\n",
              "    embed_document(root);\n",
              "  } else {\n",
              "    let attempts = 0;\n",
              "    const timer = setInterval(function(root) {\n",
              "      if (root.Bokeh !== undefined) {\n",
              "        clearInterval(timer);\n",
              "        embed_document(root);\n",
              "      } else {\n",
              "        attempts++;\n",
              "        if (attempts > 100) {\n",
              "          clearInterval(timer);\n",
              "          console.log(\"Bokeh: ERROR: Unable to run BokehJS code because BokehJS library is missing\");\n",
              "        }\n",
              "      }\n",
              "    }, 10, root)\n",
              "  }\n",
              "})(window);"
            ],
            "application/vnd.bokehjs_exec.v0+json": ""
          },
          "metadata": {
            "application/vnd.bokehjs_exec.v0+json": {
              "id": "1113"
            }
          }
        },
        {
          "output_type": "execute_result",
          "data": {
            "text/plain": [
              "Figure(id='1113', ...)"
            ],
            "text/html": [
              "<div style=\"display: table;\"><div style=\"display: table-row;\"><div style=\"display: table-cell;\"><b title=\"bokeh.plotting.figure.Figure\">Figure</b>(</div><div style=\"display: table-cell;\">id&nbsp;=&nbsp;'1113', <span id=\"1230\" style=\"cursor: pointer;\">&hellip;)</span></div></div><div class=\"1229\" style=\"display: none;\"><div style=\"display: table-cell;\"></div><div style=\"display: table-cell;\">above&nbsp;=&nbsp;[],</div></div><div class=\"1229\" style=\"display: none;\"><div style=\"display: table-cell;\"></div><div style=\"display: table-cell;\">align&nbsp;=&nbsp;'start',</div></div><div class=\"1229\" style=\"display: none;\"><div style=\"display: table-cell;\"></div><div style=\"display: table-cell;\">aspect_ratio&nbsp;=&nbsp;None,</div></div><div class=\"1229\" style=\"display: none;\"><div style=\"display: table-cell;\"></div><div style=\"display: table-cell;\">aspect_scale&nbsp;=&nbsp;1,</div></div><div class=\"1229\" style=\"display: none;\"><div style=\"display: table-cell;\"></div><div style=\"display: table-cell;\">background&nbsp;=&nbsp;None,</div></div><div class=\"1229\" style=\"display: none;\"><div style=\"display: table-cell;\"></div><div style=\"display: table-cell;\">background_fill_alpha&nbsp;=&nbsp;1.0,</div></div><div class=\"1229\" style=\"display: none;\"><div style=\"display: table-cell;\"></div><div style=\"display: table-cell;\">background_fill_color&nbsp;=&nbsp;'#ffffff',</div></div><div class=\"1229\" style=\"display: none;\"><div style=\"display: table-cell;\"></div><div style=\"display: table-cell;\">below&nbsp;=&nbsp;[LinearAxis(id='1122', ...)],</div></div><div class=\"1229\" style=\"display: none;\"><div style=\"display: table-cell;\"></div><div style=\"display: table-cell;\">border_fill_alpha&nbsp;=&nbsp;1.0,</div></div><div class=\"1229\" style=\"display: none;\"><div style=\"display: table-cell;\"></div><div style=\"display: table-cell;\">border_fill_color&nbsp;=&nbsp;'#ffffff',</div></div><div class=\"1229\" style=\"display: none;\"><div style=\"display: table-cell;\"></div><div style=\"display: table-cell;\">center&nbsp;=&nbsp;[Grid(id='1125', ...), Grid(id='1129', ...)],</div></div><div class=\"1229\" style=\"display: none;\"><div style=\"display: table-cell;\"></div><div style=\"display: table-cell;\">css_classes&nbsp;=&nbsp;[],</div></div><div class=\"1229\" style=\"display: none;\"><div style=\"display: table-cell;\"></div><div style=\"display: table-cell;\">disabled&nbsp;=&nbsp;False,</div></div><div class=\"1229\" style=\"display: none;\"><div style=\"display: table-cell;\"></div><div style=\"display: table-cell;\">extra_x_ranges&nbsp;=&nbsp;{},</div></div><div class=\"1229\" style=\"display: none;\"><div style=\"display: table-cell;\"></div><div style=\"display: table-cell;\">extra_x_scales&nbsp;=&nbsp;{},</div></div><div class=\"1229\" style=\"display: none;\"><div style=\"display: table-cell;\"></div><div style=\"display: table-cell;\">extra_y_ranges&nbsp;=&nbsp;{},</div></div><div class=\"1229\" style=\"display: none;\"><div style=\"display: table-cell;\"></div><div style=\"display: table-cell;\">extra_y_scales&nbsp;=&nbsp;{},</div></div><div class=\"1229\" style=\"display: none;\"><div style=\"display: table-cell;\"></div><div style=\"display: table-cell;\">frame_height&nbsp;=&nbsp;None,</div></div><div class=\"1229\" style=\"display: none;\"><div style=\"display: table-cell;\"></div><div style=\"display: table-cell;\">frame_width&nbsp;=&nbsp;None,</div></div><div class=\"1229\" style=\"display: none;\"><div style=\"display: table-cell;\"></div><div style=\"display: table-cell;\">height&nbsp;=&nbsp;400,</div></div><div class=\"1229\" style=\"display: none;\"><div style=\"display: table-cell;\"></div><div style=\"display: table-cell;\">height_policy&nbsp;=&nbsp;'auto',</div></div><div class=\"1229\" style=\"display: none;\"><div style=\"display: table-cell;\"></div><div style=\"display: table-cell;\">hidpi&nbsp;=&nbsp;True,</div></div><div class=\"1229\" style=\"display: none;\"><div style=\"display: table-cell;\"></div><div style=\"display: table-cell;\">inner_height&nbsp;=&nbsp;0,</div></div><div class=\"1229\" style=\"display: none;\"><div style=\"display: table-cell;\"></div><div style=\"display: table-cell;\">inner_width&nbsp;=&nbsp;0,</div></div><div class=\"1229\" style=\"display: none;\"><div style=\"display: table-cell;\"></div><div style=\"display: table-cell;\">js_event_callbacks&nbsp;=&nbsp;{},</div></div><div class=\"1229\" style=\"display: none;\"><div style=\"display: table-cell;\"></div><div style=\"display: table-cell;\">js_property_callbacks&nbsp;=&nbsp;{},</div></div><div class=\"1229\" style=\"display: none;\"><div style=\"display: table-cell;\"></div><div style=\"display: table-cell;\">left&nbsp;=&nbsp;[LinearAxis(id='1126', ...)],</div></div><div class=\"1229\" style=\"display: none;\"><div style=\"display: table-cell;\"></div><div style=\"display: table-cell;\">lod_factor&nbsp;=&nbsp;10,</div></div><div class=\"1229\" style=\"display: none;\"><div style=\"display: table-cell;\"></div><div style=\"display: table-cell;\">lod_interval&nbsp;=&nbsp;300,</div></div><div class=\"1229\" style=\"display: none;\"><div style=\"display: table-cell;\"></div><div style=\"display: table-cell;\">lod_threshold&nbsp;=&nbsp;2000,</div></div><div class=\"1229\" style=\"display: none;\"><div style=\"display: table-cell;\"></div><div style=\"display: table-cell;\">lod_timeout&nbsp;=&nbsp;500,</div></div><div class=\"1229\" style=\"display: none;\"><div style=\"display: table-cell;\"></div><div style=\"display: table-cell;\">margin&nbsp;=&nbsp;(0, 0, 0, 0),</div></div><div class=\"1229\" style=\"display: none;\"><div style=\"display: table-cell;\"></div><div style=\"display: table-cell;\">match_aspect&nbsp;=&nbsp;False,</div></div><div class=\"1229\" style=\"display: none;\"><div style=\"display: table-cell;\"></div><div style=\"display: table-cell;\">max_height&nbsp;=&nbsp;None,</div></div><div class=\"1229\" style=\"display: none;\"><div style=\"display: table-cell;\"></div><div style=\"display: table-cell;\">max_width&nbsp;=&nbsp;None,</div></div><div class=\"1229\" style=\"display: none;\"><div style=\"display: table-cell;\"></div><div style=\"display: table-cell;\">min_border&nbsp;=&nbsp;5,</div></div><div class=\"1229\" style=\"display: none;\"><div style=\"display: table-cell;\"></div><div style=\"display: table-cell;\">min_border_bottom&nbsp;=&nbsp;None,</div></div><div class=\"1229\" style=\"display: none;\"><div style=\"display: table-cell;\"></div><div style=\"display: table-cell;\">min_border_left&nbsp;=&nbsp;None,</div></div><div class=\"1229\" style=\"display: none;\"><div style=\"display: table-cell;\"></div><div style=\"display: table-cell;\">min_border_right&nbsp;=&nbsp;None,</div></div><div class=\"1229\" style=\"display: none;\"><div style=\"display: table-cell;\"></div><div style=\"display: table-cell;\">min_border_top&nbsp;=&nbsp;None,</div></div><div class=\"1229\" style=\"display: none;\"><div style=\"display: table-cell;\"></div><div style=\"display: table-cell;\">min_height&nbsp;=&nbsp;None,</div></div><div class=\"1229\" style=\"display: none;\"><div style=\"display: table-cell;\"></div><div style=\"display: table-cell;\">min_width&nbsp;=&nbsp;None,</div></div><div class=\"1229\" style=\"display: none;\"><div style=\"display: table-cell;\"></div><div style=\"display: table-cell;\">name&nbsp;=&nbsp;None,</div></div><div class=\"1229\" style=\"display: none;\"><div style=\"display: table-cell;\"></div><div style=\"display: table-cell;\">outer_height&nbsp;=&nbsp;0,</div></div><div class=\"1229\" style=\"display: none;\"><div style=\"display: table-cell;\"></div><div style=\"display: table-cell;\">outer_width&nbsp;=&nbsp;0,</div></div><div class=\"1229\" style=\"display: none;\"><div style=\"display: table-cell;\"></div><div style=\"display: table-cell;\">outline_line_alpha&nbsp;=&nbsp;1.0,</div></div><div class=\"1229\" style=\"display: none;\"><div style=\"display: table-cell;\"></div><div style=\"display: table-cell;\">outline_line_cap&nbsp;=&nbsp;'butt',</div></div><div class=\"1229\" style=\"display: none;\"><div style=\"display: table-cell;\"></div><div style=\"display: table-cell;\">outline_line_color&nbsp;=&nbsp;'#e5e5e5',</div></div><div class=\"1229\" style=\"display: none;\"><div style=\"display: table-cell;\"></div><div style=\"display: table-cell;\">outline_line_dash&nbsp;=&nbsp;[],</div></div><div class=\"1229\" style=\"display: none;\"><div style=\"display: table-cell;\"></div><div style=\"display: table-cell;\">outline_line_dash_offset&nbsp;=&nbsp;0,</div></div><div class=\"1229\" style=\"display: none;\"><div style=\"display: table-cell;\"></div><div style=\"display: table-cell;\">outline_line_join&nbsp;=&nbsp;'bevel',</div></div><div class=\"1229\" style=\"display: none;\"><div style=\"display: table-cell;\"></div><div style=\"display: table-cell;\">outline_line_width&nbsp;=&nbsp;1,</div></div><div class=\"1229\" style=\"display: none;\"><div style=\"display: table-cell;\"></div><div style=\"display: table-cell;\">output_backend&nbsp;=&nbsp;'canvas',</div></div><div class=\"1229\" style=\"display: none;\"><div style=\"display: table-cell;\"></div><div style=\"display: table-cell;\">renderers&nbsp;=&nbsp;[GlyphRenderer(id='1148', ...)],</div></div><div class=\"1229\" style=\"display: none;\"><div style=\"display: table-cell;\"></div><div style=\"display: table-cell;\">reset_policy&nbsp;=&nbsp;'standard',</div></div><div class=\"1229\" style=\"display: none;\"><div style=\"display: table-cell;\"></div><div style=\"display: table-cell;\">right&nbsp;=&nbsp;[],</div></div><div class=\"1229\" style=\"display: none;\"><div style=\"display: table-cell;\"></div><div style=\"display: table-cell;\">sizing_mode&nbsp;=&nbsp;None,</div></div><div class=\"1229\" style=\"display: none;\"><div style=\"display: table-cell;\"></div><div style=\"display: table-cell;\">subscribed_events&nbsp;=&nbsp;[],</div></div><div class=\"1229\" style=\"display: none;\"><div style=\"display: table-cell;\"></div><div style=\"display: table-cell;\">syncable&nbsp;=&nbsp;True,</div></div><div class=\"1229\" style=\"display: none;\"><div style=\"display: table-cell;\"></div><div style=\"display: table-cell;\">tags&nbsp;=&nbsp;[],</div></div><div class=\"1229\" style=\"display: none;\"><div style=\"display: table-cell;\"></div><div style=\"display: table-cell;\">title&nbsp;=&nbsp;Title(id='1163', ...),</div></div><div class=\"1229\" style=\"display: none;\"><div style=\"display: table-cell;\"></div><div style=\"display: table-cell;\">title_location&nbsp;=&nbsp;'above',</div></div><div class=\"1229\" style=\"display: none;\"><div style=\"display: table-cell;\"></div><div style=\"display: table-cell;\">toolbar&nbsp;=&nbsp;Toolbar(id='1137', ...),</div></div><div class=\"1229\" style=\"display: none;\"><div style=\"display: table-cell;\"></div><div style=\"display: table-cell;\">toolbar_location&nbsp;=&nbsp;'right',</div></div><div class=\"1229\" style=\"display: none;\"><div style=\"display: table-cell;\"></div><div style=\"display: table-cell;\">toolbar_sticky&nbsp;=&nbsp;True,</div></div><div class=\"1229\" style=\"display: none;\"><div style=\"display: table-cell;\"></div><div style=\"display: table-cell;\">visible&nbsp;=&nbsp;True,</div></div><div class=\"1229\" style=\"display: none;\"><div style=\"display: table-cell;\"></div><div style=\"display: table-cell;\">width&nbsp;=&nbsp;600,</div></div><div class=\"1229\" style=\"display: none;\"><div style=\"display: table-cell;\"></div><div style=\"display: table-cell;\">width_policy&nbsp;=&nbsp;'auto',</div></div><div class=\"1229\" style=\"display: none;\"><div style=\"display: table-cell;\"></div><div style=\"display: table-cell;\">x_range&nbsp;=&nbsp;DataRange1d(id='1114', ...),</div></div><div class=\"1229\" style=\"display: none;\"><div style=\"display: table-cell;\"></div><div style=\"display: table-cell;\">x_scale&nbsp;=&nbsp;LinearScale(id='1118', ...),</div></div><div class=\"1229\" style=\"display: none;\"><div style=\"display: table-cell;\"></div><div style=\"display: table-cell;\">y_range&nbsp;=&nbsp;DataRange1d(id='1116', ...),</div></div><div class=\"1229\" style=\"display: none;\"><div style=\"display: table-cell;\"></div><div style=\"display: table-cell;\">y_scale&nbsp;=&nbsp;LinearScale(id='1120', ...))</div></div></div>\n",
              "<script>\n",
              "(function() {\n",
              "  let expanded = false;\n",
              "  const ellipsis = document.getElementById(\"1230\");\n",
              "  ellipsis.addEventListener(\"click\", function() {\n",
              "    const rows = document.getElementsByClassName(\"1229\");\n",
              "    for (let i = 0; i < rows.length; i++) {\n",
              "      const el = rows[i];\n",
              "      el.style.display = expanded ? \"none\" : \"table-row\";\n",
              "    }\n",
              "    ellipsis.innerHTML = expanded ? \"&hellip;)\" : \"&lsaquo;&lsaquo;&lsaquo;\";\n",
              "    expanded = !expanded;\n",
              "  });\n",
              "})();\n",
              "</script>\n"
            ]
          },
          "metadata": {},
          "execution_count": 28
        }
      ],
      "source": [
        "draw_vectors(embedding[:, 0], embedding[:, 1], token=words)"
      ]
    },
    {
      "cell_type": "markdown",
      "metadata": {
        "id": "hyfOBxuHjc2R"
      },
      "source": [
        "Как можно видеть, слова образуют группы, различимые невооруженным глазом. График - интерактивный, при наведении курсора на точку указывается, какому слову она соответствует."
      ]
    },
    {
      "cell_type": "markdown",
      "metadata": {
        "id": "MoydR7Xujc2R"
      },
      "source": [
        "#### Визуализация фраз\n",
        "\n",
        "В завершение построим векторные представления не только слов, но и целых фраз. Для простоты воспользуемся подходом, аналогичным мешку слов (BoW): мешком эмбеддингов. Каждую фразу представим в виде усредненного эмбеддинга всех входящих в нее слов."
      ]
    },
    {
      "cell_type": "code",
      "execution_count": null,
      "metadata": {
        "id": "g3pwbQnNjc2R"
      },
      "outputs": [],
      "source": [
        "def get_phrase_embedding(phrase):\n",
        "    \"\"\"\n",
        "    Convert phrase to a vector by aggregating it's word embeddings.\n",
        "    \"\"\"\n",
        "    vector = np.zeros([model.vector_size], dtype='float32')\n",
        "    phrase_tokenized = tokenizer.tokenize(phrase.lower())\n",
        "    phrase_vectors = [model[x] for x in phrase_tokenized if model.has_index_for(x)]\n",
        "\n",
        "    if len(phrase_vectors) != 0:\n",
        "        vector = np.mean(phrase_vectors, axis=0)\n",
        "    return vector"
      ]
    },
    {
      "cell_type": "code",
      "execution_count": null,
      "metadata": {
        "id": "OhWv86AMjc2R",
        "outputId": "dbc2fae3-0f01-4c01-a54e-36eb76875488",
        "colab": {
          "base_uri": "https://localhost:8080/",
          "height": 35
        }
      },
      "outputs": [
        {
          "output_type": "execute_result",
          "data": {
            "text/plain": [
              "'What gift should I give to my girlfriend on her birthday?\\n'"
            ],
            "application/vnd.google.colaboratory.intrinsic+json": {
              "type": "string"
            }
          },
          "metadata": {},
          "execution_count": 31
        }
      ],
      "source": [
        "data[402687]"
      ]
    },
    {
      "cell_type": "code",
      "execution_count": null,
      "metadata": {
        "id": "2yk51Rwkjc2R",
        "outputId": "c379323a-d160-4000-9a66-0fd2132bba80",
        "colab": {
          "base_uri": "https://localhost:8080/"
        }
      },
      "outputs": [
        {
          "output_type": "execute_result",
          "data": {
            "text/plain": [
              "array([-0.18204999,  0.30953574,  0.20861094,  0.07982156, -0.22565515,\n",
              "       -0.33001748,  1.2495784 ,  0.13134292, -0.33788875,  0.06196944,\n",
              "       -0.231793  ,  0.09389219, -4.9685497 , -0.23611419, -0.32609668,\n",
              "       -0.092073  ,  0.4407505 , -0.75413746, -0.5389092 , -0.184752  ,\n",
              "        0.07867809,  0.20018655, -0.16202375,  0.30375698, -0.41255665],\n",
              "      dtype=float32)"
            ]
          },
          "metadata": {},
          "execution_count": 32
        }
      ],
      "source": [
        "get_phrase_embedding(data[402687])"
      ]
    },
    {
      "cell_type": "code",
      "execution_count": null,
      "metadata": {
        "id": "kn07_66zjc2R"
      },
      "outputs": [],
      "source": [
        "vector = get_phrase_embedding(\"Hello, today we speak about word vectors!\")"
      ]
    },
    {
      "cell_type": "code",
      "execution_count": null,
      "metadata": {
        "id": "wtCA-hFqjc2R",
        "outputId": "08d6360a-7a08-42e7-f5dc-fdbc6a452beb",
        "colab": {
          "base_uri": "https://localhost:8080/"
        }
      },
      "outputs": [
        {
          "output_type": "execute_result",
          "data": {
            "text/plain": [
              "array([ 0.30748555, -0.05400768, -0.18464424, -0.13607563, -0.23507245,\n",
              "       -0.04939345,  1.1183112 ,  0.05371887, -0.32848334,  0.19103   ,\n",
              "       -0.21656999,  0.19023776, -3.84866   , -0.257967  ,  0.21277945,\n",
              "        0.00940701,  0.19321555, -0.32837075, -0.29023   , -0.09518776,\n",
              "       -0.1398064 , -0.06628689, -0.53203714,  0.3393022 ,  0.14804935],\n",
              "      dtype=float32)"
            ]
          },
          "metadata": {},
          "execution_count": 36
        }
      ],
      "source": [
        "vector"
      ]
    },
    {
      "cell_type": "markdown",
      "metadata": {
        "id": "sKABm5qdjc2R"
      },
      "source": [
        "Визуализируем лишь небольшое подмножество фраз:"
      ]
    },
    {
      "cell_type": "code",
      "source": [
        "from sklearn.cluster import DBSCAN, KMeans"
      ],
      "metadata": {
        "id": "Cr2AL3U9jVB8"
      },
      "execution_count": null,
      "outputs": []
    },
    {
      "cell_type": "code",
      "source": [
        "kmeans = KMeans(n_clusters=9)\n"
      ],
      "metadata": {
        "id": "iFTvVhkRjjcC"
      },
      "execution_count": null,
      "outputs": []
    },
    {
      "cell_type": "code",
      "source": [
        "labels = kmeans.fit_predict(phrase_vectors)"
      ],
      "metadata": {
        "id": "kD90dw3pjnmn"
      },
      "execution_count": null,
      "outputs": []
    },
    {
      "cell_type": "code",
      "source": [
        "from collections import Counter"
      ],
      "metadata": {
        "id": "rDe5whORj4Eo"
      },
      "execution_count": null,
      "outputs": []
    },
    {
      "cell_type": "code",
      "source": [
        "Counter(labels)"
      ],
      "metadata": {
        "colab": {
          "base_uri": "https://localhost:8080/"
        },
        "id": "Ib89Y6SSjuwa",
        "outputId": "ab1a7fab-55f2-4aee-88ae-371c9651bbdd"
      },
      "execution_count": null,
      "outputs": [
        {
          "output_type": "execute_result",
          "data": {
            "text/plain": [
              "Counter({8: 143, 6: 131, 0: 97, 4: 116, 3: 131, 2: 116, 1: 92, 5: 106, 7: 69})"
            ]
          },
          "metadata": {},
          "execution_count": 54
        }
      ]
    },
    {
      "cell_type": "code",
      "source": [
        "color_map = ['red', 'blue', 'green', 'yellow', 'orange', 'magenta', 'cyan', 'black', 'purple', ]"
      ],
      "metadata": {
        "id": "859jVeUBkGKd"
      },
      "execution_count": null,
      "outputs": []
    },
    {
      "cell_type": "code",
      "source": [
        "colors = [color_map[i] for i in labels]"
      ],
      "metadata": {
        "id": "L_gPbS74kW-7"
      },
      "execution_count": null,
      "outputs": []
    },
    {
      "cell_type": "code",
      "execution_count": null,
      "metadata": {
        "id": "myRmLvjYjc2R"
      },
      "outputs": [],
      "source": [
        "chosen_phrases = data[::len(data) // 1000]\n",
        "\n",
        "# compute vectors for chosen phrases and turn them to numpy array\n",
        "phrase_vectors = np.asarray([get_phrase_embedding(x) for x in chosen_phrases])\n",
        "phrase_vectors_2d = umap.UMAP(n_neighbors=3).fit_transform(phrase_vectors)"
      ]
    },
    {
      "cell_type": "code",
      "execution_count": null,
      "metadata": {
        "id": "po2o4MwXjc2S",
        "outputId": "78c57752-3d68-47dc-fe3c-a44d5e702cce",
        "colab": {
          "base_uri": "https://localhost:8080/",
          "height": 434
        }
      },
      "outputs": [
        {
          "output_type": "display_data",
          "data": {
            "application/javascript": [
              "(function(root) {\n",
              "  function now() {\n",
              "    return new Date();\n",
              "  }\n",
              "\n",
              "  const force = true;\n",
              "\n",
              "  if (typeof root._bokeh_onload_callbacks === \"undefined\" || force === true) {\n",
              "    root._bokeh_onload_callbacks = [];\n",
              "    root._bokeh_is_loading = undefined;\n",
              "  }\n",
              "\n",
              "const JS_MIME_TYPE = 'application/javascript';\n",
              "  const HTML_MIME_TYPE = 'text/html';\n",
              "  const EXEC_MIME_TYPE = 'application/vnd.bokehjs_exec.v0+json';\n",
              "  const CLASS_NAME = 'output_bokeh rendered_html';\n",
              "\n",
              "  /**\n",
              "   * Render data to the DOM node\n",
              "   */\n",
              "  function render(props, node) {\n",
              "    const script = document.createElement(\"script\");\n",
              "    node.appendChild(script);\n",
              "  }\n",
              "\n",
              "  /**\n",
              "   * Handle when an output is cleared or removed\n",
              "   */\n",
              "  function handleClearOutput(event, handle) {\n",
              "    const cell = handle.cell;\n",
              "\n",
              "    const id = cell.output_area._bokeh_element_id;\n",
              "    const server_id = cell.output_area._bokeh_server_id;\n",
              "    // Clean up Bokeh references\n",
              "    if (id != null && id in Bokeh.index) {\n",
              "      Bokeh.index[id].model.document.clear();\n",
              "      delete Bokeh.index[id];\n",
              "    }\n",
              "\n",
              "    if (server_id !== undefined) {\n",
              "      // Clean up Bokeh references\n",
              "      const cmd_clean = \"from bokeh.io.state import curstate; print(curstate().uuid_to_server['\" + server_id + \"'].get_sessions()[0].document.roots[0]._id)\";\n",
              "      cell.notebook.kernel.execute(cmd_clean, {\n",
              "        iopub: {\n",
              "          output: function(msg) {\n",
              "            const id = msg.content.text.trim();\n",
              "            if (id in Bokeh.index) {\n",
              "              Bokeh.index[id].model.document.clear();\n",
              "              delete Bokeh.index[id];\n",
              "            }\n",
              "          }\n",
              "        }\n",
              "      });\n",
              "      // Destroy server and session\n",
              "      const cmd_destroy = \"import bokeh.io.notebook as ion; ion.destroy_server('\" + server_id + \"')\";\n",
              "      cell.notebook.kernel.execute(cmd_destroy);\n",
              "    }\n",
              "  }\n",
              "\n",
              "  /**\n",
              "   * Handle when a new output is added\n",
              "   */\n",
              "  function handleAddOutput(event, handle) {\n",
              "    const output_area = handle.output_area;\n",
              "    const output = handle.output;\n",
              "\n",
              "    // limit handleAddOutput to display_data with EXEC_MIME_TYPE content only\n",
              "    if ((output.output_type != \"display_data\") || (!Object.prototype.hasOwnProperty.call(output.data, EXEC_MIME_TYPE))) {\n",
              "      return\n",
              "    }\n",
              "\n",
              "    const toinsert = output_area.element.find(\".\" + CLASS_NAME.split(' ')[0]);\n",
              "\n",
              "    if (output.metadata[EXEC_MIME_TYPE][\"id\"] !== undefined) {\n",
              "      toinsert[toinsert.length - 1].firstChild.textContent = output.data[JS_MIME_TYPE];\n",
              "      // store reference to embed id on output_area\n",
              "      output_area._bokeh_element_id = output.metadata[EXEC_MIME_TYPE][\"id\"];\n",
              "    }\n",
              "    if (output.metadata[EXEC_MIME_TYPE][\"server_id\"] !== undefined) {\n",
              "      const bk_div = document.createElement(\"div\");\n",
              "      bk_div.innerHTML = output.data[HTML_MIME_TYPE];\n",
              "      const script_attrs = bk_div.children[0].attributes;\n",
              "      for (let i = 0; i < script_attrs.length; i++) {\n",
              "        toinsert[toinsert.length - 1].firstChild.setAttribute(script_attrs[i].name, script_attrs[i].value);\n",
              "        toinsert[toinsert.length - 1].firstChild.textContent = bk_div.children[0].textContent\n",
              "      }\n",
              "      // store reference to server id on output_area\n",
              "      output_area._bokeh_server_id = output.metadata[EXEC_MIME_TYPE][\"server_id\"];\n",
              "    }\n",
              "  }\n",
              "\n",
              "  function register_renderer(events, OutputArea) {\n",
              "\n",
              "    function append_mime(data, metadata, element) {\n",
              "      // create a DOM node to render to\n",
              "      const toinsert = this.create_output_subarea(\n",
              "        metadata,\n",
              "        CLASS_NAME,\n",
              "        EXEC_MIME_TYPE\n",
              "      );\n",
              "      this.keyboard_manager.register_events(toinsert);\n",
              "      // Render to node\n",
              "      const props = {data: data, metadata: metadata[EXEC_MIME_TYPE]};\n",
              "      render(props, toinsert[toinsert.length - 1]);\n",
              "      element.append(toinsert);\n",
              "      return toinsert\n",
              "    }\n",
              "\n",
              "    /* Handle when an output is cleared or removed */\n",
              "    events.on('clear_output.CodeCell', handleClearOutput);\n",
              "    events.on('delete.Cell', handleClearOutput);\n",
              "\n",
              "    /* Handle when a new output is added */\n",
              "    events.on('output_added.OutputArea', handleAddOutput);\n",
              "\n",
              "    /**\n",
              "     * Register the mime type and append_mime function with output_area\n",
              "     */\n",
              "    OutputArea.prototype.register_mime_type(EXEC_MIME_TYPE, append_mime, {\n",
              "      /* Is output safe? */\n",
              "      safe: true,\n",
              "      /* Index of renderer in `output_area.display_order` */\n",
              "      index: 0\n",
              "    });\n",
              "  }\n",
              "\n",
              "  // register the mime type if in Jupyter Notebook environment and previously unregistered\n",
              "  if (root.Jupyter !== undefined) {\n",
              "    const events = require('base/js/events');\n",
              "    const OutputArea = require('notebook/js/outputarea').OutputArea;\n",
              "\n",
              "    if (OutputArea.prototype.mime_types().indexOf(EXEC_MIME_TYPE) == -1) {\n",
              "      register_renderer(events, OutputArea);\n",
              "    }\n",
              "  }\n",
              "  if (typeof (root._bokeh_timeout) === \"undefined\" || force === true) {\n",
              "    root._bokeh_timeout = Date.now() + 5000;\n",
              "    root._bokeh_failed_load = false;\n",
              "  }\n",
              "\n",
              "  const NB_LOAD_WARNING = {'data': {'text/html':\n",
              "     \"<div style='background-color: #fdd'>\\n\"+\n",
              "     \"<p>\\n\"+\n",
              "     \"BokehJS does not appear to have successfully loaded. If loading BokehJS from CDN, this \\n\"+\n",
              "     \"may be due to a slow or bad network connection. Possible fixes:\\n\"+\n",
              "     \"</p>\\n\"+\n",
              "     \"<ul>\\n\"+\n",
              "     \"<li>re-rerun `output_notebook()` to attempt to load from CDN again, or</li>\\n\"+\n",
              "     \"<li>use INLINE resources instead, as so:</li>\\n\"+\n",
              "     \"</ul>\\n\"+\n",
              "     \"<code>\\n\"+\n",
              "     \"from bokeh.resources import INLINE\\n\"+\n",
              "     \"output_notebook(resources=INLINE)\\n\"+\n",
              "     \"</code>\\n\"+\n",
              "     \"</div>\"}};\n",
              "\n",
              "  function display_loaded() {\n",
              "    const el = document.getElementById(null);\n",
              "    if (el != null) {\n",
              "      el.textContent = \"BokehJS is loading...\";\n",
              "    }\n",
              "    if (root.Bokeh !== undefined) {\n",
              "      if (el != null) {\n",
              "        el.textContent = \"BokehJS \" + root.Bokeh.version + \" successfully loaded.\";\n",
              "      }\n",
              "    } else if (Date.now() < root._bokeh_timeout) {\n",
              "      setTimeout(display_loaded, 100)\n",
              "    }\n",
              "  }\n",
              "\n",
              "  function run_callbacks() {\n",
              "    try {\n",
              "      root._bokeh_onload_callbacks.forEach(function(callback) {\n",
              "        if (callback != null)\n",
              "          callback();\n",
              "      });\n",
              "    } finally {\n",
              "      delete root._bokeh_onload_callbacks\n",
              "    }\n",
              "    console.debug(\"Bokeh: all callbacks have finished\");\n",
              "  }\n",
              "\n",
              "  function load_libs(css_urls, js_urls, callback) {\n",
              "    if (css_urls == null) css_urls = [];\n",
              "    if (js_urls == null) js_urls = [];\n",
              "\n",
              "    root._bokeh_onload_callbacks.push(callback);\n",
              "    if (root._bokeh_is_loading > 0) {\n",
              "      console.debug(\"Bokeh: BokehJS is being loaded, scheduling callback at\", now());\n",
              "      return null;\n",
              "    }\n",
              "    if (js_urls == null || js_urls.length === 0) {\n",
              "      run_callbacks();\n",
              "      return null;\n",
              "    }\n",
              "    console.debug(\"Bokeh: BokehJS not loaded, scheduling load and callback at\", now());\n",
              "    root._bokeh_is_loading = css_urls.length + js_urls.length;\n",
              "\n",
              "    function on_load() {\n",
              "      root._bokeh_is_loading--;\n",
              "      if (root._bokeh_is_loading === 0) {\n",
              "        console.debug(\"Bokeh: all BokehJS libraries/stylesheets loaded\");\n",
              "        run_callbacks()\n",
              "      }\n",
              "    }\n",
              "\n",
              "    function on_error(url) {\n",
              "      console.error(\"failed to load \" + url);\n",
              "    }\n",
              "\n",
              "    for (let i = 0; i < css_urls.length; i++) {\n",
              "      const url = css_urls[i];\n",
              "      const element = document.createElement(\"link\");\n",
              "      element.onload = on_load;\n",
              "      element.onerror = on_error.bind(null, url);\n",
              "      element.rel = \"stylesheet\";\n",
              "      element.type = \"text/css\";\n",
              "      element.href = url;\n",
              "      console.debug(\"Bokeh: injecting link tag for BokehJS stylesheet: \", url);\n",
              "      document.body.appendChild(element);\n",
              "    }\n",
              "\n",
              "    for (let i = 0; i < js_urls.length; i++) {\n",
              "      const url = js_urls[i];\n",
              "      const element = document.createElement('script');\n",
              "      element.onload = on_load;\n",
              "      element.onerror = on_error.bind(null, url);\n",
              "      element.async = false;\n",
              "      element.src = url;\n",
              "      console.debug(\"Bokeh: injecting script tag for BokehJS library: \", url);\n",
              "      document.head.appendChild(element);\n",
              "    }\n",
              "  };\n",
              "\n",
              "  function inject_raw_css(css) {\n",
              "    const element = document.createElement(\"style\");\n",
              "    element.appendChild(document.createTextNode(css));\n",
              "    document.body.appendChild(element);\n",
              "  }\n",
              "\n",
              "  const js_urls = [\"https://cdn.bokeh.org/bokeh/release/bokeh-2.4.3.min.js\", \"https://cdn.bokeh.org/bokeh/release/bokeh-gl-2.4.3.min.js\", \"https://cdn.bokeh.org/bokeh/release/bokeh-widgets-2.4.3.min.js\", \"https://cdn.bokeh.org/bokeh/release/bokeh-tables-2.4.3.min.js\", \"https://cdn.bokeh.org/bokeh/release/bokeh-mathjax-2.4.3.min.js\"];\n",
              "  const css_urls = [];\n",
              "\n",
              "  const inline_js = [    function(Bokeh) {\n",
              "      Bokeh.set_log_level(\"info\");\n",
              "    },\n",
              "function(Bokeh) {\n",
              "    }\n",
              "  ];\n",
              "\n",
              "  function run_inline_js() {\n",
              "    if (root.Bokeh !== undefined || force === true) {\n",
              "          for (let i = 0; i < inline_js.length; i++) {\n",
              "      inline_js[i].call(root, root.Bokeh);\n",
              "    }\n",
              "} else if (Date.now() < root._bokeh_timeout) {\n",
              "      setTimeout(run_inline_js, 100);\n",
              "    } else if (!root._bokeh_failed_load) {\n",
              "      console.log(\"Bokeh: BokehJS failed to load within specified timeout.\");\n",
              "      root._bokeh_failed_load = true;\n",
              "    } else if (force !== true) {\n",
              "      const cell = $(document.getElementById(null)).parents('.cell').data().cell;\n",
              "      cell.output_area.append_execute_result(NB_LOAD_WARNING)\n",
              "    }\n",
              "  }\n",
              "\n",
              "  if (root._bokeh_is_loading === 0) {\n",
              "    console.debug(\"Bokeh: BokehJS loaded, going straight to plotting\");\n",
              "    run_inline_js();\n",
              "  } else {\n",
              "    load_libs(css_urls, js_urls, function() {\n",
              "      console.debug(\"Bokeh: BokehJS plotting callback run at\", now());\n",
              "      run_inline_js();\n",
              "    });\n",
              "  }\n",
              "}(window));"
            ],
            "application/vnd.bokehjs_load.v0+json": "(function(root) {\n  function now() {\n    return new Date();\n  }\n\n  const force = true;\n\n  if (typeof root._bokeh_onload_callbacks === \"undefined\" || force === true) {\n    root._bokeh_onload_callbacks = [];\n    root._bokeh_is_loading = undefined;\n  }\n\n\n  if (typeof (root._bokeh_timeout) === \"undefined\" || force === true) {\n    root._bokeh_timeout = Date.now() + 5000;\n    root._bokeh_failed_load = false;\n  }\n\n  const NB_LOAD_WARNING = {'data': {'text/html':\n     \"<div style='background-color: #fdd'>\\n\"+\n     \"<p>\\n\"+\n     \"BokehJS does not appear to have successfully loaded. If loading BokehJS from CDN, this \\n\"+\n     \"may be due to a slow or bad network connection. Possible fixes:\\n\"+\n     \"</p>\\n\"+\n     \"<ul>\\n\"+\n     \"<li>re-rerun `output_notebook()` to attempt to load from CDN again, or</li>\\n\"+\n     \"<li>use INLINE resources instead, as so:</li>\\n\"+\n     \"</ul>\\n\"+\n     \"<code>\\n\"+\n     \"from bokeh.resources import INLINE\\n\"+\n     \"output_notebook(resources=INLINE)\\n\"+\n     \"</code>\\n\"+\n     \"</div>\"}};\n\n  function display_loaded() {\n    const el = document.getElementById(null);\n    if (el != null) {\n      el.textContent = \"BokehJS is loading...\";\n    }\n    if (root.Bokeh !== undefined) {\n      if (el != null) {\n        el.textContent = \"BokehJS \" + root.Bokeh.version + \" successfully loaded.\";\n      }\n    } else if (Date.now() < root._bokeh_timeout) {\n      setTimeout(display_loaded, 100)\n    }\n  }\n\n  function run_callbacks() {\n    try {\n      root._bokeh_onload_callbacks.forEach(function(callback) {\n        if (callback != null)\n          callback();\n      });\n    } finally {\n      delete root._bokeh_onload_callbacks\n    }\n    console.debug(\"Bokeh: all callbacks have finished\");\n  }\n\n  function load_libs(css_urls, js_urls, callback) {\n    if (css_urls == null) css_urls = [];\n    if (js_urls == null) js_urls = [];\n\n    root._bokeh_onload_callbacks.push(callback);\n    if (root._bokeh_is_loading > 0) {\n      console.debug(\"Bokeh: BokehJS is being loaded, scheduling callback at\", now());\n      return null;\n    }\n    if (js_urls == null || js_urls.length === 0) {\n      run_callbacks();\n      return null;\n    }\n    console.debug(\"Bokeh: BokehJS not loaded, scheduling load and callback at\", now());\n    root._bokeh_is_loading = css_urls.length + js_urls.length;\n\n    function on_load() {\n      root._bokeh_is_loading--;\n      if (root._bokeh_is_loading === 0) {\n        console.debug(\"Bokeh: all BokehJS libraries/stylesheets loaded\");\n        run_callbacks()\n      }\n    }\n\n    function on_error(url) {\n      console.error(\"failed to load \" + url);\n    }\n\n    for (let i = 0; i < css_urls.length; i++) {\n      const url = css_urls[i];\n      const element = document.createElement(\"link\");\n      element.onload = on_load;\n      element.onerror = on_error.bind(null, url);\n      element.rel = \"stylesheet\";\n      element.type = \"text/css\";\n      element.href = url;\n      console.debug(\"Bokeh: injecting link tag for BokehJS stylesheet: \", url);\n      document.body.appendChild(element);\n    }\n\n    for (let i = 0; i < js_urls.length; i++) {\n      const url = js_urls[i];\n      const element = document.createElement('script');\n      element.onload = on_load;\n      element.onerror = on_error.bind(null, url);\n      element.async = false;\n      element.src = url;\n      console.debug(\"Bokeh: injecting script tag for BokehJS library: \", url);\n      document.head.appendChild(element);\n    }\n  };\n\n  function inject_raw_css(css) {\n    const element = document.createElement(\"style\");\n    element.appendChild(document.createTextNode(css));\n    document.body.appendChild(element);\n  }\n\n  const js_urls = [\"https://cdn.bokeh.org/bokeh/release/bokeh-2.4.3.min.js\", \"https://cdn.bokeh.org/bokeh/release/bokeh-gl-2.4.3.min.js\", \"https://cdn.bokeh.org/bokeh/release/bokeh-widgets-2.4.3.min.js\", \"https://cdn.bokeh.org/bokeh/release/bokeh-tables-2.4.3.min.js\", \"https://cdn.bokeh.org/bokeh/release/bokeh-mathjax-2.4.3.min.js\"];\n  const css_urls = [];\n\n  const inline_js = [    function(Bokeh) {\n      Bokeh.set_log_level(\"info\");\n    },\nfunction(Bokeh) {\n    }\n  ];\n\n  function run_inline_js() {\n    if (root.Bokeh !== undefined || force === true) {\n          for (let i = 0; i < inline_js.length; i++) {\n      inline_js[i].call(root, root.Bokeh);\n    }\n} else if (Date.now() < root._bokeh_timeout) {\n      setTimeout(run_inline_js, 100);\n    } else if (!root._bokeh_failed_load) {\n      console.log(\"Bokeh: BokehJS failed to load within specified timeout.\");\n      root._bokeh_failed_load = true;\n    } else if (force !== true) {\n      const cell = $(document.getElementById(null)).parents('.cell').data().cell;\n      cell.output_area.append_execute_result(NB_LOAD_WARNING)\n    }\n  }\n\n  if (root._bokeh_is_loading === 0) {\n    console.debug(\"Bokeh: BokehJS loaded, going straight to plotting\");\n    run_inline_js();\n  } else {\n    load_libs(css_urls, js_urls, function() {\n      console.debug(\"Bokeh: BokehJS plotting callback run at\", now());\n      run_inline_js();\n    });\n  }\n}(window));"
          },
          "metadata": {}
        },
        {
          "output_type": "display_data",
          "data": {
            "text/html": [
              "\n",
              "  <div class=\"bk-root\" id=\"f2157c78-1a27-4ba1-bd51-cd6e4e93ae5c\" data-root-id=\"1366\"></div>\n"
            ]
          },
          "metadata": {}
        },
        {
          "output_type": "display_data",
          "data": {
            "application/javascript": [
              "(function(root) {\n",
              "  function embed_document(root) {\n",
              "  const docs_json = {\"c49b88b4-a8a5-4b90-af11-8348d4ba3c92\":{\"defs\":[],\"roots\":{\"references\":[{\"attributes\":{\"below\":[{\"id\":\"1375\"}],\"center\":[{\"id\":\"1378\"},{\"id\":\"1382\"}],\"height\":400,\"left\":[{\"id\":\"1379\"}],\"renderers\":[{\"id\":\"1401\"}],\"title\":{\"id\":\"1438\"},\"toolbar\":{\"id\":\"1390\"},\"x_range\":{\"id\":\"1367\"},\"x_scale\":{\"id\":\"1371\"},\"y_range\":{\"id\":\"1369\"},\"y_scale\":{\"id\":\"1373\"}},\"id\":\"1366\",\"subtype\":\"Figure\",\"type\":\"Plot\"},{\"attributes\":{\"coordinates\":null,\"formatter\":{\"id\":\"1444\"},\"group\":null,\"major_label_policy\":{\"id\":\"1445\"},\"ticker\":{\"id\":\"1376\"}},\"id\":\"1375\",\"type\":\"LinearAxis\"},{\"attributes\":{},\"id\":\"1444\",\"type\":\"BasicTickFormatter\"},{\"attributes\":{\"axis\":{\"id\":\"1375\"},\"coordinates\":null,\"group\":null,\"ticker\":null},\"id\":\"1378\",\"type\":\"Grid\"},{\"attributes\":{},\"id\":\"1442\",\"type\":\"AllLabels\"},{\"attributes\":{\"coordinates\":null,\"group\":null},\"id\":\"1438\",\"type\":\"Title\"},{\"attributes\":{\"axis\":{\"id\":\"1379\"},\"coordinates\":null,\"dimension\":1,\"group\":null,\"ticker\":null},\"id\":\"1382\",\"type\":\"Grid\"},{\"attributes\":{},\"id\":\"1373\",\"type\":\"LinearScale\"},{\"attributes\":{},\"id\":\"1383\",\"type\":\"PanTool\"},{\"attributes\":{\"source\":{\"id\":\"1365\"}},\"id\":\"1402\",\"type\":\"CDSView\"},{\"attributes\":{},\"id\":\"1447\",\"type\":\"Selection\"},{\"attributes\":{\"fill_alpha\":{\"value\":0.2},\"fill_color\":{\"field\":\"color\"},\"hatch_alpha\":{\"value\":0.2},\"hatch_color\":{\"field\":\"color\"},\"line_alpha\":{\"value\":0.2},\"line_color\":{\"field\":\"color\"},\"size\":{\"value\":20},\"x\":{\"field\":\"x\"},\"y\":{\"field\":\"y\"}},\"id\":\"1400\",\"type\":\"Scatter\"},{\"attributes\":{},\"id\":\"1371\",\"type\":\"LinearScale\"},{\"attributes\":{\"coordinates\":null,\"formatter\":{\"id\":\"1441\"},\"group\":null,\"major_label_policy\":{\"id\":\"1442\"},\"ticker\":{\"id\":\"1380\"}},\"id\":\"1379\",\"type\":\"LinearAxis\"},{\"attributes\":{},\"id\":\"1388\",\"type\":\"HelpTool\"},{\"attributes\":{},\"id\":\"1369\",\"type\":\"DataRange1d\"},{\"attributes\":{},\"id\":\"1376\",\"type\":\"BasicTicker\"},{\"attributes\":{\"data\":{\"color\":[\"purple\",\"cyan\",\"red\",\"orange\",\"yellow\",\"orange\",\"orange\",\"red\",\"green\",\"purple\",\"blue\",\"green\",\"blue\",\"yellow\",\"purple\",\"green\",\"orange\",\"magenta\",\"red\",\"green\",\"blue\",\"red\",\"red\",\"red\",\"red\",\"orange\",\"yellow\",\"orange\",\"orange\",\"blue\",\"cyan\",\"yellow\",\"green\",\"magenta\",\"green\",\"yellow\",\"cyan\",\"magenta\",\"black\",\"black\",\"yellow\",\"cyan\",\"orange\",\"purple\",\"black\",\"green\",\"orange\",\"cyan\",\"red\",\"black\",\"green\",\"purple\",\"red\",\"orange\",\"black\",\"cyan\",\"yellow\",\"orange\",\"yellow\",\"yellow\",\"orange\",\"green\",\"blue\",\"purple\",\"green\",\"green\",\"purple\",\"cyan\",\"cyan\",\"magenta\",\"purple\",\"purple\",\"purple\",\"blue\",\"red\",\"yellow\",\"red\",\"red\",\"black\",\"blue\",\"green\",\"red\",\"yellow\",\"orange\",\"black\",\"cyan\",\"blue\",\"blue\",\"yellow\",\"purple\",\"magenta\",\"purple\",\"purple\",\"orange\",\"purple\",\"blue\",\"cyan\",\"orange\",\"orange\",\"blue\",\"black\",\"red\",\"blue\",\"orange\",\"yellow\",\"purple\",\"magenta\",\"cyan\",\"yellow\",\"purple\",\"cyan\",\"purple\",\"orange\",\"magenta\",\"yellow\",\"green\",\"orange\",\"cyan\",\"blue\",\"red\",\"cyan\",\"yellow\",\"blue\",\"green\",\"red\",\"yellow\",\"cyan\",\"yellow\",\"blue\",\"magenta\",\"green\",\"green\",\"blue\",\"yellow\",\"blue\",\"orange\",\"cyan\",\"magenta\",\"black\",\"yellow\",\"purple\",\"green\",\"green\",\"orange\",\"yellow\",\"cyan\",\"red\",\"yellow\",\"purple\",\"purple\",\"yellow\",\"purple\",\"yellow\",\"purple\",\"yellow\",\"purple\",\"orange\",\"blue\",\"yellow\",\"orange\",\"magenta\",\"red\",\"purple\",\"green\",\"black\",\"blue\",\"cyan\",\"purple\",\"purple\",\"magenta\",\"green\",\"black\",\"black\",\"green\",\"green\",\"magenta\",\"cyan\",\"cyan\",\"orange\",\"purple\",\"yellow\",\"purple\",\"blue\",\"red\",\"black\",\"cyan\",\"magenta\",\"cyan\",\"red\",\"red\",\"purple\",\"black\",\"purple\",\"purple\",\"black\",\"red\",\"yellow\",\"orange\",\"red\",\"orange\",\"yellow\",\"black\",\"magenta\",\"cyan\",\"orange\",\"black\",\"cyan\",\"orange\",\"magenta\",\"yellow\",\"purple\",\"orange\",\"red\",\"magenta\",\"purple\",\"cyan\",\"yellow\",\"yellow\",\"blue\",\"purple\",\"purple\",\"purple\",\"green\",\"red\",\"yellow\",\"green\",\"orange\",\"cyan\",\"green\",\"yellow\",\"black\",\"purple\",\"yellow\",\"black\",\"cyan\",\"cyan\",\"black\",\"blue\",\"orange\",\"green\",\"orange\",\"cyan\",\"purple\",\"orange\",\"green\",\"green\",\"purple\",\"cyan\",\"orange\",\"blue\",\"magenta\",\"purple\",\"purple\",\"orange\",\"purple\",\"blue\",\"purple\",\"green\",\"black\",\"cyan\",\"red\",\"orange\",\"yellow\",\"blue\",\"green\",\"orange\",\"yellow\",\"green\",\"magenta\",\"blue\",\"purple\",\"black\",\"red\",\"yellow\",\"cyan\",\"black\",\"green\",\"yellow\",\"blue\",\"cyan\",\"yellow\",\"purple\",\"purple\",\"cyan\",\"magenta\",\"orange\",\"magenta\",\"purple\",\"green\",\"cyan\",\"green\",\"purple\",\"orange\",\"orange\",\"cyan\",\"purple\",\"blue\",\"blue\",\"cyan\",\"orange\",\"yellow\",\"green\",\"orange\",\"purple\",\"magenta\",\"cyan\",\"cyan\",\"cyan\",\"red\",\"purple\",\"red\",\"orange\",\"blue\",\"yellow\",\"orange\",\"magenta\",\"yellow\",\"red\",\"blue\",\"yellow\",\"yellow\",\"magenta\",\"purple\",\"magenta\",\"yellow\",\"orange\",\"blue\",\"green\",\"blue\",\"yellow\",\"yellow\",\"green\",\"blue\",\"yellow\",\"green\",\"purple\",\"cyan\",\"purple\",\"purple\",\"black\",\"cyan\",\"blue\",\"cyan\",\"purple\",\"blue\",\"orange\",\"cyan\",\"orange\",\"purple\",\"red\",\"purple\",\"purple\",\"black\",\"red\",\"yellow\",\"blue\",\"red\",\"green\",\"red\",\"purple\",\"orange\",\"yellow\",\"magenta\",\"orange\",\"green\",\"yellow\",\"purple\",\"magenta\",\"red\",\"orange\",\"orange\",\"magenta\",\"green\",\"orange\",\"yellow\",\"purple\",\"cyan\",\"cyan\",\"cyan\",\"magenta\",\"orange\",\"black\",\"cyan\",\"purple\",\"orange\",\"orange\",\"yellow\",\"red\",\"blue\",\"green\",\"green\",\"cyan\",\"cyan\",\"black\",\"black\",\"magenta\",\"yellow\",\"black\",\"orange\",\"yellow\",\"red\",\"red\",\"blue\",\"purple\",\"magenta\",\"purple\",\"magenta\",\"purple\",\"magenta\",\"green\",\"black\",\"yellow\",\"yellow\",\"yellow\",\"red\",\"yellow\",\"yellow\",\"purple\",\"purple\",\"blue\",\"yellow\",\"purple\",\"purple\",\"magenta\",\"green\",\"cyan\",\"magenta\",\"red\",\"red\",\"cyan\",\"black\",\"red\",\"black\",\"yellow\",\"yellow\",\"yellow\",\"cyan\",\"cyan\",\"purple\",\"cyan\",\"red\",\"orange\",\"magenta\",\"purple\",\"green\",\"magenta\",\"red\",\"magenta\",\"red\",\"cyan\",\"cyan\",\"orange\",\"yellow\",\"magenta\",\"yellow\",\"cyan\",\"orange\",\"red\",\"purple\",\"blue\",\"magenta\",\"red\",\"cyan\",\"yellow\",\"cyan\",\"magenta\",\"red\",\"purple\",\"cyan\",\"magenta\",\"blue\",\"green\",\"purple\",\"cyan\",\"red\",\"green\",\"magenta\",\"purple\",\"magenta\",\"orange\",\"purple\",\"blue\",\"red\",\"black\",\"blue\",\"cyan\",\"yellow\",\"cyan\",\"green\",\"black\",\"purple\",\"cyan\",\"blue\",\"green\",\"cyan\",\"blue\",\"orange\",\"cyan\",\"magenta\",\"green\",\"blue\",\"yellow\",\"blue\",\"yellow\",\"purple\",\"purple\",\"cyan\",\"magenta\",\"purple\",\"purple\",\"yellow\",\"green\",\"green\",\"black\",\"orange\",\"blue\",\"magenta\",\"green\",\"blue\",\"cyan\",\"magenta\",\"red\",\"yellow\",\"yellow\",\"cyan\",\"purple\",\"blue\",\"green\",\"purple\",\"cyan\",\"green\",\"magenta\",\"blue\",\"green\",\"yellow\",\"yellow\",\"black\",\"blue\",\"blue\",\"purple\",\"magenta\",\"purple\",\"red\",\"green\",\"magenta\",\"red\",\"black\",\"blue\",\"green\",\"red\",\"yellow\",\"magenta\",\"red\",\"cyan\",\"red\",\"blue\",\"cyan\",\"orange\",\"red\",\"blue\",\"yellow\",\"cyan\",\"magenta\",\"yellow\",\"green\",\"green\",\"blue\",\"green\",\"green\",\"green\",\"magenta\",\"purple\",\"green\",\"magenta\",\"cyan\",\"magenta\",\"cyan\",\"purple\",\"orange\",\"purple\",\"purple\",\"purple\",\"cyan\",\"yellow\",\"purple\",\"green\",\"cyan\",\"purple\",\"black\",\"orange\",\"purple\",\"purple\",\"yellow\",\"red\",\"yellow\",\"yellow\",\"black\",\"red\",\"red\",\"green\",\"black\",\"green\",\"magenta\",\"orange\",\"blue\",\"orange\",\"purple\",\"yellow\",\"red\",\"orange\",\"cyan\",\"green\",\"magenta\",\"green\",\"purple\",\"yellow\",\"yellow\",\"cyan\",\"red\",\"blue\",\"purple\",\"black\",\"green\",\"cyan\",\"cyan\",\"yellow\",\"purple\",\"black\",\"purple\",\"blue\",\"purple\",\"cyan\",\"orange\",\"cyan\",\"yellow\",\"yellow\",\"orange\",\"orange\",\"blue\",\"black\",\"purple\",\"purple\",\"red\",\"green\",\"black\",\"orange\",\"green\",\"orange\",\"green\",\"black\",\"purple\",\"black\",\"magenta\",\"cyan\",\"yellow\",\"blue\",\"cyan\",\"orange\",\"blue\",\"cyan\",\"purple\",\"magenta\",\"blue\",\"black\",\"magenta\",\"purple\",\"purple\",\"red\",\"green\",\"magenta\",\"orange\",\"red\",\"orange\",\"green\",\"blue\",\"red\",\"yellow\",\"cyan\",\"cyan\",\"green\",\"cyan\",\"black\",\"cyan\",\"orange\",\"green\",\"purple\",\"cyan\",\"orange\",\"magenta\",\"yellow\",\"magenta\",\"purple\",\"green\",\"green\",\"yellow\",\"magenta\",\"yellow\",\"yellow\",\"purple\",\"orange\",\"orange\",\"green\",\"magenta\",\"magenta\",\"red\",\"yellow\",\"magenta\",\"orange\",\"blue\",\"blue\",\"magenta\",\"green\",\"purple\",\"black\",\"red\",\"purple\",\"green\",\"blue\",\"purple\",\"orange\",\"black\",\"cyan\",\"red\",\"magenta\",\"red\",\"cyan\",\"yellow\",\"magenta\",\"yellow\",\"orange\",\"red\",\"orange\",\"cyan\",\"orange\",\"magenta\",\"purple\",\"purple\",\"purple\",\"cyan\",\"green\",\"purple\",\"cyan\",\"green\",\"black\",\"blue\",\"cyan\",\"yellow\",\"green\",\"magenta\",\"yellow\",\"magenta\",\"orange\",\"cyan\",\"green\",\"purple\",\"yellow\",\"cyan\",\"blue\",\"yellow\",\"yellow\",\"yellow\",\"purple\",\"blue\",\"black\",\"orange\",\"black\",\"purple\",\"cyan\",\"yellow\",\"blue\",\"magenta\",\"purple\",\"orange\",\"orange\",\"cyan\",\"red\",\"red\",\"black\",\"blue\",\"magenta\",\"green\",\"green\",\"red\",\"magenta\",\"blue\",\"yellow\",\"blue\",\"black\",\"red\",\"yellow\",\"magenta\",\"red\",\"orange\",\"orange\",\"magenta\",\"magenta\",\"cyan\",\"black\",\"red\",\"green\",\"green\",\"green\",\"cyan\",\"orange\",\"green\",\"magenta\",\"green\",\"purple\",\"red\",\"cyan\",\"black\",\"purple\",\"orange\",\"yellow\",\"cyan\",\"yellow\",\"magenta\",\"cyan\",\"blue\",\"black\",\"blue\",\"magenta\",\"magenta\",\"magenta\",\"yellow\",\"magenta\",\"blue\",\"orange\",\"yellow\",\"orange\",\"cyan\",\"yellow\",\"blue\",\"red\",\"green\",\"red\",\"blue\",\"yellow\",\"purple\",\"yellow\",\"cyan\",\"orange\",\"green\",\"black\",\"blue\",\"orange\",\"magenta\",\"cyan\",\"magenta\",\"green\",\"red\",\"yellow\",\"yellow\",\"magenta\",\"black\",\"magenta\",\"yellow\",\"green\",\"magenta\",\"cyan\",\"cyan\",\"orange\",\"green\",\"orange\",\"cyan\",\"green\",\"yellow\",\"red\",\"black\",\"magenta\",\"blue\",\"blue\",\"orange\",\"green\",\"green\",\"green\",\"yellow\",\"cyan\",\"cyan\",\"purple\",\"purple\",\"blue\",\"red\",\"blue\",\"red\",\"green\",\"cyan\",\"orange\",\"yellow\",\"green\",\"magenta\",\"cyan\",\"magenta\",\"magenta\",\"orange\",\"magenta\",\"magenta\",\"magenta\",\"yellow\",\"purple\",\"yellow\",\"green\",\"orange\",\"magenta\",\"orange\",\"red\",\"black\",\"purple\",\"purple\",\"cyan\",\"green\",\"purple\",\"yellow\",\"purple\",\"blue\",\"purple\",\"cyan\",\"cyan\",\"magenta\",\"cyan\",\"black\",\"red\",\"yellow\",\"orange\",\"orange\",\"red\",\"red\",\"green\",\"black\",\"black\",\"magenta\",\"cyan\",\"red\",\"blue\",\"red\",\"red\",\"cyan\",\"cyan\",\"purple\",\"magenta\",\"green\",\"magenta\",\"magenta\",\"red\",\"green\",\"red\",\"orange\",\"orange\",\"black\",\"red\",\"purple\",\"black\",\"purple\",\"purple\",\"green\",\"green\",\"orange\",\"purple\",\"orange\",\"green\",\"cyan\",\"blue\",\"yellow\",\"yellow\",\"cyan\",\"cyan\",\"magenta\",\"purple\",\"purple\",\"yellow\",\"purple\",\"yellow\",\"purple\",\"blue\",\"orange\",\"green\",\"red\",\"orange\",\"red\",\"blue\",\"purple\",\"orange\",\"magenta\",\"cyan\",\"yellow\",\"purple\",\"blue\",\"black\",\"orange\",\"orange\",\"cyan\",\"cyan\",\"yellow\",\"magenta\",\"orange\",\"green\",\"black\",\"yellow\",\"red\",\"cyan\",\"green\"],\"phrase\":[\"Can I get back with my ex even though she is pregn\",\"What is the best way to become an arms dealer in t\",\"Why doesn't Japan contribute to peace and prosperi\",\"Which is the best Panasonic air conditioner servic\",\"What did ancient Egyptians believe about the after\",\"How does one prepare for the RBI grade B officers \",\"Which institutions in Kolkata give coaching for en\",\"Will omar bravo be in fifa 17?\\n\",\"What are the pros and cons of arranged marriages?\\n\",\"What will happen if all the vegetable dies?\\n\",\"Why do people hate hypocrites?\\n\",\"What do you consider poor, middle class, wealthy a\",\"How do I concentrate on my studies?\\n\",\"What is new age psychobabble?\\n\",\"How can you tell if your man is cheating even if h\",\"Can you see yourself during lucid dreaming?\\n\",\"Which browser is most safe in terms of privacy and\",\"Can Google Assistant run on OnePlus 3T?\\n\",\"Apart from the VW Vento / Polo and Skoda Rapid, ar\",\"What is Panera Bread?\\n\",\"Do athletes live longer and healthier? If not, why\",\"Could a pitbull take on a wolf in a fight?\\n\",\"What has Obama done for Latinos/Hispanics?\\n\",\"How much is |x|^2?\\n\",\"How does operator.com work?\\n\",\"Why do people not make movies/talk about the Romas\",\"What were the major contributions of the political\",\"Company Secretaries (CS): How do I prepare for CS \",\"What are the job prospects of chemical engineers a\",\"I have never gone to a bank. How do I put money in\",\"What is the best strategy to prepare for the GATE \",\"Who is this porn star?\\n\",\"Why are specs & sunglasses so expensive?\\n\",\"I installed the movie torrent with Ultra XVid Code\",\"Can we ride scootry with learning lisence age of 1\",\"Two cards were drawn, without replacement, from a \",\"How much money is needed per month to live in indi\",\"Why do companies issue bonus shares?\\n\",\"Why are Iranians and Afghans considered white Amer\",\"Could mumps cause deafness?\\n\",\"What is meaning of sadaka?\\n\",\"What should I know before starting a YouTube caree\",\"Is the ITI College Principal is gazetted officer?\\n\",\"How do you feel now that Donald Trump is now the P\",\"What is the difference between imperial units and \",\"What is the easiest way to do effective self hypno\",\"Why has China increased its involvement in the Syr\",\"From which year CBSE class 10th exam be reintroduc\",\"Is 1080p a Blu-ray?\\n\",\"Does using mirrors to concentrate thermal energy d\",\"How do I avoid attractions by phones?\\n\",\"What are some of the effects of education can you \",\"What are the characteristics of a Pisces Sun/Libra\",\"What is the most cost-effective option to ship pac\",\"Are red and blue complementary colors?\\n\",\"Is it possible to make a material that is a superc\",\"What is the best Shonen Jump manga?\\n\",\"Are Oracle and Cisco good companies for a new grad\",\"If lighting a match is considered a chemical chang\",\"Why is Hillary so afraid of Putin?\\n\",\"Which is the best book to study electronics basics\",\"What are the basics I should know before learning \",\"Can I use Cph4 on a day to day basis?\\n\",\"Is it safe when I buy things from China?\\n\",\"Why did some ethnic minorities support Brexit?\\n\",\"How much money has tinder made?\\n\",\"What is the limit?\\n\",\"Will browsing Facebook while connected to Tor reve\",\"If I get 68.4 percent in ftre 2016 class 10 then w\",\"No product market fit: change product or market fi\",\"What makes you sad about India?\\n\",\"How do I know if someone has read my messages on w\",\"Why there is a sound when we crack our knuckles?\\n\",\"Why do I only make friends with guys?\\n\",\"What is 'open-mindedness'?\\n\",\"What is the cause of carpal tunnel syndrome?\\n\",\"What is the difference between a \\\"slow cooker\\\" and\",\"What is Hillary Clinton's stance on nuclear energy\",\"Do IIT colleges require a caste validity for an ST\",\"How do I listen a song from you?\\n\",\"Why do so many Iranians immigrate to Canada?\\n\",\"What will happen to India-U.S. relations after Tru\",\"A program that stored five words in the memory the\",\"What are ways of joining to ISRO as engineer other\",\"Can Magneto defeat Hulk?\\n\",\"What time of year is it best to visit Singapore?\\n\",\"How do I study for ib?\\n\",\"What should I do if someone doesn't reply to my em\",\"How much does Manveer Singh Phogat gets for Dangal\",\"What is it like to be cannibal?\\n\",\"How can the Android app development companies help\",\"Who would you say is the most fun person in Israel\",\"How can one improve her figure and butt size witho\",\"As a company that provides travel agencies and tou\",\"What is the most beautiful thing you saw today?\\n\",\"Is gay flirting good?\\n\",\"Can I use Stripe in Europe?\\n\",\"Will Britain leaving the European Union lead to th\",\"Why are so many East Asian immigrants so averse to\",\"Why do we need computer networking?\\n\",\"What is retina detachment?\\n\",\"Why don't more bars have mechanical bulls?\\n\",\"How do I get better understanding of C++?\\n\",\"Which is the most profitable Porsche US dealer?\\n\",\"What are the best over the ear headphones for abou\",\"Is it true that the first kill is the hardest?\\n\",\"Which is best 32 inch led tv to buy below 20,000 I\",\"I am scoring 130/506 in FiitJEE aits part test adv\",\"What kind of websites are missing from the Interne\",\"What is the best way to use free time at IITB?\\n\",\"Is it possible for me to buy my first company usin\",\"What should I do to have sex with as many women as\",\"What is the scope of Executive MBA in India?\\n\",\"Which BMW models do not have a Hofmeister Kink?\\n\",\"What is yellow journalism?\\n\",\"Why do doctors charge uninsured patients 10 times \",\"Which one is the best public sector job or private\",\"Will social media ever help to spur on the US youn\",\"How should I know a video is 360 degree?\\n\",\"Is a practice manual sufficient for the CA Final I\",\"Career Advice: Being an Indian college student, ho\",\"What are the advantages and disadvantages of Li-Fi\",\"On Snapchat, I deleted someone. Can they re-add me\",\"Are there any cereals that taste good with water?\\n\",\"Why does a woman's vagina push a mans penis out?\\n\",\"What is the British word for bullpen?\\n\",\"How hard is it for international students to get a\",\"How did Revan build his foundation of his army in \",\"What is the best way to read a fictional book? Do \",\"How do you replace a ignition lock cylinder?\\n\",\"How can I prevent business failure?\\n\",\"How often do tides occur? What causes it?\\n\",\"How do I learn Calculus on my own?\\n\",\"What is the reason for Priyanka Gandhi not changin\",\"What should I eat when I'm sick with a cold or flu\",\"What is a Business Intelligence Analyst?\\n\",\"Which sports should I start to play to paticipate \",\"How should I prepare for Java fresher interview?\\n\",\"How different are cuisines of Arab countries?\\n\",\"What is the meaning of the phrase, all is fair in \",\"Why does Quora send me a notification that my ques\",\"What are the hardest obstacles to breaking into a \",\"What makes a falling snowflake large (or not)?\\n\",\"What is the compensation for Partners/Principals a\",\"What is the difference between an array and a vect\",\"If you kiss the NC State wolf do you become an NC \",\"Is it boring (from a social perspective) to live i\",\"What would have happened if in 1971 war all 93000 \",\"What are the easiest things to do while being abro\",\"Does getting root canal cause problem in speaking \",\"What is the definition of a truncated sentence and\",\"Would I look good with a nose ring? if yes which n\",\"What are the perks of working in Amazon?\\n\",\"How can we say that climate change does not bring \",\"What it is like to meet \\\"Shahid Kapoor\\\"?\\n\",\"How does it feel when you are dead?\\n\",\"Which is the best juicer, grinder or mixer in Indi\",\"How do I learn to think more logically?\\n\",\"Which movie has the best beginning ever?\\n\",\"Which laws been enacted to prevent family members \",\"What is iPhone 6s plus cost present?\\n\",\"What is Ohm's law and amperage I?\\n\",\"What is the nicest thing a stranger has done for y\",\"Why do some heroic people who do good things choos\",\"How will Hindus react if Babri Masjid is reconstru\",\"R2I - How did you plan R2I from US if you own the \",\"How can I master C programming in 7 days?\\n\",\"What is the right way to clean ear wax?\\n\",\"What are some good games to play during class?\\n\",\"Is it possible to hack WhatsApp messenger?\\n\",\"Why do airplanes carry more weight than helicopter\",\"Shaving: Do electric shavers work better than manu\",\"Has anyone benefited, health-wise, from essential \",\"Can Students at Hogwarts have sex while there? Doe\",\"How can we enhance our efficiency with Yoga?\\n\",\"What are the best app review sites and blogs?\\n\",\"Can two companies be registered on the same addres\",\"Is it true that as per Indian law, one can't be ha\",\"Who would win in a war between Bangladesh and Myan\",\"How do you reply when someone thanks you for forgi\",\"Who would win a fight between wolverine and Batman\",\"What is one thing you wish for yourself in the fut\",\"Can you cry underwater?\\n\",\"What's the difference between SSL, TLS, and HTTPS?\",\"Why are antigravity muscles more affected in Upper\",\"In order to buy a house, does one have to rent fir\",\"What is the probability of choosing a pink ball fr\",\"Which is the best car to get under 8 lakhs?\\n\",\"Why isn't China's role in the Korean and Vietnam w\",\"What is the Laplace transform of t^(1/2) * e^ (-1/\",\"To those who told a big lie to their parents and t\",\"What is runtime polymorphism or dynamic method dis\",\"I had sex 5 days after my period, what are the cha\",\"How would you describe yourself in one tweet?\\n\",\"How do fairy tales influence creativity in humans?\",\"How do I add delay() and sound() in Dev-C++?\\n\",\"What is the pathophysiology of ADHD?\\n\",\"What are the top benefits of life insurance polici\",\"Can I get a TV from Bang & Olufsen for under $2500\",\"How is the life of an ece student at dayananda sag\",\"What is meditation?\\n\",\"Were the Ancient Greeks scientists, or just philos\",\"How does Google authenticator work?\\n\",\"Wouldn't it be better if kids were allowed to focu\",\"Can you apply for a certificate on Coursera/edX af\",\"Why do Quora engineers use large monitors?\\n\",\"How do I start an online clothing business?\\n\",\"How will the government meet the challenges of acc\",\"I saw a charge on my credit card under from a comp\",\"What is the difference between socialization and r\",\"How would the world be different if everyone spoke\",\"Who receives the fares in a cab service?\\n\",\"As a non-resident alien doing a summer internship \",\"Which is the best camera smartphone under 20k?\\n\",\"What does it mean to dream about someone before th\",\"What are the subjects in which I can apply for my \",\"What are the basics of Jainism?\\n\",\"What is the Difference between existential nihilis\",\"How can I see my girlfriend's WhatsApp chat messag\",\"What are some ways to enjoy sex with my newly marr\",\"How can I study the Bible?\\n\",\"How can someone be a friend, girlfriend, wife and \",\"What are the Snapchat usernames of punjabi celebri\",\"What is 1/2 times 1/2?\\n\",\"Where does the word restaurant come from and what \",\"What can I do with a computational linguistics deg\",\"Will trump win as president?\\n\",\"What impact will AI eventually have on how we plan\",\"Why is eating too unhealthy?\\n\",\"What if the Syrian civil war never happened?\\n\",\"How do the teachings, learning, followership and/o\",\"Did you ever been in a group of stupid people?\\n\",\"What are the multiple types of social issues?\\n\",\"Where can I find beginner NodeJS tutorials that us\",\"If I got a 7.4 CGPA in the SA1 10 class, then can \",\"Which the best time table for 10th class exams pre\",\"Elite Escorts in DHA Lahore?\\n\",\"My ex bf says he doesn't have feelings for me righ\",\"What are the questions in the interview for a fres\",\"What do you think are some of benefits to humans f\",\"Which one is the best medical college hostel in in\",\"Have you lived in a tiny house?\\n\",\"What are some things new employees should know goi\",\"Where can I hire high pressure cleaning service in\",\"How many Bollywood Actresses consume alcohol in re\",\"How does PayU earn money?\\n\",\"Is it possible to change your personality as a chi\",\"How do I apply to London School of Economics as an\",\"How do I build a profile to get accepted into a st\",\"How can I get real ghost stories?\\n\",\"Is it possible to hack NASA's New Horizons satelli\",\"What is the best way of getting good at answering \",\"How would you deal with jerks?\\n\",\"How can I do internship in Accenture India?\\n\",\"Why would an Indian girl not want to get married?\\n\",\"My WhatsApp chat backup got deleted from Google, I\",\"Is going to college really worth it or just a wast\",\"How many prophets did God send to the Jews?\\n\",\"What is the relation and difference between Artifi\",\"If you don\\u2019t have a good network, what would be th\",\"What are the best place to visit in Rio de Janeiro\",\"Which is the best college for PG in Cyber Security\",\"Which are the best English serials?\\n\",\"How do you say \\u201cWhat\\u2019s up?\\u201d in Chinese?\\n\",\"Is it bad to take expired fish oil pills because t\",\"Will there ever be a genuine Authoritarian candida\",\"Is World War III on its way right now?\\n\",\"How can you use time formats in Excel?\\n\",\"What is the best antivirus for Windows 8?\\n\",\"Why do people like Metal/Hard rock so much?\\n\",\"What are the worst smelling things in the world?\\n\",\"Could someone explain the following electives at N\",\"What's a funny thing?\\n\",\"What are the main reason of cracks?\\n\",\"How do I hitchhike in Europe?\\n\",\"What is the physical significance of quantum mecha\",\"How do we get dead people off business junk mail l\",\"Who among the four in the picture given in descrip\",\"How do I know if I authentically, genuinely, hones\",\"On average, how long does it take a letter mail fr\",\"When will One Piece have episode 517 dubbed?\\n\",\"What should I do if I fell in love with my best fr\",\"How do criminal lawyers sleep at night even when t\",\"Can I get refund for Tatkal e-ticket because train\",\"How can I buy the new Macbook 12\\\" M7 512GB model i\",\"What are the different e-governance methods used b\",\"How do I run smoother GTA V? I have intel core i3 \",\"What is the use of tanpura?\\n\",\"What are the Snapchat usernames of celebrities?\\n\",\"Which is better- cracking gate and going for IIT/i\",\"Can you lose weight without exercising?\\n\",\"What is the best way to make life more interesting\",\"Is Delhi a must for UPSC coaching?\\n\",\"Which are the best colleges for electronics and in\",\"I have been a .Net developer for over 2 years and \",\"Has a smartphone ever been taken to space? If yes \",\"What questions should I ask my boyfriend, we are b\",\"How do I delete a contact blocked in WhatsApp?\\n\",\"Is it a good time to buy real estate in Cyprus?\\n\",\"South India: Why is South India much more develope\",\"What is the formula for a hydrocarbon?\\n\",\"What if an alien comes and tells us that the physi\",\"What are the pros & cons of democracy?\\n\",\"I'm 16 years old and wanted to lose weight and bod\",\"Can I add more peers to the torrent for max speed \",\"What are the best neighborhoods to Airbnb in Chica\",\"What we will get in mahabalipuram beach sunrise or\",\"How fast can you accelerate to the speed of light?\",\"What is the difference between R-squared and Adjus\",\"How many times can women reach orgasm in a hour an\",\"Why didn't Johor, Batam & Singapore integrate more\",\"Which products are more profitable in online sell?\",\"How do I get rid of muscle?\\n\",\"What is the process of directing and casting child\",\"Is the 7th pay commission needed?\\n\",\"What are the best games that are compatible on a C\",\"What was the significance of the battle of Somme, \",\"How do you see Pakistan PM Nawaz Sharif's speech a\",\"Where can I publish my apps?\\n\",\"What was your darkest moment?\\n\",\"Why does the UK have an unwritten Constitution?\\n\",\"What are the necessary steps in documenting a mobi\",\"Why was life created? Why was life so painful?\\n\",\"How can I use explainer video to review products o\",\"What is difference between residue and error?\\n\",\"If 6.5 to 8.5 will be the safe level of pH value i\",\"I am 23 and don't know what I want. My life is ver\",\"What are your three favorite websites for reading?\",\"Why do people choose to be a GAY?\\n\",\"What is the process of death?\\n\",\"Why does light red deserve the special name \\\"pink\\\"\",\"Who are millennials?\\n\",\"What it's like doing CA articleship from Big 4s?\\n\",\"What is the most important right or freedom guaran\",\"Why do some porn stars have unprotected sex?\\n\",\"What are my reasons to live?\\n\",\"How small would a planet need to be to plainly see\",\"Some religion speaks of burning in hell after deat\",\"What does it feel like to be an IITian?\\n\",\"How does cognitive behavioural therapy work?\\n\",\"Why should you visit India?\\n\",\"I lost my Google account information. How can I re\",\"What if I port a number from Airtel to Vodafone in\",\"What are the reasons why time travel is impossible\",\"Will my iPhone alarm still go off if \\\"Do Not Distu\",\"Did South Korea cheat during the 2014 Asian Games?\",\"Take the minimum lethal volume of a gaz, put it in\",\"\\\"How to improve Project Management skills?\\\"\\n\",\"When you were small, did you ever think that your \",\"Where did the pointy \\\"S\\\" symbol come from?\\n\",\"How does it feels like to have a rich boyfriend?\\n\",\"What have you used your intelligence for?\\n\",\"What is a freewheeling diode?\\n\",\"How do we derive pi?\\n\",\"What is the importance of communication skills in \",\"How can I put icons on YouTube video titles? Also \",\"What does the phrase \\\"resonate with me\\\" mean?\\n\",\"How many types do we have of Manual testing?\\n\",\"What are IBAN numbers?\\n\",\"What is regret?\\n\",\"As a student specializing in English language, lit\",\"What is the corporate culture like at Corning? How\",\"How can I convert jazz standards to jazz guitar so\",\"How good was the surgical strike by Indian Army on\",\"What recipes are most conducive to romance?\\n\",\"What are the unknown facts about Tamil people whic\",\"Where do I find the most beautiful woman in the wo\",\"What does the grey phone icon mean on the messenge\",\"How do I share 360\\u00b0 photos on WhatsApp?\\n\",\"What is the difference between working stress meth\",\"What are the opportunities for an MBA in finance?\\n\",\"Can you patent clothing or fashion designs?\\n\",\"My in laws are apologists for Nazi war criminals a\",\"Which is the safest city in India for women?\\n\",\"What horse breed were commonly used during the \\\"Wi\",\"Is it weird to sometimes feel almost overwhelmed b\",\"Can anyone please list all the SAP SD topics a per\",\"In the filling of ibps application I put martial s\",\"In a restaurant, what are the different types of t\",\"Why does amir khan never go to any filmy awards fu\",\"What is a good inpatient drug and alcohol rehab ce\",\"Why does UV light cause contamination on optics, b\",\"How do I invest in mutual funds in India?\\n\",\"How comfortable are you with failure?\\n\",\"What skills are required to become a quant?\\n\",\"Why do startups announce fundraising?\\n\",\"What is your review of Amazon Video?\\n\",\"Why there is no team from Tamil nadu in pro kabbad\",\"How do I auto forward texts from my Verizon phone \",\"How do the Chinese people view Americans?\\n\",\"What is virgin or virginity?\\n\",\"What are the different ways of submitting a Reques\",\"Can a high school teacher legally force students t\",\"Why does water droplets form on the outer surface \",\"Which mammals have dark circles around eyes beside\",\"How do each components of a printer work?\\n\",\"What are some foods beginning with the letter W?\\n\",\"What are symptoms of a bad transmission control mo\",\"How do astronauts in ISS vote for Presidential ele\",\"What is the difference between Aim and Goal?\\n\",\"What is AT & C?\\n\",\"Who was Jackson Pollock? Was he mentally ill?\\n\",\"How do I make good vine edits?\\n\",\"How can I cut my penis?\\n\",\"How can I change my Quora profile photo?\\n\",\"My husband was here seeking asylum before we got m\",\"Is it good to use Laravel to develop a web app wit\",\"I have a mild sore throat an headache. What is tha\",\"When will a working nintendo 3DS emulator release \",\"What do we know about the health effects of vaping\",\"INSEAD: Worth the investment?\\n\",\"How is long rides in royal Enfield classic 350?\\n\",\"What famous boxers have participated on Dancing wi\",\"Will season 10 of Big Bang Theory be the final sea\",\"Can I crack KVPY (SX) with only three months left \",\"What are some little-known facts from World War II\",\"What is the most unique way of exam cheating you'v\",\"When was the last time a slam dunk broke a basketb\",\"What should I do for my excessive hair loss?\\n\",\"How do I find people's psychological weakness?\\n\",\"What is the difference between Awareness and Consc\",\"I hate everything that people around me like. Is i\",\"I think I am pretty good at thinking of a business\",\"How do you determine the thickness of a footing ba\",\"Why does vapours are formed when we pressurize alc\",\"Is it easy to adjust in German Universities withou\",\"What is UNIX and UNIX-like?\\n\",\"What is the best way to promote www.dorkyard.com?\\n\",\"What's up in Addis Abeba tonight?\\n\",\"Is there any point to going to college if you have\",\"How much would it cost to construct 800 sqft area \",\"What is an ideal wife? What is an ideal husband? W\",\"What information does port scanning provide?\\n\",\"What are the application of quasicrystals?\\n\",\"What is the determinant of the inverse of a matrix\",\"How is Brad Pitt in \\\"real Life\\\"?\\n\",\"I have a 3 yr bachelor's degree in Computer Scienc\",\"Demonetisation is good for county like India or no\",\"My parents think I am rude for being so introverte\",\"How many people have jumped off the Golden Gate br\",\"What are Osho's views on Islam?\\n\",\"Why does the government regulate health care?\\n\",\"Which phone has the best sound recording quality?\\n\",\"What is the best part of your life, and why is it \",\"Which is better hair wax or hair clay?\\n\",\"How do I charge my motorcycle battery?\\n\",\"What are the updates we get after miui 8.0.6.0?\\n\",\"Why does Robinhood need to bypass the App Store?\\n\",\"Which is a better route, Alipiri or Sri Vaari?\\n\",\"How much extra would it cost if Apple manufactured\",\"When will the next recession be?\\n\",\"What are some arguments in support of electing Don\",\"What does Russia want with Ukraine?\\n\",\"What is the difference between a recorder (block f\",\"What is the meaning of random number?\\n\",\"Which one is good for health: tea or coffee?\\n\",\"Is Texas good state for non-resident to register a\",\"What is kirchoff's law?\\n\",\"Is it wrong for a family member to keep making com\",\"My parents are forcing to marry a girl of their ch\",\"Which is better, Windows+Linux or OSX?\\n\",\"Why aren\\u2019t Christians that pray to/have a relation\",\"How much TDS will I have to pay for an RD account \",\"What is the meaning of thematic connection?\\n\",\"How should you prepare to take your maneuverabilit\",\"What are the best materials/videos/resources to ge\",\"Can a \\\"dirty\\\" finish be added back to jeans?\\n\",\"Why does my dog keep whining at night?\\n\",\"Is it bad to turn off my PC using the power button\",\"What is image processing?\\n\",\"I went to school with mostly black kids, they bull\",\"Does Donald Trump actually think he can become Pre\",\"Which are the 5 best movies you have ever seen?\\n\",\"How do I get traffic to excursions travel website?\",\"Where can I download the Android game Leo's Fortun\",\"How do I get more followers and upvotes on Quora?\\n\",\"What is a factory reset on a phone?\\n\",\"Which phone should I buy if my budget is 12000?\\n\",\"I have GPU implementation as a graduation project.\",\"What are the libertarian views on the Antarctic Tr\",\"What would the world be like if it were ruled by a\",\"How do you choose your first bank?\\n\",\"Who runs berkuliah.com?\\n\",\"What does Godel's incompleteness theorem mean for \",\"How do I delete a Gmail account?\\n\",\"If my ultimate goal is to become a vegan, should I\",\"Did the US win the war in Afghanistan?\\n\",\"How can I become a good engineering student?\\n\",\"What are some ways to increase intuition?\\n\",\"What causes depression in humans?\\n\",\"How can I control my anxiety and worries?\\n\",\"How can we jump in between the working regions of \",\"How do I stop loving someone who loves me?\\n\",\"Can personality and insecurity create a liar?\\n\",\"What is the best country and university to do a Ph\",\"How do I edit a video offline?\\n\",\"What is the rent of kiosk in an upscale mall?\\n\",\"What should I start reading if I want to attempt t\",\"Which is the best anti-virus for computers?\\n\",\"Does food unite people?\\n\",\"What do you like most about Internet?\\n\",\"What is a good model of federalism in the Philippi\",\"How do you know if a girl secretly loves you?\\n\",\"Who is the most annoying fictional character you h\",\"How do you feel when your question is unanswered o\",\"Did early humans know how babies were made?\\n\",\"If I cancel xfinity, how can I sign up as a new cu\",\"Are there any TV series similar to House MD?\\n\",\"What you need to know before buying furniture for \",\"Have you ever had a dream happen in reality?\\n\",\"Is dark matter just a scientific theory or has its\",\"How can you increase your tolerance for pain?\\n\",\"How many logical fallacies are there?\\n\",\"How do buttercream icing frosting separate?\\n\",\"Which is the cheapest cinema hall of India?\\n\",\"What do you think would be a good gre score?\\n\",\"What is the best way to update Xiaomi redmi 3 to M\",\"What does toe jam cheese taste like?\\n\",\"How do I know if a YouTube video is copyrighted?\\n\",\"How should I start a business reselling shoes?\\n\",\"How do I hire a mobile app development company?\\n\",\"What is paras pathar?\\n\",\"How is the word \\\"colony\\\" used in a sentence?\\n\",\"What is Rebecca Fugate known for?\\n\",\"What should I consider before starting my consulta\",\"Do you feel that many attractive women get away wi\",\"Why do I feel so much guilt for kissing a girl?\\n\",\"What are some good tutorials for learning Blender?\",\"Is it deceitful to befriend someone in the hopes t\",\"Who do you think BJP will put as a candidate for t\",\"Which protein supplement is best for gym to gain w\",\"What is your review of KVPY SX/SB 2016?\\n\",\"How do I get people's attention for my work?\\n\",\"What are some of your own personal stories and exp\",\"If salt concentration of the sea(3%) were differen\",\"What is the chemical name for mothballs? How was i\",\"Vitamin D receptors in the Testes?\\n\",\"How do I lose weight without working out?\\n\",\"Where can I watch anime?\\n\",\"What is BusyBox used for?\\n\",\"What would be a good desktop computer for software\",\"What are your top five favorite books and why?\\n\",\"What are some good Harry/Ginny fanfiction?\\n\",\"What are the pros and cons of having sex during pe\",\"Which device will you enjoy watching movies in: a \",\"Will there be \\\"faithless\\\" electors this election?\\n\",\"Is Donald Trump an undercover democrat?\\n\",\"Why am I the way I am?\\n\",\"Why do some women get their nipples pierced?\\n\",\"What do Delhi University girls (especially North C\",\"What is the name of this TV series?\\n\",\"My salary is below the Basic Exemption Limit, yet \",\"What is a foliated rock?\\n\",\"What are some of the best books to start learning \",\"How should I prepare for IIT-JEE 2018?\\n\",\"How do unions work?\\n\",\"Can we give neet coaching in class 11?\\n\",\"Which is the best dish TV connection in Hyderabad?\",\"How can you train a Doberman/Lab mix?\\n\",\"How do you reduce stress at work?\\n\",\"What is the best algorithm for finding the number \",\"How can I earn $250 in 2 months?\\n\",\"Why did GE buy NBC?\\n\",\"What is the highest level of c?\\n\",\"How do you mash potatoes without a masher? What el\",\"How difficult is it to learn Python?\\n\",\"How do you convert years into seconds?\\n\",\"How do you view bisexuality?\\n\",\"What is information technology? What are some exam\",\"Why are Altoids so strong?\\n\",\"How effective is email marketing?\\n\",\"Why does my tutor keep winding me up. He says he i\",\"How can I start my Tok essay which is about accura\",\"How do I repair my corrupt memory card?\\n\",\"I have 3 years to prepare for IIT JAM Physics. How\",\"What are the best Instagram hack tools that have n\",\"I am studing interior design. What are some good i\",\"What are some stupid jokes that make you laugh?\\n\",\"What are the factors affecting Real estate investm\",\"How can I get rid of white dry spot on my face? It\",\"What is it like to have an ugly wife/partner?\\n\",\"What do you love most about your life and why?\\n\",\"In the unlikely event that the Electoral College t\",\"How is life as an Engineer?\\n\",\"Where and why are the imaginary numbers used?\\n\",\"What are some good hypo-allergenic lipsticks?\\n\",\"Did the United Nations play a part in the divide o\",\"When and Why did America become a world power?\\n\",\"What are some recipes using Hormel Black Label Ham\",\"Which is the best company to invest shares on Nove\",\"The man I'm about 2 marry says when I have my peri\",\"What can be the best answer for why finance?\\n\",\"What are the best facts about the universe?\\n\",\"What's the sweetest thing you did for a bestfriend\",\"What is the difference between techno and trance m\",\"TV Sitcoms: Why do English comedy shows have peopl\",\"Does percentile system would affect neet 1 student\",\"Is there Uber in Valencia, Madrid and Barcelona?\\n\",\"Have real-life siblings ever shot intimate scenes \",\"How should I improve my writing skill for blogging\",\"Can cold weather affect a menstrual cycle?\\n\",\"How can we earn money online while studying?\\n\",\"Can a tablet keyboard be used on any kind of table\",\"What are the Upcoming development projects in Chha\",\"Where can I buy cheap Twitter followers?\\n\",\"Why do passengers from aircraft are not given a bu\",\"When should I tell my crush I like her?\\n\",\"Why does Pakistan have a better image and reputati\",\"What are Andrea Pirlo's strengths as a midfielder?\",\"From a point in space billions of light years away\",\"Will Medicaid pay for electrologist to do the shav\",\"Why do technical employees despise sales people so\",\"What are the best freelance websites for C#?\\n\",\"Will I be successful without educations?\\n\",\"How can I learn about cars?\\n\",\"What is the best question asked in an interview?\\n\",\"Why there is so much hatred against Brahmins in In\",\"How do I learn to enter journal entries online in \",\"Will CS be issuing a PR message for Boston?\\n\",\"Why do some people 'hate' drugs or people who ever\",\"How do I know my passion? What is my talent and wh\",\"How do pessimists and optimists differ?\\n\",\"How many pulleys did it take for Archimedes to lif\",\"What is the best course after 12th for a medical s\",\"What are the steps that I should follow to get in \",\"Where was the boston marathon?\\n\",\"What is it like to be in or around a bomb blast?\\n\",\"Will Trump destroy international US-companies thro\",\"Should celebrities have the right to voice their o\",\"Can I say that: \\\"A battery can be seem as a capaci\",\"What is it like to be an ENTP?\\n\",\"How do I start designing on glass?\\n\",\"What is the market risk premium formula?\\n\",\"How can I pay the parking meter if I have no coins\",\"Is it true that Obama has a secret son named \\\"Luth\",\"Which is the best coaching for IAS in up?\\n\",\"How big is the equity funding market in North Amer\",\"Which are the good government medical colleges in \",\"How do I control my hair fall?\\n\",\"Is it really worth creating Shopify themes?\\n\",\"What can cause knee pain? It only hurts when I sta\",\"Where can you find a list of common 9 letter words\",\"NSFW: Is this penis color normal or should I see a\",\"Why do most women remove the hair from their arm p\",\"Which processor is better (faster/more efficient),\",\"Which two statements are true regarding views in s\",\"What is the easiest and quickest Indian food recip\",\"What are the best local SEO companies in India?\\n\",\"How do I get rid of adult content on my Quora feed\",\"Can the zombie fungi attack humans as well?\\n\",\"If I wanted to learn about the Roman Empire,what w\",\"What are the key differences between LXDE and XFCE\",\"Can people see the sellers real name, e-mail addre\",\"Should I still watch The Matrix movie?\\n\",\"Is there any truth to the rumor that the youngest \",\"Is it ok that I don't want to hang out with my fam\",\"I am in class 9. If i want to crack IIT JEE, then \",\"Will Obama's gang stalking/surveillance program be\",\"What are some good songs to lyric text prank a fri\",\"Where can I get best quality video DJ for party in\",\"How long does it take for your hair to grow?\\n\",\"Should I update my Redmi 3s from MIUI 7 to MIUI 8?\",\"How do muscles work?\\n\",\"WHAT IS THE BEST ROUT FOR NEPAL PASUPATI NATH TEMP\",\"How to make a website similar to feedwiser.com in \",\"Why does India so scared of CPEC?\\n\",\"What did your first sex feel like as a girl?\\n\",\"In International ODI/T20 cricket matches, if a bat\",\"Why can humans feel acceleration, but not constant\",\"Can the Microsoft Surface Pro 4 run AutoCAD?\\n\",\"What are the differences between stock Crown Victo\",\"What are the good ways to download Lynda.com's tut\",\"How much is the average salary package for a 1.5 y\",\"How can you reduce the barriers of communication?\\n\",\"Why would someone use Instagram Stories over Snapc\",\"Whiskey: How many 'shots' are in a fifth of Jack D\",\"What might happen now that President-elect Donald \",\"How do I write a waiver letter for school?\\n\",\"I am interested in persuing ma industrial psycholo\",\"Does modafinil shows up on a drug test? Because my\",\"Is it possible to get high off Vyvanse?\\n\",\"Is an agnostic necessarily a skeptic, and how?\\n\",\"Where can I get best support in Sydney for buying \",\"What are the duties of a lieutenant in Indian army\",\"Why is smileys not used on Quora?\\n\",\"What does it feel like for a man when someone who \",\"How does post graduation permit impact .lets say I\",\"Online Payment Gateways and Processing: What is th\",\"What are the best books to learn c programing lang\",\"Solid State Physics: What is The Theory of Alloys?\",\"How do I fill in my first name in a PAN card dupli\",\"Why is egg yolk not good for you?\\n\",\"Anatomy of Female Pelvis: Do women really have an \",\"How much does it cost to develop mobile applicatio\",\"Who is the most honest Game of Thrones character?\\n\",\"What is a high quality Apple MacBook Air charger?\\n\",\"Where and how is the WWE championship belt made?\\n\",\"What is green communication?\\n\",\"I have been a good student since chiild hood but j\",\"I'm solving exercises of artificial neural network\",\"Compared to your own compensation, and in consider\",\"How can I keep browsing Quora forever?\\n\",\"Having built web stuff the old way (PHP/MySQL) bac\",\"Is our new currency note of Rs.2000 equipped with \",\"What's the best way to join a startup in DC?\\n\",\"What would happen if we added a second Earth of eq\",\"When will piracy on Android stop?\\n\",\"What do you mean by executive consultant and suppo\",\"Why do I always feel like I am missing something?\\n\",\"What does a user see when he/she gets a new messag\",\"How can I become a web developer?\\n\",\"Is there any good alternative softwares to Tally?\\n\",\"Would you have sex during period?\\n\",\"Are there prominent Bangladeshi Hindus?\\n\",\"I have registered for PhD (no NET) (phy) in 2013, \",\"I changed my name, but the person did a mistake. M\",\"At what age do your breasts stop growing?\\n\",\"How do I get a girl's phone number in a library?\\n\",\"I am into a habit of over thinking things. How do \",\"What is the average salary of a civil engineer?\\n\",\"What is the difference between rote learning vs me\",\"What are the ways to compete in the Olympics in 20\",\"What trivia (and/or little-known facts) do you fin\",\"Xiaomi Redmi note 3: Which is the best colour to b\",\"What does \\\" the Hadamard Perron theorem\\\" means?\\n\",\"Is there a way to see the viewing history and chat\",\"What is the best place for trekking in Goa?\\n\",\"How does an instant messenger work?\\n\",\"What are the disadvantages of the World Trade Orga\",\"Why does the US military not use AK series rifles?\",\"Does Moto m have gorilla glass?\\n\",\"What is the hierarchy of an associate consultant a\",\"What are some major landforms in Texas, and how do\",\"What other jobs can a medical degree holder do mea\",\"MY HP DEXTOP DOESNOT CONNECT WIFI WHY?\\n\",\"How can I get motivated to workout?\\n\",\"What should I gift it to my mom on her birthday?\\n\",\"Which is the best video you have ever seen?\\n\",\"I was selected in campus and was issued a joining \",\"What makes a poem a good way to express emotions? \",\"What would happen if I cut down a tree outside my \",\"Can you make money in Amway?\\n\",\"Body Weight: How many pounds can I gain every week\",\"What are the impacts (both positive & negative) of\",\"I forgot the password which I used to login n n lo\",\"What are the best websites for career?\\n\",\"What is your favourite episode of the office (USA)\",\"Why is time slower down near heavy objects?\\n\",\"How do l update any version after rooting the mobi\",\"Why is 3 am called the witching hour?\\n\",\"How do I run a shell script from Java code?\\n\",\"What are the advertising campaigns of 2011?\\n\",\"Should I opt for computer science if I don't take \",\"What are the polymers of protein?\\n\",\"How much better will the JWST be than Hubble?\\n\",\"What are the greatest examples of absence of mind?\",\"How can I understand the STOCK market from the bas\",\"How do I make Gazpacho?\\n\",\"What is the typical role of a brand manager?\\n\",\"Who are the top 5 hottest women ever?\\n\",\"What is the name of the game that Aamir Khan was r\",\"How long does it take to learn dance?\\n\",\"What's the funniest thing that's happened to you a\",\"Why are metals malleable and ductile?\\n\",\"List of national daily in India?\\n\",\"Are Volvos actually safer than comparable cars?\\n\",\"Can you tell who has been looking at your Instagra\",\"A ball dropped from the roof of a building takes 4\",\"What percentage of Hillary Clinton's supporters ha\",\"Do you think you are beautiful?\\n\",\"Which are the free email marketing tools?\\n\",\"What topic of discussion do people hate the most? \",\"What is the point in having hyper-politicised stud\",\"Why Steve Jobs is considered as innovator?\\n\",\"How long would it take an average programmer to wr\",\"Why are conservatives defending Holly Fisher? (see\",\"What is so important about Adam Smith's pin factor\",\"What is the Arizona bark scorpion, and how do anim\",\"How do I stop smoking cigarettes?\\n\",\"What are the functions of a computer's motherboard\",\"How can tea bags help for styes?\\n\",\"How can I get a patent for my really effective inn\",\"Can India ever become 'Sone Ki Chidiya' again?\\n\",\"Is there any way to play Android games LAN multipl\",\"Why should I ask my first question?\\n\",\"Who are the top writers on Hinduism on Quora? Who \",\"How do I wake up at 4:00 A.M.?\\n\",\"Why is Quora moderation collapsing all my answers?\",\"In an honest assessment, what do you think of Trum\",\"What type of bonding is present in a coordinate bo\",\"Is it possible to delete your Wikipedia account hi\",\"I'm a +2 CBSE non-medical student. Is there any pr\",\"Are there any limitations as to setting up a forei\",\"How will the drought in California affect its econ\",\"What is Informatica online training?\\n\",\"Is it compulsory for a Web designer and developer \",\"How could the US realistically pay off its debt?\\n\",\"Who is Barry Soetoro?\\n\",\"How do I solve [math]2x^3-x^2+11x+3=0[/math]?\\n\",\"What are some hobbies couples can do at home?\\n\",\"How have meerkats adapted to the desert?\\n\",\"What causes dizziness when you lay down?\\n\",\"What should one do after a civil engineering degre\",\"What are the advantages of hiring skip bins servic\",\"Why is it necessary that singers lip-sync?\\n\",\"How can I turn off the screen overlay detected on \",\"How do you clean or polish a pair of Woodland shoe\",\"What are some classes you wish you took in high sc\",\"What is the formula of [math](a+b)^3[/math]?\\n\",\"What is it like to commit yourself to a psychiatri\",\"Is there any way to slow or reverse the late effec\",\"What would the implications be if we discovered th\",\"Any other program to help on code contribution for\",\"What is the bond order of [math]H_2[/math]?\\n\",\"What is the best way to create a website without c\",\"What were some causes and effects of the French Re\",\"What are some catchy headlines for a dating site?\\n\",\"Should I get Company of Heroes, World in Conflict \",\"How do I remove a person from a group in Skype?\\n\",\"Why was Manmohan Singh briefed by PM Modi after su\",\"Does anybody want to learn Chinese?\\n\",\"Is Xiaomi going the Nokia way to oblivion?\\n\",\"Should I buy hp 17.3 AMD laptop or lenovo 17.3 i5 \",\"Which is better a government job or a software job\",\"How can the word \\\"credulity\\\" be used in a sentence\",\"Does uber track time on app?\\n\",\"How do I get over direct rejection?\\n\",\"How can any institute get an ISO certificate?\\n\",\"What are the best pranks?\\n\",\"Are non-solicit agreements enforceable if the pers\",\"Which phone is best in 2016 for a 18 years boy my \",\"What is the definition of an archetypal hero?\\n\",\"Why are some \\\"ugly\\\" people still very attractive?\\n\",\"What are the chances of Donald Trump's impeachment\",\"What would a society based on laws enforcing only \",\"What is the full form of \\\"veto\\\" power?\\n\",\"How much do people get paid to do a TED talk?\\n\",\"What does it mean to say \\\"enriching herself off of\",\"How can I be more persuasive at work?\\n\",\"What is the corporate culture like at National Bev\",\"What is the fastest way to get a PAN card?\\n\",\"Who will win in America presidential elections in \",\"How do I solve this differential problem?\\n\",\"How is Banjara's Saffron Facial Kit used?\\n\",\"How do you understand life?\\n\",\"Will an MS from NUS in electrical engineering prov\",\"How does one create a strong password? Any tips?\\n\",\"Who was the best dressed at the 2016 Emmy's?\\n\",\"What is the cost of manufacturing a SIM card?\\n\",\"Are you tolerant?\\n\",\"Is [math]\\\\{1,2,3\\\\}[/math] a compact subset of a me\",\"What kind of energy is involved in hearing and vis\",\"What happened with Lehman Brothers?\\n\",\"What is a good web page publisher?\\n\",\"Why does eating radishes cause diarrhea?\\n\",\"How do I encrypt the data on my Android phone?\\n\",\"If there were an Oscar for \\\"Best Line in a Movie\\\",\",\"Why are tyres black?\\n\",\"What is the best way to unlock a Motorola Droid Bi\",\"Is a $45 a month job worth the experience?\\n\",\"Should I settle in Canada or Japan?\\n\",\"How is the appraisal process in Accenture? How wil\",\"How does sand turn into glass?\\n\",\"What effect will increased automation of jobs and \",\"I am 25 years old Indian guy, want to settle in Ne\",\"What are some Raksha Bandhan gift suggestions for \",\"How do I write a multi-dimensional villain that is\",\"Why is there no nucleus in a red blood cell?\\n\",\"Why do Quora allow anonymous fake questions from A\",\"Is it possible to merge a foursquare venue into a \",\"How do I find out if I have Siri on my phone?\\n\",\"Why do I feel like I'm not living my life?\\n\",\"What will happen to global stock market if Donald \",\"What makes weeds grow so much faster and easier th\",\"Do people with extremely high IQ need higher sugar\",\"What should teaching assistants do?\\n\",\"Why is Perth one of the most liveable cities in th\",\"How do you get to the entrance for Resolution Cave\",\"How do I get involved in research as an undergradu\",\"If you have one option to remove anything, what wi\",\"What are the risk after angioplasty?\\n\",\"Why can't men read the signals women give off when\",\"How can a non-EU medical graduate get into residen\",\"How do I stay active?\\n\",\"I'm going to Paris. What is the equivalent \\\"neighb\",\"How do I get rid of dandruff, or at least prevent \",\"Is Medicaid going to pay for the electrologist for\",\"When Australia became a nation in 1901, Did aborig\",\"What is the difference between SSL and Sitelock?\\n\",\"What are some unsolved problems in deep machine le\",\"What's the difference between computer engineering\",\"Is it possible to get a decent job after completin\",\"What is the difference between MG & BG in railway \",\"How do I control an Arduino with a Raspberry Pi?\\n\",\"What is the best field to pursue MS after doing el\",\"What is the difference between Directx and graphic\",\"How do I wirelessly charge the electrical devices \",\"Can you upload Numbers sheets from iPad to Google \",\"What's the best movie franchise you have ever watc\",\"If light does not have mass, then how can it be ab\",\"Why is the book of Esther in the Bible?\\n\",\"What makes comic books worth reading?\\n\",\"What are the advantages of outsourcing property ma\",\"What is a Quora credit competition?\\n\",\"Are data analyst/data science jobs boring?\\n\",\"Why don't satellites crash into each other?\\n\",\"How do dermatologists remove blackheads?\\n\",\"How can I choose between my dad and my mom?\\n\",\"Can you really not change people?\\n\",\"Being a non believer of a spiritual entity, I have\",\"Is black coffee fattening? If so, what makes it fa\",\"The education system is outdated. What would you d\",\"Who are the founders of Quora?\\n\",\"What is it like to be a landlord?\\n\",\"How many stamps do I need to send a letter to germ\",\"My father just recently got married. His wife goes\",\"Which countries are best to migrate from the US?\\n\",\"Can any one tell me a basketball club in Bangalore\",\"How can Spotify download songs offline?\\n\",\"How do I make money online for free in Spain?\\n\",\"Why is Tornado Alley prone to tornadoes?\\n\",\"How does helium change the inhaler's voice?\\n\",\"What is a bedding ceremony in Game of Thrones?\\n\",\"What is it like living in former East Germany as a\",\"Did the USA or NATO commit any war crimes in Iraq?\",\"Why don't we capture terrorist and behead them?\\n\",\"What is your favorite quote (books, movies, people\",\"What mixes well with peach vodka?\\n\",\"Which Patanjali products contain cow urine?\\n\",\"Why are three phases denoted by RYB?\\n\",\"Where could I learn JavaScript online?\\n\",\"Is it appropriate to wear a sports bra simply to t\",\"What are the differences between Jenkins CI and Dr\",\"T right do you think we should be entitled to?\\n\",\"What was the public's reaction to Crystal Pepsi?\\n\",\"How can I crack MH-CET 2017 engineering by self-st\",\"What is the way to become a dental hygienist in th\",\"Why do solving math/statistics problems causes my \",\"Does your name sound as awkward to others as it so\",\"What is the proper format of writing formal-inform\",\"How does doc2vec represent feature vector of a doc\",\"Why are software development task estimations regu\",\"How can I set up molecular pathology lab?\\n\",\"How do I score a rank in CA - IPCC?\\n\",\"What are some examples of strong organic acids?\\n\",\"What can be a good hindi (indian) name for a tea b\",\"Is the Google host matching process different for \",\"Is Cuba considered part of Latin America?\\n\",\"Does the following script (\\u0256\\u2200\\u0f61\\u0632\\u2202 \\u0250\\u0167 \\u01ab\\u04bf\\u03de\\u026e\\u2609 \\u027d\\u03c6\\u0289\\u029b\\u0195), \",\"How can I increase my website's DA?\\n\",\"Is it normal to imagine having sex with other guy \",\"What is the percent purity (approx) of consumable \",\"Do soulmates just come walking into your life when\",\"If I use marijuana with my boyfriend, is there a p\",\"Can you analyze everything in soil?\\n\",\"What difference it would make if India Nuked and K\",\"What are the advantages of a dominant party system\",\"What were some things India did not do but takes c\",\"How many total women have accused Bill Clinton of \",\"Why do I wish some fictional characters existed?\\n\",\"Where can I find best hotel at Ranikhet?\\n\",\"How do I make good memes?\\n\",\"What are some of the common sayings or proverbs in\",\"What kind of writing style makes someone a \\\"dark w\",\"Are Trump and Hillary really the best America has \",\"How can I make my career in embedded system and ro\",\"Will adding a USB to VGA adapter always give an ex\",\"We will never be able to see our own faces with ou\",\"What are the ways you can stop a friend from pitch\",\"What is the average time for preparation of IAS?\\n\",\"How can I learn new things quickly?\\n\",\"What is the definition of political courage?\\n\",\"What makes death scary?\\n\",\"I'm really pretty but I don't want to be I hate th\",\"Is Assam Down Town University good?\\n\",\"How do the brain structures of bonobos change as t\",\"What's the biggest scam?\\n\",\"Does the US government have an alien flying saucer\",\"I need to gain weight, but I don't have abs. It's \",\"Why should I study Calculus?\\n\",\"Do you think your childhood contributed to your fi\",\"How does the Goods and Services Tax (GST) works?\\n\",\"Where can I download Cisco 500-285 exam dumps?\\n\",\"How do I can make a second nation in Cybernations \",\"Did Neil Armstrong really land on the moon?\\n\",\"Why is Devil any other than God head of state?\\n\",\"How do I stop being possessive over my girlfriend?\",\"How does Kongregate compute the statistics of adve\",\"Who is the best nuero physician at NIMHANS, Bangal\",\"What are nonprofit organizations?\\n\",\"I want to know the process of starting outbound ca\",\"Which are some of the best hotels to stay in Helsi\",\"What is good about Deloitte Chicago?\\n\",\"How do I recover data from a formatted hard drive?\",\"Could India and Pakistan unite again?\\n\",\"How often should I massage my face with Argan oil?\",\"How is psychodynamic therapy different from psycho\",\"What are some of Barack Obama's character traits?\\n\",\"Would it make sense to replace the B-52's 8 1960s \",\"Is it possible to bring forward my flight date of \",\"How can I learn marathons?\\n\"],\"x\":{\"__ndarray__\":\"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\",\"dtype\":\"float32\",\"order\":\"little\",\"shape\":[1001]},\"y\":{\"__ndarray__\":\"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\",\"dtype\":\"float32\",\"order\":\"little\",\"shape\":[1001]}},\"selected\":{\"id\":\"1447\"},\"selection_policy\":{\"id\":\"1446\"}},\"id\":\"1365\",\"type\":\"ColumnDataSource\"},{\"attributes\":{\"bottom_units\":\"screen\",\"coordinates\":null,\"fill_alpha\":0.5,\"fill_color\":\"lightgrey\",\"group\":null,\"left_units\":\"screen\",\"level\":\"overlay\",\"line_alpha\":1.0,\"line_color\":\"black\",\"line_dash\":[4,4],\"line_width\":2,\"right_units\":\"screen\",\"syncable\":false,\"top_units\":\"screen\"},\"id\":\"1389\",\"type\":\"BoxAnnotation\"},{\"attributes\":{},\"id\":\"1384\",\"type\":\"WheelZoomTool\"},{\"attributes\":{\"overlay\":{\"id\":\"1389\"}},\"id\":\"1385\",\"type\":\"BoxZoomTool\"},{\"attributes\":{},\"id\":\"1387\",\"type\":\"ResetTool\"},{\"attributes\":{},\"id\":\"1441\",\"type\":\"BasicTickFormatter\"},{\"attributes\":{\"active_scroll\":{\"id\":\"1384\"},\"tools\":[{\"id\":\"1383\"},{\"id\":\"1384\"},{\"id\":\"1385\"},{\"id\":\"1386\"},{\"id\":\"1387\"},{\"id\":\"1388\"},{\"id\":\"1403\"}]},\"id\":\"1390\",\"type\":\"Toolbar\"},{\"attributes\":{},\"id\":\"1446\",\"type\":\"UnionRenderers\"},{\"attributes\":{},\"id\":\"1367\",\"type\":\"DataRange1d\"},{\"attributes\":{\"fill_alpha\":{\"value\":0.25},\"fill_color\":{\"field\":\"color\"},\"hatch_alpha\":{\"value\":0.25},\"hatch_color\":{\"field\":\"color\"},\"line_alpha\":{\"value\":0.25},\"line_color\":{\"field\":\"color\"},\"size\":{\"value\":20},\"x\":{\"field\":\"x\"},\"y\":{\"field\":\"y\"}},\"id\":\"1398\",\"type\":\"Scatter\"},{\"attributes\":{},\"id\":\"1380\",\"type\":\"BasicTicker\"},{\"attributes\":{\"callback\":null,\"tooltips\":[[\"phrase\",\"@phrase\"]]},\"id\":\"1403\",\"type\":\"HoverTool\"},{\"attributes\":{\"fill_alpha\":{\"value\":0.1},\"fill_color\":{\"field\":\"color\"},\"hatch_alpha\":{\"value\":0.1},\"hatch_color\":{\"field\":\"color\"},\"line_alpha\":{\"value\":0.1},\"line_color\":{\"field\":\"color\"},\"size\":{\"value\":20},\"x\":{\"field\":\"x\"},\"y\":{\"field\":\"y\"}},\"id\":\"1399\",\"type\":\"Scatter\"},{\"attributes\":{},\"id\":\"1445\",\"type\":\"AllLabels\"},{\"attributes\":{\"coordinates\":null,\"data_source\":{\"id\":\"1365\"},\"glyph\":{\"id\":\"1398\"},\"group\":null,\"hover_glyph\":null,\"muted_glyph\":{\"id\":\"1400\"},\"nonselection_glyph\":{\"id\":\"1399\"},\"view\":{\"id\":\"1402\"}},\"id\":\"1401\",\"type\":\"GlyphRenderer\"},{\"attributes\":{},\"id\":\"1386\",\"type\":\"SaveTool\"}],\"root_ids\":[\"1366\"]},\"title\":\"Bokeh Application\",\"version\":\"2.4.3\"}};\n",
              "  const render_items = [{\"docid\":\"c49b88b4-a8a5-4b90-af11-8348d4ba3c92\",\"root_ids\":[\"1366\"],\"roots\":{\"1366\":\"f2157c78-1a27-4ba1-bd51-cd6e4e93ae5c\"}}];\n",
              "  root.Bokeh.embed.embed_items_notebook(docs_json, render_items);\n",
              "  }\n",
              "  if (root.Bokeh !== undefined) {\n",
              "    embed_document(root);\n",
              "  } else {\n",
              "    let attempts = 0;\n",
              "    const timer = setInterval(function(root) {\n",
              "      if (root.Bokeh !== undefined) {\n",
              "        clearInterval(timer);\n",
              "        embed_document(root);\n",
              "      } else {\n",
              "        attempts++;\n",
              "        if (attempts > 100) {\n",
              "          clearInterval(timer);\n",
              "          console.log(\"Bokeh: ERROR: Unable to run BokehJS code because BokehJS library is missing\");\n",
              "        }\n",
              "      }\n",
              "    }, 10, root)\n",
              "  }\n",
              "})(window);"
            ],
            "application/vnd.bokehjs_exec.v0+json": ""
          },
          "metadata": {
            "application/vnd.bokehjs_exec.v0+json": {
              "id": "1366"
            }
          }
        },
        {
          "output_type": "execute_result",
          "data": {
            "text/plain": [
              "Figure(id='1366', ...)"
            ],
            "text/html": [
              "<div style=\"display: table;\"><div style=\"display: table-row;\"><div style=\"display: table-cell;\"><b title=\"bokeh.plotting.figure.Figure\">Figure</b>(</div><div style=\"display: table-cell;\">id&nbsp;=&nbsp;'1366', <span id=\"1505\" style=\"cursor: pointer;\">&hellip;)</span></div></div><div class=\"1504\" style=\"display: none;\"><div style=\"display: table-cell;\"></div><div style=\"display: table-cell;\">above&nbsp;=&nbsp;[],</div></div><div class=\"1504\" style=\"display: none;\"><div style=\"display: table-cell;\"></div><div style=\"display: table-cell;\">align&nbsp;=&nbsp;'start',</div></div><div class=\"1504\" style=\"display: none;\"><div style=\"display: table-cell;\"></div><div style=\"display: table-cell;\">aspect_ratio&nbsp;=&nbsp;None,</div></div><div class=\"1504\" style=\"display: none;\"><div style=\"display: table-cell;\"></div><div style=\"display: table-cell;\">aspect_scale&nbsp;=&nbsp;1,</div></div><div class=\"1504\" style=\"display: none;\"><div style=\"display: table-cell;\"></div><div style=\"display: table-cell;\">background&nbsp;=&nbsp;None,</div></div><div class=\"1504\" style=\"display: none;\"><div style=\"display: table-cell;\"></div><div style=\"display: table-cell;\">background_fill_alpha&nbsp;=&nbsp;1.0,</div></div><div class=\"1504\" style=\"display: none;\"><div style=\"display: table-cell;\"></div><div style=\"display: table-cell;\">background_fill_color&nbsp;=&nbsp;'#ffffff',</div></div><div class=\"1504\" style=\"display: none;\"><div style=\"display: table-cell;\"></div><div style=\"display: table-cell;\">below&nbsp;=&nbsp;[LinearAxis(id='1375', ...)],</div></div><div class=\"1504\" style=\"display: none;\"><div style=\"display: table-cell;\"></div><div style=\"display: table-cell;\">border_fill_alpha&nbsp;=&nbsp;1.0,</div></div><div class=\"1504\" style=\"display: none;\"><div style=\"display: table-cell;\"></div><div style=\"display: table-cell;\">border_fill_color&nbsp;=&nbsp;'#ffffff',</div></div><div class=\"1504\" style=\"display: none;\"><div style=\"display: table-cell;\"></div><div style=\"display: table-cell;\">center&nbsp;=&nbsp;[Grid(id='1378', ...), Grid(id='1382', ...)],</div></div><div class=\"1504\" style=\"display: none;\"><div style=\"display: table-cell;\"></div><div style=\"display: table-cell;\">css_classes&nbsp;=&nbsp;[],</div></div><div class=\"1504\" style=\"display: none;\"><div style=\"display: table-cell;\"></div><div style=\"display: table-cell;\">disabled&nbsp;=&nbsp;False,</div></div><div class=\"1504\" style=\"display: none;\"><div style=\"display: table-cell;\"></div><div style=\"display: table-cell;\">extra_x_ranges&nbsp;=&nbsp;{},</div></div><div class=\"1504\" style=\"display: none;\"><div style=\"display: table-cell;\"></div><div style=\"display: table-cell;\">extra_x_scales&nbsp;=&nbsp;{},</div></div><div class=\"1504\" style=\"display: none;\"><div style=\"display: table-cell;\"></div><div style=\"display: table-cell;\">extra_y_ranges&nbsp;=&nbsp;{},</div></div><div class=\"1504\" style=\"display: none;\"><div style=\"display: table-cell;\"></div><div style=\"display: table-cell;\">extra_y_scales&nbsp;=&nbsp;{},</div></div><div class=\"1504\" style=\"display: none;\"><div style=\"display: table-cell;\"></div><div style=\"display: table-cell;\">frame_height&nbsp;=&nbsp;None,</div></div><div class=\"1504\" style=\"display: none;\"><div style=\"display: table-cell;\"></div><div style=\"display: table-cell;\">frame_width&nbsp;=&nbsp;None,</div></div><div class=\"1504\" style=\"display: none;\"><div style=\"display: table-cell;\"></div><div style=\"display: table-cell;\">height&nbsp;=&nbsp;400,</div></div><div class=\"1504\" style=\"display: none;\"><div style=\"display: table-cell;\"></div><div style=\"display: table-cell;\">height_policy&nbsp;=&nbsp;'auto',</div></div><div class=\"1504\" style=\"display: none;\"><div style=\"display: table-cell;\"></div><div style=\"display: table-cell;\">hidpi&nbsp;=&nbsp;True,</div></div><div class=\"1504\" style=\"display: none;\"><div style=\"display: table-cell;\"></div><div style=\"display: table-cell;\">inner_height&nbsp;=&nbsp;0,</div></div><div class=\"1504\" style=\"display: none;\"><div style=\"display: table-cell;\"></div><div style=\"display: table-cell;\">inner_width&nbsp;=&nbsp;0,</div></div><div class=\"1504\" style=\"display: none;\"><div style=\"display: table-cell;\"></div><div style=\"display: table-cell;\">js_event_callbacks&nbsp;=&nbsp;{},</div></div><div class=\"1504\" style=\"display: none;\"><div style=\"display: table-cell;\"></div><div style=\"display: table-cell;\">js_property_callbacks&nbsp;=&nbsp;{},</div></div><div class=\"1504\" style=\"display: none;\"><div style=\"display: table-cell;\"></div><div style=\"display: table-cell;\">left&nbsp;=&nbsp;[LinearAxis(id='1379', ...)],</div></div><div class=\"1504\" style=\"display: none;\"><div style=\"display: table-cell;\"></div><div style=\"display: table-cell;\">lod_factor&nbsp;=&nbsp;10,</div></div><div class=\"1504\" style=\"display: none;\"><div style=\"display: table-cell;\"></div><div style=\"display: table-cell;\">lod_interval&nbsp;=&nbsp;300,</div></div><div class=\"1504\" style=\"display: none;\"><div style=\"display: table-cell;\"></div><div style=\"display: table-cell;\">lod_threshold&nbsp;=&nbsp;2000,</div></div><div class=\"1504\" style=\"display: none;\"><div style=\"display: table-cell;\"></div><div style=\"display: table-cell;\">lod_timeout&nbsp;=&nbsp;500,</div></div><div class=\"1504\" style=\"display: none;\"><div style=\"display: table-cell;\"></div><div style=\"display: table-cell;\">margin&nbsp;=&nbsp;(0, 0, 0, 0),</div></div><div class=\"1504\" style=\"display: none;\"><div style=\"display: table-cell;\"></div><div style=\"display: table-cell;\">match_aspect&nbsp;=&nbsp;False,</div></div><div class=\"1504\" style=\"display: none;\"><div style=\"display: table-cell;\"></div><div style=\"display: table-cell;\">max_height&nbsp;=&nbsp;None,</div></div><div class=\"1504\" style=\"display: none;\"><div style=\"display: table-cell;\"></div><div style=\"display: table-cell;\">max_width&nbsp;=&nbsp;None,</div></div><div class=\"1504\" style=\"display: none;\"><div style=\"display: table-cell;\"></div><div style=\"display: table-cell;\">min_border&nbsp;=&nbsp;5,</div></div><div class=\"1504\" style=\"display: none;\"><div style=\"display: table-cell;\"></div><div style=\"display: table-cell;\">min_border_bottom&nbsp;=&nbsp;None,</div></div><div class=\"1504\" style=\"display: none;\"><div style=\"display: table-cell;\"></div><div style=\"display: table-cell;\">min_border_left&nbsp;=&nbsp;None,</div></div><div class=\"1504\" style=\"display: none;\"><div style=\"display: table-cell;\"></div><div style=\"display: table-cell;\">min_border_right&nbsp;=&nbsp;None,</div></div><div class=\"1504\" style=\"display: none;\"><div style=\"display: table-cell;\"></div><div style=\"display: table-cell;\">min_border_top&nbsp;=&nbsp;None,</div></div><div class=\"1504\" style=\"display: none;\"><div style=\"display: table-cell;\"></div><div style=\"display: table-cell;\">min_height&nbsp;=&nbsp;None,</div></div><div class=\"1504\" style=\"display: none;\"><div style=\"display: table-cell;\"></div><div style=\"display: table-cell;\">min_width&nbsp;=&nbsp;None,</div></div><div class=\"1504\" style=\"display: none;\"><div style=\"display: table-cell;\"></div><div style=\"display: table-cell;\">name&nbsp;=&nbsp;None,</div></div><div class=\"1504\" style=\"display: none;\"><div style=\"display: table-cell;\"></div><div style=\"display: table-cell;\">outer_height&nbsp;=&nbsp;0,</div></div><div class=\"1504\" style=\"display: none;\"><div style=\"display: table-cell;\"></div><div style=\"display: table-cell;\">outer_width&nbsp;=&nbsp;0,</div></div><div class=\"1504\" style=\"display: none;\"><div style=\"display: table-cell;\"></div><div style=\"display: table-cell;\">outline_line_alpha&nbsp;=&nbsp;1.0,</div></div><div class=\"1504\" style=\"display: none;\"><div style=\"display: table-cell;\"></div><div style=\"display: table-cell;\">outline_line_cap&nbsp;=&nbsp;'butt',</div></div><div class=\"1504\" style=\"display: none;\"><div style=\"display: table-cell;\"></div><div style=\"display: table-cell;\">outline_line_color&nbsp;=&nbsp;'#e5e5e5',</div></div><div class=\"1504\" style=\"display: none;\"><div style=\"display: table-cell;\"></div><div style=\"display: table-cell;\">outline_line_dash&nbsp;=&nbsp;[],</div></div><div class=\"1504\" style=\"display: none;\"><div style=\"display: table-cell;\"></div><div style=\"display: table-cell;\">outline_line_dash_offset&nbsp;=&nbsp;0,</div></div><div class=\"1504\" style=\"display: none;\"><div style=\"display: table-cell;\"></div><div style=\"display: table-cell;\">outline_line_join&nbsp;=&nbsp;'bevel',</div></div><div class=\"1504\" style=\"display: none;\"><div style=\"display: table-cell;\"></div><div style=\"display: table-cell;\">outline_line_width&nbsp;=&nbsp;1,</div></div><div class=\"1504\" style=\"display: none;\"><div style=\"display: table-cell;\"></div><div style=\"display: table-cell;\">output_backend&nbsp;=&nbsp;'canvas',</div></div><div class=\"1504\" style=\"display: none;\"><div style=\"display: table-cell;\"></div><div style=\"display: table-cell;\">renderers&nbsp;=&nbsp;[GlyphRenderer(id='1401', ...)],</div></div><div class=\"1504\" style=\"display: none;\"><div style=\"display: table-cell;\"></div><div style=\"display: table-cell;\">reset_policy&nbsp;=&nbsp;'standard',</div></div><div class=\"1504\" style=\"display: none;\"><div style=\"display: table-cell;\"></div><div style=\"display: table-cell;\">right&nbsp;=&nbsp;[],</div></div><div class=\"1504\" style=\"display: none;\"><div style=\"display: table-cell;\"></div><div style=\"display: table-cell;\">sizing_mode&nbsp;=&nbsp;None,</div></div><div class=\"1504\" style=\"display: none;\"><div style=\"display: table-cell;\"></div><div style=\"display: table-cell;\">subscribed_events&nbsp;=&nbsp;[],</div></div><div class=\"1504\" style=\"display: none;\"><div style=\"display: table-cell;\"></div><div style=\"display: table-cell;\">syncable&nbsp;=&nbsp;True,</div></div><div class=\"1504\" style=\"display: none;\"><div style=\"display: table-cell;\"></div><div style=\"display: table-cell;\">tags&nbsp;=&nbsp;[],</div></div><div class=\"1504\" style=\"display: none;\"><div style=\"display: table-cell;\"></div><div style=\"display: table-cell;\">title&nbsp;=&nbsp;Title(id='1438', ...),</div></div><div class=\"1504\" style=\"display: none;\"><div style=\"display: table-cell;\"></div><div style=\"display: table-cell;\">title_location&nbsp;=&nbsp;'above',</div></div><div class=\"1504\" style=\"display: none;\"><div style=\"display: table-cell;\"></div><div style=\"display: table-cell;\">toolbar&nbsp;=&nbsp;Toolbar(id='1390', ...),</div></div><div class=\"1504\" style=\"display: none;\"><div style=\"display: table-cell;\"></div><div style=\"display: table-cell;\">toolbar_location&nbsp;=&nbsp;'right',</div></div><div class=\"1504\" style=\"display: none;\"><div style=\"display: table-cell;\"></div><div style=\"display: table-cell;\">toolbar_sticky&nbsp;=&nbsp;True,</div></div><div class=\"1504\" style=\"display: none;\"><div style=\"display: table-cell;\"></div><div style=\"display: table-cell;\">visible&nbsp;=&nbsp;True,</div></div><div class=\"1504\" style=\"display: none;\"><div style=\"display: table-cell;\"></div><div style=\"display: table-cell;\">width&nbsp;=&nbsp;600,</div></div><div class=\"1504\" style=\"display: none;\"><div style=\"display: table-cell;\"></div><div style=\"display: table-cell;\">width_policy&nbsp;=&nbsp;'auto',</div></div><div class=\"1504\" style=\"display: none;\"><div style=\"display: table-cell;\"></div><div style=\"display: table-cell;\">x_range&nbsp;=&nbsp;DataRange1d(id='1367', ...),</div></div><div class=\"1504\" style=\"display: none;\"><div style=\"display: table-cell;\"></div><div style=\"display: table-cell;\">x_scale&nbsp;=&nbsp;LinearScale(id='1371', ...),</div></div><div class=\"1504\" style=\"display: none;\"><div style=\"display: table-cell;\"></div><div style=\"display: table-cell;\">y_range&nbsp;=&nbsp;DataRange1d(id='1369', ...),</div></div><div class=\"1504\" style=\"display: none;\"><div style=\"display: table-cell;\"></div><div style=\"display: table-cell;\">y_scale&nbsp;=&nbsp;LinearScale(id='1373', ...))</div></div></div>\n",
              "<script>\n",
              "(function() {\n",
              "  let expanded = false;\n",
              "  const ellipsis = document.getElementById(\"1505\");\n",
              "  ellipsis.addEventListener(\"click\", function() {\n",
              "    const rows = document.getElementsByClassName(\"1504\");\n",
              "    for (let i = 0; i < rows.length; i++) {\n",
              "      const el = rows[i];\n",
              "      el.style.display = expanded ? \"none\" : \"table-row\";\n",
              "    }\n",
              "    ellipsis.innerHTML = expanded ? \"&hellip;)\" : \"&lsaquo;&lsaquo;&lsaquo;\";\n",
              "    expanded = !expanded;\n",
              "  });\n",
              "})();\n",
              "</script>\n"
            ]
          },
          "metadata": {},
          "execution_count": 57
        }
      ],
      "source": [
        "draw_vectors(phrase_vectors_2d[:, 0], phrase_vectors_2d[:, 1], color=colors,\n",
        "             phrase=[phrase[:50] for phrase in chosen_phrases],\n",
        "             radius=20,)"
      ]
    },
    {
      "cell_type": "markdown",
      "metadata": {
        "id": "4gkFPEg1jc2S"
      },
      "source": [
        "Дополнительно, вы можете попробовать сделать следующее:\n",
        "* Воспользоваться t-SNE вместо UMAP (требует гораздо больше времени на больших выборках)\n",
        "* Визуализировать весь набор данных, а не только его часть\n",
        "* Воспользоваться другими эмбеддингами из `gensim` \"model zoo\": `gensim.downloader.info()`\n",
        "* Рассмотреть принципы работы [FastText](https://github.com/facebookresearch/fastText), которые несколько отличаются от word2vec"
      ]
    },
    {
      "cell_type": "markdown",
      "metadata": {
        "id": "Fb9rv2wTjc2S"
      },
      "source": [
        "#### Выводы:\n",
        "* Использование векторных представлений слов, обученных на значительных объемах текстовых данных, позволяет переносить эти знания в другие задачи.\n",
        "* При построении некоторого решения для работы с текстами полезно использовать предобученные эмбеддинги. Конечно, их можно и дообучить под задачу.\n",
        "* Построение эмбеддингов возможно не только для слов, но и для других объектов (текстов, изображений, графов и др.)."
      ]
    }
  ],
  "metadata": {
    "kernelspec": {
      "display_name": "Py3 Research",
      "language": "python",
      "name": "py3_research"
    },
    "language_info": {
      "codemirror_mode": {
        "name": "ipython",
        "version": 3
      },
      "file_extension": ".py",
      "mimetype": "text/x-python",
      "name": "python",
      "nbconvert_exporter": "python",
      "pygments_lexer": "ipython3",
      "version": "3.7.10"
    },
    "colab": {
      "provenance": []
    }
  },
  "nbformat": 4,
  "nbformat_minor": 0
}