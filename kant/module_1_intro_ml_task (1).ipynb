{
  "cells": [
    {
      "cell_type": "markdown",
      "metadata": {
        "id": "0-tRk6fdxmB-"
      },
      "source": [
        "В этом домашнем задании вы будете решать задачу классификации оттоковых клиентов телекома: для каждого клиента необходимо определить, перестанет он пользоваться услугами оператора в ближайшее время или нет."
      ]
    },
    {
      "cell_type": "code",
      "execution_count": 2,
      "metadata": {
        "id": "DIjF1xlpwOMd"
      },
      "outputs": [
        {
          "data": {
            "text/html": [
              "<div>\n",
              "<style scoped>\n",
              "    .dataframe tbody tr th:only-of-type {\n",
              "        vertical-align: middle;\n",
              "    }\n",
              "\n",
              "    .dataframe tbody tr th {\n",
              "        vertical-align: top;\n",
              "    }\n",
              "\n",
              "    .dataframe thead th {\n",
              "        text-align: right;\n",
              "    }\n",
              "</style>\n",
              "<table border=\"1\" class=\"dataframe\">\n",
              "  <thead>\n",
              "    <tr style=\"text-align: right;\">\n",
              "      <th></th>\n",
              "      <th>State</th>\n",
              "      <th>Account length</th>\n",
              "      <th>Area code</th>\n",
              "      <th>International plan</th>\n",
              "      <th>Voice mail plan</th>\n",
              "      <th>Number vmail messages</th>\n",
              "      <th>Total day minutes</th>\n",
              "      <th>Total day calls</th>\n",
              "      <th>Total day charge</th>\n",
              "      <th>Total eve minutes</th>\n",
              "      <th>Total eve calls</th>\n",
              "      <th>Total eve charge</th>\n",
              "      <th>Total night minutes</th>\n",
              "      <th>Total night calls</th>\n",
              "      <th>Total night charge</th>\n",
              "      <th>Total intl minutes</th>\n",
              "      <th>Total intl calls</th>\n",
              "      <th>Total intl charge</th>\n",
              "      <th>Customer service calls</th>\n",
              "      <th>Churn</th>\n",
              "    </tr>\n",
              "  </thead>\n",
              "  <tbody>\n",
              "    <tr>\n",
              "      <th>0</th>\n",
              "      <td>KS</td>\n",
              "      <td>128</td>\n",
              "      <td>415</td>\n",
              "      <td>No</td>\n",
              "      <td>Yes</td>\n",
              "      <td>25</td>\n",
              "      <td>265.1</td>\n",
              "      <td>110</td>\n",
              "      <td>45.07</td>\n",
              "      <td>197.4</td>\n",
              "      <td>99</td>\n",
              "      <td>16.78</td>\n",
              "      <td>244.7</td>\n",
              "      <td>91</td>\n",
              "      <td>11.01</td>\n",
              "      <td>10.0</td>\n",
              "      <td>3</td>\n",
              "      <td>2.70</td>\n",
              "      <td>1</td>\n",
              "      <td>False</td>\n",
              "    </tr>\n",
              "    <tr>\n",
              "      <th>1</th>\n",
              "      <td>OH</td>\n",
              "      <td>107</td>\n",
              "      <td>415</td>\n",
              "      <td>No</td>\n",
              "      <td>Yes</td>\n",
              "      <td>26</td>\n",
              "      <td>161.6</td>\n",
              "      <td>123</td>\n",
              "      <td>27.47</td>\n",
              "      <td>195.5</td>\n",
              "      <td>103</td>\n",
              "      <td>16.62</td>\n",
              "      <td>254.4</td>\n",
              "      <td>103</td>\n",
              "      <td>11.45</td>\n",
              "      <td>13.7</td>\n",
              "      <td>3</td>\n",
              "      <td>3.70</td>\n",
              "      <td>1</td>\n",
              "      <td>False</td>\n",
              "    </tr>\n",
              "    <tr>\n",
              "      <th>2</th>\n",
              "      <td>NJ</td>\n",
              "      <td>137</td>\n",
              "      <td>415</td>\n",
              "      <td>No</td>\n",
              "      <td>No</td>\n",
              "      <td>0</td>\n",
              "      <td>243.4</td>\n",
              "      <td>114</td>\n",
              "      <td>41.38</td>\n",
              "      <td>121.2</td>\n",
              "      <td>110</td>\n",
              "      <td>10.30</td>\n",
              "      <td>162.6</td>\n",
              "      <td>104</td>\n",
              "      <td>7.32</td>\n",
              "      <td>12.2</td>\n",
              "      <td>5</td>\n",
              "      <td>3.29</td>\n",
              "      <td>0</td>\n",
              "      <td>False</td>\n",
              "    </tr>\n",
              "    <tr>\n",
              "      <th>3</th>\n",
              "      <td>OH</td>\n",
              "      <td>84</td>\n",
              "      <td>408</td>\n",
              "      <td>Yes</td>\n",
              "      <td>No</td>\n",
              "      <td>0</td>\n",
              "      <td>299.4</td>\n",
              "      <td>71</td>\n",
              "      <td>50.90</td>\n",
              "      <td>61.9</td>\n",
              "      <td>88</td>\n",
              "      <td>5.26</td>\n",
              "      <td>196.9</td>\n",
              "      <td>89</td>\n",
              "      <td>8.86</td>\n",
              "      <td>6.6</td>\n",
              "      <td>7</td>\n",
              "      <td>1.78</td>\n",
              "      <td>2</td>\n",
              "      <td>False</td>\n",
              "    </tr>\n",
              "    <tr>\n",
              "      <th>4</th>\n",
              "      <td>OK</td>\n",
              "      <td>75</td>\n",
              "      <td>415</td>\n",
              "      <td>Yes</td>\n",
              "      <td>No</td>\n",
              "      <td>0</td>\n",
              "      <td>166.7</td>\n",
              "      <td>113</td>\n",
              "      <td>28.34</td>\n",
              "      <td>148.3</td>\n",
              "      <td>122</td>\n",
              "      <td>12.61</td>\n",
              "      <td>186.9</td>\n",
              "      <td>121</td>\n",
              "      <td>8.41</td>\n",
              "      <td>10.1</td>\n",
              "      <td>3</td>\n",
              "      <td>2.73</td>\n",
              "      <td>3</td>\n",
              "      <td>False</td>\n",
              "    </tr>\n",
              "  </tbody>\n",
              "</table>\n",
              "</div>"
            ],
            "text/plain": [
              "  State  Account length  Area code International plan Voice mail plan  \\\n",
              "0    KS             128        415                 No             Yes   \n",
              "1    OH             107        415                 No             Yes   \n",
              "2    NJ             137        415                 No              No   \n",
              "3    OH              84        408                Yes              No   \n",
              "4    OK              75        415                Yes              No   \n",
              "\n",
              "   Number vmail messages  Total day minutes  Total day calls  \\\n",
              "0                     25              265.1              110   \n",
              "1                     26              161.6              123   \n",
              "2                      0              243.4              114   \n",
              "3                      0              299.4               71   \n",
              "4                      0              166.7              113   \n",
              "\n",
              "   Total day charge  Total eve minutes  Total eve calls  Total eve charge  \\\n",
              "0             45.07              197.4               99             16.78   \n",
              "1             27.47              195.5              103             16.62   \n",
              "2             41.38              121.2              110             10.30   \n",
              "3             50.90               61.9               88              5.26   \n",
              "4             28.34              148.3              122             12.61   \n",
              "\n",
              "   Total night minutes  Total night calls  Total night charge  \\\n",
              "0                244.7                 91               11.01   \n",
              "1                254.4                103               11.45   \n",
              "2                162.6                104                7.32   \n",
              "3                196.9                 89                8.86   \n",
              "4                186.9                121                8.41   \n",
              "\n",
              "   Total intl minutes  Total intl calls  Total intl charge  \\\n",
              "0                10.0                 3               2.70   \n",
              "1                13.7                 3               3.70   \n",
              "2                12.2                 5               3.29   \n",
              "3                 6.6                 7               1.78   \n",
              "4                10.1                 3               2.73   \n",
              "\n",
              "   Customer service calls  Churn  \n",
              "0                       1  False  \n",
              "1                       1  False  \n",
              "2                       0  False  \n",
              "3                       2  False  \n",
              "4                       3  False  "
            ]
          },
          "execution_count": 2,
          "metadata": {},
          "output_type": "execute_result"
        }
      ],
      "source": [
        "import pandas as pd\n",
        "import numpy as np\n",
        "\n",
        "df = pd.read_csv(\"https://raw.githubusercontent.com/evgpat/edu_stepik_first_step_in_nlp/main/datasets/telecom_churn.csv\")\n",
        "df.head()"
      ]
    },
    {
      "cell_type": "markdown",
      "metadata": {
        "id": "MT5L6lWZyDkE"
      },
      "source": [
        "Сделаем первичную обработку данных:\n",
        "\n",
        "1) Выбросите колонку State\n",
        "\n",
        "**Вопрос:** сколько столбцов осталось в матрице df?"
      ]
    },
    {
      "cell_type": "code",
      "execution_count": 3,
      "metadata": {
        "id": "OwBZKnk3b8qc"
      },
      "outputs": [],
      "source": [
        "df.drop(\"State\", axis=1, inplace = True)"
      ]
    },
    {
      "cell_type": "code",
      "execution_count": 5,
      "metadata": {},
      "outputs": [
        {
          "data": {
            "text/plain": [
              "19"
            ]
          },
          "execution_count": 5,
          "metadata": {},
          "output_type": "execute_result"
        }
      ],
      "source": [
        "num_columns = df.shape[1]\n",
        "num_columns"
      ]
    },
    {
      "cell_type": "markdown",
      "metadata": {
        "id": "WeIa5cC3b_oE"
      },
      "source": [
        "Сделаем простую кодировку признаков:\n",
        "\n",
        "2) Колонку International plan закодируем следующим образом: \"Yes\" замените на 1, а \"No\" на 0."
      ]
    },
    {
      "cell_type": "code",
      "execution_count": 6,
      "metadata": {
        "id": "7U6J16EVx0iy"
      },
      "outputs": [],
      "source": [
        "df['International plan'] = df['International plan'].map({'Yes' : 1, 'No' : 0})"
      ]
    },
    {
      "cell_type": "markdown",
      "metadata": {
        "id": "-0ElX9hPcMGG"
      },
      "source": [
        "Аналогичным образом закодируйте столбец Voice mail plan."
      ]
    },
    {
      "cell_type": "code",
      "execution_count": 7,
      "metadata": {
        "id": "d2LssBAScPqf"
      },
      "outputs": [],
      "source": [
        "df['Voice mail plan'] = df['Voice mail plan'].map({'Yes' : 1, 'No' : 0})"
      ]
    },
    {
      "cell_type": "markdown",
      "metadata": {
        "id": "10NLyF1VcTkW"
      },
      "source": [
        "3) Переведем целевую переменную (Churn) в числа: True в 1, а False в 0."
      ]
    },
    {
      "cell_type": "code",
      "execution_count": 8,
      "metadata": {
        "id": "klGMs0cCcV5Z"
      },
      "outputs": [],
      "source": [
        "df['Churn'] = df['Churn'].astype(int)"
      ]
    },
    {
      "cell_type": "markdown",
      "metadata": {
        "id": "N2hAu7tmy0Ps"
      },
      "source": [
        "Выведите на экран первые строки измененной таблицы, чтобы проверить, что все преобразования сработали."
      ]
    },
    {
      "cell_type": "code",
      "execution_count": 9,
      "metadata": {
        "id": "lG9oOv0uydW8"
      },
      "outputs": [
        {
          "data": {
            "text/html": [
              "<div>\n",
              "<style scoped>\n",
              "    .dataframe tbody tr th:only-of-type {\n",
              "        vertical-align: middle;\n",
              "    }\n",
              "\n",
              "    .dataframe tbody tr th {\n",
              "        vertical-align: top;\n",
              "    }\n",
              "\n",
              "    .dataframe thead th {\n",
              "        text-align: right;\n",
              "    }\n",
              "</style>\n",
              "<table border=\"1\" class=\"dataframe\">\n",
              "  <thead>\n",
              "    <tr style=\"text-align: right;\">\n",
              "      <th></th>\n",
              "      <th>Account length</th>\n",
              "      <th>Area code</th>\n",
              "      <th>International plan</th>\n",
              "      <th>Voice mail plan</th>\n",
              "      <th>Number vmail messages</th>\n",
              "      <th>Total day minutes</th>\n",
              "      <th>Total day calls</th>\n",
              "      <th>Total day charge</th>\n",
              "      <th>Total eve minutes</th>\n",
              "      <th>Total eve calls</th>\n",
              "      <th>Total eve charge</th>\n",
              "      <th>Total night minutes</th>\n",
              "      <th>Total night calls</th>\n",
              "      <th>Total night charge</th>\n",
              "      <th>Total intl minutes</th>\n",
              "      <th>Total intl calls</th>\n",
              "      <th>Total intl charge</th>\n",
              "      <th>Customer service calls</th>\n",
              "      <th>Churn</th>\n",
              "    </tr>\n",
              "  </thead>\n",
              "  <tbody>\n",
              "    <tr>\n",
              "      <th>0</th>\n",
              "      <td>128</td>\n",
              "      <td>415</td>\n",
              "      <td>0</td>\n",
              "      <td>1</td>\n",
              "      <td>25</td>\n",
              "      <td>265.1</td>\n",
              "      <td>110</td>\n",
              "      <td>45.07</td>\n",
              "      <td>197.4</td>\n",
              "      <td>99</td>\n",
              "      <td>16.78</td>\n",
              "      <td>244.7</td>\n",
              "      <td>91</td>\n",
              "      <td>11.01</td>\n",
              "      <td>10.0</td>\n",
              "      <td>3</td>\n",
              "      <td>2.70</td>\n",
              "      <td>1</td>\n",
              "      <td>0</td>\n",
              "    </tr>\n",
              "    <tr>\n",
              "      <th>1</th>\n",
              "      <td>107</td>\n",
              "      <td>415</td>\n",
              "      <td>0</td>\n",
              "      <td>1</td>\n",
              "      <td>26</td>\n",
              "      <td>161.6</td>\n",
              "      <td>123</td>\n",
              "      <td>27.47</td>\n",
              "      <td>195.5</td>\n",
              "      <td>103</td>\n",
              "      <td>16.62</td>\n",
              "      <td>254.4</td>\n",
              "      <td>103</td>\n",
              "      <td>11.45</td>\n",
              "      <td>13.7</td>\n",
              "      <td>3</td>\n",
              "      <td>3.70</td>\n",
              "      <td>1</td>\n",
              "      <td>0</td>\n",
              "    </tr>\n",
              "    <tr>\n",
              "      <th>2</th>\n",
              "      <td>137</td>\n",
              "      <td>415</td>\n",
              "      <td>0</td>\n",
              "      <td>0</td>\n",
              "      <td>0</td>\n",
              "      <td>243.4</td>\n",
              "      <td>114</td>\n",
              "      <td>41.38</td>\n",
              "      <td>121.2</td>\n",
              "      <td>110</td>\n",
              "      <td>10.30</td>\n",
              "      <td>162.6</td>\n",
              "      <td>104</td>\n",
              "      <td>7.32</td>\n",
              "      <td>12.2</td>\n",
              "      <td>5</td>\n",
              "      <td>3.29</td>\n",
              "      <td>0</td>\n",
              "      <td>0</td>\n",
              "    </tr>\n",
              "    <tr>\n",
              "      <th>3</th>\n",
              "      <td>84</td>\n",
              "      <td>408</td>\n",
              "      <td>1</td>\n",
              "      <td>0</td>\n",
              "      <td>0</td>\n",
              "      <td>299.4</td>\n",
              "      <td>71</td>\n",
              "      <td>50.90</td>\n",
              "      <td>61.9</td>\n",
              "      <td>88</td>\n",
              "      <td>5.26</td>\n",
              "      <td>196.9</td>\n",
              "      <td>89</td>\n",
              "      <td>8.86</td>\n",
              "      <td>6.6</td>\n",
              "      <td>7</td>\n",
              "      <td>1.78</td>\n",
              "      <td>2</td>\n",
              "      <td>0</td>\n",
              "    </tr>\n",
              "    <tr>\n",
              "      <th>4</th>\n",
              "      <td>75</td>\n",
              "      <td>415</td>\n",
              "      <td>1</td>\n",
              "      <td>0</td>\n",
              "      <td>0</td>\n",
              "      <td>166.7</td>\n",
              "      <td>113</td>\n",
              "      <td>28.34</td>\n",
              "      <td>148.3</td>\n",
              "      <td>122</td>\n",
              "      <td>12.61</td>\n",
              "      <td>186.9</td>\n",
              "      <td>121</td>\n",
              "      <td>8.41</td>\n",
              "      <td>10.1</td>\n",
              "      <td>3</td>\n",
              "      <td>2.73</td>\n",
              "      <td>3</td>\n",
              "      <td>0</td>\n",
              "    </tr>\n",
              "  </tbody>\n",
              "</table>\n",
              "</div>"
            ],
            "text/plain": [
              "   Account length  Area code  International plan  Voice mail plan  \\\n",
              "0             128        415                   0                1   \n",
              "1             107        415                   0                1   \n",
              "2             137        415                   0                0   \n",
              "3              84        408                   1                0   \n",
              "4              75        415                   1                0   \n",
              "\n",
              "   Number vmail messages  Total day minutes  Total day calls  \\\n",
              "0                     25              265.1              110   \n",
              "1                     26              161.6              123   \n",
              "2                      0              243.4              114   \n",
              "3                      0              299.4               71   \n",
              "4                      0              166.7              113   \n",
              "\n",
              "   Total day charge  Total eve minutes  Total eve calls  Total eve charge  \\\n",
              "0             45.07              197.4               99             16.78   \n",
              "1             27.47              195.5              103             16.62   \n",
              "2             41.38              121.2              110             10.30   \n",
              "3             50.90               61.9               88              5.26   \n",
              "4             28.34              148.3              122             12.61   \n",
              "\n",
              "   Total night minutes  Total night calls  Total night charge  \\\n",
              "0                244.7                 91               11.01   \n",
              "1                254.4                103               11.45   \n",
              "2                162.6                104                7.32   \n",
              "3                196.9                 89                8.86   \n",
              "4                186.9                121                8.41   \n",
              "\n",
              "   Total intl minutes  Total intl calls  Total intl charge  \\\n",
              "0                10.0                 3               2.70   \n",
              "1                13.7                 3               3.70   \n",
              "2                12.2                 5               3.29   \n",
              "3                 6.6                 7               1.78   \n",
              "4                10.1                 3               2.73   \n",
              "\n",
              "   Customer service calls  Churn  \n",
              "0                       1      0  \n",
              "1                       1      0  \n",
              "2                       0      0  \n",
              "3                       2      0  \n",
              "4                       3      0  "
            ]
          },
          "execution_count": 9,
          "metadata": {},
          "output_type": "execute_result"
        }
      ],
      "source": [
        "df.head()"
      ]
    },
    {
      "cell_type": "markdown",
      "metadata": {
        "id": "6_y9azfEzBYd"
      },
      "source": [
        "Создайте матрицу объект-признак X и вектор с целевой переменной (Churn) y."
      ]
    },
    {
      "cell_type": "code",
      "execution_count": 11,
      "metadata": {
        "id": "Nd0nCW4eypLE"
      },
      "outputs": [
        {
          "data": {
            "text/plain": [
              "((3333, 18), (3333,))"
            ]
          },
          "execution_count": 11,
          "metadata": {},
          "output_type": "execute_result"
        }
      ],
      "source": [
        "X = df.drop('Churn', axis=1)\n",
        "y = df['Churn']\n",
        "X.shape, y.shape"
      ]
    },
    {
      "cell_type": "markdown",
      "metadata": {
        "id": "NEvkoGWw1hFL"
      },
      "source": [
        "Проверьте баланс классов целевой переменной. Является ли выборка сбалансированной?\n",
        "\n",
        "**Вопрос:** сколько объектов относятся к классу 1?"
      ]
    },
    {
      "cell_type": "code",
      "execution_count": 12,
      "metadata": {
        "id": "RpPcEOAm1keZ"
      },
      "outputs": [
        {
          "data": {
            "text/plain": [
              "483"
            ]
          },
          "execution_count": 12,
          "metadata": {},
          "output_type": "execute_result"
        }
      ],
      "source": [
        "len(y[y==1])"
      ]
    },
    {
      "cell_type": "markdown",
      "metadata": {
        "id": "AYFme2HyzQxL"
      },
      "source": [
        "Разбейте данные на тренировочную и тестовую части, размер тестовой части - 30%."
      ]
    },
    {
      "cell_type": "code",
      "execution_count": 13,
      "metadata": {
        "id": "Cj13GmJlzQDS"
      },
      "outputs": [],
      "source": [
        "from sklearn.model_selection import train_test_split\n",
        "\n",
        "X_train, X_test, y_train, y_test = train_test_split(X, y, test_size=0.3, random_state=666)"
      ]
    },
    {
      "cell_type": "markdown",
      "metadata": {
        "id": "GbuDWle1z2Uh"
      },
      "source": [
        "Для линейных моделей очень важно масштабирование признаков. Поэтому\n",
        "отмасштабируйте признаки при помощи StandardScaler, обучив метод на тренировочных данных и применив его и к трейну, и к тесту.\n",
        "\n",
        "Для восстановления DataFrame-ов из преобразованных объектов используйте код с занятия."
      ]
    },
    {
      "cell_type": "code",
      "execution_count": 14,
      "metadata": {
        "id": "69H1fh7VzaZf"
      },
      "outputs": [
        {
          "data": {
            "text/html": [
              "<div>\n",
              "<style scoped>\n",
              "    .dataframe tbody tr th:only-of-type {\n",
              "        vertical-align: middle;\n",
              "    }\n",
              "\n",
              "    .dataframe tbody tr th {\n",
              "        vertical-align: top;\n",
              "    }\n",
              "\n",
              "    .dataframe thead th {\n",
              "        text-align: right;\n",
              "    }\n",
              "</style>\n",
              "<table border=\"1\" class=\"dataframe\">\n",
              "  <thead>\n",
              "    <tr style=\"text-align: right;\">\n",
              "      <th></th>\n",
              "      <th>Account length</th>\n",
              "      <th>Area code</th>\n",
              "      <th>International plan</th>\n",
              "      <th>Voice mail plan</th>\n",
              "      <th>Number vmail messages</th>\n",
              "      <th>Total day minutes</th>\n",
              "      <th>Total day calls</th>\n",
              "      <th>Total day charge</th>\n",
              "      <th>Total eve minutes</th>\n",
              "      <th>Total eve calls</th>\n",
              "      <th>Total eve charge</th>\n",
              "      <th>Total night minutes</th>\n",
              "      <th>Total night calls</th>\n",
              "      <th>Total night charge</th>\n",
              "      <th>Total intl minutes</th>\n",
              "      <th>Total intl calls</th>\n",
              "      <th>Total intl charge</th>\n",
              "      <th>Customer service calls</th>\n",
              "    </tr>\n",
              "  </thead>\n",
              "  <tbody>\n",
              "    <tr>\n",
              "      <th>0</th>\n",
              "      <td>-0.721458</td>\n",
              "      <td>1.726563</td>\n",
              "      <td>-0.330708</td>\n",
              "      <td>-0.618812</td>\n",
              "      <td>-0.592494</td>\n",
              "      <td>-0.744516</td>\n",
              "      <td>0.506583</td>\n",
              "      <td>-0.744902</td>\n",
              "      <td>0.210606</td>\n",
              "      <td>0.087400</td>\n",
              "      <td>0.211476</td>\n",
              "      <td>-0.432345</td>\n",
              "      <td>-0.474119</td>\n",
              "      <td>-0.431281</td>\n",
              "      <td>0.209901</td>\n",
              "      <td>-0.612295</td>\n",
              "      <td>0.214568</td>\n",
              "      <td>-0.411327</td>\n",
              "    </tr>\n",
              "    <tr>\n",
              "      <th>1</th>\n",
              "      <td>-0.619827</td>\n",
              "      <td>1.726563</td>\n",
              "      <td>-0.330708</td>\n",
              "      <td>-0.618812</td>\n",
              "      <td>-0.592494</td>\n",
              "      <td>0.115557</td>\n",
              "      <td>-0.253226</td>\n",
              "      <td>0.115819</td>\n",
              "      <td>0.210606</td>\n",
              "      <td>-0.012529</td>\n",
              "      <td>0.211476</td>\n",
              "      <td>0.574287</td>\n",
              "      <td>-0.015148</td>\n",
              "      <td>0.575559</td>\n",
              "      <td>-0.801726</td>\n",
              "      <td>-0.207855</td>\n",
              "      <td>-0.802394</td>\n",
              "      <td>-1.171127</td>\n",
              "    </tr>\n",
              "    <tr>\n",
              "      <th>2</th>\n",
              "      <td>0.066182</td>\n",
              "      <td>-0.519912</td>\n",
              "      <td>-0.330708</td>\n",
              "      <td>-0.618812</td>\n",
              "      <td>-0.592494</td>\n",
              "      <td>0.095513</td>\n",
              "      <td>0.810507</td>\n",
              "      <td>0.095453</td>\n",
              "      <td>0.438248</td>\n",
              "      <td>-0.312314</td>\n",
              "      <td>0.438091</td>\n",
              "      <td>0.420633</td>\n",
              "      <td>-0.474119</td>\n",
              "      <td>0.422344</td>\n",
              "      <td>0.860233</td>\n",
              "      <td>-1.016736</td>\n",
              "      <td>0.856859</td>\n",
              "      <td>0.348472</td>\n",
              "    </tr>\n",
              "    <tr>\n",
              "      <th>3</th>\n",
              "      <td>0.701376</td>\n",
              "      <td>1.726563</td>\n",
              "      <td>3.023818</td>\n",
              "      <td>1.616000</td>\n",
              "      <td>1.766485</td>\n",
              "      <td>0.797056</td>\n",
              "      <td>-1.013036</td>\n",
              "      <td>0.797536</td>\n",
              "      <td>-0.233005</td>\n",
              "      <td>-1.311597</td>\n",
              "      <td>-0.232598</td>\n",
              "      <td>-0.916948</td>\n",
              "      <td>0.035849</td>\n",
              "      <td>-0.917192</td>\n",
              "      <td>-0.295912</td>\n",
              "      <td>-1.016736</td>\n",
              "      <td>-0.293913</td>\n",
              "      <td>0.348472</td>\n",
              "    </tr>\n",
              "    <tr>\n",
              "      <th>4</th>\n",
              "      <td>0.777599</td>\n",
              "      <td>1.726563</td>\n",
              "      <td>-0.330708</td>\n",
              "      <td>-0.618812</td>\n",
              "      <td>-0.592494</td>\n",
              "      <td>-1.254729</td>\n",
              "      <td>-1.367613</td>\n",
              "      <td>-1.255118</td>\n",
              "      <td>-1.657227</td>\n",
              "      <td>-0.512170</td>\n",
              "      <td>-1.656381</td>\n",
              "      <td>-0.215653</td>\n",
              "      <td>0.698807</td>\n",
              "      <td>-0.216781</td>\n",
              "      <td>2.016378</td>\n",
              "      <td>1.814350</td>\n",
              "      <td>2.021013</td>\n",
              "      <td>-0.411327</td>\n",
              "    </tr>\n",
              "  </tbody>\n",
              "</table>\n",
              "</div>"
            ],
            "text/plain": [
              "   Account length  Area code  International plan  Voice mail plan  \\\n",
              "0       -0.721458   1.726563           -0.330708        -0.618812   \n",
              "1       -0.619827   1.726563           -0.330708        -0.618812   \n",
              "2        0.066182  -0.519912           -0.330708        -0.618812   \n",
              "3        0.701376   1.726563            3.023818         1.616000   \n",
              "4        0.777599   1.726563           -0.330708        -0.618812   \n",
              "\n",
              "   Number vmail messages  Total day minutes  Total day calls  \\\n",
              "0              -0.592494          -0.744516         0.506583   \n",
              "1              -0.592494           0.115557        -0.253226   \n",
              "2              -0.592494           0.095513         0.810507   \n",
              "3               1.766485           0.797056        -1.013036   \n",
              "4              -0.592494          -1.254729        -1.367613   \n",
              "\n",
              "   Total day charge  Total eve minutes  Total eve calls  Total eve charge  \\\n",
              "0         -0.744902           0.210606         0.087400          0.211476   \n",
              "1          0.115819           0.210606        -0.012529          0.211476   \n",
              "2          0.095453           0.438248        -0.312314          0.438091   \n",
              "3          0.797536          -0.233005        -1.311597         -0.232598   \n",
              "4         -1.255118          -1.657227        -0.512170         -1.656381   \n",
              "\n",
              "   Total night minutes  Total night calls  Total night charge  \\\n",
              "0            -0.432345          -0.474119           -0.431281   \n",
              "1             0.574287          -0.015148            0.575559   \n",
              "2             0.420633          -0.474119            0.422344   \n",
              "3            -0.916948           0.035849           -0.917192   \n",
              "4            -0.215653           0.698807           -0.216781   \n",
              "\n",
              "   Total intl minutes  Total intl calls  Total intl charge  \\\n",
              "0            0.209901         -0.612295           0.214568   \n",
              "1           -0.801726         -0.207855          -0.802394   \n",
              "2            0.860233         -1.016736           0.856859   \n",
              "3           -0.295912         -1.016736          -0.293913   \n",
              "4            2.016378          1.814350           2.021013   \n",
              "\n",
              "   Customer service calls  \n",
              "0               -0.411327  \n",
              "1               -1.171127  \n",
              "2                0.348472  \n",
              "3                0.348472  \n",
              "4               -0.411327  "
            ]
          },
          "execution_count": 14,
          "metadata": {},
          "output_type": "execute_result"
        }
      ],
      "source": [
        "from sklearn.preprocessing import StandardScaler\n",
        "\n",
        "ss = StandardScaler()\n",
        "ss.fit(X_train)\n",
        "\n",
        "X_train = pd.DataFrame(ss.transform(X_train), columns=X.columns)\n",
        "X_test = pd.DataFrame(ss.transform(X_test), columns=X.columns)\n",
        "\n",
        "X_train.head()"
      ]
    },
    {
      "cell_type": "markdown",
      "metadata": {
        "id": "253CDINX1TmR"
      },
      "source": [
        "Обучите на тренировочных данных с параметрами по умолчанию:\n",
        "\n",
        "1) Логистическую регрессию\n",
        "\n",
        "2) Метод ближайших соседей"
      ]
    },
    {
      "cell_type": "code",
      "execution_count": 15,
      "metadata": {
        "id": "GsQW48lf1SxJ"
      },
      "outputs": [
        {
          "data": {
            "text/html": [
              "<style>#sk-container-id-1 {color: black;}#sk-container-id-1 pre{padding: 0;}#sk-container-id-1 div.sk-toggleable {background-color: white;}#sk-container-id-1 label.sk-toggleable__label {cursor: pointer;display: block;width: 100%;margin-bottom: 0;padding: 0.3em;box-sizing: border-box;text-align: center;}#sk-container-id-1 label.sk-toggleable__label-arrow:before {content: \"▸\";float: left;margin-right: 0.25em;color: #696969;}#sk-container-id-1 label.sk-toggleable__label-arrow:hover:before {color: black;}#sk-container-id-1 div.sk-estimator:hover label.sk-toggleable__label-arrow:before {color: black;}#sk-container-id-1 div.sk-toggleable__content {max-height: 0;max-width: 0;overflow: hidden;text-align: left;background-color: #f0f8ff;}#sk-container-id-1 div.sk-toggleable__content pre {margin: 0.2em;color: black;border-radius: 0.25em;background-color: #f0f8ff;}#sk-container-id-1 input.sk-toggleable__control:checked~div.sk-toggleable__content {max-height: 200px;max-width: 100%;overflow: auto;}#sk-container-id-1 input.sk-toggleable__control:checked~label.sk-toggleable__label-arrow:before {content: \"▾\";}#sk-container-id-1 div.sk-estimator input.sk-toggleable__control:checked~label.sk-toggleable__label {background-color: #d4ebff;}#sk-container-id-1 div.sk-label input.sk-toggleable__control:checked~label.sk-toggleable__label {background-color: #d4ebff;}#sk-container-id-1 input.sk-hidden--visually {border: 0;clip: rect(1px 1px 1px 1px);clip: rect(1px, 1px, 1px, 1px);height: 1px;margin: -1px;overflow: hidden;padding: 0;position: absolute;width: 1px;}#sk-container-id-1 div.sk-estimator {font-family: monospace;background-color: #f0f8ff;border: 1px dotted black;border-radius: 0.25em;box-sizing: border-box;margin-bottom: 0.5em;}#sk-container-id-1 div.sk-estimator:hover {background-color: #d4ebff;}#sk-container-id-1 div.sk-parallel-item::after {content: \"\";width: 100%;border-bottom: 1px solid gray;flex-grow: 1;}#sk-container-id-1 div.sk-label:hover label.sk-toggleable__label {background-color: #d4ebff;}#sk-container-id-1 div.sk-serial::before {content: \"\";position: absolute;border-left: 1px solid gray;box-sizing: border-box;top: 0;bottom: 0;left: 50%;z-index: 0;}#sk-container-id-1 div.sk-serial {display: flex;flex-direction: column;align-items: center;background-color: white;padding-right: 0.2em;padding-left: 0.2em;position: relative;}#sk-container-id-1 div.sk-item {position: relative;z-index: 1;}#sk-container-id-1 div.sk-parallel {display: flex;align-items: stretch;justify-content: center;background-color: white;position: relative;}#sk-container-id-1 div.sk-item::before, #sk-container-id-1 div.sk-parallel-item::before {content: \"\";position: absolute;border-left: 1px solid gray;box-sizing: border-box;top: 0;bottom: 0;left: 50%;z-index: -1;}#sk-container-id-1 div.sk-parallel-item {display: flex;flex-direction: column;z-index: 1;position: relative;background-color: white;}#sk-container-id-1 div.sk-parallel-item:first-child::after {align-self: flex-end;width: 50%;}#sk-container-id-1 div.sk-parallel-item:last-child::after {align-self: flex-start;width: 50%;}#sk-container-id-1 div.sk-parallel-item:only-child::after {width: 0;}#sk-container-id-1 div.sk-dashed-wrapped {border: 1px dashed gray;margin: 0 0.4em 0.5em 0.4em;box-sizing: border-box;padding-bottom: 0.4em;background-color: white;}#sk-container-id-1 div.sk-label label {font-family: monospace;font-weight: bold;display: inline-block;line-height: 1.2em;}#sk-container-id-1 div.sk-label-container {text-align: center;}#sk-container-id-1 div.sk-container {/* jupyter's `normalize.less` sets `[hidden] { display: none; }` but bootstrap.min.css set `[hidden] { display: none !important; }` so we also need the `!important` here to be able to override the default hidden behavior on the sphinx rendered scikit-learn.org. See: https://github.com/scikit-learn/scikit-learn/issues/21755 */display: inline-block !important;position: relative;}#sk-container-id-1 div.sk-text-repr-fallback {display: none;}</style><div id=\"sk-container-id-1\" class=\"sk-top-container\"><div class=\"sk-text-repr-fallback\"><pre>LogisticRegression()</pre><b>In a Jupyter environment, please rerun this cell to show the HTML representation or trust the notebook. <br />On GitHub, the HTML representation is unable to render, please try loading this page with nbviewer.org.</b></div><div class=\"sk-container\" hidden><div class=\"sk-item\"><div class=\"sk-estimator sk-toggleable\"><input class=\"sk-toggleable__control sk-hidden--visually\" id=\"sk-estimator-id-1\" type=\"checkbox\" checked><label for=\"sk-estimator-id-1\" class=\"sk-toggleable__label sk-toggleable__label-arrow\">LogisticRegression</label><div class=\"sk-toggleable__content\"><pre>LogisticRegression()</pre></div></div></div></div></div>"
            ],
            "text/plain": [
              "LogisticRegression()"
            ]
          },
          "execution_count": 15,
          "metadata": {},
          "output_type": "execute_result"
        }
      ],
      "source": [
        "from sklearn.linear_model import LogisticRegression\n",
        "from sklearn.neighbors import KNeighborsClassifier\n",
        "\n",
        "model = LogisticRegression()\n",
        "model.fit(X_train, y_train)"
      ]
    },
    {
      "cell_type": "markdown",
      "metadata": {
        "id": "HZszTXSb110B"
      },
      "source": [
        "С помощью обученных моделей сделайте предсказание на тестовых данных. Вычислите значение метрики roc-auc на тесте.\n",
        "\n",
        "Не забудьте, что для корректного вычисления roc-auc необходимо предсказывать не сами классы, а их вероятности.\n",
        "\n",
        "**Вопрос:** чему равен ROC-AUC логистической регрессии, округленный до десятых?"
      ]
    },
    {
      "cell_type": "code",
      "execution_count": 16,
      "metadata": {
        "id": "W9IUlgV011PP"
      },
      "outputs": [
        {
          "data": {
            "text/plain": [
              "0.8341571673559971"
            ]
          },
          "execution_count": 16,
          "metadata": {},
          "output_type": "execute_result"
        }
      ],
      "source": [
        "from sklearn.metrics import roc_auc_score\n",
        "\n",
        "model_knn = KNeighborsClassifier()\n",
        "model_knn.fit(X_train, y_train)\n",
        "from sklearn.metrics import roc_auc_score\n",
        "\n",
        "pred_test = model.predict(X_test) # предсказание классов\n",
        "pred_test_knn = model_knn.predict(X_test) # предсказание классов\n",
        "\n",
        "probs = model.predict_proba(X_test)\n",
        "probs_knn = model_knn.predict_proba(X_test)\n",
        "\n",
        "score = roc_auc_score(y_test, probs[:,1])\n",
        "score_knn = roc_auc_score(y_test, probs_knn[:,1])\n",
        "score_knn"
      ]
    },
    {
      "cell_type": "markdown",
      "metadata": {
        "id": "Bof-nFO-3pp7"
      },
      "source": [
        "## Бонус. Подбор гиперпараметров модели.\n",
        "\n",
        "У моделей машинного обучения есть гиперпараметры - это величины, которые задает человек до начала обучения моделей. Подбор гиперпараметров может значительно влиять на качество моделей.\n",
        "\n",
        "Про эту тему можно посмотреть [на Stepik](https://stepik.org/lesson/806516/step/4?unit=809692).\n",
        "\n",
        "Теперь ваша цель - максимально улучшить модели. Для этого:\n",
        "\n",
        "1) у логистической регрессии подберите гиперпараметр С (переберите 20 значений C в диапазоне от 0.1 до 10 с равным шагом).\n",
        "\n",
        "2) у метода ближайших соседей подберите число соседей n_neighbors (ищите значение гиперпараметра в диапазоне от 1 до 20 с шагом 1).\n",
        "\n",
        "Подбор гиперпараметров осуществляется только по тренировочным данным!"
      ]
    },
    {
      "cell_type": "markdown",
      "metadata": {
        "id": "fOpaM-hq44uW"
      },
      "source": [
        "После подбора гиперпараметров обучите модели с найденными гиперпараметрами на тренировочных данных, сделайте предсказания на тесте и оцените их качество (roc_auc)."
      ]
    },
    {
      "cell_type": "code",
      "execution_count": 17,
      "metadata": {
        "id": "hk9rxc993bRu"
      },
      "outputs": [
        {
          "name": "stdout",
          "output_type": "stream",
          "text": [
            "step: 0, c: 0.1000, roc-auc:0.7801\n",
            "step: 1, c: 0.6211, roc-auc:0.7791\n",
            "step: 2, c: 1.1421, roc-auc:0.7787\n",
            "step: 3, c: 1.6632, roc-auc:0.7785\n",
            "step: 4, c: 2.1842, roc-auc:0.7783\n",
            "step: 5, c: 2.7053, roc-auc:0.7782\n",
            "step: 6, c: 3.2263, roc-auc:0.7781\n",
            "step: 7, c: 3.7474, roc-auc:0.7781\n",
            "step: 8, c: 4.2684, roc-auc:0.7781\n",
            "step: 9, c: 4.7895, roc-auc:0.7780\n",
            "step: 10, c: 5.3105, roc-auc:0.7779\n",
            "step: 11, c: 5.8316, roc-auc:0.7780\n",
            "step: 12, c: 6.3526, roc-auc:0.7780\n",
            "step: 13, c: 6.8737, roc-auc:0.7780\n",
            "step: 14, c: 7.3947, roc-auc:0.7780\n",
            "step: 15, c: 7.9158, roc-auc:0.7779\n",
            "step: 16, c: 8.4368, roc-auc:0.7779\n",
            "step: 17, c: 8.9579, roc-auc:0.7779\n",
            "step: 18, c: 9.4789, roc-auc:0.7779\n",
            "step: 19, c: 10.0000, roc-auc:0.7779\n",
            "#############################################\n",
            "best c: 0.1, best roc-auc: 0.7800867547664683\n"
          ]
        }
      ],
      "source": [
        "best_score, best_c, best_probs, best_model = 0, 0, None, None\n",
        "for step in range(20):\n",
        "  c = 0.1 + (10-0.1)*step/19\n",
        "  model = LogisticRegression(C=c)\n",
        "  model.fit(X_train, y_train)\n",
        "  pred_test = model.predict(X_test)\n",
        "  probs = model.predict_proba(X_test)\n",
        "  score = roc_auc_score(y_test, probs[:,1])\n",
        "  print(f'step: {step}, c: {c:.4f}, roc-auc:{score:.4f}')\n",
        "  if score > best_score:\n",
        "    best_score, best_c, best_probs, best_model = score, c, probs, model\n",
        "print('#############################################')\n",
        "print(f'best c: {best_c}, best roc-auc: {best_score}')"
      ]
    },
    {
      "cell_type": "markdown",
      "metadata": {
        "id": "LJdQGP5B6UuT"
      },
      "source": [
        "Какая модель справилась с решением задачи лучше всего по метрике roc_auc?"
      ]
    },
    {
      "cell_type": "markdown",
      "metadata": {
        "id": "9QqqeHyP6Y4o"
      },
      "source": [
        "Нарисуйте roc-кривую для наилучшей модели."
      ]
    },
    {
      "cell_type": "code",
      "execution_count": 18,
      "metadata": {
        "id": "xzrjnbQB6YMA"
      },
      "outputs": [
        {
          "name": "stdout",
          "output_type": "stream",
          "text": [
            "step: 0, nn: 1, roc-auc:0.6855\n",
            "step: 1, nn: 2, roc-auc:0.7744\n",
            "step: 2, nn: 3, roc-auc:0.7967\n",
            "step: 3, nn: 4, roc-auc:0.8189\n",
            "step: 4, nn: 5, roc-auc:0.8342\n",
            "step: 5, nn: 6, roc-auc:0.8421\n",
            "step: 6, nn: 7, roc-auc:0.8450\n",
            "step: 7, nn: 8, roc-auc:0.8468\n",
            "step: 8, nn: 9, roc-auc:0.8501\n",
            "step: 9, nn: 10, roc-auc:0.8506\n",
            "step: 10, nn: 11, roc-auc:0.8517\n",
            "step: 11, nn: 12, roc-auc:0.8556\n",
            "step: 12, nn: 13, roc-auc:0.8558\n",
            "step: 13, nn: 14, roc-auc:0.8574\n",
            "step: 14, nn: 15, roc-auc:0.8639\n",
            "step: 15, nn: 16, roc-auc:0.8643\n",
            "step: 16, nn: 17, roc-auc:0.8636\n",
            "step: 17, nn: 18, roc-auc:0.8640\n",
            "step: 18, nn: 19, roc-auc:0.8614\n",
            "step: 19, nn: 20, roc-auc:0.8597\n",
            "#############################################\n",
            "best knn: 16, best roc-auc: 0.8643405965230841\n"
          ]
        }
      ],
      "source": [
        "\n",
        "best_score_knn, best_nn, best_probs_knn, best_model_knn = 0, 0, None, None\n",
        "for step in range(20):\n",
        "  nn = step + 1\n",
        "  model_knn = KNeighborsClassifier(n_neighbors=nn)\n",
        "  model_knn.fit(X_train, y_train)\n",
        "  pred_test_knn = model_knn.predict(X_test)\n",
        "  probs_knn = model_knn.predict_proba(X_test)\n",
        "  score_knn = roc_auc_score(y_test, probs_knn[:,1])\n",
        "  print(f'step: {step}, nn: {nn}, roc-auc:{score_knn:.4f}')\n",
        "  if score_knn > best_score_knn:\n",
        "    best_score_knn, best_nn, best_probs_knn, best_model_knn = score_knn, nn, probs_knn, model_knn\n",
        "print('#############################################')\n",
        "print(f'best knn: {best_nn}, best roc-auc: {best_score_knn}')"
      ]
    },
    {
      "cell_type": "markdown",
      "metadata": {
        "id": "mKaWSPa_6vvk"
      },
      "source": [
        "Сравните между собой две лучшие модели:\n",
        "\n",
        "1) насколько сильно отличается качество предсказания на тестовых данных?\n",
        "(вычислите разность значений roc-auc на тестовых данных)\n",
        "\n",
        "2) постройте гистограмму важности признаков для логистической регрессии. Какие три признака наиболее важны для модели?"
      ]
    },
    {
      "cell_type": "code",
      "execution_count": 20,
      "metadata": {
        "id": "cc0q1_XL7QT0"
      },
      "outputs": [
        {
          "data": {
            "image/png": "[encoded data removed]",
            "text/plain": [
              "<Figure size 640x480 with 1 Axes>"
            ]
          },
          "metadata": {},
          "output_type": "display_data"
        }
      ],
      "source": [
        "import matplotlib.pyplot as plt\n",
        "from sklearn.metrics import roc_curve\n",
        "\n",
        "fpr, tpr, threshold = roc_curve(y_test, best_probs[:,1])\n",
        "plt.title('Receiver Operating Characteristic (LR)')\n",
        "plt.plot(fpr, tpr, 'b', label = 'AUC = %0.2f' % best_score);\n",
        "     "
      ]
    },
    {
      "cell_type": "markdown",
      "metadata": {
        "id": "ZgRif5m1jISs"
      },
      "source": [
        "Так можно строить гистограмму"
      ]
    },
    {
      "cell_type": "code",
      "execution_count": 22,
      "metadata": {
        "id": "lz_y6FjJ7Kol"
      },
      "outputs": [
        {
          "data": {
            "image/png": "[encoded data removed]",
            "text/plain": [
              "<Figure size 640x480 with 1 Axes>"
            ]
          },
          "metadata": {},
          "output_type": "display_data"
        }
      ],
      "source": [
        "\n",
        "features = X.columns\n",
        "importances = np.abs(best_model.coef_[0])\n",
        "indices = np.argsort(importances)\n",
        "\n",
        "plt.title('Feature Importances of LogisticRegression')\n",
        "plt.barh(range(len(indices)), importances[indices], color='b', align='center')\n",
        "plt.yticks(range(len(indices)), [features[i] for i in indices])\n",
        "plt.xlabel('Relative Importance')\n",
        "plt.show()"
      ]
    },
    {
      "cell_type": "markdown",
      "metadata": {
        "id": "beRXM0lT8MUp"
      },
      "source": [
        "Сделайте выводы:\n",
        "\n",
        "1) Являются ли данные сбалансированными? Что это означает?\n",
        "\n",
        "2) Какая модель после подбора гиперпараметров лучше всего решает задачу с точки зрения метрики roc-auc?"
      ]
    }
  ],
  "metadata": {
    "colab": {
      "provenance": []
    },
    "kernelspec": {
      "display_name": "Python 3",
      "name": "python3"
    },
    "language_info": {
      "codemirror_mode": {
        "name": "ipython",
        "version": 3
      },
      "file_extension": ".py",
      "mimetype": "text/x-python",
      "name": "python",
      "nbconvert_exporter": "python",
      "pygments_lexer": "ipython3",
      "version": "3.12.0"
    }
  },
  "nbformat": 4,
  "nbformat_minor": 0
}
